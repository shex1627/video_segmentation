{
 "cells": [
  {
   "cell_type": "code",
   "execution_count": 1,
   "metadata": {
    "ExecuteTime": {
     "end_time": "2022-06-15T05:40:50.084150Z",
     "start_time": "2022-06-15T05:40:50.024495Z"
    }
   },
   "outputs": [],
   "source": [
    "%load_ext autoreload\n",
    "%autoreload 2"
   ]
  },
  {
   "cell_type": "code",
   "execution_count": 2,
   "metadata": {
    "ExecuteTime": {
     "end_time": "2022-06-15T05:40:51.257258Z",
     "start_time": "2022-06-15T05:40:50.085788Z"
    }
   },
   "outputs": [],
   "source": [
    "import os\n",
    "from pathlib import Path\n",
    "import pandas as pd\n",
    "import numpy as np\n",
    "import matplotlib.pyplot as plt\n",
    "\n",
    "pd.set_option('display.max_rows', 500)"
   ]
  },
  {
   "cell_type": "code",
   "execution_count": 3,
   "metadata": {
    "ExecuteTime": {
     "end_time": "2022-06-15T05:40:51.427348Z",
     "start_time": "2022-06-15T05:40:51.258226Z"
    }
   },
   "outputs": [],
   "source": [
    "import cv2"
   ]
  },
  {
   "cell_type": "code",
   "execution_count": 4,
   "metadata": {
    "ExecuteTime": {
     "end_time": "2022-06-15T05:40:51.468475Z",
     "start_time": "2022-06-15T05:40:51.428342Z"
    }
   },
   "outputs": [],
   "source": [
    "video_ocr_paths = list(Path(\"../data/video_frame_obj\").glob(\"*.csv\"))"
   ]
  },
  {
   "cell_type": "code",
   "execution_count": 5,
   "metadata": {
    "ExecuteTime": {
     "end_time": "2022-06-15T05:40:51.514490Z",
     "start_time": "2022-06-15T05:40:51.469442Z"
    }
   },
   "outputs": [
    {
     "data": {
      "text/plain": [
       "[WindowsPath('../data/video_frame_obj/test_video_0.csv'),\n",
       " WindowsPath('../data/video_frame_obj/test_video_1.csv')]"
      ]
     },
     "execution_count": 5,
     "metadata": {},
     "output_type": "execute_result"
    }
   ],
   "source": [
    "video_ocr_paths[:2]"
   ]
  },
  {
   "cell_type": "code",
   "execution_count": 6,
   "metadata": {
    "ExecuteTime": {
     "end_time": "2022-06-15T05:40:51.925045Z",
     "start_time": "2022-06-15T05:40:51.517468Z"
    }
   },
   "outputs": [],
   "source": [
    "diff_df_dict = dict()\n",
    "for video_ocr_path in video_ocr_paths:\n",
    "    file_name = video_ocr_path.name.split(\".\")[0]\n",
    "    diff_df_dict[file_name] = pd.read_csv(video_ocr_path)"
   ]
  },
  {
   "cell_type": "code",
   "execution_count": 7,
   "metadata": {
    "ExecuteTime": {
     "end_time": "2022-06-15T05:40:51.995414Z",
     "start_time": "2022-06-15T05:40:51.926232Z"
    }
   },
   "outputs": [
    {
     "data": {
      "text/html": [
       "<div>\n",
       "<style scoped>\n",
       "    .dataframe tbody tr th:only-of-type {\n",
       "        vertical-align: middle;\n",
       "    }\n",
       "\n",
       "    .dataframe tbody tr th {\n",
       "        vertical-align: top;\n",
       "    }\n",
       "\n",
       "    .dataframe thead th {\n",
       "        text-align: right;\n",
       "    }\n",
       "</style>\n",
       "<table border=\"1\" class=\"dataframe\">\n",
       "  <thead>\n",
       "    <tr style=\"text-align: right;\">\n",
       "      <th></th>\n",
       "      <th>index</th>\n",
       "      <th>dissimilarity</th>\n",
       "      <th>jaccard</th>\n",
       "      <th>jaccard_letter</th>\n",
       "      <th>frame_token_ct</th>\n",
       "      <th>lev_dis</th>\n",
       "      <th>word_dis</th>\n",
       "      <th>letter_dissim</th>\n",
       "      <th>min</th>\n",
       "    </tr>\n",
       "  </thead>\n",
       "  <tbody>\n",
       "    <tr>\n",
       "      <td>0</td>\n",
       "      <td>1</td>\n",
       "      <td>0.073178</td>\n",
       "      <td>0.2</td>\n",
       "      <td>0.478261</td>\n",
       "      <td>4</td>\n",
       "      <td>0.368421</td>\n",
       "      <td>0.200000</td>\n",
       "      <td>0.157895</td>\n",
       "      <td>0.016667</td>\n",
       "    </tr>\n",
       "    <tr>\n",
       "      <td>1</td>\n",
       "      <td>2</td>\n",
       "      <td>0.036582</td>\n",
       "      <td>0.2</td>\n",
       "      <td>0.478261</td>\n",
       "      <td>5</td>\n",
       "      <td>0.187500</td>\n",
       "      <td>0.200000</td>\n",
       "      <td>0.157895</td>\n",
       "      <td>0.033333</td>\n",
       "    </tr>\n",
       "    <tr>\n",
       "      <td>2</td>\n",
       "      <td>3</td>\n",
       "      <td>0.073881</td>\n",
       "      <td>0.4</td>\n",
       "      <td>0.476190</td>\n",
       "      <td>4</td>\n",
       "      <td>0.062500</td>\n",
       "      <td>0.000000</td>\n",
       "      <td>0.000000</td>\n",
       "      <td>0.050000</td>\n",
       "    </tr>\n",
       "    <tr>\n",
       "      <td>3</td>\n",
       "      <td>4</td>\n",
       "      <td>0.194590</td>\n",
       "      <td>0.6</td>\n",
       "      <td>0.705882</td>\n",
       "      <td>4</td>\n",
       "      <td>1.666667</td>\n",
       "      <td>0.250000</td>\n",
       "      <td>0.625000</td>\n",
       "      <td>0.066667</td>\n",
       "    </tr>\n",
       "    <tr>\n",
       "      <td>4</td>\n",
       "      <td>5</td>\n",
       "      <td>1.000000</td>\n",
       "      <td>1.0</td>\n",
       "      <td>1.000000</td>\n",
       "      <td>3</td>\n",
       "      <td>6.000000</td>\n",
       "      <td>0.666667</td>\n",
       "      <td>1.000000</td>\n",
       "      <td>0.083333</td>\n",
       "    </tr>\n",
       "  </tbody>\n",
       "</table>\n",
       "</div>"
      ],
      "text/plain": [
       "   index  dissimilarity  jaccard  jaccard_letter  frame_token_ct   lev_dis  \\\n",
       "0      1       0.073178      0.2        0.478261               4  0.368421   \n",
       "1      2       0.036582      0.2        0.478261               5  0.187500   \n",
       "2      3       0.073881      0.4        0.476190               4  0.062500   \n",
       "3      4       0.194590      0.6        0.705882               4  1.666667   \n",
       "4      5       1.000000      1.0        1.000000               3  6.000000   \n",
       "\n",
       "   word_dis  letter_dissim       min  \n",
       "0  0.200000       0.157895  0.016667  \n",
       "1  0.200000       0.157895  0.033333  \n",
       "2  0.000000       0.000000  0.050000  \n",
       "3  0.250000       0.625000  0.066667  \n",
       "4  0.666667       1.000000  0.083333  "
      ]
     },
     "execution_count": 7,
     "metadata": {},
     "output_type": "execute_result"
    }
   ],
   "source": [
    "diff_df = diff_df_dict['test_video_13']\n",
    "diff_df.head()"
   ]
  },
  {
   "cell_type": "code",
   "execution_count": 8,
   "metadata": {
    "ExecuteTime": {
     "end_time": "2022-06-15T05:40:52.052576Z",
     "start_time": "2022-06-15T05:40:51.996411Z"
    }
   },
   "outputs": [
    {
     "data": {
      "text/plain": [
       "dict_keys(['test_video_0', 'test_video_1', 'test_video_10', 'test_video_11', 'test_video_12'])"
      ]
     },
     "execution_count": 8,
     "metadata": {},
     "output_type": "execute_result"
    }
   ],
   "source": [
    "import json\n",
    "with open('labels.json', 'r') as file:\n",
    "    labels = json.load(file)\n",
    "labels.keys()"
   ]
  },
  {
   "cell_type": "code",
   "execution_count": 9,
   "metadata": {
    "ExecuteTime": {
     "end_time": "2022-06-15T05:40:52.098452Z",
     "start_time": "2022-06-15T05:40:52.054572Z"
    }
   },
   "outputs": [],
   "source": [
    "def create_label_function(labels:list):\n",
    "    return lambda index_ : True if index_ in labels else False"
   ]
  },
  {
   "cell_type": "code",
   "execution_count": 10,
   "metadata": {
    "ExecuteTime": {
     "end_time": "2022-06-15T05:40:52.144134Z",
     "start_time": "2022-06-15T05:40:52.099450Z"
    }
   },
   "outputs": [
    {
     "data": {
      "text/plain": [
       "True"
      ]
     },
     "execution_count": 10,
     "metadata": {},
     "output_type": "execute_result"
    }
   ],
   "source": [
    "create_label_function(labels['test_video_0'])(3467)"
   ]
  },
  {
   "cell_type": "markdown",
   "metadata": {},
   "source": [
    "## load ocr results"
   ]
  },
  {
   "cell_type": "code",
   "execution_count": 11,
   "metadata": {
    "ExecuteTime": {
     "end_time": "2022-06-15T05:40:57.435542Z",
     "start_time": "2022-06-15T05:40:52.145059Z"
    }
   },
   "outputs": [
    {
     "name": "stdout",
     "output_type": "stream",
     "text": [
      "..\\data\\video_ocr_results\\test_video_0.json\n",
      "..\\data\\video_ocr_results\\test_video_1.json\n",
      "..\\data\\video_ocr_results\\test_video_10.json\n",
      "..\\data\\video_ocr_results\\test_video_11.json\n",
      "..\\data\\video_ocr_results\\test_video_12.json\n",
      "..\\data\\video_ocr_results\\test_video_13.json\n",
      "..\\data\\video_ocr_results\\test_video_14.json\n",
      "..\\data\\video_ocr_results\\test_video_15.json\n",
      "..\\data\\video_ocr_results\\test_video_16.json\n",
      "..\\data\\video_ocr_results\\test_video_17.json\n",
      "..\\data\\video_ocr_results\\test_video_18.json\n",
      "..\\data\\video_ocr_results\\test_video_19.json\n",
      "..\\data\\video_ocr_results\\test_video_2.json\n",
      "..\\data\\video_ocr_results\\test_video_20.json\n",
      "..\\data\\video_ocr_results\\test_video_3.json\n",
      "..\\data\\video_ocr_results\\test_video_4.json\n",
      "..\\data\\video_ocr_results\\test_video_5.json\n",
      "..\\data\\video_ocr_results\\test_video_6.json\n",
      "..\\data\\video_ocr_results\\test_video_7.json\n",
      "..\\data\\video_ocr_results\\test_video_8.json\n",
      "..\\data\\video_ocr_results\\test_video_9.json\n"
     ]
    }
   ],
   "source": [
    "video_ocr_result_paths = list(Path(\"../data/video_ocr_results\").glob(\"*.json\"))\n",
    "\n",
    "ocr_dict = dict()\n",
    "for video_ocr_path in video_ocr_result_paths:\n",
    "    file_name = video_ocr_path.name.split(\".\")[0]\n",
    "    \n",
    "    print(video_ocr_path)\n",
    "    with open(video_ocr_path.absolute(), 'r') as file:\n",
    "        test_ocr_results = json.load(file)\n",
    "        \n",
    "    ocr_dict[file_name] = test_ocr_results "
   ]
  },
  {
   "cell_type": "markdown",
   "metadata": {},
   "source": [
    "## training model"
   ]
  },
  {
   "cell_type": "code",
   "execution_count": 12,
   "metadata": {
    "ExecuteTime": {
     "end_time": "2022-06-15T05:40:57.506038Z",
     "start_time": "2022-06-15T05:40:57.436540Z"
    }
   },
   "outputs": [],
   "source": [
    "train_df = pd.DataFrame()\n",
    "train_df_lst = []\n",
    "for video_name, label_frames in labels.items():\n",
    "    diff_df = diff_df_dict[video_name].iloc[2:,].copy() #remove the first 2 frames\n",
    "    diff_df['video_index'] = diff_df['index']\n",
    "    \n",
    "    label_function = create_label_function(label_frames)\n",
    "    diff_df['new_slide'] = diff_df['index'].apply(label_function)\n",
    "    diff_df['video_name'] = video_name\n",
    "    train_df_lst.append(diff_df)\n",
    "    "
   ]
  },
  {
   "cell_type": "code",
   "execution_count": 13,
   "metadata": {
    "ExecuteTime": {
     "end_time": "2022-06-01T17:32:24.911535Z",
     "start_time": "2022-06-01T17:32:24.859673Z"
    }
   },
   "outputs": [
    {
     "data": {
      "text/plain": [
       "(166, 0.009885071160602632)"
      ]
     },
     "execution_count": 13,
     "metadata": {},
     "output_type": "execute_result"
    }
   ],
   "source": [
    "pd.concat(train_df_lst)['new_slide'].sum(), pd.concat(train_df_lst)['new_slide'].mean()"
   ]
  },
  {
   "cell_type": "code",
   "execution_count": 14,
   "metadata": {
    "ExecuteTime": {
     "end_time": "2022-06-01T17:32:24.966388Z",
     "start_time": "2022-06-01T17:32:24.912533Z"
    }
   },
   "outputs": [
    {
     "data": {
      "text/html": [
       "<div>\n",
       "<style scoped>\n",
       "    .dataframe tbody tr th:only-of-type {\n",
       "        vertical-align: middle;\n",
       "    }\n",
       "\n",
       "    .dataframe tbody tr th {\n",
       "        vertical-align: top;\n",
       "    }\n",
       "\n",
       "    .dataframe thead th {\n",
       "        text-align: right;\n",
       "    }\n",
       "</style>\n",
       "<table border=\"1\" class=\"dataframe\">\n",
       "  <thead>\n",
       "    <tr style=\"text-align: right;\">\n",
       "      <th></th>\n",
       "      <th>dissimilarity</th>\n",
       "      <th>jaccard</th>\n",
       "      <th>jaccard_letter</th>\n",
       "      <th>frame_token_ct</th>\n",
       "      <th>lev_dis</th>\n",
       "      <th>word_dis</th>\n",
       "      <th>letter_dissim</th>\n",
       "      <th>video_index</th>\n",
       "      <th>new_slide</th>\n",
       "      <th>video_name</th>\n",
       "    </tr>\n",
       "  </thead>\n",
       "  <tbody>\n",
       "    <tr>\n",
       "      <td>0</td>\n",
       "      <td>0.000000</td>\n",
       "      <td>0.000000</td>\n",
       "      <td>0.720000</td>\n",
       "      <td>4</td>\n",
       "      <td>0.000000</td>\n",
       "      <td>0.000000</td>\n",
       "      <td>0.000000</td>\n",
       "      <td>3</td>\n",
       "      <td>False</td>\n",
       "      <td>test_video_0</td>\n",
       "    </tr>\n",
       "    <tr>\n",
       "      <td>1</td>\n",
       "      <td>0.000000</td>\n",
       "      <td>0.000000</td>\n",
       "      <td>0.720000</td>\n",
       "      <td>4</td>\n",
       "      <td>0.000000</td>\n",
       "      <td>0.000000</td>\n",
       "      <td>0.000000</td>\n",
       "      <td>4</td>\n",
       "      <td>False</td>\n",
       "      <td>test_video_0</td>\n",
       "    </tr>\n",
       "    <tr>\n",
       "      <td>2</td>\n",
       "      <td>0.954545</td>\n",
       "      <td>0.954545</td>\n",
       "      <td>0.855670</td>\n",
       "      <td>4</td>\n",
       "      <td>0.797468</td>\n",
       "      <td>0.789474</td>\n",
       "      <td>0.594937</td>\n",
       "      <td>5</td>\n",
       "      <td>True</td>\n",
       "      <td>test_video_0</td>\n",
       "    </tr>\n",
       "    <tr>\n",
       "      <td>3</td>\n",
       "      <td>0.272727</td>\n",
       "      <td>0.272727</td>\n",
       "      <td>0.890459</td>\n",
       "      <td>19</td>\n",
       "      <td>0.102564</td>\n",
       "      <td>0.000000</td>\n",
       "      <td>0.012658</td>\n",
       "      <td>6</td>\n",
       "      <td>False</td>\n",
       "      <td>test_video_0</td>\n",
       "    </tr>\n",
       "    <tr>\n",
       "      <td>4</td>\n",
       "      <td>0.304348</td>\n",
       "      <td>0.304348</td>\n",
       "      <td>0.892361</td>\n",
       "      <td>19</td>\n",
       "      <td>0.110429</td>\n",
       "      <td>0.050000</td>\n",
       "      <td>0.042945</td>\n",
       "      <td>7</td>\n",
       "      <td>False</td>\n",
       "      <td>test_video_0</td>\n",
       "    </tr>\n",
       "  </tbody>\n",
       "</table>\n",
       "</div>"
      ],
      "text/plain": [
       "   dissimilarity   jaccard  jaccard_letter  frame_token_ct   lev_dis  \\\n",
       "0       0.000000  0.000000        0.720000               4  0.000000   \n",
       "1       0.000000  0.000000        0.720000               4  0.000000   \n",
       "2       0.954545  0.954545        0.855670               4  0.797468   \n",
       "3       0.272727  0.272727        0.890459              19  0.102564   \n",
       "4       0.304348  0.304348        0.892361              19  0.110429   \n",
       "\n",
       "   word_dis  letter_dissim  video_index  new_slide    video_name  \n",
       "0  0.000000       0.000000            3      False  test_video_0  \n",
       "1  0.000000       0.000000            4      False  test_video_0  \n",
       "2  0.789474       0.594937            5       True  test_video_0  \n",
       "3  0.000000       0.012658            6      False  test_video_0  \n",
       "4  0.050000       0.042945            7      False  test_video_0  "
      ]
     },
     "execution_count": 14,
     "metadata": {},
     "output_type": "execute_result"
    }
   ],
   "source": [
    "train_df = pd.concat(train_df_lst, ignore_index=True)\n",
    "# not use nlp's dissimilarity\n",
    "train_df['dissimilarity'] = train_df['jaccard']\n",
    "#train_df = train_df.drop(['lev_dis', 'index'], axis=1)\n",
    "\n",
    "train_df = train_df.drop([ 'index', 'min'], axis=1)\n",
    "train_df.head()"
   ]
  },
  {
   "cell_type": "code",
   "execution_count": 15,
   "metadata": {
    "ExecuteTime": {
     "end_time": "2022-06-01T17:32:25.006880Z",
     "start_time": "2022-06-01T17:32:24.967385Z"
    }
   },
   "outputs": [
    {
     "data": {
      "text/plain": [
       "Index(['dissimilarity', 'jaccard', 'jaccard_letter', 'frame_token_ct',\n",
       "       'lev_dis', 'word_dis', 'letter_dissim', 'video_index', 'new_slide',\n",
       "       'video_name'],\n",
       "      dtype='object')"
      ]
     },
     "execution_count": 15,
     "metadata": {},
     "output_type": "execute_result"
    }
   ],
   "source": [
    "train_df.columns"
   ]
  },
  {
   "cell_type": "code",
   "execution_count": 16,
   "metadata": {
    "ExecuteTime": {
     "end_time": "2022-06-01T17:32:25.051733Z",
     "start_time": "2022-06-01T17:32:25.007851Z"
    }
   },
   "outputs": [],
   "source": [
    "feature_names = ['jaccard', 'jaccard_letter', 'frame_token_ct',\n",
    "       'word_dis', 'letter_dissim']\n",
    "#'dissimilarity', "
   ]
  },
  {
   "cell_type": "code",
   "execution_count": 17,
   "metadata": {
    "ExecuteTime": {
     "end_time": "2022-06-01T17:32:25.095620Z",
     "start_time": "2022-06-01T17:32:25.052730Z"
    }
   },
   "outputs": [
    {
     "data": {
      "text/plain": [
       "0         test_video_0\n",
       "1         test_video_0\n",
       "2         test_video_0\n",
       "3         test_video_0\n",
       "4         test_video_0\n",
       "             ...      \n",
       "16788    test_video_12\n",
       "16789    test_video_12\n",
       "16790    test_video_12\n",
       "16791    test_video_12\n",
       "16792    test_video_12\n",
       "Name: video_name, Length: 16793, dtype: object"
      ]
     },
     "execution_count": 17,
     "metadata": {},
     "output_type": "execute_result"
    }
   ],
   "source": [
    "train_df['video_name']"
   ]
  },
  {
   "cell_type": "code",
   "execution_count": 18,
   "metadata": {
    "ExecuteTime": {
     "end_time": "2022-06-01T17:32:25.150507Z",
     "start_time": "2022-06-01T17:32:25.096616Z"
    }
   },
   "outputs": [],
   "source": [
    "X = train_df.query(\"video_name!='test_video_12'\")[feature_names].fillna(0)\n",
    "y = train_df.query(\"video_name!='test_video_12'\")['new_slide']"
   ]
  },
  {
   "cell_type": "code",
   "execution_count": 19,
   "metadata": {
    "ExecuteTime": {
     "end_time": "2022-06-01T17:32:25.202349Z",
     "start_time": "2022-06-01T17:32:25.151504Z"
    }
   },
   "outputs": [],
   "source": [
    "x_test = train_df.query(\"video_name=='test_video_12'\")[feature_names].fillna(0)\n",
    "y_test = train_df.query(\"video_name=='test_video_12'\")['new_slide']"
   ]
  },
  {
   "cell_type": "code",
   "execution_count": 20,
   "metadata": {
    "ExecuteTime": {
     "end_time": "2022-06-01T17:32:26.108645Z",
     "start_time": "2022-06-01T17:32:25.203858Z"
    }
   },
   "outputs": [],
   "source": [
    "from sklearn.datasets import load_iris\n",
    "from sklearn import tree\n",
    "seed =12345\n",
    "clf = tree.DecisionTreeClassifier(max_depth=3, random_state=seed)\n",
    "clf = clf.fit(X, y)\n",
    "\n",
    "dummy_clf = tree.DecisionTreeClassifier(max_depth=2, random_state=seed)\n",
    "dummy_clf  = dummy_clf.fit(X, y)\n"
   ]
  },
  {
   "cell_type": "code",
   "execution_count": 21,
   "metadata": {
    "ExecuteTime": {
     "end_time": "2022-06-01T17:32:26.178464Z",
     "start_time": "2022-06-01T17:32:26.109642Z"
    }
   },
   "outputs": [],
   "source": [
    "y_pred = clf.predict(X)\n",
    "dummy_y_pred = dummy_clf.predict(X)\n",
    "my_dummy_y_pred = X['jaccard']   >= 0.1\n",
    "y_true = y\n",
    "\n",
    "\n",
    "# keep probabilities for the positive outcome only\n",
    "from sklearn.metrics import precision_recall_curve\n",
    "lr_probs = clf.predict_proba(X)\n",
    "lr_probs = lr_probs[:, 1]\n",
    "# predict class values\n",
    "y_pred = clf.predict(X)\n",
    "# calculate precision and recall for each threshold\n",
    "lr_precision, lr_recall, _ = precision_recall_curve(y_true, lr_probs)"
   ]
  },
  {
   "cell_type": "markdown",
   "metadata": {},
   "source": [
    "## model export"
   ]
  },
  {
   "cell_type": "code",
   "execution_count": 22,
   "metadata": {
    "ExecuteTime": {
     "end_time": "2022-06-01T17:32:26.242348Z",
     "start_time": "2022-06-01T17:32:26.179462Z"
    }
   },
   "outputs": [
    {
     "data": {
      "text/plain": [
       "['../models/ocr_tree.joblib']"
      ]
     },
     "execution_count": 22,
     "metadata": {},
     "output_type": "execute_result"
    }
   ],
   "source": [
    "from joblib import dump, load\n",
    "dump(clf, '../models/ocr_tree.joblib') "
   ]
  },
  {
   "cell_type": "code",
   "execution_count": 23,
   "metadata": {
    "ExecuteTime": {
     "end_time": "2022-06-01T17:32:26.324508Z",
     "start_time": "2022-06-01T17:32:26.245316Z"
    }
   },
   "outputs": [],
   "source": [
    "MODEL_PATH = '../models/ocr_tree.joblib'\n",
    "clf = load(MODEL_PATH) "
   ]
  },
  {
   "cell_type": "code",
   "execution_count": 25,
   "metadata": {
    "ExecuteTime": {
     "end_time": "2022-06-01T17:32:26.545894Z",
     "start_time": "2022-06-01T17:32:26.458158Z"
    }
   },
   "outputs": [
    {
     "data": {
      "image/svg+xml": [
       "<?xml version=\"1.0\" encoding=\"UTF-8\" standalone=\"no\"?>\n",
       "<!DOCTYPE svg PUBLIC \"-//W3C//DTD SVG 1.1//EN\"\n",
       " \"http://www.w3.org/Graphics/SVG/1.1/DTD/svg11.dtd\">\n",
       "<!-- Generated by graphviz version 2.49.3 (20211023.0002)\n",
       " -->\n",
       "<!-- Title: Tree Pages: 1 -->\n",
       "<svg width=\"582pt\" height=\"314pt\"\n",
       " viewBox=\"0.00 0.00 581.50 314.00\" xmlns=\"http://www.w3.org/2000/svg\" xmlns:xlink=\"http://www.w3.org/1999/xlink\">\n",
       "<g id=\"graph0\" class=\"graph\" transform=\"scale(1 1) rotate(0) translate(4 310)\">\n",
       "<title>Tree</title>\n",
       "<polygon fill=\"white\" stroke=\"transparent\" points=\"-4,4 -4,-310 577.5,-310 577.5,4 -4,4\"/>\n",
       "<!-- 0 -->\n",
       "<g id=\"node1\" class=\"node\">\n",
       "<title>0</title>\n",
       "<path fill=\"#e5823b\" stroke=\"black\" d=\"M352,-306C352,-306 230,-306 230,-306 224,-306 218,-300 218,-294 218,-294 218,-235 218,-235 218,-229 224,-223 230,-223 230,-223 352,-223 352,-223 358,-223 364,-229 364,-235 364,-235 364,-294 364,-294 364,-300 358,-306 352,-306\"/>\n",
       "<text text-anchor=\"start\" x=\"242\" y=\"-290.8\" font-family=\"Helvetica,sans-Serif\" font-size=\"14.00\">jaccard ≤ 0.804</text>\n",
       "<text text-anchor=\"start\" x=\"253.5\" y=\"-275.8\" font-family=\"Helvetica,sans-Serif\" font-size=\"14.00\">gini = 0.021</text>\n",
       "<text text-anchor=\"start\" x=\"235\" y=\"-260.8\" font-family=\"Helvetica,sans-Serif\" font-size=\"14.00\">samples = 11845</text>\n",
       "<text text-anchor=\"start\" x=\"226\" y=\"-245.8\" font-family=\"Helvetica,sans-Serif\" font-size=\"14.00\">value = [11718, 127]</text>\n",
       "<text text-anchor=\"start\" x=\"234.5\" y=\"-230.8\" font-family=\"Helvetica,sans-Serif\" font-size=\"14.00\">class = new_slide</text>\n",
       "</g>\n",
       "<!-- 1 -->\n",
       "<g id=\"node2\" class=\"node\">\n",
       "<title>1</title>\n",
       "<path fill=\"#e5813a\" stroke=\"black\" d=\"M276.5,-187C276.5,-187 151.5,-187 151.5,-187 145.5,-187 139.5,-181 139.5,-175 139.5,-175 139.5,-116 139.5,-116 139.5,-110 145.5,-104 151.5,-104 151.5,-104 276.5,-104 276.5,-104 282.5,-104 288.5,-110 288.5,-116 288.5,-116 288.5,-175 288.5,-175 288.5,-181 282.5,-187 276.5,-187\"/>\n",
       "<text text-anchor=\"start\" x=\"147.5\" y=\"-171.8\" font-family=\"Helvetica,sans-Serif\" font-size=\"14.00\">letter_dissim ≤ 0.296</text>\n",
       "<text text-anchor=\"start\" x=\"176.5\" y=\"-156.8\" font-family=\"Helvetica,sans-Serif\" font-size=\"14.00\">gini = 0.007</text>\n",
       "<text text-anchor=\"start\" x=\"158\" y=\"-141.8\" font-family=\"Helvetica,sans-Serif\" font-size=\"14.00\">samples = 11731</text>\n",
       "<text text-anchor=\"start\" x=\"153\" y=\"-126.8\" font-family=\"Helvetica,sans-Serif\" font-size=\"14.00\">value = [11692, 39]</text>\n",
       "<text text-anchor=\"start\" x=\"157.5\" y=\"-111.8\" font-family=\"Helvetica,sans-Serif\" font-size=\"14.00\">class = new_slide</text>\n",
       "</g>\n",
       "<!-- 0&#45;&gt;1 -->\n",
       "<g id=\"edge1\" class=\"edge\">\n",
       "<title>0&#45;&gt;1</title>\n",
       "<path fill=\"none\" stroke=\"black\" d=\"M264.29,-222.91C258.49,-214.1 252.3,-204.7 246.32,-195.61\"/>\n",
       "<polygon fill=\"black\" stroke=\"black\" points=\"249.09,-193.45 240.67,-187.02 243.24,-197.3 249.09,-193.45\"/>\n",
       "<text text-anchor=\"middle\" x=\"235.62\" y=\"-207.81\" font-family=\"Helvetica,sans-Serif\" font-size=\"14.00\">True</text>\n",
       "</g>\n",
       "<!-- 4 -->\n",
       "<g id=\"node5\" class=\"node\">\n",
       "<title>4</title>\n",
       "<path fill=\"#74baed\" stroke=\"black\" d=\"M417.5,-187C417.5,-187 318.5,-187 318.5,-187 312.5,-187 306.5,-181 306.5,-175 306.5,-175 306.5,-116 306.5,-116 306.5,-110 312.5,-104 318.5,-104 318.5,-104 417.5,-104 417.5,-104 423.5,-104 429.5,-110 429.5,-116 429.5,-116 429.5,-175 429.5,-175 429.5,-181 423.5,-187 417.5,-187\"/>\n",
       "<text text-anchor=\"start\" x=\"319\" y=\"-171.8\" font-family=\"Helvetica,sans-Serif\" font-size=\"14.00\">jaccard ≤ 0.993</text>\n",
       "<text text-anchor=\"start\" x=\"330.5\" y=\"-156.8\" font-family=\"Helvetica,sans-Serif\" font-size=\"14.00\">gini = 0.352</text>\n",
       "<text text-anchor=\"start\" x=\"320.5\" y=\"-141.8\" font-family=\"Helvetica,sans-Serif\" font-size=\"14.00\">samples = 114</text>\n",
       "<text text-anchor=\"start\" x=\"319.5\" y=\"-126.8\" font-family=\"Helvetica,sans-Serif\" font-size=\"14.00\">value = [26, 88]</text>\n",
       "<text text-anchor=\"start\" x=\"314.5\" y=\"-111.8\" font-family=\"Helvetica,sans-Serif\" font-size=\"14.00\">class = old_slide</text>\n",
       "</g>\n",
       "<!-- 0&#45;&gt;4 -->\n",
       "<g id=\"edge4\" class=\"edge\">\n",
       "<title>0&#45;&gt;4</title>\n",
       "<path fill=\"none\" stroke=\"black\" d=\"M317.71,-222.91C323.51,-214.1 329.7,-204.7 335.68,-195.61\"/>\n",
       "<polygon fill=\"black\" stroke=\"black\" points=\"338.76,-197.3 341.33,-187.02 332.91,-193.45 338.76,-197.3\"/>\n",
       "<text text-anchor=\"middle\" x=\"346.38\" y=\"-207.81\" font-family=\"Helvetica,sans-Serif\" font-size=\"14.00\">False</text>\n",
       "</g>\n",
       "<!-- 2 -->\n",
       "<g id=\"node3\" class=\"node\">\n",
       "<title>2</title>\n",
       "<path fill=\"#e58139\" stroke=\"black\" d=\"M126,-68C126,-68 12,-68 12,-68 6,-68 0,-62 0,-56 0,-56 0,-12 0,-12 0,-6 6,0 12,0 12,0 126,0 126,0 132,0 138,-6 138,-12 138,-12 138,-56 138,-56 138,-62 132,-68 126,-68\"/>\n",
       "<text text-anchor=\"start\" x=\"31.5\" y=\"-52.8\" font-family=\"Helvetica,sans-Serif\" font-size=\"14.00\">gini = 0.004</text>\n",
       "<text text-anchor=\"start\" x=\"13\" y=\"-37.8\" font-family=\"Helvetica,sans-Serif\" font-size=\"14.00\">samples = 11705</text>\n",
       "<text text-anchor=\"start\" x=\"8\" y=\"-22.8\" font-family=\"Helvetica,sans-Serif\" font-size=\"14.00\">value = [11684, 21]</text>\n",
       "<text text-anchor=\"start\" x=\"12.5\" y=\"-7.8\" font-family=\"Helvetica,sans-Serif\" font-size=\"14.00\">class = new_slide</text>\n",
       "</g>\n",
       "<!-- 1&#45;&gt;2 -->\n",
       "<g id=\"edge2\" class=\"edge\">\n",
       "<title>1&#45;&gt;2</title>\n",
       "<path fill=\"none\" stroke=\"black\" d=\"M160.01,-103.73C147.33,-94.15 133.83,-83.96 121.23,-74.44\"/>\n",
       "<polygon fill=\"black\" stroke=\"black\" points=\"123.18,-71.53 113.1,-68.3 118.97,-77.12 123.18,-71.53\"/>\n",
       "</g>\n",
       "<!-- 3 -->\n",
       "<g id=\"node4\" class=\"node\">\n",
       "<title>3</title>\n",
       "<path fill=\"#91c9f1\" stroke=\"black\" d=\"M267.5,-68C267.5,-68 168.5,-68 168.5,-68 162.5,-68 156.5,-62 156.5,-56 156.5,-56 156.5,-12 156.5,-12 156.5,-6 162.5,0 168.5,0 168.5,0 267.5,0 267.5,0 273.5,0 279.5,-6 279.5,-12 279.5,-12 279.5,-56 279.5,-56 279.5,-62 273.5,-68 267.5,-68\"/>\n",
       "<text text-anchor=\"start\" x=\"180.5\" y=\"-52.8\" font-family=\"Helvetica,sans-Serif\" font-size=\"14.00\">gini = 0.426</text>\n",
       "<text text-anchor=\"start\" x=\"174.5\" y=\"-37.8\" font-family=\"Helvetica,sans-Serif\" font-size=\"14.00\">samples = 26</text>\n",
       "<text text-anchor=\"start\" x=\"173.5\" y=\"-22.8\" font-family=\"Helvetica,sans-Serif\" font-size=\"14.00\">value = [8, 18]</text>\n",
       "<text text-anchor=\"start\" x=\"164.5\" y=\"-7.8\" font-family=\"Helvetica,sans-Serif\" font-size=\"14.00\">class = old_slide</text>\n",
       "</g>\n",
       "<!-- 1&#45;&gt;3 -->\n",
       "<g id=\"edge3\" class=\"edge\">\n",
       "<title>1&#45;&gt;3</title>\n",
       "<path fill=\"none\" stroke=\"black\" d=\"M215.49,-103.73C215.79,-95.52 216.11,-86.86 216.41,-78.56\"/>\n",
       "<polygon fill=\"black\" stroke=\"black\" points=\"219.92,-78.42 216.78,-68.3 212.92,-78.17 219.92,-78.42\"/>\n",
       "</g>\n",
       "<!-- 5 -->\n",
       "<g id=\"node6\" class=\"node\">\n",
       "<title>5</title>\n",
       "<path fill=\"#4fa8e8\" stroke=\"black\" d=\"M414.5,-68C414.5,-68 315.5,-68 315.5,-68 309.5,-68 303.5,-62 303.5,-56 303.5,-56 303.5,-12 303.5,-12 303.5,-6 309.5,0 315.5,0 315.5,0 414.5,0 414.5,0 420.5,0 426.5,-6 426.5,-12 426.5,-12 426.5,-56 426.5,-56 426.5,-62 420.5,-68 414.5,-68\"/>\n",
       "<text text-anchor=\"start\" x=\"327.5\" y=\"-52.8\" font-family=\"Helvetica,sans-Serif\" font-size=\"14.00\">gini = 0.178</text>\n",
       "<text text-anchor=\"start\" x=\"321.5\" y=\"-37.8\" font-family=\"Helvetica,sans-Serif\" font-size=\"14.00\">samples = 91</text>\n",
       "<text text-anchor=\"start\" x=\"320.5\" y=\"-22.8\" font-family=\"Helvetica,sans-Serif\" font-size=\"14.00\">value = [9, 82]</text>\n",
       "<text text-anchor=\"start\" x=\"311.5\" y=\"-7.8\" font-family=\"Helvetica,sans-Serif\" font-size=\"14.00\">class = old_slide</text>\n",
       "</g>\n",
       "<!-- 4&#45;&gt;5 -->\n",
       "<g id=\"edge5\" class=\"edge\">\n",
       "<title>4&#45;&gt;5</title>\n",
       "<path fill=\"none\" stroke=\"black\" d=\"M366.88,-103.73C366.66,-95.52 366.42,-86.86 366.19,-78.56\"/>\n",
       "<polygon fill=\"black\" stroke=\"black\" points=\"369.68,-78.2 365.91,-68.3 362.69,-78.39 369.68,-78.2\"/>\n",
       "</g>\n",
       "<!-- 6 -->\n",
       "<g id=\"node7\" class=\"node\">\n",
       "<title>6</title>\n",
       "<path fill=\"#eead7f\" stroke=\"black\" d=\"M561.5,-68C561.5,-68 456.5,-68 456.5,-68 450.5,-68 444.5,-62 444.5,-56 444.5,-56 444.5,-12 444.5,-12 444.5,-6 450.5,0 456.5,0 456.5,0 561.5,0 561.5,0 567.5,0 573.5,-6 573.5,-12 573.5,-12 573.5,-56 573.5,-56 573.5,-62 567.5,-68 561.5,-68\"/>\n",
       "<text text-anchor=\"start\" x=\"471.5\" y=\"-52.8\" font-family=\"Helvetica,sans-Serif\" font-size=\"14.00\">gini = 0.386</text>\n",
       "<text text-anchor=\"start\" x=\"465.5\" y=\"-37.8\" font-family=\"Helvetica,sans-Serif\" font-size=\"14.00\">samples = 23</text>\n",
       "<text text-anchor=\"start\" x=\"464.5\" y=\"-22.8\" font-family=\"Helvetica,sans-Serif\" font-size=\"14.00\">value = [17, 6]</text>\n",
       "<text text-anchor=\"start\" x=\"452.5\" y=\"-7.8\" font-family=\"Helvetica,sans-Serif\" font-size=\"14.00\">class = new_slide</text>\n",
       "</g>\n",
       "<!-- 4&#45;&gt;6 -->\n",
       "<g id=\"edge6\" class=\"edge\">\n",
       "<title>4&#45;&gt;6</title>\n",
       "<path fill=\"none\" stroke=\"black\" d=\"M420.5,-103.73C432.84,-94.15 445.95,-83.96 458.21,-74.44\"/>\n",
       "<polygon fill=\"black\" stroke=\"black\" points=\"460.37,-77.2 466.12,-68.3 456.08,-71.67 460.37,-77.2\"/>\n",
       "</g>\n",
       "</g>\n",
       "</svg>\n"
      ],
      "text/plain": [
       "<graphviz.sources.Source at 0x1d99127aa08>"
      ]
     },
     "execution_count": 25,
     "metadata": {},
     "output_type": "execute_result"
    }
   ],
   "source": [
    "dot_data = tree.export_graphviz(dummy_clf, out_file=None, \n",
    "                      feature_names=feature_names,  \n",
    "                      class_names=['new_slide', 'old_slide'],  \n",
    "                     filled=True, rounded=True,  \n",
    "                     special_characters=True)  \n",
    "graph = graphviz.Source(dot_data)  \n",
    "graph "
   ]
  },
  {
   "cell_type": "code",
   "execution_count": 26,
   "metadata": {
    "ExecuteTime": {
     "end_time": "2022-06-01T17:32:26.738427Z",
     "start_time": "2022-06-01T17:32:26.546891Z"
    }
   },
   "outputs": [
    {
     "data": {
      "image/svg+xml": [
       "<?xml version=\"1.0\" encoding=\"UTF-8\" standalone=\"no\"?>\n",
       "<!DOCTYPE svg PUBLIC \"-//W3C//DTD SVG 1.1//EN\"\n",
       " \"http://www.w3.org/Graphics/SVG/1.1/DTD/svg11.dtd\">\n",
       "<!-- Generated by graphviz version 2.49.3 (20211023.0002)\n",
       " -->\n",
       "<!-- Title: Tree Pages: 1 -->\n",
       "<svg width=\"1152pt\" height=\"433pt\"\n",
       " viewBox=\"0.00 0.00 1151.50 433.00\" xmlns=\"http://www.w3.org/2000/svg\" xmlns:xlink=\"http://www.w3.org/1999/xlink\">\n",
       "<g id=\"graph0\" class=\"graph\" transform=\"scale(1 1) rotate(0) translate(4 429)\">\n",
       "<title>Tree</title>\n",
       "<polygon fill=\"white\" stroke=\"transparent\" points=\"-4,4 -4,-429 1147.5,-429 1147.5,4 -4,4\"/>\n",
       "<!-- 0 -->\n",
       "<g id=\"node1\" class=\"node\">\n",
       "<title>0</title>\n",
       "<path fill=\"#e5823b\" stroke=\"black\" d=\"M613,-425C613,-425 491,-425 491,-425 485,-425 479,-419 479,-413 479,-413 479,-354 479,-354 479,-348 485,-342 491,-342 491,-342 613,-342 613,-342 619,-342 625,-348 625,-354 625,-354 625,-413 625,-413 625,-419 619,-425 613,-425\"/>\n",
       "<text text-anchor=\"start\" x=\"503\" y=\"-409.8\" font-family=\"Helvetica,sans-Serif\" font-size=\"14.00\">jaccard ≤ 0.804</text>\n",
       "<text text-anchor=\"start\" x=\"514.5\" y=\"-394.8\" font-family=\"Helvetica,sans-Serif\" font-size=\"14.00\">gini = 0.021</text>\n",
       "<text text-anchor=\"start\" x=\"496\" y=\"-379.8\" font-family=\"Helvetica,sans-Serif\" font-size=\"14.00\">samples = 11845</text>\n",
       "<text text-anchor=\"start\" x=\"487\" y=\"-364.8\" font-family=\"Helvetica,sans-Serif\" font-size=\"14.00\">value = [11718, 127]</text>\n",
       "<text text-anchor=\"start\" x=\"498.5\" y=\"-349.8\" font-family=\"Helvetica,sans-Serif\" font-size=\"14.00\">class = old_slide</text>\n",
       "</g>\n",
       "<!-- 1 -->\n",
       "<g id=\"node2\" class=\"node\">\n",
       "<title>1</title>\n",
       "<path fill=\"#e5813a\" stroke=\"black\" d=\"M528.5,-306C528.5,-306 403.5,-306 403.5,-306 397.5,-306 391.5,-300 391.5,-294 391.5,-294 391.5,-235 391.5,-235 391.5,-229 397.5,-223 403.5,-223 403.5,-223 528.5,-223 528.5,-223 534.5,-223 540.5,-229 540.5,-235 540.5,-235 540.5,-294 540.5,-294 540.5,-300 534.5,-306 528.5,-306\"/>\n",
       "<text text-anchor=\"start\" x=\"399.5\" y=\"-290.8\" font-family=\"Helvetica,sans-Serif\" font-size=\"14.00\">letter_dissim ≤ 0.296</text>\n",
       "<text text-anchor=\"start\" x=\"428.5\" y=\"-275.8\" font-family=\"Helvetica,sans-Serif\" font-size=\"14.00\">gini = 0.007</text>\n",
       "<text text-anchor=\"start\" x=\"410\" y=\"-260.8\" font-family=\"Helvetica,sans-Serif\" font-size=\"14.00\">samples = 11731</text>\n",
       "<text text-anchor=\"start\" x=\"405\" y=\"-245.8\" font-family=\"Helvetica,sans-Serif\" font-size=\"14.00\">value = [11692, 39]</text>\n",
       "<text text-anchor=\"start\" x=\"412.5\" y=\"-230.8\" font-family=\"Helvetica,sans-Serif\" font-size=\"14.00\">class = old_slide</text>\n",
       "</g>\n",
       "<!-- 0&#45;&gt;1 -->\n",
       "<g id=\"edge1\" class=\"edge\">\n",
       "<title>0&#45;&gt;1</title>\n",
       "<path fill=\"none\" stroke=\"black\" d=\"M522.16,-341.91C515.63,-333.01 508.64,-323.51 501.89,-314.33\"/>\n",
       "<polygon fill=\"black\" stroke=\"black\" points=\"504.53,-312.01 495.78,-306.02 498.89,-316.15 504.53,-312.01\"/>\n",
       "<text text-anchor=\"middle\" x=\"492.01\" y=\"-327.03\" font-family=\"Helvetica,sans-Serif\" font-size=\"14.00\">True</text>\n",
       "</g>\n",
       "<!-- 8 -->\n",
       "<g id=\"node9\" class=\"node\">\n",
       "<title>8</title>\n",
       "<path fill=\"#74baed\" stroke=\"black\" d=\"M736.5,-306C736.5,-306 631.5,-306 631.5,-306 625.5,-306 619.5,-300 619.5,-294 619.5,-294 619.5,-235 619.5,-235 619.5,-229 625.5,-223 631.5,-223 631.5,-223 736.5,-223 736.5,-223 742.5,-223 748.5,-229 748.5,-235 748.5,-235 748.5,-294 748.5,-294 748.5,-300 742.5,-306 736.5,-306\"/>\n",
       "<text text-anchor=\"start\" x=\"635\" y=\"-290.8\" font-family=\"Helvetica,sans-Serif\" font-size=\"14.00\">jaccard ≤ 0.993</text>\n",
       "<text text-anchor=\"start\" x=\"646.5\" y=\"-275.8\" font-family=\"Helvetica,sans-Serif\" font-size=\"14.00\">gini = 0.352</text>\n",
       "<text text-anchor=\"start\" x=\"636.5\" y=\"-260.8\" font-family=\"Helvetica,sans-Serif\" font-size=\"14.00\">samples = 114</text>\n",
       "<text text-anchor=\"start\" x=\"635.5\" y=\"-245.8\" font-family=\"Helvetica,sans-Serif\" font-size=\"14.00\">value = [26, 88]</text>\n",
       "<text text-anchor=\"start\" x=\"627.5\" y=\"-230.8\" font-family=\"Helvetica,sans-Serif\" font-size=\"14.00\">class = new_slide</text>\n",
       "</g>\n",
       "<!-- 0&#45;&gt;8 -->\n",
       "<g id=\"edge8\" class=\"edge\">\n",
       "<title>0&#45;&gt;8</title>\n",
       "<path fill=\"none\" stroke=\"black\" d=\"M597.8,-341.91C608.34,-332.56 619.65,-322.54 630.49,-312.93\"/>\n",
       "<polygon fill=\"black\" stroke=\"black\" points=\"633.12,-315.27 638.28,-306.02 628.48,-310.03 633.12,-315.27\"/>\n",
       "<text text-anchor=\"middle\" x=\"636.78\" y=\"-327.28\" font-family=\"Helvetica,sans-Serif\" font-size=\"14.00\">False</text>\n",
       "</g>\n",
       "<!-- 2 -->\n",
       "<g id=\"node3\" class=\"node\">\n",
       "<title>2</title>\n",
       "<path fill=\"#e58139\" stroke=\"black\" d=\"M275,-187C275,-187 161,-187 161,-187 155,-187 149,-181 149,-175 149,-175 149,-116 149,-116 149,-110 155,-104 161,-104 161,-104 275,-104 275,-104 281,-104 287,-110 287,-116 287,-116 287,-175 287,-175 287,-181 281,-187 275,-187\"/>\n",
       "<text text-anchor=\"start\" x=\"163\" y=\"-171.8\" font-family=\"Helvetica,sans-Serif\" font-size=\"14.00\">word_dis ≤ 0.388</text>\n",
       "<text text-anchor=\"start\" x=\"180.5\" y=\"-156.8\" font-family=\"Helvetica,sans-Serif\" font-size=\"14.00\">gini = 0.004</text>\n",
       "<text text-anchor=\"start\" x=\"162\" y=\"-141.8\" font-family=\"Helvetica,sans-Serif\" font-size=\"14.00\">samples = 11705</text>\n",
       "<text text-anchor=\"start\" x=\"157\" y=\"-126.8\" font-family=\"Helvetica,sans-Serif\" font-size=\"14.00\">value = [11684, 21]</text>\n",
       "<text text-anchor=\"start\" x=\"164.5\" y=\"-111.8\" font-family=\"Helvetica,sans-Serif\" font-size=\"14.00\">class = old_slide</text>\n",
       "</g>\n",
       "<!-- 1&#45;&gt;2 -->\n",
       "<g id=\"edge2\" class=\"edge\">\n",
       "<title>1&#45;&gt;2</title>\n",
       "<path fill=\"none\" stroke=\"black\" d=\"M391.26,-228.24C361.27,-214.09 326.69,-197.78 296.36,-183.47\"/>\n",
       "<polygon fill=\"black\" stroke=\"black\" points=\"297.62,-180.19 287.09,-179.09 294.64,-186.53 297.62,-180.19\"/>\n",
       "</g>\n",
       "<!-- 5 -->\n",
       "<g id=\"node6\" class=\"node\">\n",
       "<title>5</title>\n",
       "<path fill=\"#91c9f1\" stroke=\"black\" d=\"M531,-187C531,-187 401,-187 401,-187 395,-187 389,-181 389,-175 389,-175 389,-116 389,-116 389,-110 395,-104 401,-104 401,-104 531,-104 531,-104 537,-104 543,-110 543,-116 543,-116 543,-175 543,-175 543,-181 537,-187 531,-187\"/>\n",
       "<text text-anchor=\"start\" x=\"397\" y=\"-171.8\" font-family=\"Helvetica,sans-Serif\" font-size=\"14.00\">jaccard_letter ≤ 0.778</text>\n",
       "<text text-anchor=\"start\" x=\"428.5\" y=\"-156.8\" font-family=\"Helvetica,sans-Serif\" font-size=\"14.00\">gini = 0.426</text>\n",
       "<text text-anchor=\"start\" x=\"422.5\" y=\"-141.8\" font-family=\"Helvetica,sans-Serif\" font-size=\"14.00\">samples = 26</text>\n",
       "<text text-anchor=\"start\" x=\"421.5\" y=\"-126.8\" font-family=\"Helvetica,sans-Serif\" font-size=\"14.00\">value = [8, 18]</text>\n",
       "<text text-anchor=\"start\" x=\"409.5\" y=\"-111.8\" font-family=\"Helvetica,sans-Serif\" font-size=\"14.00\">class = new_slide</text>\n",
       "</g>\n",
       "<!-- 1&#45;&gt;5 -->\n",
       "<g id=\"edge5\" class=\"edge\">\n",
       "<title>1&#45;&gt;5</title>\n",
       "<path fill=\"none\" stroke=\"black\" d=\"M466,-222.91C466,-214.65 466,-205.86 466,-197.3\"/>\n",
       "<polygon fill=\"black\" stroke=\"black\" points=\"469.5,-197.02 466,-187.02 462.5,-197.02 469.5,-197.02\"/>\n",
       "</g>\n",
       "<!-- 3 -->\n",
       "<g id=\"node4\" class=\"node\">\n",
       "<title>3</title>\n",
       "<path fill=\"#e58139\" stroke=\"black\" d=\"M126,-68C126,-68 12,-68 12,-68 6,-68 0,-62 0,-56 0,-56 0,-12 0,-12 0,-6 6,0 12,0 12,0 126,0 126,0 132,0 138,-6 138,-12 138,-12 138,-56 138,-56 138,-62 132,-68 126,-68\"/>\n",
       "<text text-anchor=\"start\" x=\"31.5\" y=\"-52.8\" font-family=\"Helvetica,sans-Serif\" font-size=\"14.00\">gini = 0.003</text>\n",
       "<text text-anchor=\"start\" x=\"13\" y=\"-37.8\" font-family=\"Helvetica,sans-Serif\" font-size=\"14.00\">samples = 11696</text>\n",
       "<text text-anchor=\"start\" x=\"8\" y=\"-22.8\" font-family=\"Helvetica,sans-Serif\" font-size=\"14.00\">value = [11678, 18]</text>\n",
       "<text text-anchor=\"start\" x=\"15.5\" y=\"-7.8\" font-family=\"Helvetica,sans-Serif\" font-size=\"14.00\">class = old_slide</text>\n",
       "</g>\n",
       "<!-- 2&#45;&gt;3 -->\n",
       "<g id=\"edge3\" class=\"edge\">\n",
       "<title>2&#45;&gt;3</title>\n",
       "<path fill=\"none\" stroke=\"black\" d=\"M162.52,-103.73C149.49,-94.15 135.62,-83.96 122.67,-74.44\"/>\n",
       "<polygon fill=\"black\" stroke=\"black\" points=\"124.44,-71.4 114.31,-68.3 120.3,-77.04 124.44,-71.4\"/>\n",
       "</g>\n",
       "<!-- 4 -->\n",
       "<g id=\"node5\" class=\"node\">\n",
       "<title>4</title>\n",
       "<path fill=\"#f2c09c\" stroke=\"black\" d=\"M267.5,-68C267.5,-68 168.5,-68 168.5,-68 162.5,-68 156.5,-62 156.5,-56 156.5,-56 156.5,-12 156.5,-12 156.5,-6 162.5,0 168.5,0 168.5,0 267.5,0 267.5,0 273.5,0 279.5,-6 279.5,-12 279.5,-12 279.5,-56 279.5,-56 279.5,-62 273.5,-68 267.5,-68\"/>\n",
       "<text text-anchor=\"start\" x=\"180.5\" y=\"-52.8\" font-family=\"Helvetica,sans-Serif\" font-size=\"14.00\">gini = 0.444</text>\n",
       "<text text-anchor=\"start\" x=\"178.5\" y=\"-37.8\" font-family=\"Helvetica,sans-Serif\" font-size=\"14.00\">samples = 9</text>\n",
       "<text text-anchor=\"start\" x=\"177.5\" y=\"-22.8\" font-family=\"Helvetica,sans-Serif\" font-size=\"14.00\">value = [6, 3]</text>\n",
       "<text text-anchor=\"start\" x=\"164.5\" y=\"-7.8\" font-family=\"Helvetica,sans-Serif\" font-size=\"14.00\">class = old_slide</text>\n",
       "</g>\n",
       "<!-- 2&#45;&gt;4 -->\n",
       "<g id=\"edge4\" class=\"edge\">\n",
       "<title>2&#45;&gt;4</title>\n",
       "<path fill=\"none\" stroke=\"black\" d=\"M218,-103.73C218,-95.52 218,-86.86 218,-78.56\"/>\n",
       "<polygon fill=\"black\" stroke=\"black\" points=\"221.5,-78.3 218,-68.3 214.5,-78.3 221.5,-78.3\"/>\n",
       "</g>\n",
       "<!-- 6 -->\n",
       "<g id=\"node7\" class=\"node\">\n",
       "<title>6</title>\n",
       "<path fill=\"#e89152\" stroke=\"black\" d=\"M408.5,-68C408.5,-68 309.5,-68 309.5,-68 303.5,-68 297.5,-62 297.5,-56 297.5,-56 297.5,-12 297.5,-12 297.5,-6 303.5,0 309.5,0 309.5,0 408.5,0 408.5,0 414.5,0 420.5,-6 420.5,-12 420.5,-12 420.5,-56 420.5,-56 420.5,-62 414.5,-68 408.5,-68\"/>\n",
       "<text text-anchor=\"start\" x=\"321.5\" y=\"-52.8\" font-family=\"Helvetica,sans-Serif\" font-size=\"14.00\">gini = 0.198</text>\n",
       "<text text-anchor=\"start\" x=\"319.5\" y=\"-37.8\" font-family=\"Helvetica,sans-Serif\" font-size=\"14.00\">samples = 9</text>\n",
       "<text text-anchor=\"start\" x=\"318.5\" y=\"-22.8\" font-family=\"Helvetica,sans-Serif\" font-size=\"14.00\">value = [8, 1]</text>\n",
       "<text text-anchor=\"start\" x=\"305.5\" y=\"-7.8\" font-family=\"Helvetica,sans-Serif\" font-size=\"14.00\">class = old_slide</text>\n",
       "</g>\n",
       "<!-- 5&#45;&gt;6 -->\n",
       "<g id=\"edge6\" class=\"edge\">\n",
       "<title>5&#45;&gt;6</title>\n",
       "<path fill=\"none\" stroke=\"black\" d=\"M426.16,-103.73C417.16,-94.51 407.6,-84.74 398.61,-75.53\"/>\n",
       "<polygon fill=\"black\" stroke=\"black\" points=\"401.03,-73.01 391.54,-68.3 396.03,-77.9 401.03,-73.01\"/>\n",
       "</g>\n",
       "<!-- 7 -->\n",
       "<g id=\"node8\" class=\"node\">\n",
       "<title>7</title>\n",
       "<path fill=\"#399de5\" stroke=\"black\" d=\"M555.5,-68C555.5,-68 450.5,-68 450.5,-68 444.5,-68 438.5,-62 438.5,-56 438.5,-56 438.5,-12 438.5,-12 438.5,-6 444.5,0 450.5,0 450.5,0 555.5,0 555.5,0 561.5,0 567.5,-6 567.5,-12 567.5,-12 567.5,-56 567.5,-56 567.5,-62 561.5,-68 555.5,-68\"/>\n",
       "<text text-anchor=\"start\" x=\"474\" y=\"-52.8\" font-family=\"Helvetica,sans-Serif\" font-size=\"14.00\">gini = 0.0</text>\n",
       "<text text-anchor=\"start\" x=\"459.5\" y=\"-37.8\" font-family=\"Helvetica,sans-Serif\" font-size=\"14.00\">samples = 17</text>\n",
       "<text text-anchor=\"start\" x=\"458.5\" y=\"-22.8\" font-family=\"Helvetica,sans-Serif\" font-size=\"14.00\">value = [0, 17]</text>\n",
       "<text text-anchor=\"start\" x=\"446.5\" y=\"-7.8\" font-family=\"Helvetica,sans-Serif\" font-size=\"14.00\">class = new_slide</text>\n",
       "</g>\n",
       "<!-- 5&#45;&gt;7 -->\n",
       "<g id=\"edge7\" class=\"edge\">\n",
       "<title>5&#45;&gt;7</title>\n",
       "<path fill=\"none\" stroke=\"black\" d=\"M479.78,-103.73C482.61,-95.34 485.61,-86.47 488.47,-78.01\"/>\n",
       "<polygon fill=\"black\" stroke=\"black\" points=\"491.86,-78.89 491.75,-68.3 485.23,-76.65 491.86,-78.89\"/>\n",
       "</g>\n",
       "<!-- 9 -->\n",
       "<g id=\"node10\" class=\"node\">\n",
       "<title>9</title>\n",
       "<path fill=\"#4fa8e8\" stroke=\"black\" d=\"M749,-187C749,-187 619,-187 619,-187 613,-187 607,-181 607,-175 607,-175 607,-116 607,-116 607,-110 613,-104 619,-104 619,-104 749,-104 749,-104 755,-104 761,-110 761,-116 761,-116 761,-175 761,-175 761,-181 755,-187 749,-187\"/>\n",
       "<text text-anchor=\"start\" x=\"615\" y=\"-171.8\" font-family=\"Helvetica,sans-Serif\" font-size=\"14.00\">jaccard_letter ≤ 0.801</text>\n",
       "<text text-anchor=\"start\" x=\"646.5\" y=\"-156.8\" font-family=\"Helvetica,sans-Serif\" font-size=\"14.00\">gini = 0.178</text>\n",
       "<text text-anchor=\"start\" x=\"640.5\" y=\"-141.8\" font-family=\"Helvetica,sans-Serif\" font-size=\"14.00\">samples = 91</text>\n",
       "<text text-anchor=\"start\" x=\"639.5\" y=\"-126.8\" font-family=\"Helvetica,sans-Serif\" font-size=\"14.00\">value = [9, 82]</text>\n",
       "<text text-anchor=\"start\" x=\"627.5\" y=\"-111.8\" font-family=\"Helvetica,sans-Serif\" font-size=\"14.00\">class = new_slide</text>\n",
       "</g>\n",
       "<!-- 8&#45;&gt;9 -->\n",
       "<g id=\"edge9\" class=\"edge\">\n",
       "<title>8&#45;&gt;9</title>\n",
       "<path fill=\"none\" stroke=\"black\" d=\"M684,-222.91C684,-214.65 684,-205.86 684,-197.3\"/>\n",
       "<polygon fill=\"black\" stroke=\"black\" points=\"687.5,-197.02 684,-187.02 680.5,-197.02 687.5,-197.02\"/>\n",
       "</g>\n",
       "<!-- 12 -->\n",
       "<g id=\"node13\" class=\"node\">\n",
       "<title>12</title>\n",
       "<path fill=\"#eead7f\" stroke=\"black\" d=\"M998.5,-187C998.5,-187 871.5,-187 871.5,-187 865.5,-187 859.5,-181 859.5,-175 859.5,-175 859.5,-116 859.5,-116 859.5,-110 865.5,-104 871.5,-104 871.5,-104 998.5,-104 998.5,-104 1004.5,-104 1010.5,-110 1010.5,-116 1010.5,-116 1010.5,-175 1010.5,-175 1010.5,-181 1004.5,-187 998.5,-187\"/>\n",
       "<text text-anchor=\"start\" x=\"867.5\" y=\"-171.8\" font-family=\"Helvetica,sans-Serif\" font-size=\"14.00\">frame_token_ct ≤ 2.5</text>\n",
       "<text text-anchor=\"start\" x=\"897.5\" y=\"-156.8\" font-family=\"Helvetica,sans-Serif\" font-size=\"14.00\">gini = 0.386</text>\n",
       "<text text-anchor=\"start\" x=\"891.5\" y=\"-141.8\" font-family=\"Helvetica,sans-Serif\" font-size=\"14.00\">samples = 23</text>\n",
       "<text text-anchor=\"start\" x=\"890.5\" y=\"-126.8\" font-family=\"Helvetica,sans-Serif\" font-size=\"14.00\">value = [17, 6]</text>\n",
       "<text text-anchor=\"start\" x=\"881.5\" y=\"-111.8\" font-family=\"Helvetica,sans-Serif\" font-size=\"14.00\">class = old_slide</text>\n",
       "</g>\n",
       "<!-- 8&#45;&gt;12 -->\n",
       "<g id=\"edge12\" class=\"edge\">\n",
       "<title>8&#45;&gt;12</title>\n",
       "<path fill=\"none\" stroke=\"black\" d=\"M748.64,-233.37C779.57,-218.95 817.02,-201.49 850.21,-186.03\"/>\n",
       "<polygon fill=\"black\" stroke=\"black\" points=\"851.86,-189.12 859.44,-181.72 848.9,-182.77 851.86,-189.12\"/>\n",
       "</g>\n",
       "<!-- 10 -->\n",
       "<g id=\"node11\" class=\"node\">\n",
       "<title>10</title>\n",
       "<path fill=\"#f2c09c\" stroke=\"black\" d=\"M696.5,-68C696.5,-68 597.5,-68 597.5,-68 591.5,-68 585.5,-62 585.5,-56 585.5,-56 585.5,-12 585.5,-12 585.5,-6 591.5,0 597.5,0 597.5,0 696.5,0 696.5,0 702.5,0 708.5,-6 708.5,-12 708.5,-12 708.5,-56 708.5,-56 708.5,-62 702.5,-68 696.5,-68\"/>\n",
       "<text text-anchor=\"start\" x=\"609.5\" y=\"-52.8\" font-family=\"Helvetica,sans-Serif\" font-size=\"14.00\">gini = 0.444</text>\n",
       "<text text-anchor=\"start\" x=\"607.5\" y=\"-37.8\" font-family=\"Helvetica,sans-Serif\" font-size=\"14.00\">samples = 3</text>\n",
       "<text text-anchor=\"start\" x=\"606.5\" y=\"-22.8\" font-family=\"Helvetica,sans-Serif\" font-size=\"14.00\">value = [2, 1]</text>\n",
       "<text text-anchor=\"start\" x=\"593.5\" y=\"-7.8\" font-family=\"Helvetica,sans-Serif\" font-size=\"14.00\">class = old_slide</text>\n",
       "</g>\n",
       "<!-- 9&#45;&gt;10 -->\n",
       "<g id=\"edge10\" class=\"edge\">\n",
       "<title>9&#45;&gt;10</title>\n",
       "<path fill=\"none\" stroke=\"black\" d=\"M670.22,-103.73C667.39,-95.34 664.39,-86.47 661.53,-78.01\"/>\n",
       "<polygon fill=\"black\" stroke=\"black\" points=\"664.77,-76.65 658.25,-68.3 658.14,-78.89 664.77,-76.65\"/>\n",
       "</g>\n",
       "<!-- 11 -->\n",
       "<g id=\"node12\" class=\"node\">\n",
       "<title>11</title>\n",
       "<path fill=\"#4aa5e7\" stroke=\"black\" d=\"M843.5,-68C843.5,-68 738.5,-68 738.5,-68 732.5,-68 726.5,-62 726.5,-56 726.5,-56 726.5,-12 726.5,-12 726.5,-6 732.5,0 738.5,0 738.5,0 843.5,0 843.5,0 849.5,0 855.5,-6 855.5,-12 855.5,-12 855.5,-56 855.5,-56 855.5,-62 849.5,-68 843.5,-68\"/>\n",
       "<text text-anchor=\"start\" x=\"753.5\" y=\"-52.8\" font-family=\"Helvetica,sans-Serif\" font-size=\"14.00\">gini = 0.146</text>\n",
       "<text text-anchor=\"start\" x=\"747.5\" y=\"-37.8\" font-family=\"Helvetica,sans-Serif\" font-size=\"14.00\">samples = 88</text>\n",
       "<text text-anchor=\"start\" x=\"746.5\" y=\"-22.8\" font-family=\"Helvetica,sans-Serif\" font-size=\"14.00\">value = [7, 81]</text>\n",
       "<text text-anchor=\"start\" x=\"734.5\" y=\"-7.8\" font-family=\"Helvetica,sans-Serif\" font-size=\"14.00\">class = new_slide</text>\n",
       "</g>\n",
       "<!-- 9&#45;&gt;11 -->\n",
       "<g id=\"edge11\" class=\"edge\">\n",
       "<title>9&#45;&gt;11</title>\n",
       "<path fill=\"none\" stroke=\"black\" d=\"M723.84,-103.73C732.84,-94.51 742.4,-84.74 751.39,-75.53\"/>\n",
       "<polygon fill=\"black\" stroke=\"black\" points=\"753.97,-77.9 758.46,-68.3 748.97,-73.01 753.97,-77.9\"/>\n",
       "</g>\n",
       "<!-- 13 -->\n",
       "<g id=\"node14\" class=\"node\">\n",
       "<title>13</title>\n",
       "<path fill=\"#e78a47\" stroke=\"black\" d=\"M984.5,-68C984.5,-68 885.5,-68 885.5,-68 879.5,-68 873.5,-62 873.5,-56 873.5,-56 873.5,-12 873.5,-12 873.5,-6 879.5,0 885.5,0 885.5,0 984.5,0 984.5,0 990.5,0 996.5,-6 996.5,-12 996.5,-12 996.5,-56 996.5,-56 996.5,-62 990.5,-68 984.5,-68\"/>\n",
       "<text text-anchor=\"start\" x=\"897.5\" y=\"-52.8\" font-family=\"Helvetica,sans-Serif\" font-size=\"14.00\">gini = 0.124</text>\n",
       "<text text-anchor=\"start\" x=\"891.5\" y=\"-37.8\" font-family=\"Helvetica,sans-Serif\" font-size=\"14.00\">samples = 15</text>\n",
       "<text text-anchor=\"start\" x=\"890.5\" y=\"-22.8\" font-family=\"Helvetica,sans-Serif\" font-size=\"14.00\">value = [14, 1]</text>\n",
       "<text text-anchor=\"start\" x=\"881.5\" y=\"-7.8\" font-family=\"Helvetica,sans-Serif\" font-size=\"14.00\">class = old_slide</text>\n",
       "</g>\n",
       "<!-- 12&#45;&gt;13 -->\n",
       "<g id=\"edge13\" class=\"edge\">\n",
       "<title>12&#45;&gt;13</title>\n",
       "<path fill=\"none\" stroke=\"black\" d=\"M935,-103.73C935,-95.52 935,-86.86 935,-78.56\"/>\n",
       "<polygon fill=\"black\" stroke=\"black\" points=\"938.5,-78.3 935,-68.3 931.5,-78.3 938.5,-78.3\"/>\n",
       "</g>\n",
       "<!-- 14 -->\n",
       "<g id=\"node15\" class=\"node\">\n",
       "<title>14</title>\n",
       "<path fill=\"#b0d8f5\" stroke=\"black\" d=\"M1131.5,-68C1131.5,-68 1026.5,-68 1026.5,-68 1020.5,-68 1014.5,-62 1014.5,-56 1014.5,-56 1014.5,-12 1014.5,-12 1014.5,-6 1020.5,0 1026.5,0 1026.5,0 1131.5,0 1131.5,0 1137.5,0 1143.5,-6 1143.5,-12 1143.5,-12 1143.5,-56 1143.5,-56 1143.5,-62 1137.5,-68 1131.5,-68\"/>\n",
       "<text text-anchor=\"start\" x=\"1041.5\" y=\"-52.8\" font-family=\"Helvetica,sans-Serif\" font-size=\"14.00\">gini = 0.469</text>\n",
       "<text text-anchor=\"start\" x=\"1039.5\" y=\"-37.8\" font-family=\"Helvetica,sans-Serif\" font-size=\"14.00\">samples = 8</text>\n",
       "<text text-anchor=\"start\" x=\"1038.5\" y=\"-22.8\" font-family=\"Helvetica,sans-Serif\" font-size=\"14.00\">value = [3, 5]</text>\n",
       "<text text-anchor=\"start\" x=\"1022.5\" y=\"-7.8\" font-family=\"Helvetica,sans-Serif\" font-size=\"14.00\">class = new_slide</text>\n",
       "</g>\n",
       "<!-- 12&#45;&gt;14 -->\n",
       "<g id=\"edge14\" class=\"edge\">\n",
       "<title>12&#45;&gt;14</title>\n",
       "<path fill=\"none\" stroke=\"black\" d=\"M988.62,-103.73C1001.21,-94.15 1014.61,-83.96 1027.13,-74.44\"/>\n",
       "<polygon fill=\"black\" stroke=\"black\" points=\"1029.37,-77.14 1035.21,-68.3 1025.13,-71.57 1029.37,-77.14\"/>\n",
       "</g>\n",
       "</g>\n",
       "</svg>\n"
      ],
      "text/plain": [
       "<graphviz.sources.Source at 0x1d991278908>"
      ]
     },
     "execution_count": 26,
     "metadata": {},
     "output_type": "execute_result"
    }
   ],
   "source": [
    "dot_data = tree.export_graphviz(clf, out_file=None, \n",
    "                      feature_names=feature_names,  \n",
    "                      class_names=['old_slide', 'new_slide'],  \n",
    "                     filled=True, rounded=True,  \n",
    "                     special_characters=True)  \n",
    "graph = graphviz.Source(dot_data)  \n",
    "graph "
   ]
  },
  {
   "cell_type": "code",
   "execution_count": 27,
   "metadata": {
    "ExecuteTime": {
     "end_time": "2022-06-01T17:32:26.980257Z",
     "start_time": "2022-06-01T17:32:26.739447Z"
    }
   },
   "outputs": [],
   "source": [
    "import pydot\n",
    "\n",
    "(graph,) = pydot.graph_from_dot_data(dot_data)\n",
    "graph.write_png('somefile.png')"
   ]
  },
  {
   "cell_type": "code",
   "execution_count": 28,
   "metadata": {
    "ExecuteTime": {
     "end_time": "2022-06-01T17:32:27.046611Z",
     "start_time": "2022-06-01T17:32:26.981230Z"
    }
   },
   "outputs": [
    {
     "name": "stdout",
     "output_type": "stream",
     "text": [
      "              precision    recall  f1-score   support\n",
      "\n",
      "       False       1.00      1.00      1.00     11718\n",
      "        True       0.91      0.81      0.86       127\n",
      "\n",
      "    accuracy                           1.00     11845\n",
      "   macro avg       0.95      0.91      0.93     11845\n",
      "weighted avg       1.00      1.00      1.00     11845\n",
      "\n"
     ]
    }
   ],
   "source": [
    "from sklearn.metrics import classification_report\n",
    "from sklearn.metrics import confusion_matrix\n",
    "print(classification_report(y_true, y_pred))"
   ]
  },
  {
   "cell_type": "code",
   "execution_count": 29,
   "metadata": {
    "ExecuteTime": {
     "end_time": "2022-06-01T17:32:27.111432Z",
     "start_time": "2022-06-01T17:32:27.047577Z"
    }
   },
   "outputs": [
    {
     "data": {
      "text/plain": [
       "array([[11708,    10],\n",
       "       [   24,   103]], dtype=int64)"
      ]
     },
     "execution_count": 29,
     "metadata": {},
     "output_type": "execute_result"
    }
   ],
   "source": [
    "confusion_matrix(y_true, y_pred)"
   ]
  },
  {
   "cell_type": "code",
   "execution_count": 30,
   "metadata": {
    "ExecuteTime": {
     "end_time": "2022-06-01T17:32:27.177256Z",
     "start_time": "2022-06-01T17:32:27.112431Z"
    }
   },
   "outputs": [
    {
     "data": {
      "text/plain": [
       "array([[11701,    17],\n",
       "       [   27,   100]], dtype=int64)"
      ]
     },
     "execution_count": 30,
     "metadata": {},
     "output_type": "execute_result"
    }
   ],
   "source": [
    "##### \n",
    "confusion_matrix(y_true, dummy_y_pred) #missed 25, 43 "
   ]
  },
  {
   "cell_type": "code",
   "execution_count": 31,
   "metadata": {
    "ExecuteTime": {
     "end_time": "2022-06-01T17:32:27.240595Z",
     "start_time": "2022-06-01T17:32:27.178253Z"
    }
   },
   "outputs": [
    {
     "data": {
      "text/plain": [
       "array([[2226, 9492],\n",
       "       [   3,  124]], dtype=int64)"
      ]
     },
     "execution_count": 31,
     "metadata": {},
     "output_type": "execute_result"
    }
   ],
   "source": [
    "cm = confusion_matrix(y_true, my_dummy_y_pred)\n",
    "cm"
   ]
  },
  {
   "cell_type": "code",
   "execution_count": 32,
   "metadata": {
    "ExecuteTime": {
     "end_time": "2022-06-01T17:32:27.310412Z",
     "start_time": "2022-06-01T17:32:27.241592Z"
    }
   },
   "outputs": [
    {
     "data": {
      "text/plain": [
       "array([[4909,    0],\n",
       "       [   1,   38]], dtype=int64)"
      ]
     },
     "execution_count": 32,
     "metadata": {},
     "output_type": "execute_result"
    }
   ],
   "source": [
    "# testing on video12\n",
    "y_test_pred = clf.predict(x_test)\n",
    "cm = confusion_matrix(y_test, y_test_pred)\n",
    "cm"
   ]
  }
 ],
 "metadata": {
  "kernelspec": {
   "display_name": "Python 3",
   "language": "python",
   "name": "python3"
  },
  "language_info": {
   "codemirror_mode": {
    "name": "ipython",
    "version": 3
   },
   "file_extension": ".py",
   "mimetype": "text/x-python",
   "name": "python",
   "nbconvert_exporter": "python",
   "pygments_lexer": "ipython3",
   "version": "3.7.4"
  },
  "toc": {
   "base_numbering": 1,
   "nav_menu": {},
   "number_sections": true,
   "sideBar": true,
   "skip_h1_title": false,
   "title_cell": "Table of Contents",
   "title_sidebar": "Contents",
   "toc_cell": false,
   "toc_position": {
    "height": "calc(100% - 180px)",
    "left": "10px",
    "top": "150px",
    "width": "235.475px"
   },
   "toc_section_display": true,
   "toc_window_display": true
  }
 },
 "nbformat": 4,
 "nbformat_minor": 2
}
