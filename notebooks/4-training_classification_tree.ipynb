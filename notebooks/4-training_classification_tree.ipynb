{
 "cells": [
  {
   "cell_type": "code",
   "execution_count": 1,
   "metadata": {
    "ExecuteTime": {
     "end_time": "2022-06-15T05:40:50.084150Z",
     "start_time": "2022-06-15T05:40:50.024495Z"
    }
   },
   "outputs": [],
   "source": [
    "%load_ext autoreload\n",
    "%autoreload 2"
   ]
  },
  {
   "cell_type": "code",
   "execution_count": 2,
   "metadata": {
    "ExecuteTime": {
     "end_time": "2022-06-15T05:40:51.257258Z",
     "start_time": "2022-06-15T05:40:50.085788Z"
    }
   },
   "outputs": [],
   "source": [
    "import os\n",
    "from pathlib import Path\n",
    "import pandas as pd\n",
    "import numpy as np\n",
    "import matplotlib.pyplot as plt\n",
    "\n",
    "pd.set_option('display.max_rows', 500)"
   ]
  },
  {
   "cell_type": "code",
   "execution_count": 3,
   "metadata": {
    "ExecuteTime": {
     "end_time": "2022-06-15T05:40:51.427348Z",
     "start_time": "2022-06-15T05:40:51.258226Z"
    }
   },
   "outputs": [],
   "source": [
    "import cv2"
   ]
  },
  {
   "cell_type": "code",
   "execution_count": 4,
   "metadata": {
    "ExecuteTime": {
     "end_time": "2022-06-15T05:40:51.468475Z",
     "start_time": "2022-06-15T05:40:51.428342Z"
    }
   },
   "outputs": [],
   "source": [
    "video_ocr_paths = list(Path(\"../data/video_frame_obj\").glob(\"*.csv\"))"
   ]
  },
  {
   "cell_type": "code",
   "execution_count": 5,
   "metadata": {
    "ExecuteTime": {
     "end_time": "2022-06-15T05:40:51.514490Z",
     "start_time": "2022-06-15T05:40:51.469442Z"
    }
   },
   "outputs": [
    {
     "data": {
      "text/plain": [
       "[WindowsPath('../data/video_frame_obj/test_video_0.csv'),\n",
       " WindowsPath('../data/video_frame_obj/test_video_1.csv')]"
      ]
     },
     "execution_count": 5,
     "metadata": {},
     "output_type": "execute_result"
    }
   ],
   "source": [
    "video_ocr_paths[:2]"
   ]
  },
  {
   "cell_type": "code",
   "execution_count": 6,
   "metadata": {
    "ExecuteTime": {
     "end_time": "2022-06-15T05:40:51.925045Z",
     "start_time": "2022-06-15T05:40:51.517468Z"
    }
   },
   "outputs": [],
   "source": [
    "diff_df_dict = dict()\n",
    "for video_ocr_path in video_ocr_paths:\n",
    "    file_name = video_ocr_path.name.split(\".\")[0]\n",
    "    diff_df_dict[file_name] = pd.read_csv(video_ocr_path)"
   ]
  },
  {
   "cell_type": "code",
   "execution_count": 7,
   "metadata": {
    "ExecuteTime": {
     "end_time": "2022-06-15T05:40:51.995414Z",
     "start_time": "2022-06-15T05:40:51.926232Z"
    }
   },
   "outputs": [
    {
     "data": {
      "text/html": [
       "<div>\n",
       "<style scoped>\n",
       "    .dataframe tbody tr th:only-of-type {\n",
       "        vertical-align: middle;\n",
       "    }\n",
       "\n",
       "    .dataframe tbody tr th {\n",
       "        vertical-align: top;\n",
       "    }\n",
       "\n",
       "    .dataframe thead th {\n",
       "        text-align: right;\n",
       "    }\n",
       "</style>\n",
       "<table border=\"1\" class=\"dataframe\">\n",
       "  <thead>\n",
       "    <tr style=\"text-align: right;\">\n",
       "      <th></th>\n",
       "      <th>index</th>\n",
       "      <th>dissimilarity</th>\n",
       "      <th>jaccard</th>\n",
       "      <th>jaccard_letter</th>\n",
       "      <th>frame_token_ct</th>\n",
       "      <th>lev_dis</th>\n",
       "      <th>word_dis</th>\n",
       "      <th>letter_dissim</th>\n",
       "      <th>min</th>\n",
       "    </tr>\n",
       "  </thead>\n",
       "  <tbody>\n",
       "    <tr>\n",
       "      <th>0</th>\n",
       "      <td>1</td>\n",
       "      <td>0.073178</td>\n",
       "      <td>0.2</td>\n",
       "      <td>0.478261</td>\n",
       "      <td>4</td>\n",
       "      <td>0.368421</td>\n",
       "      <td>0.200000</td>\n",
       "      <td>0.157895</td>\n",
       "      <td>0.016667</td>\n",
       "    </tr>\n",
       "    <tr>\n",
       "      <th>1</th>\n",
       "      <td>2</td>\n",
       "      <td>0.036582</td>\n",
       "      <td>0.2</td>\n",
       "      <td>0.478261</td>\n",
       "      <td>5</td>\n",
       "      <td>0.187500</td>\n",
       "      <td>0.200000</td>\n",
       "      <td>0.157895</td>\n",
       "      <td>0.033333</td>\n",
       "    </tr>\n",
       "    <tr>\n",
       "      <th>2</th>\n",
       "      <td>3</td>\n",
       "      <td>0.073881</td>\n",
       "      <td>0.4</td>\n",
       "      <td>0.476190</td>\n",
       "      <td>4</td>\n",
       "      <td>0.062500</td>\n",
       "      <td>0.000000</td>\n",
       "      <td>0.000000</td>\n",
       "      <td>0.050000</td>\n",
       "    </tr>\n",
       "    <tr>\n",
       "      <th>3</th>\n",
       "      <td>4</td>\n",
       "      <td>0.194590</td>\n",
       "      <td>0.6</td>\n",
       "      <td>0.705882</td>\n",
       "      <td>4</td>\n",
       "      <td>1.666667</td>\n",
       "      <td>0.250000</td>\n",
       "      <td>0.625000</td>\n",
       "      <td>0.066667</td>\n",
       "    </tr>\n",
       "    <tr>\n",
       "      <th>4</th>\n",
       "      <td>5</td>\n",
       "      <td>1.000000</td>\n",
       "      <td>1.0</td>\n",
       "      <td>1.000000</td>\n",
       "      <td>3</td>\n",
       "      <td>6.000000</td>\n",
       "      <td>0.666667</td>\n",
       "      <td>1.000000</td>\n",
       "      <td>0.083333</td>\n",
       "    </tr>\n",
       "  </tbody>\n",
       "</table>\n",
       "</div>"
      ],
      "text/plain": [
       "   index  dissimilarity  jaccard  jaccard_letter  frame_token_ct   lev_dis  \\\n",
       "0      1       0.073178      0.2        0.478261               4  0.368421   \n",
       "1      2       0.036582      0.2        0.478261               5  0.187500   \n",
       "2      3       0.073881      0.4        0.476190               4  0.062500   \n",
       "3      4       0.194590      0.6        0.705882               4  1.666667   \n",
       "4      5       1.000000      1.0        1.000000               3  6.000000   \n",
       "\n",
       "   word_dis  letter_dissim       min  \n",
       "0  0.200000       0.157895  0.016667  \n",
       "1  0.200000       0.157895  0.033333  \n",
       "2  0.000000       0.000000  0.050000  \n",
       "3  0.250000       0.625000  0.066667  \n",
       "4  0.666667       1.000000  0.083333  "
      ]
     },
     "execution_count": 7,
     "metadata": {},
     "output_type": "execute_result"
    }
   ],
   "source": [
    "diff_df = diff_df_dict['test_video_13']\n",
    "diff_df.head()"
   ]
  },
  {
   "cell_type": "code",
   "execution_count": 8,
   "metadata": {
    "ExecuteTime": {
     "end_time": "2022-06-15T05:40:52.052576Z",
     "start_time": "2022-06-15T05:40:51.996411Z"
    }
   },
   "outputs": [
    {
     "data": {
      "text/plain": [
       "dict_keys(['test_video_0', 'test_video_1', 'test_video_10', 'test_video_11', 'test_video_12'])"
      ]
     },
     "execution_count": 8,
     "metadata": {},
     "output_type": "execute_result"
    }
   ],
   "source": [
    "import json\n",
    "with open('labels.json', 'r') as file:\n",
    "    labels = json.load(file)\n",
    "labels.keys()"
   ]
  },
  {
   "cell_type": "code",
   "execution_count": 9,
   "metadata": {
    "ExecuteTime": {
     "end_time": "2022-06-15T05:40:52.098452Z",
     "start_time": "2022-06-15T05:40:52.054572Z"
    }
   },
   "outputs": [],
   "source": [
    "def create_label_function(labels:list):\n",
    "    return lambda index_ : True if index_ in labels else False"
   ]
  },
  {
   "cell_type": "code",
   "execution_count": 10,
   "metadata": {
    "ExecuteTime": {
     "end_time": "2022-06-15T05:40:52.144134Z",
     "start_time": "2022-06-15T05:40:52.099450Z"
    }
   },
   "outputs": [
    {
     "data": {
      "text/plain": [
       "True"
      ]
     },
     "execution_count": 10,
     "metadata": {},
     "output_type": "execute_result"
    }
   ],
   "source": [
    "create_label_function(labels['test_video_0'])(3467)"
   ]
  },
  {
   "cell_type": "markdown",
   "metadata": {},
   "source": [
    "## load ocr results"
   ]
  },
  {
   "cell_type": "code",
   "execution_count": 11,
   "metadata": {
    "ExecuteTime": {
     "end_time": "2022-06-15T05:40:57.435542Z",
     "start_time": "2022-06-15T05:40:52.145059Z"
    }
   },
   "outputs": [
    {
     "name": "stdout",
     "output_type": "stream",
     "text": [
      "..\\data\\video_ocr_results\\test_video_0.json\n",
      "..\\data\\video_ocr_results\\test_video_1.json\n",
      "..\\data\\video_ocr_results\\test_video_10.json\n",
      "..\\data\\video_ocr_results\\test_video_11.json\n",
      "..\\data\\video_ocr_results\\test_video_12.json\n",
      "..\\data\\video_ocr_results\\test_video_13.json\n",
      "..\\data\\video_ocr_results\\test_video_14.json\n",
      "..\\data\\video_ocr_results\\test_video_15.json\n",
      "..\\data\\video_ocr_results\\test_video_16.json\n",
      "..\\data\\video_ocr_results\\test_video_17.json\n",
      "..\\data\\video_ocr_results\\test_video_18.json\n",
      "..\\data\\video_ocr_results\\test_video_19.json\n",
      "..\\data\\video_ocr_results\\test_video_2.json\n",
      "..\\data\\video_ocr_results\\test_video_20.json\n",
      "..\\data\\video_ocr_results\\test_video_3.json\n",
      "..\\data\\video_ocr_results\\test_video_4.json\n",
      "..\\data\\video_ocr_results\\test_video_5.json\n",
      "..\\data\\video_ocr_results\\test_video_6.json\n",
      "..\\data\\video_ocr_results\\test_video_7.json\n",
      "..\\data\\video_ocr_results\\test_video_8.json\n",
      "..\\data\\video_ocr_results\\test_video_9.json\n"
     ]
    }
   ],
   "source": [
    "video_ocr_result_paths = list(Path(\"../data/video_ocr_results\").glob(\"*.json\"))\n",
    "\n",
    "ocr_dict = dict()\n",
    "for video_ocr_path in video_ocr_result_paths:\n",
    "    file_name = video_ocr_path.name.split(\".\")[0]\n",
    "    \n",
    "    print(video_ocr_path)\n",
    "    with open(video_ocr_path.absolute(), 'r') as file:\n",
    "        test_ocr_results = json.load(file)\n",
    "        \n",
    "    ocr_dict[file_name] = test_ocr_results "
   ]
  },
  {
   "cell_type": "markdown",
   "metadata": {},
   "source": [
    "## training model"
   ]
  },
  {
   "cell_type": "code",
   "execution_count": 12,
   "metadata": {
    "ExecuteTime": {
     "end_time": "2022-06-15T05:40:57.506038Z",
     "start_time": "2022-06-15T05:40:57.436540Z"
    }
   },
   "outputs": [],
   "source": [
    "train_df = pd.DataFrame()\n",
    "train_df_lst = []\n",
    "for video_name, label_frames in labels.items():\n",
    "    diff_df = diff_df_dict[video_name].iloc[2:,].copy() #remove the first 2 frames\n",
    "    diff_df['video_index'] = diff_df['index']\n",
    "    \n",
    "    label_function = create_label_function(label_frames)\n",
    "    diff_df['new_slide'] = diff_df['index'].apply(label_function)\n",
    "    diff_df['video_name'] = video_name\n",
    "    train_df_lst.append(diff_df)\n",
    "    "
   ]
  },
  {
   "cell_type": "code",
   "execution_count": 13,
   "metadata": {
    "ExecuteTime": {
     "end_time": "2022-06-01T17:32:24.911535Z",
     "start_time": "2022-06-01T17:32:24.859673Z"
    }
   },
   "outputs": [
    {
     "data": {
      "text/plain": [
       "(167, 0.009944619782052045)"
      ]
     },
     "execution_count": 13,
     "metadata": {},
     "output_type": "execute_result"
    }
   ],
   "source": [
    "pd.concat(train_df_lst)['new_slide'].sum(), pd.concat(train_df_lst)['new_slide'].mean()"
   ]
  },
  {
   "cell_type": "code",
   "execution_count": 14,
   "metadata": {
    "ExecuteTime": {
     "end_time": "2022-06-01T17:32:24.966388Z",
     "start_time": "2022-06-01T17:32:24.912533Z"
    }
   },
   "outputs": [
    {
     "data": {
      "text/html": [
       "<div>\n",
       "<style scoped>\n",
       "    .dataframe tbody tr th:only-of-type {\n",
       "        vertical-align: middle;\n",
       "    }\n",
       "\n",
       "    .dataframe tbody tr th {\n",
       "        vertical-align: top;\n",
       "    }\n",
       "\n",
       "    .dataframe thead th {\n",
       "        text-align: right;\n",
       "    }\n",
       "</style>\n",
       "<table border=\"1\" class=\"dataframe\">\n",
       "  <thead>\n",
       "    <tr style=\"text-align: right;\">\n",
       "      <th></th>\n",
       "      <th>dissimilarity</th>\n",
       "      <th>jaccard</th>\n",
       "      <th>jaccard_letter</th>\n",
       "      <th>frame_token_ct</th>\n",
       "      <th>lev_dis</th>\n",
       "      <th>word_dis</th>\n",
       "      <th>letter_dissim</th>\n",
       "      <th>video_index</th>\n",
       "      <th>new_slide</th>\n",
       "      <th>video_name</th>\n",
       "    </tr>\n",
       "  </thead>\n",
       "  <tbody>\n",
       "    <tr>\n",
       "      <th>0</th>\n",
       "      <td>0.000000</td>\n",
       "      <td>0.000000</td>\n",
       "      <td>0.720000</td>\n",
       "      <td>4</td>\n",
       "      <td>0.000000</td>\n",
       "      <td>0.000000</td>\n",
       "      <td>0.000000</td>\n",
       "      <td>3</td>\n",
       "      <td>False</td>\n",
       "      <td>test_video_0</td>\n",
       "    </tr>\n",
       "    <tr>\n",
       "      <th>1</th>\n",
       "      <td>0.000000</td>\n",
       "      <td>0.000000</td>\n",
       "      <td>0.720000</td>\n",
       "      <td>4</td>\n",
       "      <td>0.000000</td>\n",
       "      <td>0.000000</td>\n",
       "      <td>0.000000</td>\n",
       "      <td>4</td>\n",
       "      <td>False</td>\n",
       "      <td>test_video_0</td>\n",
       "    </tr>\n",
       "    <tr>\n",
       "      <th>2</th>\n",
       "      <td>0.954545</td>\n",
       "      <td>0.954545</td>\n",
       "      <td>0.855670</td>\n",
       "      <td>4</td>\n",
       "      <td>0.797468</td>\n",
       "      <td>0.789474</td>\n",
       "      <td>0.594937</td>\n",
       "      <td>5</td>\n",
       "      <td>True</td>\n",
       "      <td>test_video_0</td>\n",
       "    </tr>\n",
       "    <tr>\n",
       "      <th>3</th>\n",
       "      <td>0.272727</td>\n",
       "      <td>0.272727</td>\n",
       "      <td>0.890459</td>\n",
       "      <td>19</td>\n",
       "      <td>0.102564</td>\n",
       "      <td>0.000000</td>\n",
       "      <td>0.012658</td>\n",
       "      <td>6</td>\n",
       "      <td>False</td>\n",
       "      <td>test_video_0</td>\n",
       "    </tr>\n",
       "    <tr>\n",
       "      <th>4</th>\n",
       "      <td>0.304348</td>\n",
       "      <td>0.304348</td>\n",
       "      <td>0.892361</td>\n",
       "      <td>19</td>\n",
       "      <td>0.110429</td>\n",
       "      <td>0.050000</td>\n",
       "      <td>0.042945</td>\n",
       "      <td>7</td>\n",
       "      <td>False</td>\n",
       "      <td>test_video_0</td>\n",
       "    </tr>\n",
       "  </tbody>\n",
       "</table>\n",
       "</div>"
      ],
      "text/plain": [
       "   dissimilarity   jaccard  jaccard_letter  frame_token_ct   lev_dis  \\\n",
       "0       0.000000  0.000000        0.720000               4  0.000000   \n",
       "1       0.000000  0.000000        0.720000               4  0.000000   \n",
       "2       0.954545  0.954545        0.855670               4  0.797468   \n",
       "3       0.272727  0.272727        0.890459              19  0.102564   \n",
       "4       0.304348  0.304348        0.892361              19  0.110429   \n",
       "\n",
       "   word_dis  letter_dissim  video_index  new_slide    video_name  \n",
       "0  0.000000       0.000000            3      False  test_video_0  \n",
       "1  0.000000       0.000000            4      False  test_video_0  \n",
       "2  0.789474       0.594937            5       True  test_video_0  \n",
       "3  0.000000       0.012658            6      False  test_video_0  \n",
       "4  0.050000       0.042945            7      False  test_video_0  "
      ]
     },
     "execution_count": 14,
     "metadata": {},
     "output_type": "execute_result"
    }
   ],
   "source": [
    "train_df = pd.concat(train_df_lst, ignore_index=True)\n",
    "# not use nlp's dissimilarity\n",
    "train_df['dissimilarity'] = train_df['jaccard']\n",
    "#train_df = train_df.drop(['lev_dis', 'index'], axis=1)\n",
    "\n",
    "train_df = train_df.drop([ 'index', 'min'], axis=1)\n",
    "train_df.head()"
   ]
  },
  {
   "cell_type": "code",
   "execution_count": 15,
   "metadata": {
    "ExecuteTime": {
     "end_time": "2022-06-01T17:32:25.006880Z",
     "start_time": "2022-06-01T17:32:24.967385Z"
    }
   },
   "outputs": [
    {
     "data": {
      "text/plain": [
       "Index(['dissimilarity', 'jaccard', 'jaccard_letter', 'frame_token_ct',\n",
       "       'lev_dis', 'word_dis', 'letter_dissim', 'video_index', 'new_slide',\n",
       "       'video_name'],\n",
       "      dtype='object')"
      ]
     },
     "execution_count": 15,
     "metadata": {},
     "output_type": "execute_result"
    }
   ],
   "source": [
    "train_df.columns"
   ]
  },
  {
   "cell_type": "code",
   "execution_count": 16,
   "metadata": {
    "ExecuteTime": {
     "end_time": "2022-06-01T17:32:25.051733Z",
     "start_time": "2022-06-01T17:32:25.007851Z"
    }
   },
   "outputs": [],
   "source": [
    "feature_names = ['jaccard', 'jaccard_letter', 'frame_token_ct',\n",
    "       'word_dis', 'letter_dissim']\n",
    "#'dissimilarity', "
   ]
  },
  {
   "cell_type": "code",
   "execution_count": 17,
   "metadata": {
    "ExecuteTime": {
     "end_time": "2022-06-01T17:32:25.095620Z",
     "start_time": "2022-06-01T17:32:25.052730Z"
    }
   },
   "outputs": [
    {
     "data": {
      "text/plain": [
       "0         test_video_0\n",
       "1         test_video_0\n",
       "2         test_video_0\n",
       "3         test_video_0\n",
       "4         test_video_0\n",
       "             ...      \n",
       "16788    test_video_12\n",
       "16789    test_video_12\n",
       "16790    test_video_12\n",
       "16791    test_video_12\n",
       "16792    test_video_12\n",
       "Name: video_name, Length: 16793, dtype: object"
      ]
     },
     "execution_count": 17,
     "metadata": {},
     "output_type": "execute_result"
    }
   ],
   "source": [
    "train_df['video_name']"
   ]
  },
  {
   "cell_type": "code",
   "execution_count": 18,
   "metadata": {
    "ExecuteTime": {
     "end_time": "2022-06-01T17:32:25.150507Z",
     "start_time": "2022-06-01T17:32:25.096616Z"
    }
   },
   "outputs": [],
   "source": [
    "X = train_df.query(\"video_name!='test_video_12'\")[feature_names].fillna(0)\n",
    "y = train_df.query(\"video_name!='test_video_12'\")['new_slide']"
   ]
  },
  {
   "cell_type": "code",
   "execution_count": 19,
   "metadata": {
    "ExecuteTime": {
     "end_time": "2022-06-01T17:32:25.202349Z",
     "start_time": "2022-06-01T17:32:25.151504Z"
    }
   },
   "outputs": [],
   "source": [
    "x_test = train_df.query(\"video_name=='test_video_12'\")[feature_names].fillna(0)\n",
    "y_test = train_df.query(\"video_name=='test_video_12'\")['new_slide']"
   ]
  },
  {
   "cell_type": "code",
   "execution_count": 20,
   "metadata": {
    "ExecuteTime": {
     "end_time": "2022-06-01T17:32:26.108645Z",
     "start_time": "2022-06-01T17:32:25.203858Z"
    }
   },
   "outputs": [],
   "source": [
    "from sklearn.datasets import load_iris\n",
    "from sklearn import tree\n",
    "seed =12345\n",
    "clf = tree.DecisionTreeClassifier(max_depth=3, random_state=seed)\n",
    "clf = clf.fit(X, y)\n",
    "\n",
    "dummy_clf = tree.DecisionTreeClassifier(max_depth=2, random_state=seed)\n",
    "dummy_clf  = dummy_clf.fit(X, y)\n"
   ]
  },
  {
   "cell_type": "code",
   "execution_count": 21,
   "metadata": {
    "ExecuteTime": {
     "end_time": "2022-06-01T17:32:26.178464Z",
     "start_time": "2022-06-01T17:32:26.109642Z"
    }
   },
   "outputs": [],
   "source": [
    "y_pred = clf.predict(X)\n",
    "dummy_y_pred = dummy_clf.predict(X)\n",
    "my_dummy_y_pred = X['jaccard']   >= 0.1\n",
    "y_true = y\n",
    "\n",
    "\n",
    "# keep probabilities for the positive outcome only\n",
    "from sklearn.metrics import precision_recall_curve\n",
    "lr_probs = clf.predict_proba(X)\n",
    "lr_probs = lr_probs[:, 1]\n",
    "# predict class values\n",
    "y_pred = clf.predict(X)\n",
    "# calculate precision and recall for each threshold\n",
    "lr_precision, lr_recall, _ = precision_recall_curve(y_true, lr_probs)"
   ]
  },
  {
   "cell_type": "markdown",
   "metadata": {},
   "source": [
    "## model export"
   ]
  },
  {
   "cell_type": "code",
   "execution_count": 22,
   "metadata": {
    "ExecuteTime": {
     "end_time": "2022-06-01T17:32:26.242348Z",
     "start_time": "2022-06-01T17:32:26.179462Z"
    }
   },
   "outputs": [
    {
     "data": {
      "text/plain": [
       "['../models/ocr_tree.joblib']"
      ]
     },
     "execution_count": 22,
     "metadata": {},
     "output_type": "execute_result"
    }
   ],
   "source": [
    "from joblib import dump, load\n",
    "dump(clf, '../models/ocr_tree.joblib') "
   ]
  },
  {
   "cell_type": "code",
   "execution_count": 23,
   "metadata": {
    "ExecuteTime": {
     "end_time": "2022-06-01T17:32:26.324508Z",
     "start_time": "2022-06-01T17:32:26.245316Z"
    }
   },
   "outputs": [],
   "source": [
    "MODEL_PATH = '../models/ocr_tree.joblib'\n",
    "clf = load(MODEL_PATH) "
   ]
  },
  {
   "cell_type": "code",
   "execution_count": 24,
   "metadata": {
    "ExecuteTime": {
     "end_time": "2022-06-01T17:32:26.545894Z",
     "start_time": "2022-06-01T17:32:26.458158Z"
    }
   },
   "outputs": [
    {
     "ename": "NameError",
     "evalue": "name 'graphviz' is not defined",
     "output_type": "error",
     "traceback": [
      "\u001b[1;31m---------------------------------------------------------------------------\u001b[0m",
      "\u001b[1;31mNameError\u001b[0m                                 Traceback (most recent call last)",
      "Input \u001b[1;32mIn [24]\u001b[0m, in \u001b[0;36m<cell line: 6>\u001b[1;34m()\u001b[0m\n\u001b[0;32m      1\u001b[0m dot_data \u001b[38;5;241m=\u001b[39m tree\u001b[38;5;241m.\u001b[39mexport_graphviz(dummy_clf, out_file\u001b[38;5;241m=\u001b[39m\u001b[38;5;28;01mNone\u001b[39;00m, \n\u001b[0;32m      2\u001b[0m                       feature_names\u001b[38;5;241m=\u001b[39mfeature_names,  \n\u001b[0;32m      3\u001b[0m                       class_names\u001b[38;5;241m=\u001b[39m[\u001b[38;5;124m'\u001b[39m\u001b[38;5;124mnew_slide\u001b[39m\u001b[38;5;124m'\u001b[39m, \u001b[38;5;124m'\u001b[39m\u001b[38;5;124mold_slide\u001b[39m\u001b[38;5;124m'\u001b[39m],  \n\u001b[0;32m      4\u001b[0m                      filled\u001b[38;5;241m=\u001b[39m\u001b[38;5;28;01mTrue\u001b[39;00m, rounded\u001b[38;5;241m=\u001b[39m\u001b[38;5;28;01mTrue\u001b[39;00m,  \n\u001b[0;32m      5\u001b[0m                      special_characters\u001b[38;5;241m=\u001b[39m\u001b[38;5;28;01mTrue\u001b[39;00m)  \n\u001b[1;32m----> 6\u001b[0m graph \u001b[38;5;241m=\u001b[39m \u001b[43mgraphviz\u001b[49m\u001b[38;5;241m.\u001b[39mSource(dot_data)  \n\u001b[0;32m      7\u001b[0m graph\n",
      "\u001b[1;31mNameError\u001b[0m: name 'graphviz' is not defined"
     ]
    }
   ],
   "source": [
    "dot_data = tree.export_graphviz(dummy_clf, out_file=None, \n",
    "                      feature_names=feature_names,  \n",
    "                      class_names=['new_slide', 'old_slide'],  \n",
    "                     filled=True, rounded=True,  \n",
    "                     special_characters=True)  \n",
    "graph = graphviz.Source(dot_data)  \n",
    "graph "
   ]
  },
  {
   "cell_type": "code",
   "execution_count": null,
   "metadata": {
    "ExecuteTime": {
     "end_time": "2022-06-01T17:32:26.738427Z",
     "start_time": "2022-06-01T17:32:26.546891Z"
    }
   },
   "outputs": [],
   "source": [
    "dot_data = tree.export_graphviz(clf, out_file=None, \n",
    "                      feature_names=feature_names,  \n",
    "                      class_names=['old_slide', 'new_slide'],  \n",
    "                     filled=True, rounded=True,  \n",
    "                     special_characters=True)  \n",
    "graph = graphviz.Source(dot_data)  \n",
    "graph "
   ]
  },
  {
   "cell_type": "code",
   "execution_count": null,
   "metadata": {
    "ExecuteTime": {
     "end_time": "2022-06-01T17:32:26.980257Z",
     "start_time": "2022-06-01T17:32:26.739447Z"
    }
   },
   "outputs": [],
   "source": [
    "import pydot\n",
    "\n",
    "(graph,) = pydot.graph_from_dot_data(dot_data)\n",
    "graph.write_png('somefile.png')"
   ]
  },
  {
   "cell_type": "code",
   "execution_count": null,
   "metadata": {
    "ExecuteTime": {
     "end_time": "2022-06-01T17:32:27.046611Z",
     "start_time": "2022-06-01T17:32:26.981230Z"
    }
   },
   "outputs": [],
   "source": [
    "from sklearn.metrics import classification_report\n",
    "from sklearn.metrics import confusion_matrix\n",
    "print(classification_report(y_true, y_pred))"
   ]
  },
  {
   "cell_type": "code",
   "execution_count": null,
   "metadata": {
    "ExecuteTime": {
     "end_time": "2022-06-01T17:32:27.111432Z",
     "start_time": "2022-06-01T17:32:27.047577Z"
    }
   },
   "outputs": [],
   "source": [
    "confusion_matrix(y_true, y_pred)"
   ]
  },
  {
   "cell_type": "code",
   "execution_count": null,
   "metadata": {
    "ExecuteTime": {
     "end_time": "2022-06-01T17:32:27.177256Z",
     "start_time": "2022-06-01T17:32:27.112431Z"
    }
   },
   "outputs": [],
   "source": [
    "##### \n",
    "confusion_matrix(y_true, dummy_y_pred) #missed 25, 43 "
   ]
  },
  {
   "cell_type": "code",
   "execution_count": null,
   "metadata": {
    "ExecuteTime": {
     "end_time": "2022-06-01T17:32:27.240595Z",
     "start_time": "2022-06-01T17:32:27.178253Z"
    }
   },
   "outputs": [],
   "source": [
    "cm = confusion_matrix(y_true, my_dummy_y_pred)\n",
    "cm"
   ]
  },
  {
   "cell_type": "code",
   "execution_count": null,
   "metadata": {
    "ExecuteTime": {
     "end_time": "2022-06-01T17:32:27.310412Z",
     "start_time": "2022-06-01T17:32:27.241592Z"
    }
   },
   "outputs": [],
   "source": [
    "# testing on video12\n",
    "y_test_pred = clf.predict(x_test)\n",
    "cm = confusion_matrix(y_test, y_test_pred)\n",
    "cm"
   ]
  }
 ],
 "metadata": {
  "kernelspec": {
   "display_name": "Python 3 (ipykernel)",
   "language": "python",
   "name": "python3"
  },
  "language_info": {
   "codemirror_mode": {
    "name": "ipython",
    "version": 3
   },
   "file_extension": ".py",
   "mimetype": "text/x-python",
   "name": "python",
   "nbconvert_exporter": "python",
   "pygments_lexer": "ipython3",
   "version": "3.9.12"
  },
  "toc": {
   "base_numbering": 1,
   "nav_menu": {},
   "number_sections": true,
   "sideBar": true,
   "skip_h1_title": false,
   "title_cell": "Table of Contents",
   "title_sidebar": "Contents",
   "toc_cell": false,
   "toc_position": {
    "height": "calc(100% - 180px)",
    "left": "10px",
    "top": "150px",
    "width": "235.475px"
   },
   "toc_section_display": true,
   "toc_window_display": true
  }
 },
 "nbformat": 4,
 "nbformat_minor": 2
}
