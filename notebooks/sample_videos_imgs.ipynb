{
 "cells": [
  {
   "cell_type": "code",
   "execution_count": 1,
   "metadata": {
    "ExecuteTime": {
     "end_time": "2022-06-03T17:32:26.428816Z",
     "start_time": "2022-06-03T17:32:26.423829Z"
    }
   },
   "outputs": [],
   "source": [
    "from pathlib import Path\n",
    "import os"
   ]
  },
  {
   "cell_type": "code",
   "execution_count": 6,
   "metadata": {
    "ExecuteTime": {
     "end_time": "2022-06-03T17:32:42.243095Z",
     "start_time": "2022-06-03T17:32:42.239106Z"
    }
   },
   "outputs": [],
   "source": [
    "video_files = list(Path(\"data/test_videos\").glob(\"*.mp4\"))"
   ]
  },
  {
   "cell_type": "code",
   "execution_count": 10,
   "metadata": {
    "ExecuteTime": {
     "end_time": "2022-06-03T17:33:12.796837Z",
     "start_time": "2022-06-03T17:33:12.792819Z"
    }
   },
   "outputs": [
    {
     "data": {
      "text/plain": [
       "[]"
      ]
     },
     "execution_count": 10,
     "metadata": {},
     "output_type": "execute_result"
    }
   ],
   "source": [
    "video_files"
   ]
  },
  {
   "cell_type": "markdown",
   "metadata": {},
   "source": [
    "## sample files"
   ]
  },
  {
   "cell_type": "code",
   "execution_count": 11,
   "metadata": {
    "ExecuteTime": {
     "end_time": "2022-06-03T17:33:14.667181Z",
     "start_time": "2022-06-03T17:33:14.472697Z"
    }
   },
   "outputs": [],
   "source": [
    "import cv2"
   ]
  },
  {
   "cell_type": "code",
   "execution_count": 12,
   "metadata": {
    "ExecuteTime": {
     "end_time": "2022-06-03T17:33:15.111186Z",
     "start_time": "2022-06-03T17:33:15.105200Z"
    }
   },
   "outputs": [],
   "source": [
    "def sample_video(video_file: Path, output_data_dir: str, seconds_per_frame: int=1, fps: int=24,\n",
    "                ):\n",
    "    \"\"\"sample videos into frames.\"\"\"\n",
    "    # check if exist \n",
    "    cap= cv2.VideoCapture(str(video_file))\n",
    "    i=0\n",
    "    while(cap.isOpened()):\n",
    "        ret, frame = cap.read()\n",
    "        if ret == False:\n",
    "            break\n",
    "        if i % (fps*seconds_per_frame) == 0: # this is the line I added to make it only save one frame every 20\n",
    "            time = int(i/fps)\n",
    "            cv2.imwrite(os.path.join(output_data_dir, str(time)+'.jpg'),frame)\n",
    "        i+=1\n",
    "\n",
    "    cap.release()\n",
    "    cv2.destroyAllWindows()\n",
    "    return 0"
   ]
  },
  {
   "cell_type": "code",
   "execution_count": 44,
   "metadata": {
    "ExecuteTime": {
     "end_time": "2022-05-24T06:31:21.594990Z",
     "start_time": "2022-05-24T05:18:07.932915Z"
    }
   },
   "outputs": [
    {
     "name": "stdout",
     "output_type": "stream",
     "text": [
      "processing test_videos\\test_video_0.mp4\n",
      "running sample video\n",
      "processing test_videos\\test_video_1.mp4\n",
      "running sample video\n",
      "processing test_videos\\test_video_10.mp4\n",
      "running sample video\n",
      "processing test_videos\\test_video_11.mp4\n",
      "running sample video\n",
      "processing test_videos\\test_video_12.mp4\n",
      "running sample video\n",
      "processing test_videos\\test_video_13.mp4\n",
      "running sample video\n",
      "processing test_videos\\test_video_14.mp4\n",
      "running sample video\n",
      "processing test_videos\\test_video_15.mp4\n",
      "running sample video\n",
      "processing test_videos\\test_video_16.mp4\n",
      "running sample video\n",
      "processing test_videos\\test_video_17.mp4\n",
      "running sample video\n",
      "processing test_videos\\test_video_18.mp4\n",
      "running sample video\n",
      "processing test_videos\\test_video_19.mp4\n",
      "running sample video\n",
      "processing test_videos\\test_video_2.mp4\n",
      "running sample video\n",
      "processing test_videos\\test_video_20.mp4\n",
      "running sample video\n",
      "processing test_videos\\test_video_3.mp4\n",
      "running sample video\n",
      "processing test_videos\\test_video_4.mp4\n",
      "running sample video\n",
      "processing test_videos\\test_video_5.mp4\n",
      "running sample video\n",
      "processing test_videos\\test_video_6.mp4\n",
      "running sample video\n",
      "processing test_videos\\test_video_7.mp4\n",
      "running sample video\n",
      "processing test_videos\\test_video_8.mp4\n",
      "running sample video\n",
      "processing test_videos\\test_video_9.mp4\n",
      "running sample video\n"
     ]
    }
   ],
   "source": [
    "for test_video in video_files:\n",
    "    print(f\"processing {test_video}\")\n",
    "    output_dir = os.path.join(\"video_frame_samples\", test_video.name.split(\".\")[0])\n",
    "    if not os.path.exists(output_dir):\n",
    "        os.makedirs(output_dir)\n",
    "    print(f\"running sample video\")\n",
    "    sample_video(test_video, output_dir, seconds_per_frame=1, fps=24)"
   ]
  }
 ],
 "metadata": {
  "kernelspec": {
   "display_name": "Python 3",
   "language": "python",
   "name": "python3"
  },
  "language_info": {
   "codemirror_mode": {
    "name": "ipython",
    "version": 3
   },
   "file_extension": ".py",
   "mimetype": "text/x-python",
   "name": "python",
   "nbconvert_exporter": "python",
   "pygments_lexer": "ipython3",
   "version": "3.7.4"
  },
  "toc": {
   "base_numbering": 1,
   "nav_menu": {},
   "number_sections": true,
   "sideBar": true,
   "skip_h1_title": false,
   "title_cell": "Table of Contents",
   "title_sidebar": "Contents",
   "toc_cell": false,
   "toc_position": {},
   "toc_section_display": true,
   "toc_window_display": false
  }
 },
 "nbformat": 4,
 "nbformat_minor": 2
}
