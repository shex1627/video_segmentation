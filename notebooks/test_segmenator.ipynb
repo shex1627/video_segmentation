{
 "cells": [
  {
   "cell_type": "code",
   "execution_count": 1,
   "metadata": {
    "ExecuteTime": {
     "end_time": "2022-06-12T05:16:10.757384Z",
     "start_time": "2022-06-12T05:16:10.718490Z"
    }
   },
   "outputs": [],
   "source": [
    "%load_ext autoreload\n",
    "%autoreload 2"
   ]
  },
  {
   "cell_type": "code",
   "execution_count": 2,
   "metadata": {
    "ExecuteTime": {
     "end_time": "2022-06-12T05:16:11.519658Z",
     "start_time": "2022-06-12T05:16:10.758381Z"
    }
   },
   "outputs": [],
   "source": [
    "from pathlib import Path\n",
    "import numpy as np\n",
    "import pandas as pd\n",
    "import cv2"
   ]
  },
  {
   "cell_type": "code",
   "execution_count": 3,
   "metadata": {
    "ExecuteTime": {
     "end_time": "2022-06-12T05:16:13.981199Z",
     "start_time": "2022-06-12T05:16:11.520654Z"
    }
   },
   "outputs": [
    {
     "name": "stderr",
     "output_type": "stream",
     "text": [
      "C:\\Users\\alistar\\Anaconda3\\lib\\site-packages\\sklearn\\linear_model\\least_angle.py:30: DeprecationWarning: `np.float` is a deprecated alias for the builtin `float`. To silence this warning, use `float` by itself. Doing this will not modify any behavior and is safe. If you specifically wanted the numpy scalar type, use `np.float64` here.\n",
      "Deprecated in NumPy 1.20; for more details and guidance: https://numpy.org/devdocs/release/1.20.0-notes.html#deprecations\n",
      "  method='lar', copy_X=True, eps=np.finfo(np.float).eps,\n",
      "C:\\Users\\alistar\\Anaconda3\\lib\\site-packages\\sklearn\\linear_model\\least_angle.py:167: DeprecationWarning: `np.float` is a deprecated alias for the builtin `float`. To silence this warning, use `float` by itself. Doing this will not modify any behavior and is safe. If you specifically wanted the numpy scalar type, use `np.float64` here.\n",
      "Deprecated in NumPy 1.20; for more details and guidance: https://numpy.org/devdocs/release/1.20.0-notes.html#deprecations\n",
      "  method='lar', copy_X=True, eps=np.finfo(np.float).eps,\n",
      "C:\\Users\\alistar\\Anaconda3\\lib\\site-packages\\sklearn\\linear_model\\least_angle.py:284: DeprecationWarning: `np.float` is a deprecated alias for the builtin `float`. To silence this warning, use `float` by itself. Doing this will not modify any behavior and is safe. If you specifically wanted the numpy scalar type, use `np.float64` here.\n",
      "Deprecated in NumPy 1.20; for more details and guidance: https://numpy.org/devdocs/release/1.20.0-notes.html#deprecations\n",
      "  eps=np.finfo(np.float).eps, copy_Gram=True, verbose=0,\n",
      "C:\\Users\\alistar\\Anaconda3\\lib\\site-packages\\sklearn\\linear_model\\least_angle.py:862: DeprecationWarning: `np.float` is a deprecated alias for the builtin `float`. To silence this warning, use `float` by itself. Doing this will not modify any behavior and is safe. If you specifically wanted the numpy scalar type, use `np.float64` here.\n",
      "Deprecated in NumPy 1.20; for more details and guidance: https://numpy.org/devdocs/release/1.20.0-notes.html#deprecations\n",
      "  eps=np.finfo(np.float).eps, copy_X=True, fit_path=True,\n",
      "C:\\Users\\alistar\\Anaconda3\\lib\\site-packages\\sklearn\\linear_model\\least_angle.py:1101: DeprecationWarning: `np.float` is a deprecated alias for the builtin `float`. To silence this warning, use `float` by itself. Doing this will not modify any behavior and is safe. If you specifically wanted the numpy scalar type, use `np.float64` here.\n",
      "Deprecated in NumPy 1.20; for more details and guidance: https://numpy.org/devdocs/release/1.20.0-notes.html#deprecations\n",
      "  eps=np.finfo(np.float).eps, copy_X=True, fit_path=True,\n",
      "C:\\Users\\alistar\\Anaconda3\\lib\\site-packages\\sklearn\\linear_model\\least_angle.py:1127: DeprecationWarning: `np.float` is a deprecated alias for the builtin `float`. To silence this warning, use `float` by itself. Doing this will not modify any behavior and is safe. If you specifically wanted the numpy scalar type, use `np.float64` here.\n",
      "Deprecated in NumPy 1.20; for more details and guidance: https://numpy.org/devdocs/release/1.20.0-notes.html#deprecations\n",
      "  eps=np.finfo(np.float).eps, positive=False):\n",
      "C:\\Users\\alistar\\Anaconda3\\lib\\site-packages\\sklearn\\linear_model\\least_angle.py:1362: DeprecationWarning: `np.float` is a deprecated alias for the builtin `float`. To silence this warning, use `float` by itself. Doing this will not modify any behavior and is safe. If you specifically wanted the numpy scalar type, use `np.float64` here.\n",
      "Deprecated in NumPy 1.20; for more details and guidance: https://numpy.org/devdocs/release/1.20.0-notes.html#deprecations\n",
      "  max_n_alphas=1000, n_jobs=None, eps=np.finfo(np.float).eps,\n",
      "C:\\Users\\alistar\\Anaconda3\\lib\\site-packages\\sklearn\\linear_model\\least_angle.py:1602: DeprecationWarning: `np.float` is a deprecated alias for the builtin `float`. To silence this warning, use `float` by itself. Doing this will not modify any behavior and is safe. If you specifically wanted the numpy scalar type, use `np.float64` here.\n",
      "Deprecated in NumPy 1.20; for more details and guidance: https://numpy.org/devdocs/release/1.20.0-notes.html#deprecations\n",
      "  max_n_alphas=1000, n_jobs=None, eps=np.finfo(np.float).eps,\n",
      "C:\\Users\\alistar\\Anaconda3\\lib\\site-packages\\sklearn\\linear_model\\least_angle.py:1738: DeprecationWarning: `np.float` is a deprecated alias for the builtin `float`. To silence this warning, use `float` by itself. Doing this will not modify any behavior and is safe. If you specifically wanted the numpy scalar type, use `np.float64` here.\n",
      "Deprecated in NumPy 1.20; for more details and guidance: https://numpy.org/devdocs/release/1.20.0-notes.html#deprecations\n",
      "  eps=np.finfo(np.float).eps, copy_X=True, positive=False):\n",
      "C:\\Users\\alistar\\Anaconda3\\lib\\site-packages\\sklearn\\decomposition\\online_lda.py:29: DeprecationWarning: `np.float` is a deprecated alias for the builtin `float`. To silence this warning, use `float` by itself. Doing this will not modify any behavior and is safe. If you specifically wanted the numpy scalar type, use `np.float64` here.\n",
      "Deprecated in NumPy 1.20; for more details and guidance: https://numpy.org/devdocs/release/1.20.0-notes.html#deprecations\n",
      "  EPS = np.finfo(np.float).eps\n"
     ]
    }
   ],
   "source": [
    "from slide_segmentation.ocr.blockSkipSegmentator import BlockSkipSegmentator"
   ]
  },
  {
   "cell_type": "code",
   "execution_count": 4,
   "metadata": {
    "ExecuteTime": {
     "end_time": "2022-06-12T05:16:14.090746Z",
     "start_time": "2022-06-12T05:16:13.983193Z"
    }
   },
   "outputs": [],
   "source": [
    "img_files = list(Path(\"C:\\\\Users\\\\alistar\\\\Desktop\\\\ds\\\\video_segmentation\\\\data\\\\tmp\\\\acm_traffic_light\").glob(\"*.jpg\"))\n",
    "chuck_size = 10"
   ]
  },
  {
   "cell_type": "code",
   "execution_count": 5,
   "metadata": {
    "ExecuteTime": {
     "end_time": "2022-06-12T05:16:14.183177Z",
     "start_time": "2022-06-12T05:16:14.091743Z"
    }
   },
   "outputs": [],
   "source": [
    "img_files = sorted(img_files, key=lambda file: int(file.name.split(\".\")[0])) #skip the first img"
   ]
  },
  {
   "cell_type": "code",
   "execution_count": 6,
   "metadata": {
    "ExecuteTime": {
     "end_time": "2022-06-12T05:16:14.275218Z",
     "start_time": "2022-06-12T05:16:14.185055Z"
    }
   },
   "outputs": [],
   "source": [
    "img_files_blocks = np.array_split(img_files, len(img_files)//chuck_size)"
   ]
  },
  {
   "cell_type": "code",
   "execution_count": 7,
   "metadata": {
    "ExecuteTime": {
     "end_time": "2022-06-12T05:16:27.016066Z",
     "start_time": "2022-06-12T05:16:14.277214Z"
    }
   },
   "outputs": [],
   "source": [
    "#video_name = img_file_dir.split(\"\\\\\")[-1]\n",
    "img_file_dict = {int(file.name.split(\".\")[0]): cv2.imread(str(file), cv2.IMREAD_GRAYSCALE) \n",
    "                 for file in img_files}"
   ]
  },
  {
   "cell_type": "code",
   "execution_count": 8,
   "metadata": {
    "ExecuteTime": {
     "end_time": "2022-06-12T05:16:30.029222Z",
     "start_time": "2022-06-12T05:16:27.017034Z"
    }
   },
   "outputs": [
    {
     "name": "stderr",
     "output_type": "stream",
     "text": [
      "C:\\Users\\alistar\\Anaconda3\\lib\\site-packages\\skimage\\morphology\\_skeletonize.py:241: DeprecationWarning: `np.bool` is a deprecated alias for the builtin `bool`. To silence this warning, use `bool` by itself. Doing this will not modify any behavior and is safe. If you specifically wanted the numpy scalar type, use `np.bool_` here.\n",
      "Deprecated in NumPy 1.20; for more details and guidance: https://numpy.org/devdocs/release/1.20.0-notes.html#deprecations\n",
      "  0, 1, 1, 0, 0, 1, 0, 0, 0], dtype=np.bool)\n",
      "C:\\Users\\alistar\\Anaconda3\\lib\\site-packages\\skimage\\morphology\\_skeletonize.py:256: DeprecationWarning: `np.bool` is a deprecated alias for the builtin `bool`. To silence this warning, use `bool` by itself. Doing this will not modify any behavior and is safe. If you specifically wanted the numpy scalar type, use `np.bool_` here.\n",
      "Deprecated in NumPy 1.20; for more details and guidance: https://numpy.org/devdocs/release/1.20.0-notes.html#deprecations\n",
      "  0, 0, 0, 0, 0, 0, 0, 0, 0], dtype=np.bool)\n"
     ]
    },
    {
     "name": "stdout",
     "output_type": "stream",
     "text": [
      "Namespace(cls_batch_num=6, cls_image_shape='3, 48, 192', cls_model_dir='C:\\\\Users\\\\alistar/.paddleocr/cls', cls_thresh=0.9, det=True, det_algorithm='DB', det_db_box_thresh=0.5, det_db_score_mode='fast', det_db_thresh=0.3, det_db_unclip_ratio=1.6, det_east_cover_thresh=0.1, det_east_nms_thresh=0.2, det_east_score_thresh=0.8, det_limit_side_len=960, det_limit_type='max', det_model_dir='C:/Users/alistar/Desktop/ds/PaddleOCR-release-2.1/ch_ppocr_server_v2.0_det_infer/', drop_score=0.5, enable_mkldnn=False, gpu_mem=8000, image_dir='', ir_optim=True, label_list=['0', '180'], lang='ch', max_text_length=25, rec=True, rec_algorithm='CRNN', rec_batch_num=6, rec_char_dict_path='C:/Users/alistar/Desktop/ds/PaddleOCR-release-2.1/ppocr/utils/en_dict.txt', rec_char_type='ch', rec_image_shape='3, 32, 320', rec_model_dir='C:/Users/alistar/Desktop/ds/PaddleOCR-release-2.1/models/en_number_mobile_v2.0_rec_infer/', use_angle_cls=False, use_dilation=False, use_gpu=True, use_pdserving=False, use_space_char=True, use_tensorrt=False, use_zero_copy_run=False)\n"
     ]
    }
   ],
   "source": [
    "from slide_segmentation.ocr.config import *\n",
    "ocr = init_ocr()"
   ]
  },
  {
   "cell_type": "code",
   "execution_count": 9,
   "metadata": {
    "ExecuteTime": {
     "end_time": "2022-06-12T05:16:30.150843Z",
     "start_time": "2022-06-12T05:16:30.030220Z"
    }
   },
   "outputs": [],
   "source": [
    "segmentator = BlockSkipSegmentator(chunk_size=10, img_file_dict=img_file_dict, ocr_model=ocr, clf_model=new_slide_clf)"
   ]
  },
  {
   "cell_type": "code",
   "execution_count": 10,
   "metadata": {
    "ExecuteTime": {
     "end_time": "2022-06-12T05:16:30.298704Z",
     "start_time": "2022-06-12T05:16:30.152839Z"
    }
   },
   "outputs": [
    {
     "data": {
      "text/plain": [
       "[array([ 0,  1,  2,  3,  4,  5,  6,  7,  8,  9, 10]),\n",
       " array([11, 12, 13, 14, 15, 16, 17, 18, 19, 20, 21]),\n",
       " array([22, 23, 24, 25, 26, 27, 28, 29, 30, 31, 32]),\n",
       " array([33, 34, 35, 36, 37, 38, 39, 40, 41, 42, 43]),\n",
       " array([44, 45, 46, 47, 48, 49, 50, 51, 52, 53]),\n",
       " array([54, 55, 56, 57, 58, 59, 60, 61, 62, 63]),\n",
       " array([64, 65, 66, 67, 68, 69, 70, 71, 72, 73]),\n",
       " array([74, 75, 76, 77, 78, 79, 80, 81, 82, 83]),\n",
       " array([84, 85, 86, 87, 88, 89, 90, 91, 92, 93]),\n",
       " array([ 94,  95,  96,  97,  98,  99, 100, 101, 102, 103]),\n",
       " array([104, 105, 106, 107, 108, 109, 110, 111, 112, 113]),\n",
       " array([114, 115, 116, 117, 118, 119, 120, 121, 122, 123]),\n",
       " array([124, 125, 126, 127, 128, 129, 130, 131, 132, 133]),\n",
       " array([134, 135, 136, 137, 138, 139, 140, 141, 142, 143]),\n",
       " array([144, 145, 146, 147, 148, 149, 150, 151, 152, 153]),\n",
       " array([154, 155, 156, 157, 158, 159, 160, 161, 162, 163]),\n",
       " array([164, 165, 166, 167, 168, 169, 170, 171, 172, 173]),\n",
       " array([174, 175, 176, 177, 178, 179, 180, 181, 182, 183]),\n",
       " array([184, 185, 186, 187, 188, 189, 190, 191, 192, 193]),\n",
       " array([194, 195, 196, 197, 198, 199, 200, 201, 202, 203]),\n",
       " array([204, 205, 206, 207, 208, 209, 210, 211, 212, 213]),\n",
       " array([214, 215, 216, 217, 218, 219, 220, 221, 222, 223]),\n",
       " array([224, 225, 226, 227, 228, 229, 230, 231, 232, 233]),\n",
       " array([234, 235, 236, 237, 238, 239, 240, 241, 242, 243]),\n",
       " array([244, 245, 246, 247, 248, 249, 250, 251, 252, 253]),\n",
       " array([254, 255, 256, 257, 258, 259, 260, 261, 262, 263]),\n",
       " array([264, 265, 266, 267, 268, 269, 270, 271, 272, 273]),\n",
       " array([274, 275, 276, 277, 278, 279, 280, 281, 282, 283]),\n",
       " array([284, 285, 286, 287, 288, 289, 290, 291, 292, 293]),\n",
       " array([294, 295, 296, 297, 298, 299, 300, 301, 302, 303]),\n",
       " array([304, 305, 306, 307, 308, 309, 310, 311, 312, 313]),\n",
       " array([314, 315, 316, 317, 318, 319, 320, 321, 322, 323]),\n",
       " array([324, 325, 326, 327, 328, 329, 330, 331, 332, 333]),\n",
       " array([334, 335, 336, 337, 338, 339, 340, 341, 342, 343]),\n",
       " array([344, 345, 346, 347, 348, 349, 350, 351, 352, 353]),\n",
       " array([354, 355, 356, 357, 358, 359, 360, 361, 362, 363]),\n",
       " array([364, 365, 366, 367, 368, 369, 370, 371, 372, 373]),\n",
       " array([374, 375, 376, 377, 378, 379, 380, 381, 382, 383]),\n",
       " array([384, 385, 386, 387, 388, 389, 390, 391, 392, 393]),\n",
       " array([394, 395, 396, 397, 398, 399, 400, 401, 402, 403]),\n",
       " array([404, 405, 406, 407, 408, 409, 410, 411, 412, 413]),\n",
       " array([414, 415, 416, 417, 418, 419, 420, 421, 422, 423]),\n",
       " array([424, 425, 426, 427, 428, 429, 430, 431, 432, 433]),\n",
       " array([434, 435, 436, 437, 438, 439, 440, 441, 442, 443]),\n",
       " array([444, 445, 446, 447, 448, 449, 450, 451, 452, 453]),\n",
       " array([454, 455, 456, 457, 458, 459, 460, 461, 462, 463]),\n",
       " array([464, 465, 466, 467, 468, 469, 470, 471, 472, 473]),\n",
       " array([474, 475, 476, 477, 478, 479, 480, 481, 482, 483]),\n",
       " array([484, 485, 486, 487, 488, 489, 490, 491, 492, 493]),\n",
       " array([494, 495, 496, 497, 498, 499, 500, 501, 502, 503]),\n",
       " array([504, 505, 506, 507, 508, 509, 510, 511, 512, 513]),\n",
       " array([514, 515, 516, 517, 518, 519, 520, 521, 522, 523]),\n",
       " array([524, 525, 526, 527, 528, 529, 530, 531, 532, 533]),\n",
       " array([534, 535, 536, 537, 538, 539, 540, 541, 542, 543]),\n",
       " array([544, 545, 546, 547, 548, 549, 550, 551, 552, 553]),\n",
       " array([554, 555, 556, 557, 558, 559, 560, 561, 562, 563]),\n",
       " array([564, 565, 566, 567, 568, 569, 570, 571, 572, 573]),\n",
       " array([574, 575, 576, 577, 578, 579, 580, 581, 582, 583]),\n",
       " array([584, 585, 586, 587, 588, 589, 590, 591, 592, 593]),\n",
       " array([594, 595, 596, 597, 598, 599, 600, 601, 602, 603]),\n",
       " array([604, 605, 606, 607, 608, 609, 610, 611, 612, 613]),\n",
       " array([614, 615, 616, 617, 618, 619, 620, 621, 622, 623]),\n",
       " array([624, 625, 626, 627, 628, 629, 630, 631, 632, 633]),\n",
       " array([634, 635, 636, 637, 638, 639, 640, 641, 642, 643]),\n",
       " array([644, 645, 646, 647, 648, 649, 650, 651, 652, 653]),\n",
       " array([654, 655, 656, 657, 658, 659, 660, 661, 662, 663]),\n",
       " array([664, 665, 666, 667, 668, 669, 670, 671, 672, 673]),\n",
       " array([674, 675, 676, 677, 678, 679, 680, 681, 682, 683]),\n",
       " array([684, 685, 686, 687, 688, 689, 690, 691, 692, 693]),\n",
       " array([694, 695, 696, 697, 698, 699, 700, 701, 702, 703]),\n",
       " array([704, 705, 706, 707, 708, 709, 710, 711, 712, 713]),\n",
       " array([714, 715, 716, 717, 718, 719, 720, 721, 722, 723]),\n",
       " array([724, 725, 726, 727, 728, 729, 730, 731, 732, 733]),\n",
       " array([734, 735, 736, 737, 738, 739, 740, 741, 742, 743]),\n",
       " array([744, 745, 746, 747, 748, 749, 750, 751, 752, 753]),\n",
       " array([754, 755, 756, 757, 758, 759, 760, 761, 762, 763]),\n",
       " array([764, 765, 766, 767, 768, 769, 770, 771, 772, 773]),\n",
       " array([774, 775, 776, 777, 778, 779, 780, 781, 782, 783]),\n",
       " array([784, 785, 786, 787, 788, 789, 790, 791, 792, 793]),\n",
       " array([794, 795, 796, 797, 798, 799, 800, 801, 802, 803]),\n",
       " array([804, 805, 806, 807, 808, 809, 810, 811, 812, 813]),\n",
       " array([814, 815, 816, 817, 818, 819, 820, 821, 822, 823]),\n",
       " array([824, 825, 826, 827, 828, 829, 830, 831, 832, 833]),\n",
       " array([834, 835, 836, 837, 838, 839, 840, 841, 842, 843]),\n",
       " array([844, 845, 846, 847, 848, 849, 850, 851, 852, 853]),\n",
       " array([854, 855, 856, 857, 858, 859, 860, 861, 862, 863]),\n",
       " array([864, 865, 866, 867, 868, 869, 870, 871, 872, 873]),\n",
       " array([874, 875, 876, 877, 878, 879, 880, 881, 882, 883]),\n",
       " array([884, 885, 886, 887, 888, 889, 890, 891, 892, 893]),\n",
       " array([894, 895, 896, 897, 898, 899, 900, 901, 902, 903]),\n",
       " array([904, 905, 906, 907, 908, 909, 910, 911, 912, 913]),\n",
       " array([914, 915, 916, 917, 918, 919, 920, 921, 922, 923]),\n",
       " array([924, 925, 926, 927, 928, 929, 930, 931, 932, 933]),\n",
       " array([934, 935, 936, 937, 938, 939, 940, 941, 942, 943]),\n",
       " array([944, 945, 946, 947, 948, 949, 950, 951, 952, 953]),\n",
       " array([954, 955, 956, 957, 958, 959, 960, 961, 962, 963]),\n",
       " array([964, 965, 966, 967, 968, 969, 970, 971, 972, 973]),\n",
       " array([974, 975, 976, 977, 978, 979, 980, 981, 982, 983]),\n",
       " array([984, 985, 986, 987, 988, 989, 990, 991, 992, 993]),\n",
       " array([ 994,  995,  996,  997,  998,  999, 1000, 1001, 1002, 1003]),\n",
       " array([1004, 1005, 1006, 1007, 1008, 1009, 1010, 1011, 1012, 1013]),\n",
       " array([1014, 1015, 1016, 1017, 1018, 1019, 1020, 1021, 1022, 1023]),\n",
       " array([1024, 1025, 1026, 1027, 1028, 1029, 1030, 1031, 1032, 1033]),\n",
       " array([1034, 1035, 1036, 1037, 1038, 1039, 1040, 1041, 1042, 1043]),\n",
       " array([1044, 1045, 1046, 1047, 1048, 1049, 1050, 1051, 1052, 1053]),\n",
       " array([1054, 1055, 1056, 1057, 1058, 1059, 1060, 1061, 1062, 1063]),\n",
       " array([1064, 1065, 1066, 1067, 1068, 1069, 1070, 1071, 1072, 1073]),\n",
       " array([1074, 1075, 1076, 1077, 1078, 1079, 1080, 1081, 1082, 1083]),\n",
       " array([1084, 1085, 1086, 1087, 1088, 1089, 1090, 1091, 1092, 1093]),\n",
       " array([1094, 1095, 1096, 1097, 1098, 1099, 1100, 1101, 1102, 1103]),\n",
       " array([1104, 1105, 1106, 1107, 1108, 1109, 1110, 1111, 1112, 1113]),\n",
       " array([1114, 1115, 1116, 1117, 1118, 1119, 1120, 1121, 1122, 1123]),\n",
       " array([1124, 1125, 1126, 1127, 1128, 1129, 1130, 1131, 1132, 1133]),\n",
       " array([1134, 1135, 1136, 1137, 1138, 1139, 1140, 1141, 1142, 1143]),\n",
       " array([1144, 1145, 1146, 1147, 1148, 1149, 1150, 1151, 1152, 1153]),\n",
       " array([1154, 1155, 1156, 1157, 1158, 1159, 1160, 1161, 1162, 1163]),\n",
       " array([1164, 1165, 1166, 1167, 1168, 1169, 1170, 1171, 1172, 1173]),\n",
       " array([1174, 1175, 1176, 1177, 1178, 1179, 1180, 1181, 1182, 1183]),\n",
       " array([1184, 1185, 1186, 1187, 1188, 1189, 1190, 1191, 1192, 1193]),\n",
       " array([1194, 1195, 1196, 1197, 1198, 1199, 1200, 1201, 1202, 1203]),\n",
       " array([1204, 1205, 1206, 1207, 1208, 1209, 1210, 1211, 1212, 1213]),\n",
       " array([1214, 1215, 1216, 1217, 1218, 1219, 1220, 1221, 1222, 1223]),\n",
       " array([1224, 1225, 1226, 1227, 1228, 1229, 1230, 1231, 1232, 1233]),\n",
       " array([1234, 1235, 1236, 1237, 1238, 1239, 1240, 1241, 1242, 1243]),\n",
       " array([1244, 1245, 1246, 1247, 1248, 1249, 1250, 1251, 1252, 1253]),\n",
       " array([1254, 1255, 1256, 1257, 1258, 1259, 1260, 1261, 1262, 1263]),\n",
       " array([1264, 1265, 1266, 1267, 1268, 1269, 1270, 1271, 1272, 1273]),\n",
       " array([1274, 1275, 1276, 1277, 1278, 1279, 1280, 1281, 1282, 1283]),\n",
       " array([1284, 1285, 1286, 1287, 1288, 1289, 1290, 1291, 1292, 1293]),\n",
       " array([1294, 1295, 1296, 1297, 1298, 1299, 1300, 1301, 1302, 1303]),\n",
       " array([1304, 1305, 1306, 1307, 1308, 1309, 1310, 1311, 1312, 1313]),\n",
       " array([1314, 1315, 1316, 1317, 1318, 1319, 1320, 1321, 1322, 1323]),\n",
       " array([1324, 1325, 1326, 1327, 1328, 1329, 1330, 1331, 1332, 1333]),\n",
       " array([1334, 1335, 1336, 1337, 1338, 1339, 1340, 1341, 1342, 1343]),\n",
       " array([1344, 1345, 1346, 1347, 1348, 1349, 1350, 1351, 1352, 1353]),\n",
       " array([1354, 1355, 1356, 1357, 1358, 1359, 1360, 1361, 1362, 1363]),\n",
       " array([1364, 1365, 1366, 1367, 1368, 1369, 1370, 1371, 1372, 1373]),\n",
       " array([1374, 1375, 1376, 1377, 1378, 1379, 1380, 1381, 1382, 1383]),\n",
       " array([1384, 1385, 1386, 1387, 1388, 1389, 1390, 1391, 1392, 1393]),\n",
       " array([1394, 1395, 1396, 1397, 1398, 1399, 1400, 1401, 1402, 1403]),\n",
       " array([1404, 1405, 1406, 1407, 1408, 1409, 1410, 1411, 1412, 1413]),\n",
       " array([1414, 1415, 1416, 1417, 1418, 1419, 1420, 1421, 1422, 1423]),\n",
       " array([1424, 1425, 1426, 1427, 1428, 1429, 1430, 1431, 1432, 1433]),\n",
       " array([1434, 1435, 1436, 1437, 1438, 1439, 1440, 1441, 1442, 1443]),\n",
       " array([1444, 1445, 1446, 1447, 1448, 1449, 1450, 1451, 1452, 1453]),\n",
       " array([1454, 1455, 1456, 1457, 1458, 1459, 1460, 1461, 1462, 1463]),\n",
       " array([1464, 1465, 1466, 1467, 1468, 1469, 1470, 1471, 1472, 1473]),\n",
       " array([1474, 1475, 1476, 1477, 1478, 1479, 1480, 1481, 1482, 1483]),\n",
       " array([1484, 1485, 1486, 1487, 1488, 1489, 1490, 1491, 1492, 1493]),\n",
       " array([1494, 1495, 1496, 1497, 1498, 1499, 1500, 1501, 1502, 1503]),\n",
       " array([1504, 1505, 1506, 1507, 1508, 1509, 1510, 1511, 1512, 1513]),\n",
       " array([1514, 1515, 1516, 1517, 1518, 1519, 1520, 1521, 1522, 1523]),\n",
       " array([1524, 1525, 1526, 1527, 1528, 1529, 1530, 1531, 1532, 1533]),\n",
       " array([1534, 1535, 1536, 1537, 1538, 1539, 1540, 1541, 1542, 1543]),\n",
       " array([1544, 1545, 1546, 1547, 1548, 1549, 1550, 1551, 1552, 1553]),\n",
       " array([1554, 1555, 1556, 1557, 1558, 1559, 1560, 1561, 1562, 1563]),\n",
       " array([1564, 1565, 1566, 1567, 1568, 1569, 1570, 1571, 1572, 1573]),\n",
       " array([1574, 1575, 1576, 1577, 1578, 1579, 1580, 1581, 1582, 1583]),\n",
       " array([1584, 1585, 1586, 1587, 1588, 1589, 1590, 1591, 1592, 1593]),\n",
       " array([1594, 1595, 1596, 1597, 1598, 1599, 1600, 1601, 1602, 1603]),\n",
       " array([1604, 1605, 1606, 1607, 1608, 1609, 1610, 1611, 1612, 1613]),\n",
       " array([1614, 1615, 1616, 1617, 1618, 1619, 1620, 1621, 1622, 1623]),\n",
       " array([1624, 1625, 1626, 1627, 1628, 1629, 1630, 1631, 1632, 1633]),\n",
       " array([1634, 1635, 1636, 1637, 1638, 1639, 1640, 1641, 1642, 1643]),\n",
       " array([1644, 1645, 1646, 1647, 1648, 1649, 1650, 1651, 1652, 1653]),\n",
       " array([1654, 1655, 1656, 1657, 1658, 1659, 1660, 1661, 1662, 1663]),\n",
       " array([1664, 1665, 1666, 1667, 1668, 1669, 1670, 1671, 1672, 1673]),\n",
       " array([1674, 1675, 1676, 1677, 1678, 1679, 1680, 1681, 1682, 1683]),\n",
       " array([1684, 1685, 1686, 1687, 1688, 1689, 1690, 1691, 1692, 1693]),\n",
       " array([1694, 1695, 1696, 1697, 1698, 1699, 1700, 1701, 1702, 1703]),\n",
       " array([1704, 1705, 1706, 1707, 1708, 1709, 1710, 1711, 1712, 1713]),\n",
       " array([1714, 1715, 1716, 1717, 1718, 1719, 1720, 1721, 1722, 1723]),\n",
       " array([1724, 1725, 1726, 1727, 1728, 1729, 1730, 1731, 1732, 1733]),\n",
       " array([1734, 1735, 1736, 1737, 1738, 1739, 1740, 1741, 1742, 1743]),\n",
       " array([1744, 1745, 1746, 1747, 1748, 1749, 1750, 1751, 1752, 1753]),\n",
       " array([1754, 1755, 1756, 1757, 1758, 1759, 1760, 1761, 1762, 1763]),\n",
       " array([1764, 1765, 1766, 1767, 1768, 1769, 1770, 1771, 1772, 1773]),\n",
       " array([1774, 1775, 1776, 1777, 1778, 1779, 1780, 1781, 1782, 1783]),\n",
       " array([1784, 1785, 1786, 1787, 1788, 1789, 1790, 1791, 1792, 1793]),\n",
       " array([1794, 1795, 1796, 1797, 1798, 1799, 1800, 1801, 1802, 1803]),\n",
       " array([1804, 1805, 1806, 1807, 1808, 1809, 1810, 1811, 1812, 1813]),\n",
       " array([1814, 1815, 1816, 1817, 1818, 1819, 1820, 1821, 1822, 1823]),\n",
       " array([1824, 1825, 1826, 1827, 1828, 1829, 1830, 1831, 1832, 1833]),\n",
       " array([1834, 1835, 1836, 1837, 1838, 1839, 1840, 1841, 1842, 1843]),\n",
       " array([1844, 1845, 1846, 1847, 1848, 1849, 1850, 1851, 1852, 1853]),\n",
       " array([1854, 1855, 1856, 1857, 1858, 1859, 1860, 1861, 1862, 1863]),\n",
       " array([1864, 1865, 1866, 1867, 1868, 1869, 1870, 1871, 1872, 1873]),\n",
       " array([1874, 1875, 1876, 1877, 1878, 1879, 1880, 1881, 1882, 1883]),\n",
       " array([1884, 1885, 1886, 1887, 1888, 1889, 1890, 1891, 1892, 1893]),\n",
       " array([1894, 1895, 1896, 1897, 1898, 1899, 1900, 1901, 1902, 1903]),\n",
       " array([1904, 1905, 1906, 1907, 1908, 1909, 1910, 1911, 1912, 1913]),\n",
       " array([1914, 1915, 1916, 1917, 1918, 1919, 1920, 1921, 1922, 1923]),\n",
       " array([1924, 1925, 1926, 1927, 1928, 1929, 1930, 1931, 1932, 1933]),\n",
       " array([1934, 1935, 1936, 1937, 1938, 1939, 1940, 1941, 1942, 1943]),\n",
       " array([1944, 1945, 1946, 1947, 1948, 1949, 1950, 1951, 1952, 1953]),\n",
       " array([1954, 1955, 1956, 1957, 1958, 1959, 1960, 1961, 1962, 1963]),\n",
       " array([1964, 1965, 1966, 1967, 1968, 1969, 1970, 1971, 1972, 1973]),\n",
       " array([1974, 1975, 1976, 1977, 1978, 1979, 1980, 1981, 1982, 1983]),\n",
       " array([1984, 1985, 1986, 1987, 1988, 1989, 1990, 1991, 1992, 1993]),\n",
       " array([1994, 1995, 1996, 1997, 1998, 1999, 2000, 2001, 2002, 2003]),\n",
       " array([2004, 2005, 2006, 2007, 2008, 2009, 2010, 2011, 2012, 2013]),\n",
       " array([2014, 2015, 2016, 2017, 2018, 2019, 2020, 2021, 2022, 2023]),\n",
       " array([2024, 2025, 2026, 2027, 2028, 2029, 2030, 2031, 2032, 2033]),\n",
       " array([2034, 2035, 2036, 2037, 2038, 2039, 2040, 2041, 2042, 2043]),\n",
       " array([2044, 2045, 2046, 2047, 2048, 2049, 2050, 2051, 2052, 2053]),\n",
       " array([2054, 2055, 2056, 2057, 2058, 2059, 2060, 2061, 2062, 2063]),\n",
       " array([2064, 2065, 2066, 2067, 2068, 2069, 2070, 2071, 2072, 2073]),\n",
       " array([2074, 2075, 2076, 2077, 2078, 2079, 2080, 2081, 2082, 2083]),\n",
       " array([2084, 2085, 2086, 2087, 2088, 2089, 2090, 2091, 2092, 2093]),\n",
       " array([2094, 2095, 2096, 2097, 2098, 2099, 2100, 2101, 2102, 2103]),\n",
       " array([2104, 2105, 2106, 2107, 2108, 2109, 2110, 2111, 2112, 2113]),\n",
       " array([2114, 2115, 2116, 2117, 2118, 2119, 2120, 2121, 2122, 2123]),\n",
       " array([2124, 2125, 2126, 2127, 2128, 2129, 2130, 2131, 2132, 2133]),\n",
       " array([2134, 2135, 2136, 2137, 2138, 2139, 2140, 2141, 2142, 2143]),\n",
       " array([2144, 2145, 2146, 2147, 2148, 2149, 2150, 2151, 2152, 2153]),\n",
       " array([2154, 2155, 2156, 2157, 2158, 2159, 2160, 2161, 2162, 2163]),\n",
       " array([2164, 2165, 2166, 2167, 2168, 2169, 2170, 2171, 2172, 2173]),\n",
       " array([2174, 2175, 2176, 2177, 2178, 2179, 2180, 2181, 2182, 2183]),\n",
       " array([2184, 2185, 2186, 2187, 2188, 2189, 2190, 2191, 2192, 2193]),\n",
       " array([2194, 2195, 2196, 2197, 2198, 2199, 2200, 2201, 2202, 2203]),\n",
       " array([2204, 2205, 2206, 2207, 2208, 2209, 2210, 2211, 2212, 2213]),\n",
       " array([2214, 2215, 2216, 2217, 2218, 2219, 2220, 2221, 2222, 2223]),\n",
       " array([2224, 2225, 2226, 2227, 2228, 2229, 2230, 2231, 2232, 2233]),\n",
       " array([2234, 2235, 2236, 2237, 2238, 2239, 2240, 2241, 2242, 2243]),\n",
       " array([2244, 2245, 2246, 2247, 2248, 2249, 2250, 2251, 2252, 2253]),\n",
       " array([2254, 2255, 2256, 2257, 2258, 2259, 2260, 2261, 2262, 2263]),\n",
       " array([2264, 2265, 2266, 2267, 2268, 2269, 2270, 2271, 2272, 2273]),\n",
       " array([2274, 2275, 2276, 2277, 2278, 2279, 2280, 2281, 2282, 2283]),\n",
       " array([2284, 2285, 2286, 2287, 2288, 2289, 2290, 2291, 2292, 2293]),\n",
       " array([2294, 2295, 2296, 2297, 2298, 2299, 2300, 2301, 2302, 2303]),\n",
       " array([2304, 2305, 2306, 2307, 2308, 2309, 2310, 2311, 2312, 2313]),\n",
       " array([2314, 2315, 2316, 2317, 2318, 2319, 2320, 2321, 2322, 2323]),\n",
       " array([2324, 2325, 2326, 2327, 2328, 2329, 2330, 2331, 2332, 2333]),\n",
       " array([2334, 2335, 2336, 2337, 2338, 2339, 2340, 2341, 2342, 2343]),\n",
       " array([2344, 2345, 2346, 2347, 2348, 2349, 2350, 2351, 2352, 2353]),\n",
       " array([2354, 2355, 2356, 2357, 2358, 2359, 2360, 2361, 2362, 2363]),\n",
       " array([2364, 2365, 2366, 2367, 2368, 2369, 2370, 2371, 2372, 2373]),\n",
       " array([2374, 2375, 2376, 2377, 2378, 2379, 2380, 2381, 2382, 2383]),\n",
       " array([2384, 2385, 2386, 2387, 2388, 2389, 2390, 2391, 2392, 2393]),\n",
       " array([2394, 2395, 2396, 2397, 2398, 2399, 2400, 2401, 2402, 2403]),\n",
       " array([2404, 2405, 2406, 2407, 2408, 2409, 2410, 2411, 2412, 2413]),\n",
       " array([2414, 2415, 2416, 2417, 2418, 2419, 2420, 2421, 2422, 2423]),\n",
       " array([2424, 2425, 2426, 2427, 2428, 2429, 2430, 2431, 2432, 2433]),\n",
       " array([2434, 2435, 2436, 2437, 2438, 2439, 2440, 2441, 2442, 2443]),\n",
       " array([2444, 2445, 2446, 2447, 2448, 2449, 2450, 2451, 2452, 2453]),\n",
       " array([2454, 2455, 2456, 2457, 2458, 2459, 2460, 2461, 2462, 2463]),\n",
       " array([2464, 2465, 2466, 2467, 2468, 2469, 2470, 2471, 2472, 2473]),\n",
       " array([2474, 2475, 2476, 2477, 2478, 2479, 2480, 2481, 2482, 2483]),\n",
       " array([2484, 2485, 2486, 2487, 2488, 2489, 2490, 2491, 2492, 2493]),\n",
       " array([2494, 2495, 2496, 2497, 2498, 2499, 2500, 2501, 2502, 2503]),\n",
       " array([2504, 2505, 2506, 2507, 2508, 2509, 2510, 2511, 2512, 2513]),\n",
       " array([2514, 2515, 2516, 2517, 2518, 2519, 2520, 2521, 2522, 2523]),\n",
       " array([2524, 2525, 2526, 2527, 2528, 2529, 2530, 2531, 2532, 2533]),\n",
       " array([2534, 2535, 2536, 2537, 2538, 2539, 2540, 2541, 2542, 2543]),\n",
       " array([2544, 2545, 2546, 2547, 2548, 2549, 2550, 2551, 2552, 2553]),\n",
       " array([2554, 2555, 2556, 2557, 2558, 2559, 2560, 2561, 2562, 2563]),\n",
       " array([2564, 2565, 2566, 2567, 2568, 2569, 2570, 2571, 2572, 2573]),\n",
       " array([2574, 2575, 2576, 2577, 2578, 2579, 2580, 2581, 2582, 2583]),\n",
       " array([2584, 2585, 2586, 2587, 2588, 2589, 2590, 2591, 2592, 2593]),\n",
       " array([2594, 2595, 2596, 2597, 2598, 2599, 2600, 2601, 2602, 2603]),\n",
       " array([2604, 2605, 2606, 2607, 2608, 2609, 2610, 2611, 2612, 2613]),\n",
       " array([2614, 2615, 2616, 2617, 2618, 2619, 2620, 2621, 2622, 2623]),\n",
       " array([2624, 2625, 2626, 2627, 2628, 2629, 2630, 2631, 2632, 2633]),\n",
       " array([2634, 2635, 2636, 2637, 2638, 2639, 2640, 2641, 2642, 2643]),\n",
       " array([2644, 2645, 2646, 2647, 2648, 2649, 2650, 2651, 2652, 2653]),\n",
       " array([2654, 2655, 2656, 2657, 2658, 2659, 2660, 2661, 2662, 2663]),\n",
       " array([2664, 2665, 2666, 2667, 2668, 2669, 2670, 2671, 2672, 2673]),\n",
       " array([2674, 2675, 2676, 2677, 2678, 2679, 2680, 2681, 2682, 2683]),\n",
       " array([2684, 2685, 2686, 2687, 2688, 2689, 2690, 2691, 2692, 2693]),\n",
       " array([2694, 2695, 2696, 2697, 2698, 2699, 2700, 2701, 2702, 2703]),\n",
       " array([2704, 2705, 2706, 2707, 2708, 2709, 2710, 2711, 2712, 2713]),\n",
       " array([2714, 2715, 2716, 2717, 2718, 2719, 2720, 2721, 2722, 2723]),\n",
       " array([2724, 2725, 2726, 2727, 2728, 2729, 2730, 2731, 2732, 2733]),\n",
       " array([2734, 2735, 2736, 2737, 2738, 2739, 2740, 2741, 2742, 2743]),\n",
       " array([2744, 2745, 2746, 2747, 2748, 2749, 2750, 2751, 2752, 2753]),\n",
       " array([2754, 2755, 2756, 2757, 2758, 2759, 2760, 2761, 2762, 2763]),\n",
       " array([2764, 2765, 2766, 2767, 2768, 2769, 2770, 2771, 2772, 2773]),\n",
       " array([2774, 2775, 2776, 2777, 2778, 2779, 2780, 2781, 2782, 2783]),\n",
       " array([2784, 2785, 2786, 2787, 2788, 2789, 2790, 2791, 2792, 2793]),\n",
       " array([2794, 2795, 2796, 2797, 2798, 2799, 2800, 2801, 2802, 2803]),\n",
       " array([2804, 2805, 2806, 2807, 2808, 2809, 2810, 2811, 2812, 2813]),\n",
       " array([2814, 2815, 2816, 2817, 2818, 2819, 2820, 2821, 2822, 2823]),\n",
       " array([2824, 2825, 2826, 2827, 2828, 2829, 2830, 2831, 2832, 2833]),\n",
       " array([2834, 2835, 2836, 2837, 2838, 2839, 2840, 2841, 2842, 2843]),\n",
       " array([2844, 2845, 2846, 2847, 2848, 2849, 2850, 2851, 2852, 2853]),\n",
       " array([2854, 2855, 2856, 2857, 2858, 2859, 2860, 2861, 2862, 2863]),\n",
       " array([2864, 2865, 2866, 2867, 2868, 2869, 2870, 2871, 2872, 2873]),\n",
       " array([2874, 2875, 2876, 2877, 2878, 2879, 2880, 2881, 2882, 2883]),\n",
       " array([2884, 2885, 2886, 2887, 2888, 2889, 2890, 2891, 2892, 2893]),\n",
       " array([2894, 2895, 2896, 2897, 2898, 2899, 2900, 2901, 2902, 2903]),\n",
       " array([2904, 2905, 2906, 2907, 2908, 2909, 2910, 2911, 2912, 2913]),\n",
       " array([2914, 2915, 2916, 2917, 2918, 2919, 2920, 2921, 2922, 2923]),\n",
       " array([2924, 2925, 2926, 2927, 2928, 2929, 2930, 2931, 2932, 2933]),\n",
       " array([2934, 2935, 2936, 2937, 2938, 2939, 2940, 2941, 2942, 2943]),\n",
       " array([2944, 2945, 2946, 2947, 2948, 2949, 2950, 2951, 2952, 2953]),\n",
       " array([2954, 2955, 2956, 2957, 2958, 2959, 2960, 2961, 2962, 2963]),\n",
       " array([2964, 2965, 2966, 2967, 2968, 2969, 2970, 2971, 2972, 2973]),\n",
       " array([2974, 2975, 2976, 2977, 2978, 2979, 2980, 2981, 2982, 2983]),\n",
       " array([2984, 2985, 2986, 2987, 2988, 2989, 2990, 2991, 2992, 2993]),\n",
       " array([2994, 2995, 2996, 2997, 2998, 2999, 3000, 3001, 3002, 3003]),\n",
       " array([3004, 3005, 3006, 3007, 3008, 3009, 3010, 3011, 3012, 3013]),\n",
       " array([3014, 3015, 3016, 3017, 3018, 3019, 3020, 3021, 3022, 3023]),\n",
       " array([3024, 3025, 3026, 3027, 3028, 3029, 3030, 3031, 3032, 3033]),\n",
       " array([3034, 3035, 3036, 3037, 3038, 3039, 3040, 3041, 3042, 3043]),\n",
       " array([3044, 3045, 3046, 3047, 3048, 3049, 3050, 3051, 3052, 3053]),\n",
       " array([3054, 3055, 3056, 3057, 3058, 3059, 3060, 3061, 3062, 3063]),\n",
       " array([3064, 3065, 3066, 3067, 3068, 3069, 3070, 3071, 3072, 3073]),\n",
       " array([3074, 3075, 3076, 3077, 3078, 3079, 3080, 3081, 3082, 3083]),\n",
       " array([3084, 3085, 3086, 3087, 3088, 3089, 3090, 3091, 3092, 3093]),\n",
       " array([3094, 3095, 3096, 3097, 3098, 3099, 3100, 3101, 3102, 3103]),\n",
       " array([3104, 3105, 3106, 3107, 3108, 3109, 3110, 3111, 3112, 3113]),\n",
       " array([3114, 3115, 3116, 3117, 3118, 3119, 3120, 3121, 3122, 3123]),\n",
       " array([3124, 3125, 3126, 3127, 3128, 3129, 3130, 3131, 3132, 3133]),\n",
       " array([3134, 3135, 3136, 3137, 3138, 3139, 3140, 3141, 3142, 3143]),\n",
       " array([3144, 3145, 3146, 3147, 3148, 3149, 3150, 3151, 3152, 3153]),\n",
       " array([3154, 3155, 3156, 3157, 3158, 3159, 3160, 3161, 3162, 3163]),\n",
       " array([3164, 3165, 3166, 3167, 3168, 3169, 3170, 3171, 3172, 3173]),\n",
       " array([3174, 3175, 3176, 3177, 3178, 3179, 3180, 3181, 3182, 3183]),\n",
       " array([3184, 3185, 3186, 3187, 3188, 3189, 3190, 3191, 3192, 3193])]"
      ]
     },
     "execution_count": 10,
     "metadata": {},
     "output_type": "execute_result"
    }
   ],
   "source": [
    "np.array_split(list(img_file_dict), len(img_file_dict)//10)"
   ]
  },
  {
   "cell_type": "code",
   "execution_count": 11,
   "metadata": {
    "ExecuteTime": {
     "end_time": "2022-06-12T05:20:16.740996Z",
     "start_time": "2022-06-12T05:16:30.299702Z"
    },
    "scrolled": false
   },
   "outputs": [
    {
     "name": "stderr",
     "output_type": "stream",
     "text": [
      "INFO:skip_segmentation:#####\n",
      "INFO:skip_segmentation:looking at new block\n",
      "INFO:skip_segmentation:#####\n"
     ]
    },
    {
     "name": "stdout",
     "output_type": "stream",
     "text": [
      "[2022/06/11 22:16:30] root INFO: dt_boxes num : 18, elapse : 0.4098703861236572\n",
      "[2022/06/11 22:16:31] root INFO: rec_res num  : 18, elapse : 0.40506601333618164\n",
      "[2022/06/11 22:16:31] root INFO: dt_boxes num : 16, elapse : 0.337054967880249\n",
      "[2022/06/11 22:16:31] root INFO: rec_res num  : 16, elapse : 0.35062527656555176\n"
     ]
    },
    {
     "name": "stderr",
     "output_type": "stream",
     "text": [
      "INFO:skip_segmentation:0\n",
      "INFO:skip_segmentation:False\n",
      "INFO:skip_segmentation:0 is False breakpoint\n",
      "INFO:skip_segmentation:block index range: (0, 10)\n",
      "INFO:skip_segmentation:same slide block: True\n",
      "INFO:skip_segmentation:\n",
      "\n",
      "\n",
      "INFO:skip_segmentation:block_new_slides: []\n",
      "INFO:skip_segmentation:#####\n",
      "INFO:skip_segmentation:looking at new block\n",
      "INFO:skip_segmentation:#####\n"
     ]
    },
    {
     "name": "stdout",
     "output_type": "stream",
     "text": [
      "[2022/06/11 22:16:32] root INFO: dt_boxes num : 15, elapse : 0.3317103385925293\n",
      "[2022/06/11 22:16:32] root INFO: rec_res num  : 15, elapse : 0.30382394790649414\n",
      "[2022/06/11 22:16:33] root INFO: dt_boxes num : 17, elapse : 0.3330390453338623\n",
      "[2022/06/11 22:16:33] root INFO: rec_res num  : 17, elapse : 0.40250086784362793\n"
     ]
    },
    {
     "name": "stderr",
     "output_type": "stream",
     "text": [
      "INFO:skip_segmentation:11\n",
      "INFO:skip_segmentation:False\n",
      "INFO:skip_segmentation:11 is False breakpoint\n",
      "INFO:skip_segmentation:block index range: (11, 21)\n",
      "INFO:skip_segmentation:same slide block: True\n",
      "INFO:skip_segmentation:\n",
      "\n",
      "\n",
      "INFO:skip_segmentation:block_new_slides: []\n",
      "INFO:skip_segmentation:#####\n",
      "INFO:skip_segmentation:looking at new block\n",
      "INFO:skip_segmentation:#####\n"
     ]
    },
    {
     "name": "stdout",
     "output_type": "stream",
     "text": [
      "[2022/06/11 22:16:33] root INFO: dt_boxes num : 15, elapse : 0.32858800888061523\n",
      "[2022/06/11 22:16:34] root INFO: rec_res num  : 15, elapse : 0.32247114181518555\n",
      "[2022/06/11 22:16:34] root INFO: dt_boxes num : 32, elapse : 0.35636186599731445\n",
      "[2022/06/11 22:16:35] root INFO: rec_res num  : 32, elapse : 0.9970958232879639\n"
     ]
    },
    {
     "name": "stderr",
     "output_type": "stream",
     "text": [
      "INFO:skip_segmentation:22\n",
      "INFO:skip_segmentation:False\n",
      "INFO:skip_segmentation:22 is False breakpoint\n",
      "INFO:skip_segmentation:block index range: (22, 32)\n",
      "INFO:skip_segmentation:same slide block: False\n",
      "INFO:skip_segmentation:\n",
      "\n",
      "\n"
     ]
    },
    {
     "name": "stdout",
     "output_type": "stream",
     "text": [
      "[2022/06/11 22:16:35] root INFO: dt_boxes num : 16, elapse : 0.32918858528137207\n",
      "[2022/06/11 22:16:36] root INFO: rec_res num  : 16, elapse : 0.3483295440673828\n",
      "[2022/06/11 22:16:36] root INFO: dt_boxes num : 16, elapse : 0.3635599613189697\n",
      "[2022/06/11 22:16:36] root INFO: rec_res num  : 16, elapse : 0.32671666145324707\n",
      "[2022/06/11 22:16:37] root INFO: dt_boxes num : 30, elapse : 0.328934907913208\n",
      "[2022/06/11 22:16:38] root INFO: rec_res num  : 30, elapse : 1.0698792934417725\n",
      "[2022/06/11 22:16:38] root INFO: dt_boxes num : 29, elapse : 0.36899805068969727\n",
      "[2022/06/11 22:16:39] root INFO: rec_res num  : 29, elapse : 1.015307903289795\n",
      "[2022/06/11 22:16:40] root INFO: dt_boxes num : 29, elapse : 0.33759450912475586\n",
      "[2022/06/11 22:16:41] root INFO: rec_res num  : 29, elapse : 0.9963240623474121\n",
      "[2022/06/11 22:16:41] root INFO: dt_boxes num : 29, elapse : 0.33492183685302734\n",
      "[2022/06/11 22:16:42] root INFO: rec_res num  : 29, elapse : 1.0128772258758545\n",
      "[2022/06/11 22:16:42] root INFO: dt_boxes num : 31, elapse : 0.3411753177642822\n",
      "[2022/06/11 22:16:43] root INFO: rec_res num  : 31, elapse : 0.9864146709442139\n",
      "[2022/06/11 22:16:44] root INFO: dt_boxes num : 31, elapse : 0.3498060703277588\n",
      "[2022/06/11 22:16:45] root INFO: rec_res num  : 31, elapse : 0.9543008804321289\n",
      "[2022/06/11 22:16:45] root INFO: dt_boxes num : 32, elapse : 0.4159424304962158\n",
      "[2022/06/11 22:16:46] root INFO: rec_res num  : 32, elapse : 1.1689181327819824\n"
     ]
    },
    {
     "name": "stderr",
     "output_type": "stream",
     "text": [
      "INFO:skip_segmentation:block_new_slides: [{'jaccard_letter': 0.24390243902439024, 'jaccard': 0.9322033898305084, 'letter_dissim': 0.7203125, 'word_dis': 0.6666666666666666, 'frame_token_ct': 640, 'index': 25, 'new_slide_prediction': True}]\n",
      "INFO:skip_segmentation:#####\n",
      "INFO:skip_segmentation:looking at new block\n",
      "INFO:skip_segmentation:#####\n"
     ]
    },
    {
     "name": "stdout",
     "output_type": "stream",
     "text": [
      "[2022/06/11 22:16:47] root INFO: dt_boxes num : 32, elapse : 0.41126561164855957\n",
      "[2022/06/11 22:16:48] root INFO: rec_res num  : 32, elapse : 1.1576697826385498\n",
      "[2022/06/11 22:16:48] root INFO: dt_boxes num : 34, elapse : 0.4038548469543457\n",
      "[2022/06/11 22:16:50] root INFO: rec_res num  : 34, elapse : 1.184187889099121\n"
     ]
    },
    {
     "name": "stderr",
     "output_type": "stream",
     "text": [
      "INFO:skip_segmentation:33\n",
      "INFO:skip_segmentation:False\n",
      "INFO:skip_segmentation:33 is False breakpoint\n",
      "INFO:skip_segmentation:block index range: (33, 43)\n",
      "INFO:skip_segmentation:same slide block: True\n",
      "INFO:skip_segmentation:\n",
      "\n",
      "\n",
      "INFO:skip_segmentation:block_new_slides: []\n",
      "INFO:skip_segmentation:#####\n",
      "INFO:skip_segmentation:looking at new block\n",
      "INFO:skip_segmentation:#####\n"
     ]
    },
    {
     "name": "stdout",
     "output_type": "stream",
     "text": [
      "[2022/06/11 22:16:50] root INFO: dt_boxes num : 33, elapse : 0.3492546081542969\n",
      "[2022/06/11 22:16:51] root INFO: rec_res num  : 33, elapse : 1.030153751373291\n",
      "[2022/06/11 22:16:51] root INFO: dt_boxes num : 32, elapse : 0.343686580657959\n",
      "[2022/06/11 22:16:52] root INFO: rec_res num  : 32, elapse : 0.9761979579925537\n"
     ]
    },
    {
     "name": "stderr",
     "output_type": "stream",
     "text": [
      "INFO:skip_segmentation:44\n",
      "INFO:skip_segmentation:False\n",
      "INFO:skip_segmentation:44 is False breakpoint\n",
      "INFO:skip_segmentation:block index range: (44, 53)\n",
      "INFO:skip_segmentation:same slide block: True\n",
      "INFO:skip_segmentation:\n",
      "\n",
      "\n",
      "INFO:skip_segmentation:block_new_slides: []\n",
      "INFO:skip_segmentation:#####\n",
      "INFO:skip_segmentation:looking at new block\n",
      "INFO:skip_segmentation:#####\n"
     ]
    },
    {
     "name": "stdout",
     "output_type": "stream",
     "text": [
      "[2022/06/11 22:16:53] root INFO: dt_boxes num : 32, elapse : 0.32661867141723633\n",
      "[2022/06/11 22:16:54] root INFO: rec_res num  : 32, elapse : 1.0251920223236084\n",
      "[2022/06/11 22:16:54] root INFO: dt_boxes num : 31, elapse : 0.324535608291626\n",
      "[2022/06/11 22:16:55] root INFO: rec_res num  : 31, elapse : 1.0539846420288086\n"
     ]
    },
    {
     "name": "stderr",
     "output_type": "stream",
     "text": [
      "INFO:skip_segmentation:54\n",
      "INFO:skip_segmentation:False\n",
      "INFO:skip_segmentation:54 is False breakpoint\n",
      "INFO:skip_segmentation:block index range: (54, 63)\n",
      "INFO:skip_segmentation:same slide block: True\n",
      "INFO:skip_segmentation:\n",
      "\n",
      "\n",
      "INFO:skip_segmentation:block_new_slides: []\n",
      "INFO:skip_segmentation:#####\n",
      "INFO:skip_segmentation:looking at new block\n",
      "INFO:skip_segmentation:#####\n"
     ]
    },
    {
     "name": "stdout",
     "output_type": "stream",
     "text": [
      "[2022/06/11 22:16:56] root INFO: dt_boxes num : 31, elapse : 0.3389260768890381\n",
      "[2022/06/11 22:16:57] root INFO: rec_res num  : 31, elapse : 1.0196113586425781\n",
      "[2022/06/11 22:16:57] root INFO: dt_boxes num : 35, elapse : 0.3339221477508545\n",
      "[2022/06/11 22:16:58] root INFO: rec_res num  : 35, elapse : 1.0590136051177979\n"
     ]
    },
    {
     "name": "stderr",
     "output_type": "stream",
     "text": [
      "INFO:skip_segmentation:64\n",
      "INFO:skip_segmentation:False\n",
      "INFO:skip_segmentation:64 is False breakpoint\n",
      "INFO:skip_segmentation:block index range: (64, 73)\n",
      "INFO:skip_segmentation:same slide block: True\n",
      "INFO:skip_segmentation:\n",
      "\n",
      "\n",
      "INFO:skip_segmentation:block_new_slides: []\n",
      "INFO:skip_segmentation:#####\n",
      "INFO:skip_segmentation:looking at new block\n",
      "INFO:skip_segmentation:#####\n"
     ]
    },
    {
     "name": "stdout",
     "output_type": "stream",
     "text": [
      "[2022/06/11 22:16:58] root INFO: dt_boxes num : 35, elapse : 0.39948248863220215\n",
      "[2022/06/11 22:17:00] root INFO: rec_res num  : 35, elapse : 1.0980322360992432\n",
      "[2022/06/11 22:17:00] root INFO: dt_boxes num : 14, elapse : 0.34613752365112305\n",
      "[2022/06/11 22:17:00] root INFO: rec_res num  : 14, elapse : 0.23812079429626465\n"
     ]
    },
    {
     "name": "stderr",
     "output_type": "stream",
     "text": [
      "INFO:skip_segmentation:74\n",
      "INFO:skip_segmentation:False\n",
      "INFO:skip_segmentation:74 is False breakpoint\n",
      "INFO:skip_segmentation:block index range: (74, 83)\n",
      "INFO:skip_segmentation:same slide block: False\n",
      "INFO:skip_segmentation:\n",
      "\n",
      "\n"
     ]
    },
    {
     "name": "stdout",
     "output_type": "stream",
     "text": [
      "[2022/06/11 22:17:01] root INFO: dt_boxes num : 31, elapse : 0.34189319610595703\n",
      "[2022/06/11 22:17:02] root INFO: rec_res num  : 31, elapse : 1.0033071041107178\n",
      "[2022/06/11 22:17:02] root INFO: dt_boxes num : 31, elapse : 0.32900261878967285\n",
      "[2022/06/11 22:17:03] root INFO: rec_res num  : 31, elapse : 1.0225677490234375\n",
      "[2022/06/11 22:17:03] root INFO: dt_boxes num : 30, elapse : 0.32412266731262207\n",
      "[2022/06/11 22:17:04] root INFO: rec_res num  : 30, elapse : 1.0002458095550537\n",
      "[2022/06/11 22:17:05] root INFO: dt_boxes num : 32, elapse : 0.330167293548584\n",
      "[2022/06/11 22:17:06] root INFO: rec_res num  : 32, elapse : 1.034153699874878\n",
      "[2022/06/11 22:17:06] root INFO: dt_boxes num : 31, elapse : 0.33713769912719727\n",
      "[2022/06/11 22:17:07] root INFO: rec_res num  : 31, elapse : 1.113865852355957\n",
      "[2022/06/11 22:17:07] root INFO: dt_boxes num : 33, elapse : 0.3231956958770752\n",
      "[2022/06/11 22:17:09] root INFO: rec_res num  : 33, elapse : 1.0562245845794678\n",
      "[2022/06/11 22:17:09] root INFO: dt_boxes num : 15, elapse : 0.32703089714050293\n",
      "[2022/06/11 22:17:09] root INFO: rec_res num  : 15, elapse : 0.23732852935791016\n",
      "[2022/06/11 22:17:10] root INFO: dt_boxes num : 14, elapse : 0.32851290702819824\n",
      "[2022/06/11 22:17:10] root INFO: rec_res num  : 14, elapse : 0.20266962051391602\n"
     ]
    },
    {
     "name": "stderr",
     "output_type": "stream",
     "text": [
      "INFO:skip_segmentation:block_new_slides: [{'jaccard_letter': 0.46511627906976744, 'jaccard': 0.9622641509433962, 'letter_dissim': 0.8907185628742516, 'word_dis': 0.8507462686567164, 'frame_token_ct': 73, 'index': 81, 'new_slide_prediction': True}]\n",
      "INFO:skip_segmentation:#####\n",
      "INFO:skip_segmentation:looking at new block\n",
      "INFO:skip_segmentation:#####\n"
     ]
    },
    {
     "name": "stdout",
     "output_type": "stream",
     "text": [
      "[2022/06/11 22:17:10] root INFO: dt_boxes num : 18, elapse : 0.3218803405761719\n",
      "[2022/06/11 22:17:10] root INFO: rec_res num  : 18, elapse : 0.37899255752563477\n",
      "[2022/06/11 22:17:11] root INFO: dt_boxes num : 15, elapse : 0.3403499126434326\n",
      "[2022/06/11 22:17:11] root INFO: rec_res num  : 15, elapse : 0.2237863540649414\n"
     ]
    },
    {
     "name": "stderr",
     "output_type": "stream",
     "text": [
      "INFO:skip_segmentation:84\n",
      "INFO:skip_segmentation:False\n",
      "INFO:skip_segmentation:84 is False breakpoint\n",
      "INFO:skip_segmentation:block index range: (84, 93)\n",
      "INFO:skip_segmentation:same slide block: True\n",
      "INFO:skip_segmentation:\n",
      "\n",
      "\n",
      "INFO:skip_segmentation:block_new_slides: []\n",
      "INFO:skip_segmentation:#####\n",
      "INFO:skip_segmentation:looking at new block\n",
      "INFO:skip_segmentation:#####\n"
     ]
    },
    {
     "name": "stdout",
     "output_type": "stream",
     "text": [
      "[2022/06/11 22:17:11] root INFO: dt_boxes num : 16, elapse : 0.34668850898742676\n",
      "[2022/06/11 22:17:12] root INFO: rec_res num  : 16, elapse : 0.28402066230773926\n",
      "[2022/06/11 22:17:12] root INFO: dt_boxes num : 15, elapse : 0.3177347183227539\n",
      "[2022/06/11 22:17:12] root INFO: rec_res num  : 15, elapse : 0.24725675582885742\n"
     ]
    },
    {
     "name": "stderr",
     "output_type": "stream",
     "text": [
      "INFO:skip_segmentation:94\n",
      "INFO:skip_segmentation:False\n",
      "INFO:skip_segmentation:94 is False breakpoint\n",
      "INFO:skip_segmentation:block index range: (94, 103)\n",
      "INFO:skip_segmentation:same slide block: True\n",
      "INFO:skip_segmentation:\n",
      "\n",
      "\n",
      "INFO:skip_segmentation:block_new_slides: []\n",
      "INFO:skip_segmentation:#####\n",
      "INFO:skip_segmentation:looking at new block\n",
      "INFO:skip_segmentation:#####\n"
     ]
    },
    {
     "name": "stdout",
     "output_type": "stream",
     "text": [
      "[2022/06/11 22:17:13] root INFO: dt_boxes num : 19, elapse : 0.34830188751220703\n",
      "[2022/06/11 22:17:13] root INFO: rec_res num  : 19, elapse : 0.3955848217010498\n",
      "[2022/06/11 22:17:13] root INFO: dt_boxes num : 19, elapse : 0.32550668716430664\n",
      "[2022/06/11 22:17:14] root INFO: rec_res num  : 19, elapse : 0.44345593452453613\n"
     ]
    },
    {
     "name": "stderr",
     "output_type": "stream",
     "text": [
      "INFO:skip_segmentation:104\n",
      "INFO:skip_segmentation:False\n",
      "INFO:skip_segmentation:104 is False breakpoint\n",
      "INFO:skip_segmentation:block index range: (104, 113)\n",
      "INFO:skip_segmentation:same slide block: True\n",
      "INFO:skip_segmentation:\n",
      "\n",
      "\n",
      "INFO:skip_segmentation:block_new_slides: []\n",
      "INFO:skip_segmentation:#####\n",
      "INFO:skip_segmentation:looking at new block\n",
      "INFO:skip_segmentation:#####\n"
     ]
    },
    {
     "name": "stdout",
     "output_type": "stream",
     "text": [
      "[2022/06/11 22:17:14] root INFO: dt_boxes num : 17, elapse : 0.38762760162353516\n",
      "[2022/06/11 22:17:15] root INFO: rec_res num  : 17, elapse : 0.3718886375427246\n",
      "[2022/06/11 22:17:15] root INFO: dt_boxes num : 16, elapse : 0.35622143745422363\n",
      "[2022/06/11 22:17:15] root INFO: rec_res num  : 16, elapse : 0.3112308979034424\n"
     ]
    },
    {
     "name": "stderr",
     "output_type": "stream",
     "text": [
      "INFO:skip_segmentation:114\n",
      "INFO:skip_segmentation:False\n",
      "INFO:skip_segmentation:114 is False breakpoint\n",
      "INFO:skip_segmentation:block index range: (114, 123)\n",
      "INFO:skip_segmentation:same slide block: True\n",
      "INFO:skip_segmentation:\n",
      "\n",
      "\n",
      "INFO:skip_segmentation:block_new_slides: []\n",
      "INFO:skip_segmentation:#####\n",
      "INFO:skip_segmentation:looking at new block\n",
      "INFO:skip_segmentation:#####\n"
     ]
    },
    {
     "name": "stdout",
     "output_type": "stream",
     "text": [
      "[2022/06/11 22:17:16] root INFO: dt_boxes num : 18, elapse : 0.34517335891723633\n",
      "[2022/06/11 22:17:16] root INFO: rec_res num  : 18, elapse : 0.37743234634399414\n",
      "[2022/06/11 22:17:16] root INFO: dt_boxes num : 13, elapse : 0.3376452922821045\n",
      "[2022/06/11 22:17:17] root INFO: rec_res num  : 13, elapse : 0.20142149925231934\n"
     ]
    },
    {
     "name": "stderr",
     "output_type": "stream",
     "text": [
      "INFO:skip_segmentation:124\n",
      "INFO:skip_segmentation:False\n",
      "INFO:skip_segmentation:124 is False breakpoint\n",
      "INFO:skip_segmentation:block index range: (124, 133)\n",
      "INFO:skip_segmentation:same slide block: True\n",
      "INFO:skip_segmentation:\n",
      "\n",
      "\n",
      "INFO:skip_segmentation:block_new_slides: []\n",
      "INFO:skip_segmentation:#####\n",
      "INFO:skip_segmentation:looking at new block\n",
      "INFO:skip_segmentation:#####\n"
     ]
    },
    {
     "name": "stdout",
     "output_type": "stream",
     "text": [
      "[2022/06/11 22:17:17] root INFO: dt_boxes num : 17, elapse : 0.3518235683441162\n",
      "[2022/06/11 22:17:17] root INFO: rec_res num  : 17, elapse : 0.33924341201782227\n",
      "[2022/06/11 22:17:18] root INFO: dt_boxes num : 18, elapse : 0.3231010437011719\n",
      "[2022/06/11 22:17:18] root INFO: rec_res num  : 18, elapse : 0.41291236877441406\n"
     ]
    },
    {
     "name": "stderr",
     "output_type": "stream",
     "text": [
      "INFO:skip_segmentation:134\n",
      "INFO:skip_segmentation:False\n",
      "INFO:skip_segmentation:134 is False breakpoint\n",
      "INFO:skip_segmentation:block index range: (134, 143)\n",
      "INFO:skip_segmentation:same slide block: True\n",
      "INFO:skip_segmentation:\n",
      "\n",
      "\n",
      "INFO:skip_segmentation:block_new_slides: []\n",
      "INFO:skip_segmentation:#####\n",
      "INFO:skip_segmentation:looking at new block\n",
      "INFO:skip_segmentation:#####\n"
     ]
    },
    {
     "name": "stdout",
     "output_type": "stream",
     "text": [
      "[2022/06/11 22:17:19] root INFO: dt_boxes num : 15, elapse : 0.33785462379455566\n",
      "[2022/06/11 22:17:19] root INFO: rec_res num  : 15, elapse : 0.39856410026550293\n",
      "[2022/06/11 22:17:19] root INFO: dt_boxes num : 15, elapse : 0.38315677642822266\n",
      "[2022/06/11 22:17:20] root INFO: rec_res num  : 15, elapse : 0.3959043025970459\n"
     ]
    },
    {
     "name": "stderr",
     "output_type": "stream",
     "text": [
      "INFO:skip_segmentation:144\n",
      "INFO:skip_segmentation:True\n",
      "INFO:skip_segmentation:144 is True breakpoint\n",
      "INFO:skip_segmentation:block index range: (144, 153)\n",
      "INFO:skip_segmentation:same slide block: True\n",
      "INFO:skip_segmentation:\n",
      "\n",
      "\n",
      "INFO:skip_segmentation:block_new_slides: []\n",
      "INFO:skip_segmentation:#####\n",
      "INFO:skip_segmentation:looking at new block\n",
      "INFO:skip_segmentation:#####\n"
     ]
    },
    {
     "name": "stdout",
     "output_type": "stream",
     "text": [
      "[2022/06/11 22:17:20] root INFO: dt_boxes num : 13, elapse : 0.33507442474365234\n",
      "[2022/06/11 22:17:21] root INFO: rec_res num  : 13, elapse : 0.45853400230407715\n",
      "[2022/06/11 22:17:21] root INFO: dt_boxes num : 4, elapse : 0.34891557693481445\n",
      "[2022/06/11 22:17:21] root INFO: rec_res num  : 4, elapse : 0.055315494537353516\n"
     ]
    },
    {
     "name": "stderr",
     "output_type": "stream",
     "text": [
      "INFO:skip_segmentation:154\n",
      "INFO:skip_segmentation:False\n",
      "INFO:skip_segmentation:154 is False breakpoint\n",
      "INFO:skip_segmentation:block index range: (154, 163)\n",
      "INFO:skip_segmentation:same slide block: False\n",
      "INFO:skip_segmentation:\n",
      "\n",
      "\n"
     ]
    },
    {
     "name": "stdout",
     "output_type": "stream",
     "text": [
      "[2022/06/11 22:17:21] root INFO: dt_boxes num : 10, elapse : 0.3170437812805176\n",
      "[2022/06/11 22:17:22] root INFO: rec_res num  : 10, elapse : 0.1622769832611084\n",
      "[2022/06/11 22:17:22] root INFO: dt_boxes num : 10, elapse : 0.34168004989624023\n",
      "[2022/06/11 22:17:22] root INFO: rec_res num  : 10, elapse : 0.15470051765441895\n",
      "[2022/06/11 22:17:22] root INFO: dt_boxes num : 11, elapse : 0.3173644542694092\n",
      "[2022/06/11 22:17:23] root INFO: rec_res num  : 11, elapse : 0.18495607376098633\n",
      "[2022/06/11 22:17:23] root INFO: dt_boxes num : 9, elapse : 0.32531046867370605\n",
      "[2022/06/11 22:17:23] root INFO: rec_res num  : 9, elapse : 0.14880919456481934\n",
      "[2022/06/11 22:17:23] root INFO: dt_boxes num : 10, elapse : 0.3250904083251953\n",
      "[2022/06/11 22:17:24] root INFO: rec_res num  : 10, elapse : 0.15330958366394043\n",
      "[2022/06/11 22:17:24] root INFO: dt_boxes num : 10, elapse : 0.3481314182281494\n",
      "[2022/06/11 22:17:24] root INFO: rec_res num  : 10, elapse : 0.1518244743347168\n",
      "[2022/06/11 22:17:24] root INFO: dt_boxes num : 9, elapse : 0.33571648597717285\n",
      "[2022/06/11 22:17:25] root INFO: rec_res num  : 9, elapse : 0.1239163875579834\n",
      "[2022/06/11 22:17:25] root INFO: dt_boxes num : 9, elapse : 0.35015177726745605\n",
      "[2022/06/11 22:17:25] root INFO: rec_res num  : 9, elapse : 0.11804604530334473\n"
     ]
    },
    {
     "name": "stderr",
     "output_type": "stream",
     "text": [
      "INFO:skip_segmentation:block_new_slides: [{'jaccard_letter': 0.3448275862068966, 'jaccard': 0.8846153846153846, 'letter_dissim': 0.7980295566502463, 'word_dis': 0.7586206896551724, 'frame_token_ct': 41, 'index': 155, 'new_slide_prediction': True}, {'jaccard_letter': 0.5909090909090909, 'jaccard': 1.0, 'letter_dissim': 0.4888888888888889, 'word_dis': 0.2857142857142857, 'frame_token_ct': 45, 'index': 163, 'new_slide_prediction': True}]\n",
      "INFO:skip_segmentation:#####\n",
      "INFO:skip_segmentation:looking at new block\n",
      "INFO:skip_segmentation:#####\n"
     ]
    },
    {
     "name": "stdout",
     "output_type": "stream",
     "text": [
      "[2022/06/11 22:17:25] root INFO: dt_boxes num : 4, elapse : 0.3326385021209717\n",
      "[2022/06/11 22:17:26] root INFO: rec_res num  : 4, elapse : 0.059194326400756836\n",
      "[2022/06/11 22:17:26] root INFO: dt_boxes num : 2, elapse : 0.33526134490966797\n",
      "[2022/06/11 22:17:26] root INFO: rec_res num  : 2, elapse : 0.03558611869812012\n"
     ]
    },
    {
     "name": "stderr",
     "output_type": "stream",
     "text": [
      "INFO:skip_segmentation:164\n",
      "INFO:skip_segmentation:False\n",
      "INFO:skip_segmentation:164 is False breakpoint\n",
      "INFO:skip_segmentation:block index range: (164, 173)\n",
      "INFO:skip_segmentation:same slide block: False\n",
      "INFO:skip_segmentation:\n",
      "\n",
      "\n"
     ]
    },
    {
     "name": "stdout",
     "output_type": "stream",
     "text": [
      "[2022/06/11 22:17:26] root INFO: dt_boxes num : 4, elapse : 0.329866886138916\n",
      "[2022/06/11 22:17:26] root INFO: rec_res num  : 4, elapse : 0.05815529823303223\n",
      "[2022/06/11 22:17:27] root INFO: dt_boxes num : 4, elapse : 0.3307154178619385\n",
      "[2022/06/11 22:17:27] root INFO: rec_res num  : 4, elapse : 0.06355476379394531\n",
      "[2022/06/11 22:17:27] root INFO: dt_boxes num : 4, elapse : 0.36174726486206055\n",
      "[2022/06/11 22:17:27] root INFO: rec_res num  : 4, elapse : 0.05852460861206055\n",
      "[2022/06/11 22:17:28] root INFO: dt_boxes num : 4, elapse : 0.31311583518981934\n",
      "[2022/06/11 22:17:28] root INFO: rec_res num  : 4, elapse : 0.05451250076293945\n",
      "[2022/06/11 22:17:28] root INFO: dt_boxes num : 4, elapse : 0.32118916511535645\n",
      "[2022/06/11 22:17:28] root INFO: rec_res num  : 4, elapse : 0.05565524101257324\n",
      "[2022/06/11 22:17:28] root INFO: dt_boxes num : 4, elapse : 0.34325432777404785\n",
      "[2022/06/11 22:17:28] root INFO: rec_res num  : 4, elapse : 0.06172609329223633\n",
      "[2022/06/11 22:17:29] root INFO: dt_boxes num : 4, elapse : 0.3443174362182617\n",
      "[2022/06/11 22:17:29] root INFO: rec_res num  : 4, elapse : 0.07976531982421875\n",
      "[2022/06/11 22:17:29] root INFO: dt_boxes num : 2, elapse : 0.33211660385131836\n",
      "[2022/06/11 22:17:29] root INFO: rec_res num  : 2, elapse : 0.025668621063232422\n"
     ]
    },
    {
     "name": "stderr",
     "output_type": "stream",
     "text": [
      "INFO:skip_segmentation:block_new_slides: []\n",
      "INFO:skip_segmentation:#####\n",
      "INFO:skip_segmentation:looking at new block\n",
      "INFO:skip_segmentation:#####\n"
     ]
    },
    {
     "name": "stdout",
     "output_type": "stream",
     "text": [
      "[2022/06/11 22:17:30] root INFO: dt_boxes num : 2, elapse : 0.34327173233032227\n",
      "[2022/06/11 22:17:30] root INFO: rec_res num  : 2, elapse : 0.02892279624938965\n",
      "[2022/06/11 22:17:30] root INFO: dt_boxes num : 2, elapse : 0.32707715034484863\n",
      "[2022/06/11 22:17:30] root INFO: rec_res num  : 2, elapse : 0.028813838958740234\n"
     ]
    },
    {
     "name": "stderr",
     "output_type": "stream",
     "text": [
      "INFO:skip_segmentation:174\n",
      "INFO:skip_segmentation:False\n",
      "INFO:skip_segmentation:174 is False breakpoint\n",
      "INFO:skip_segmentation:block index range: (174, 183)\n",
      "INFO:skip_segmentation:same slide block: True\n",
      "INFO:skip_segmentation:\n",
      "\n",
      "\n",
      "INFO:skip_segmentation:block_new_slides: []\n",
      "INFO:skip_segmentation:#####\n",
      "INFO:skip_segmentation:looking at new block\n",
      "INFO:skip_segmentation:#####\n"
     ]
    },
    {
     "name": "stdout",
     "output_type": "stream",
     "text": [
      "[2022/06/11 22:17:30] root INFO: dt_boxes num : 2, elapse : 0.3373677730560303\n",
      "[2022/06/11 22:17:30] root INFO: rec_res num  : 2, elapse : 0.029955625534057617\n",
      "[2022/06/11 22:17:31] root INFO: dt_boxes num : 6, elapse : 0.33593130111694336\n",
      "[2022/06/11 22:17:31] root INFO: rec_res num  : 6, elapse : 0.6353738307952881\n"
     ]
    },
    {
     "name": "stderr",
     "output_type": "stream",
     "text": [
      "INFO:skip_segmentation:184\n",
      "INFO:skip_segmentation:False\n",
      "INFO:skip_segmentation:184 is False breakpoint\n",
      "INFO:skip_segmentation:block index range: (184, 193)\n",
      "INFO:skip_segmentation:same slide block: False\n",
      "INFO:skip_segmentation:\n",
      "\n",
      "\n"
     ]
    },
    {
     "name": "stdout",
     "output_type": "stream",
     "text": [
      "[2022/06/11 22:17:32] root INFO: dt_boxes num : 2, elapse : 0.34134435653686523\n",
      "[2022/06/11 22:17:32] root INFO: rec_res num  : 2, elapse : 0.025047779083251953\n",
      "[2022/06/11 22:17:32] root INFO: dt_boxes num : 2, elapse : 0.3405647277832031\n",
      "[2022/06/11 22:17:32] root INFO: rec_res num  : 2, elapse : 0.03717374801635742\n",
      "[2022/06/11 22:17:33] root INFO: dt_boxes num : 2, elapse : 0.3552286624908447\n",
      "[2022/06/11 22:17:33] root INFO: rec_res num  : 2, elapse : 0.027008771896362305\n",
      "[2022/06/11 22:17:33] root INFO: dt_boxes num : 7, elapse : 0.34694433212280273\n",
      "[2022/06/11 22:17:34] root INFO: rec_res num  : 7, elapse : 0.5019752979278564\n",
      "[2022/06/11 22:17:34] root INFO: dt_boxes num : 8, elapse : 0.3510773181915283\n",
      "[2022/06/11 22:17:35] root INFO: rec_res num  : 8, elapse : 0.5916588306427002\n",
      "[2022/06/11 22:17:35] root INFO: dt_boxes num : 8, elapse : 0.3260030746459961\n",
      "[2022/06/11 22:17:35] root INFO: rec_res num  : 8, elapse : 0.6142303943634033\n",
      "[2022/06/11 22:17:36] root INFO: dt_boxes num : 7, elapse : 0.3662855625152588\n",
      "[2022/06/11 22:17:36] root INFO: rec_res num  : 7, elapse : 0.48995137214660645\n",
      "[2022/06/11 22:17:37] root INFO: dt_boxes num : 7, elapse : 0.33159589767456055\n",
      "[2022/06/11 22:17:37] root INFO: rec_res num  : 7, elapse : 0.48603105545043945\n"
     ]
    },
    {
     "name": "stderr",
     "output_type": "stream",
     "text": [
      "INFO:skip_segmentation:block_new_slides: [{'jaccard_letter': 0.925, 'jaccard': 1.0, 'letter_dissim': 0.9829059829059829, 'word_dis': 0.9523809523809523, 'frame_token_ct': 234, 'index': 188, 'new_slide_prediction': True}]\n",
      "INFO:skip_segmentation:#####\n",
      "INFO:skip_segmentation:looking at new block\n",
      "INFO:skip_segmentation:#####\n"
     ]
    },
    {
     "name": "stdout",
     "output_type": "stream",
     "text": [
      "[2022/06/11 22:17:38] root INFO: dt_boxes num : 6, elapse : 0.3336141109466553\n",
      "[2022/06/11 22:17:38] root INFO: rec_res num  : 6, elapse : 0.581493616104126\n",
      "[2022/06/11 22:17:39] root INFO: dt_boxes num : 28, elapse : 0.4218165874481201\n",
      "[2022/06/11 22:17:40] root INFO: rec_res num  : 28, elapse : 1.2236034870147705\n"
     ]
    },
    {
     "name": "stderr",
     "output_type": "stream",
     "text": [
      "INFO:skip_segmentation:194\n",
      "INFO:skip_segmentation:False\n",
      "INFO:skip_segmentation:194 is False breakpoint\n",
      "INFO:skip_segmentation:block index range: (194, 203)\n",
      "INFO:skip_segmentation:same slide block: False\n",
      "INFO:skip_segmentation:\n",
      "\n",
      "\n"
     ]
    },
    {
     "name": "stdout",
     "output_type": "stream",
     "text": [
      "[2022/06/11 22:17:40] root INFO: dt_boxes num : 6, elapse : 0.4005296230316162\n",
      "[2022/06/11 22:17:41] root INFO: rec_res num  : 6, elapse : 0.6150836944580078\n",
      "[2022/06/11 22:17:41] root INFO: dt_boxes num : 6, elapse : 0.3842897415161133\n",
      "[2022/06/11 22:17:42] root INFO: rec_res num  : 6, elapse : 0.641258716583252\n",
      "[2022/06/11 22:17:42] root INFO: dt_boxes num : 6, elapse : 0.3462698459625244\n",
      "[2022/06/11 22:17:43] root INFO: rec_res num  : 6, elapse : 0.5940151214599609\n",
      "[2022/06/11 22:17:43] root INFO: dt_boxes num : 6, elapse : 0.356325626373291\n",
      "[2022/06/11 22:17:44] root INFO: rec_res num  : 6, elapse : 0.5638442039489746\n",
      "[2022/06/11 22:17:44] root INFO: dt_boxes num : 6, elapse : 0.3437812328338623\n",
      "[2022/06/11 22:17:45] root INFO: rec_res num  : 6, elapse : 0.5940506458282471\n",
      "[2022/06/11 22:17:45] root INFO: dt_boxes num : 7, elapse : 0.33597469329833984\n",
      "[2022/06/11 22:17:46] root INFO: rec_res num  : 7, elapse : 0.48495912551879883\n",
      "[2022/06/11 22:17:46] root INFO: dt_boxes num : 7, elapse : 0.3321564197540283\n",
      "[2022/06/11 22:17:47] root INFO: rec_res num  : 7, elapse : 0.5471460819244385\n",
      "[2022/06/11 22:17:47] root INFO: dt_boxes num : 8, elapse : 0.3366396427154541\n",
      "[2022/06/11 22:17:47] root INFO: rec_res num  : 8, elapse : 0.5412251949310303\n"
     ]
    },
    {
     "name": "stderr",
     "output_type": "stream",
     "text": [
      "INFO:skip_segmentation:block_new_slides: [{'jaccard_letter': 0.2564102564102564, 'jaccard': 0.967741935483871, 'letter_dissim': 0.7328358208955223, 'word_dis': 0.7916666666666666, 'frame_token_ct': 670, 'index': 203, 'new_slide_prediction': True}]\n",
      "INFO:skip_segmentation:#####\n",
      "INFO:skip_segmentation:looking at new block\n",
      "INFO:skip_segmentation:#####\n"
     ]
    },
    {
     "name": "stdout",
     "output_type": "stream",
     "text": [
      "[2022/06/11 22:17:48] root INFO: dt_boxes num : 27, elapse : 0.3468630313873291\n",
      "[2022/06/11 22:17:49] root INFO: rec_res num  : 27, elapse : 1.0497946739196777\n",
      "[2022/06/11 22:17:49] root INFO: dt_boxes num : 26, elapse : 0.3299887180328369\n",
      "[2022/06/11 22:17:50] root INFO: rec_res num  : 26, elapse : 1.0484051704406738\n"
     ]
    },
    {
     "name": "stderr",
     "output_type": "stream",
     "text": [
      "INFO:skip_segmentation:204\n",
      "INFO:skip_segmentation:False\n",
      "INFO:skip_segmentation:204 is False breakpoint\n",
      "INFO:skip_segmentation:block index range: (204, 213)\n",
      "INFO:skip_segmentation:same slide block: True\n",
      "INFO:skip_segmentation:\n",
      "\n",
      "\n",
      "INFO:skip_segmentation:block_new_slides: []\n",
      "INFO:skip_segmentation:#####\n",
      "INFO:skip_segmentation:looking at new block\n",
      "INFO:skip_segmentation:#####\n"
     ]
    },
    {
     "name": "stdout",
     "output_type": "stream",
     "text": [
      "[2022/06/11 22:17:51] root INFO: dt_boxes num : 26, elapse : 0.33066678047180176\n",
      "[2022/06/11 22:17:52] root INFO: rec_res num  : 26, elapse : 1.088883876800537\n",
      "[2022/06/11 22:17:52] root INFO: dt_boxes num : 27, elapse : 0.3498270511627197\n",
      "[2022/06/11 22:17:53] root INFO: rec_res num  : 27, elapse : 1.0224969387054443\n"
     ]
    },
    {
     "name": "stderr",
     "output_type": "stream",
     "text": [
      "INFO:skip_segmentation:214\n",
      "INFO:skip_segmentation:False\n",
      "INFO:skip_segmentation:214 is False breakpoint\n",
      "INFO:skip_segmentation:block index range: (214, 223)\n",
      "INFO:skip_segmentation:same slide block: True\n",
      "INFO:skip_segmentation:\n",
      "\n",
      "\n",
      "INFO:skip_segmentation:block_new_slides: []\n",
      "INFO:skip_segmentation:#####\n",
      "INFO:skip_segmentation:looking at new block\n",
      "INFO:skip_segmentation:#####\n"
     ]
    },
    {
     "name": "stdout",
     "output_type": "stream",
     "text": [
      "[2022/06/11 22:17:54] root INFO: dt_boxes num : 27, elapse : 0.3447270393371582\n",
      "[2022/06/11 22:17:55] root INFO: rec_res num  : 27, elapse : 1.0142066478729248\n",
      "[2022/06/11 22:17:55] root INFO: dt_boxes num : 28, elapse : 0.351635217666626\n",
      "[2022/06/11 22:17:56] root INFO: rec_res num  : 28, elapse : 1.037435531616211\n"
     ]
    },
    {
     "name": "stderr",
     "output_type": "stream",
     "text": [
      "INFO:skip_segmentation:224\n",
      "INFO:skip_segmentation:False\n",
      "INFO:skip_segmentation:224 is False breakpoint\n",
      "INFO:skip_segmentation:block index range: (224, 233)\n",
      "INFO:skip_segmentation:same slide block: True\n",
      "INFO:skip_segmentation:\n",
      "\n",
      "\n",
      "INFO:skip_segmentation:block_new_slides: []\n",
      "INFO:skip_segmentation:#####\n",
      "INFO:skip_segmentation:looking at new block\n",
      "INFO:skip_segmentation:#####\n"
     ]
    },
    {
     "name": "stdout",
     "output_type": "stream",
     "text": [
      "[2022/06/11 22:17:56] root INFO: dt_boxes num : 28, elapse : 0.3333168029785156\n",
      "[2022/06/11 22:17:57] root INFO: rec_res num  : 28, elapse : 1.0426528453826904\n",
      "[2022/06/11 22:17:58] root INFO: dt_boxes num : 28, elapse : 0.34889817237854004\n",
      "[2022/06/11 22:17:59] root INFO: rec_res num  : 28, elapse : 1.0195226669311523\n"
     ]
    },
    {
     "name": "stderr",
     "output_type": "stream",
     "text": [
      "INFO:skip_segmentation:234\n",
      "INFO:skip_segmentation:False\n",
      "INFO:skip_segmentation:234 is False breakpoint\n",
      "INFO:skip_segmentation:block index range: (234, 243)\n",
      "INFO:skip_segmentation:same slide block: True\n",
      "INFO:skip_segmentation:\n",
      "\n",
      "\n",
      "INFO:skip_segmentation:block_new_slides: []\n",
      "INFO:skip_segmentation:#####\n",
      "INFO:skip_segmentation:looking at new block\n",
      "INFO:skip_segmentation:#####\n"
     ]
    },
    {
     "name": "stdout",
     "output_type": "stream",
     "text": [
      "[2022/06/11 22:17:59] root INFO: dt_boxes num : 27, elapse : 0.3400423526763916\n",
      "[2022/06/11 22:18:00] root INFO: rec_res num  : 27, elapse : 0.9934370517730713\n",
      "[2022/06/11 22:18:01] root INFO: dt_boxes num : 27, elapse : 0.3258507251739502\n",
      "[2022/06/11 22:18:02] root INFO: rec_res num  : 27, elapse : 1.047684669494629\n"
     ]
    },
    {
     "name": "stderr",
     "output_type": "stream",
     "text": [
      "INFO:skip_segmentation:244\n",
      "INFO:skip_segmentation:False\n",
      "INFO:skip_segmentation:244 is False breakpoint\n",
      "INFO:skip_segmentation:block index range: (244, 253)\n",
      "INFO:skip_segmentation:same slide block: True\n",
      "INFO:skip_segmentation:\n",
      "\n",
      "\n",
      "INFO:skip_segmentation:block_new_slides: []\n",
      "INFO:skip_segmentation:#####\n",
      "INFO:skip_segmentation:looking at new block\n",
      "INFO:skip_segmentation:#####\n"
     ]
    },
    {
     "name": "stdout",
     "output_type": "stream",
     "text": [
      "[2022/06/11 22:18:02] root INFO: dt_boxes num : 29, elapse : 0.3277738094329834\n",
      "[2022/06/11 22:18:03] root INFO: rec_res num  : 29, elapse : 1.054738998413086\n",
      "[2022/06/11 22:18:03] root INFO: dt_boxes num : 29, elapse : 0.3443112373352051\n",
      "[2022/06/11 22:18:04] root INFO: rec_res num  : 29, elapse : 1.0686423778533936\n"
     ]
    },
    {
     "name": "stderr",
     "output_type": "stream",
     "text": [
      "INFO:skip_segmentation:254\n",
      "INFO:skip_segmentation:False\n",
      "INFO:skip_segmentation:254 is False breakpoint\n",
      "INFO:skip_segmentation:block index range: (254, 263)\n",
      "INFO:skip_segmentation:same slide block: True\n",
      "INFO:skip_segmentation:\n",
      "\n",
      "\n",
      "INFO:skip_segmentation:block_new_slides: []\n",
      "INFO:skip_segmentation:#####\n",
      "INFO:skip_segmentation:looking at new block\n",
      "INFO:skip_segmentation:#####\n"
     ]
    },
    {
     "name": "stdout",
     "output_type": "stream",
     "text": [
      "[2022/06/11 22:18:05] root INFO: dt_boxes num : 28, elapse : 0.3375096321105957\n",
      "[2022/06/11 22:18:06] root INFO: rec_res num  : 28, elapse : 1.0513732433319092\n",
      "[2022/06/11 22:18:06] root INFO: dt_boxes num : 25, elapse : 0.325075626373291\n",
      "[2022/06/11 22:18:07] root INFO: rec_res num  : 25, elapse : 1.0172686576843262\n"
     ]
    },
    {
     "name": "stderr",
     "output_type": "stream",
     "text": [
      "INFO:skip_segmentation:264\n",
      "INFO:skip_segmentation:False\n",
      "INFO:skip_segmentation:264 is False breakpoint\n",
      "INFO:skip_segmentation:block index range: (264, 273)\n",
      "INFO:skip_segmentation:same slide block: True\n",
      "INFO:skip_segmentation:\n",
      "\n",
      "\n",
      "INFO:skip_segmentation:block_new_slides: []\n",
      "INFO:skip_segmentation:#####\n",
      "INFO:skip_segmentation:looking at new block\n",
      "INFO:skip_segmentation:#####\n"
     ]
    },
    {
     "name": "stdout",
     "output_type": "stream",
     "text": [
      "[2022/06/11 22:18:08] root INFO: dt_boxes num : 25, elapse : 0.34756946563720703\n",
      "[2022/06/11 22:18:09] root INFO: rec_res num  : 25, elapse : 1.0392251014709473\n",
      "[2022/06/11 22:18:09] root INFO: dt_boxes num : 28, elapse : 0.35971808433532715\n",
      "[2022/06/11 22:18:10] root INFO: rec_res num  : 28, elapse : 0.9993891716003418\n"
     ]
    },
    {
     "name": "stderr",
     "output_type": "stream",
     "text": [
      "INFO:skip_segmentation:274\n",
      "INFO:skip_segmentation:False\n",
      "INFO:skip_segmentation:274 is False breakpoint\n",
      "INFO:skip_segmentation:block index range: (274, 283)\n",
      "INFO:skip_segmentation:same slide block: True\n",
      "INFO:skip_segmentation:\n",
      "\n",
      "\n",
      "INFO:skip_segmentation:block_new_slides: []\n",
      "INFO:skip_segmentation:#####\n",
      "INFO:skip_segmentation:looking at new block\n",
      "INFO:skip_segmentation:#####\n"
     ]
    },
    {
     "name": "stdout",
     "output_type": "stream",
     "text": [
      "[2022/06/11 22:18:10] root INFO: dt_boxes num : 25, elapse : 0.34003162384033203\n",
      "[2022/06/11 22:18:12] root INFO: rec_res num  : 25, elapse : 1.00590181350708\n",
      "[2022/06/11 22:18:12] root INFO: dt_boxes num : 26, elapse : 0.3376119136810303\n",
      "[2022/06/11 22:18:13] root INFO: rec_res num  : 26, elapse : 1.0796072483062744\n"
     ]
    },
    {
     "name": "stderr",
     "output_type": "stream",
     "text": [
      "INFO:skip_segmentation:284\n",
      "INFO:skip_segmentation:False\n",
      "INFO:skip_segmentation:284 is False breakpoint\n",
      "INFO:skip_segmentation:block index range: (284, 293)\n",
      "INFO:skip_segmentation:same slide block: True\n",
      "INFO:skip_segmentation:\n",
      "\n",
      "\n",
      "INFO:skip_segmentation:block_new_slides: []\n",
      "INFO:skip_segmentation:#####\n",
      "INFO:skip_segmentation:looking at new block\n",
      "INFO:skip_segmentation:#####\n"
     ]
    },
    {
     "name": "stdout",
     "output_type": "stream",
     "text": [
      "[2022/06/11 22:18:13] root INFO: dt_boxes num : 26, elapse : 0.34104418754577637\n",
      "[2022/06/11 22:18:14] root INFO: rec_res num  : 26, elapse : 1.094019889831543\n",
      "[2022/06/11 22:18:15] root INFO: dt_boxes num : 26, elapse : 0.3443882465362549\n",
      "[2022/06/11 22:18:16] root INFO: rec_res num  : 26, elapse : 1.0458998680114746\n"
     ]
    },
    {
     "name": "stderr",
     "output_type": "stream",
     "text": [
      "INFO:skip_segmentation:294\n",
      "INFO:skip_segmentation:False\n",
      "INFO:skip_segmentation:294 is False breakpoint\n",
      "INFO:skip_segmentation:block index range: (294, 303)\n",
      "INFO:skip_segmentation:same slide block: True\n",
      "INFO:skip_segmentation:\n",
      "\n",
      "\n",
      "INFO:skip_segmentation:block_new_slides: []\n",
      "INFO:skip_segmentation:#####\n",
      "INFO:skip_segmentation:looking at new block\n",
      "INFO:skip_segmentation:#####\n"
     ]
    },
    {
     "name": "stdout",
     "output_type": "stream",
     "text": [
      "[2022/06/11 22:18:16] root INFO: dt_boxes num : 27, elapse : 0.33229565620422363\n",
      "[2022/06/11 22:18:17] root INFO: rec_res num  : 27, elapse : 0.9801955223083496\n",
      "[2022/06/11 22:18:18] root INFO: dt_boxes num : 25, elapse : 0.3257324695587158\n",
      "[2022/06/11 22:18:19] root INFO: rec_res num  : 25, elapse : 1.0066087245941162\n"
     ]
    },
    {
     "name": "stderr",
     "output_type": "stream",
     "text": [
      "INFO:skip_segmentation:304\n",
      "INFO:skip_segmentation:False\n",
      "INFO:skip_segmentation:304 is False breakpoint\n",
      "INFO:skip_segmentation:block index range: (304, 313)\n",
      "INFO:skip_segmentation:same slide block: True\n",
      "INFO:skip_segmentation:\n",
      "\n",
      "\n",
      "INFO:skip_segmentation:block_new_slides: []\n",
      "INFO:skip_segmentation:#####\n",
      "INFO:skip_segmentation:looking at new block\n",
      "INFO:skip_segmentation:#####\n"
     ]
    },
    {
     "name": "stdout",
     "output_type": "stream",
     "text": [
      "[2022/06/11 22:18:19] root INFO: dt_boxes num : 26, elapse : 0.34821391105651855\n",
      "[2022/06/11 22:18:20] root INFO: rec_res num  : 26, elapse : 1.0837976932525635\n",
      "[2022/06/11 22:18:20] root INFO: dt_boxes num : 27, elapse : 0.35973119735717773\n",
      "[2022/06/11 22:18:21] root INFO: rec_res num  : 27, elapse : 0.9994745254516602\n"
     ]
    },
    {
     "name": "stderr",
     "output_type": "stream",
     "text": [
      "INFO:skip_segmentation:314\n",
      "INFO:skip_segmentation:False\n",
      "INFO:skip_segmentation:314 is False breakpoint\n",
      "INFO:skip_segmentation:block index range: (314, 323)\n",
      "INFO:skip_segmentation:same slide block: True\n",
      "INFO:skip_segmentation:\n",
      "\n",
      "\n",
      "INFO:skip_segmentation:block_new_slides: []\n",
      "INFO:skip_segmentation:#####\n",
      "INFO:skip_segmentation:looking at new block\n",
      "INFO:skip_segmentation:#####\n"
     ]
    },
    {
     "name": "stdout",
     "output_type": "stream",
     "text": [
      "[2022/06/11 22:18:22] root INFO: dt_boxes num : 7, elapse : 0.32610106468200684\n",
      "[2022/06/11 22:18:22] root INFO: rec_res num  : 7, elapse : 0.2568817138671875\n",
      "[2022/06/11 22:18:22] root INFO: dt_boxes num : 15, elapse : 0.3399384021759033\n",
      "[2022/06/11 22:18:23] root INFO: rec_res num  : 15, elapse : 1.065237283706665\n"
     ]
    },
    {
     "name": "stderr",
     "output_type": "stream",
     "text": [
      "INFO:skip_segmentation:324\n",
      "INFO:skip_segmentation:True\n",
      "INFO:skip_segmentation:324 is True breakpoint\n",
      "INFO:skip_segmentation:block index range: (324, 333)\n",
      "INFO:skip_segmentation:same slide block: False\n",
      "INFO:skip_segmentation:\n",
      "\n",
      "\n"
     ]
    },
    {
     "name": "stdout",
     "output_type": "stream",
     "text": [
      "[2022/06/11 22:18:24] root INFO: dt_boxes num : 6, elapse : 0.3322122097015381\n",
      "[2022/06/11 22:18:24] root INFO: rec_res num  : 6, elapse : 0.46438050270080566\n",
      "[2022/06/11 22:18:25] root INFO: dt_boxes num : 6, elapse : 0.3382103443145752\n",
      "[2022/06/11 22:18:25] root INFO: rec_res num  : 6, elapse : 0.4766879081726074\n",
      "[2022/06/11 22:18:26] root INFO: dt_boxes num : 7, elapse : 0.3377056121826172\n",
      "[2022/06/11 22:18:26] root INFO: rec_res num  : 7, elapse : 0.24733734130859375\n",
      "[2022/06/11 22:18:26] root INFO: dt_boxes num : 6, elapse : 0.35781025886535645\n",
      "[2022/06/11 22:18:27] root INFO: rec_res num  : 6, elapse : 0.4729015827178955\n",
      "[2022/06/11 22:18:27] root INFO: dt_boxes num : 7, elapse : 0.3329136371612549\n",
      "[2022/06/11 22:18:27] root INFO: rec_res num  : 7, elapse : 0.2479262351989746\n",
      "[2022/06/11 22:18:28] root INFO: dt_boxes num : 8, elapse : 0.32769203186035156\n",
      "[2022/06/11 22:18:28] root INFO: rec_res num  : 8, elapse : 0.3317530155181885\n",
      "[2022/06/11 22:18:28] root INFO: dt_boxes num : 7, elapse : 0.3493483066558838\n",
      "[2022/06/11 22:18:29] root INFO: rec_res num  : 7, elapse : 0.2540109157562256\n",
      "[2022/06/11 22:18:29] root INFO: dt_boxes num : 7, elapse : 0.45105767250061035\n",
      "[2022/06/11 22:18:29] root INFO: rec_res num  : 7, elapse : 0.29964327812194824\n"
     ]
    },
    {
     "name": "stderr",
     "output_type": "stream",
     "text": [
      "INFO:skip_segmentation:block_new_slides: [{'jaccard_letter': 0.38235294117647056, 'jaccard': 0.9, 'letter_dissim': 0.8088467614533965, 'word_dis': 0.8048780487804879, 'frame_token_ct': 633, 'index': 333, 'new_slide_prediction': True}]\n",
      "INFO:skip_segmentation:#####\n",
      "INFO:skip_segmentation:looking at new block\n",
      "INFO:skip_segmentation:#####\n"
     ]
    },
    {
     "name": "stdout",
     "output_type": "stream",
     "text": [
      "[2022/06/11 22:18:30] root INFO: dt_boxes num : 15, elapse : 0.3942275047302246\n",
      "[2022/06/11 22:18:31] root INFO: rec_res num  : 15, elapse : 1.2246980667114258\n",
      "[2022/06/11 22:18:31] root INFO: dt_boxes num : 16, elapse : 0.3726997375488281\n",
      "[2022/06/11 22:18:33] root INFO: rec_res num  : 16, elapse : 1.1058077812194824\n"
     ]
    },
    {
     "name": "stderr",
     "output_type": "stream",
     "text": [
      "INFO:skip_segmentation:334\n",
      "INFO:skip_segmentation:False\n",
      "INFO:skip_segmentation:334 is False breakpoint\n",
      "INFO:skip_segmentation:block index range: (334, 343)\n",
      "INFO:skip_segmentation:same slide block: True\n",
      "INFO:skip_segmentation:\n",
      "\n",
      "\n",
      "INFO:skip_segmentation:block_new_slides: []\n",
      "INFO:skip_segmentation:#####\n",
      "INFO:skip_segmentation:looking at new block\n",
      "INFO:skip_segmentation:#####\n"
     ]
    },
    {
     "name": "stdout",
     "output_type": "stream",
     "text": [
      "[2022/06/11 22:18:33] root INFO: dt_boxes num : 16, elapse : 0.3585331439971924\n",
      "[2022/06/11 22:18:34] root INFO: rec_res num  : 16, elapse : 1.0364155769348145\n",
      "[2022/06/11 22:18:34] root INFO: dt_boxes num : 17, elapse : 0.33323121070861816\n",
      "[2022/06/11 22:18:35] root INFO: rec_res num  : 17, elapse : 1.1118288040161133\n"
     ]
    },
    {
     "name": "stderr",
     "output_type": "stream",
     "text": [
      "INFO:skip_segmentation:344\n",
      "INFO:skip_segmentation:False\n",
      "INFO:skip_segmentation:344 is False breakpoint\n",
      "INFO:skip_segmentation:block index range: (344, 353)\n",
      "INFO:skip_segmentation:same slide block: True\n",
      "INFO:skip_segmentation:\n",
      "\n",
      "\n",
      "INFO:skip_segmentation:block_new_slides: []\n",
      "INFO:skip_segmentation:#####\n",
      "INFO:skip_segmentation:looking at new block\n",
      "INFO:skip_segmentation:#####\n"
     ]
    },
    {
     "name": "stdout",
     "output_type": "stream",
     "text": [
      "[2022/06/11 22:18:36] root INFO: dt_boxes num : 17, elapse : 0.3326094150543213\n",
      "[2022/06/11 22:18:37] root INFO: rec_res num  : 17, elapse : 1.078413486480713\n",
      "[2022/06/11 22:18:37] root INFO: dt_boxes num : 16, elapse : 0.33477330207824707\n",
      "[2022/06/11 22:18:38] root INFO: rec_res num  : 16, elapse : 1.0236945152282715\n"
     ]
    },
    {
     "name": "stderr",
     "output_type": "stream",
     "text": [
      "INFO:skip_segmentation:354\n",
      "INFO:skip_segmentation:False\n",
      "INFO:skip_segmentation:354 is False breakpoint\n",
      "INFO:skip_segmentation:block index range: (354, 363)\n",
      "INFO:skip_segmentation:same slide block: True\n",
      "INFO:skip_segmentation:\n",
      "\n",
      "\n",
      "INFO:skip_segmentation:block_new_slides: []\n",
      "INFO:skip_segmentation:#####\n",
      "INFO:skip_segmentation:looking at new block\n",
      "INFO:skip_segmentation:#####\n"
     ]
    },
    {
     "name": "stdout",
     "output_type": "stream",
     "text": [
      "[2022/06/11 22:18:39] root INFO: dt_boxes num : 16, elapse : 0.3237905502319336\n",
      "[2022/06/11 22:18:40] root INFO: rec_res num  : 16, elapse : 1.0547518730163574\n",
      "[2022/06/11 22:18:40] root INFO: dt_boxes num : 16, elapse : 0.342862606048584\n",
      "[2022/06/11 22:18:41] root INFO: rec_res num  : 16, elapse : 1.149083137512207\n"
     ]
    },
    {
     "name": "stderr",
     "output_type": "stream",
     "text": [
      "INFO:skip_segmentation:364\n",
      "INFO:skip_segmentation:False\n",
      "INFO:skip_segmentation:364 is False breakpoint\n",
      "INFO:skip_segmentation:block index range: (364, 373)\n",
      "INFO:skip_segmentation:same slide block: True\n",
      "INFO:skip_segmentation:\n",
      "\n",
      "\n",
      "INFO:skip_segmentation:block_new_slides: []\n",
      "INFO:skip_segmentation:#####\n",
      "INFO:skip_segmentation:looking at new block\n",
      "INFO:skip_segmentation:#####\n"
     ]
    },
    {
     "name": "stdout",
     "output_type": "stream",
     "text": [
      "[2022/06/11 22:18:42] root INFO: dt_boxes num : 16, elapse : 0.4271078109741211\n",
      "[2022/06/11 22:18:43] root INFO: rec_res num  : 16, elapse : 1.1717548370361328\n",
      "[2022/06/11 22:18:43] root INFO: dt_boxes num : 15, elapse : 0.353008508682251\n",
      "[2022/06/11 22:18:44] root INFO: rec_res num  : 15, elapse : 0.9954960346221924\n"
     ]
    },
    {
     "name": "stderr",
     "output_type": "stream",
     "text": [
      "INFO:skip_segmentation:374\n",
      "INFO:skip_segmentation:False\n",
      "INFO:skip_segmentation:374 is False breakpoint\n",
      "INFO:skip_segmentation:block index range: (374, 383)\n",
      "INFO:skip_segmentation:same slide block: True\n",
      "INFO:skip_segmentation:\n",
      "\n",
      "\n",
      "INFO:skip_segmentation:block_new_slides: []\n",
      "INFO:skip_segmentation:#####\n",
      "INFO:skip_segmentation:looking at new block\n",
      "INFO:skip_segmentation:#####\n"
     ]
    },
    {
     "name": "stdout",
     "output_type": "stream",
     "text": [
      "[2022/06/11 22:18:45] root INFO: dt_boxes num : 14, elapse : 0.3274993896484375\n",
      "[2022/06/11 22:18:46] root INFO: rec_res num  : 14, elapse : 1.1589572429656982\n",
      "[2022/06/11 22:18:46] root INFO: dt_boxes num : 14, elapse : 0.3660318851470947\n",
      "[2022/06/11 22:18:47] root INFO: rec_res num  : 14, elapse : 1.0272655487060547\n"
     ]
    },
    {
     "name": "stderr",
     "output_type": "stream",
     "text": [
      "INFO:skip_segmentation:384\n",
      "INFO:skip_segmentation:False\n",
      "INFO:skip_segmentation:384 is False breakpoint\n",
      "INFO:skip_segmentation:block index range: (384, 393)\n",
      "INFO:skip_segmentation:same slide block: True\n",
      "INFO:skip_segmentation:\n",
      "\n",
      "\n",
      "INFO:skip_segmentation:block_new_slides: []\n",
      "INFO:skip_segmentation:#####\n",
      "INFO:skip_segmentation:looking at new block\n",
      "INFO:skip_segmentation:#####\n"
     ]
    },
    {
     "name": "stdout",
     "output_type": "stream",
     "text": [
      "[2022/06/11 22:18:48] root INFO: dt_boxes num : 15, elapse : 0.3330569267272949\n",
      "[2022/06/11 22:18:49] root INFO: rec_res num  : 15, elapse : 1.0211565494537354\n",
      "[2022/06/11 22:18:49] root INFO: dt_boxes num : 16, elapse : 0.3331277370452881\n",
      "[2022/06/11 22:18:50] root INFO: rec_res num  : 16, elapse : 1.06593656539917\n"
     ]
    },
    {
     "name": "stderr",
     "output_type": "stream",
     "text": [
      "INFO:skip_segmentation:394\n",
      "INFO:skip_segmentation:False\n",
      "INFO:skip_segmentation:394 is False breakpoint\n",
      "INFO:skip_segmentation:block index range: (394, 403)\n",
      "INFO:skip_segmentation:same slide block: True\n",
      "INFO:skip_segmentation:\n",
      "\n",
      "\n",
      "INFO:skip_segmentation:block_new_slides: []\n",
      "INFO:skip_segmentation:#####\n",
      "INFO:skip_segmentation:looking at new block\n",
      "INFO:skip_segmentation:#####\n"
     ]
    },
    {
     "name": "stdout",
     "output_type": "stream",
     "text": [
      "[2022/06/11 22:18:50] root INFO: dt_boxes num : 16, elapse : 0.3446321487426758\n",
      "[2022/06/11 22:18:52] root INFO: rec_res num  : 16, elapse : 1.0929608345031738\n",
      "[2022/06/11 22:18:52] root INFO: dt_boxes num : 15, elapse : 0.3417832851409912\n",
      "[2022/06/11 22:18:53] root INFO: rec_res num  : 15, elapse : 1.0844662189483643\n"
     ]
    },
    {
     "name": "stderr",
     "output_type": "stream",
     "text": [
      "INFO:skip_segmentation:404\n",
      "INFO:skip_segmentation:False\n",
      "INFO:skip_segmentation:404 is False breakpoint\n",
      "INFO:skip_segmentation:block index range: (404, 413)\n",
      "INFO:skip_segmentation:same slide block: True\n",
      "INFO:skip_segmentation:\n",
      "\n",
      "\n",
      "INFO:skip_segmentation:block_new_slides: []\n",
      "INFO:skip_segmentation:#####\n",
      "INFO:skip_segmentation:looking at new block\n",
      "INFO:skip_segmentation:#####\n"
     ]
    },
    {
     "name": "stdout",
     "output_type": "stream",
     "text": [
      "[2022/06/11 22:18:53] root INFO: dt_boxes num : 15, elapse : 0.3198421001434326\n",
      "[2022/06/11 22:18:55] root INFO: rec_res num  : 15, elapse : 1.2924277782440186\n",
      "[2022/06/11 22:18:55] root INFO: dt_boxes num : 16, elapse : 0.3737826347351074\n",
      "[2022/06/11 22:18:56] root INFO: rec_res num  : 16, elapse : 1.0605425834655762\n"
     ]
    },
    {
     "name": "stderr",
     "output_type": "stream",
     "text": [
      "INFO:skip_segmentation:414\n",
      "INFO:skip_segmentation:False\n",
      "INFO:skip_segmentation:414 is False breakpoint\n",
      "INFO:skip_segmentation:block index range: (414, 423)\n",
      "INFO:skip_segmentation:same slide block: True\n",
      "INFO:skip_segmentation:\n",
      "\n",
      "\n",
      "INFO:skip_segmentation:block_new_slides: []\n",
      "INFO:skip_segmentation:#####\n",
      "INFO:skip_segmentation:looking at new block\n",
      "INFO:skip_segmentation:#####\n"
     ]
    },
    {
     "name": "stdout",
     "output_type": "stream",
     "text": [
      "[2022/06/11 22:18:57] root INFO: dt_boxes num : 17, elapse : 0.569373369216919\n",
      "[2022/06/11 22:18:58] root INFO: rec_res num  : 17, elapse : 1.1858680248260498\n",
      "[2022/06/11 22:18:58] root INFO: dt_boxes num : 16, elapse : 0.3373684883117676\n",
      "[2022/06/11 22:18:59] root INFO: rec_res num  : 16, elapse : 1.0920240879058838\n"
     ]
    },
    {
     "name": "stderr",
     "output_type": "stream",
     "text": [
      "INFO:skip_segmentation:424\n",
      "INFO:skip_segmentation:False\n",
      "INFO:skip_segmentation:424 is False breakpoint\n",
      "INFO:skip_segmentation:block index range: (424, 433)\n",
      "INFO:skip_segmentation:same slide block: True\n",
      "INFO:skip_segmentation:\n",
      "\n",
      "\n",
      "INFO:skip_segmentation:block_new_slides: []\n",
      "INFO:skip_segmentation:#####\n",
      "INFO:skip_segmentation:looking at new block\n",
      "INFO:skip_segmentation:#####\n"
     ]
    },
    {
     "name": "stdout",
     "output_type": "stream",
     "text": [
      "[2022/06/11 22:19:00] root INFO: dt_boxes num : 16, elapse : 0.3638639450073242\n",
      "[2022/06/11 22:19:01] root INFO: rec_res num  : 16, elapse : 1.1849541664123535\n",
      "[2022/06/11 22:19:01] root INFO: dt_boxes num : 13, elapse : 0.38666844367980957\n",
      "[2022/06/11 22:19:02] root INFO: rec_res num  : 13, elapse : 0.850731372833252\n"
     ]
    },
    {
     "name": "stderr",
     "output_type": "stream",
     "text": [
      "INFO:skip_segmentation:434\n",
      "INFO:skip_segmentation:False\n",
      "INFO:skip_segmentation:434 is False breakpoint\n",
      "INFO:skip_segmentation:block index range: (434, 443)\n",
      "INFO:skip_segmentation:same slide block: False\n",
      "INFO:skip_segmentation:\n",
      "\n",
      "\n"
     ]
    },
    {
     "name": "stdout",
     "output_type": "stream",
     "text": [
      "[2022/06/11 22:19:03] root INFO: dt_boxes num : 16, elapse : 0.33402037620544434\n",
      "[2022/06/11 22:19:04] root INFO: rec_res num  : 16, elapse : 1.052905797958374\n",
      "[2022/06/11 22:19:04] root INFO: dt_boxes num : 16, elapse : 0.3524298667907715\n",
      "[2022/06/11 22:19:05] root INFO: rec_res num  : 16, elapse : 1.0812406539916992\n",
      "[2022/06/11 22:19:06] root INFO: dt_boxes num : 16, elapse : 0.3912358283996582\n",
      "[2022/06/11 22:19:07] root INFO: rec_res num  : 16, elapse : 1.2154974937438965\n",
      "[2022/06/11 22:19:07] root INFO: dt_boxes num : 16, elapse : 0.35138511657714844\n",
      "[2022/06/11 22:19:08] root INFO: rec_res num  : 16, elapse : 1.1167516708374023\n",
      "[2022/06/11 22:19:09] root INFO: dt_boxes num : 17, elapse : 0.39954519271850586\n",
      "[2022/06/11 22:19:10] root INFO: rec_res num  : 17, elapse : 1.1280534267425537\n",
      "[2022/06/11 22:19:10] root INFO: dt_boxes num : 17, elapse : 0.34722042083740234\n",
      "[2022/06/11 22:19:11] root INFO: rec_res num  : 17, elapse : 1.0857183933258057\n",
      "[2022/06/11 22:19:12] root INFO: dt_boxes num : 16, elapse : 0.35573816299438477\n",
      "[2022/06/11 22:19:13] root INFO: rec_res num  : 16, elapse : 1.009878158569336\n",
      "[2022/06/11 22:19:13] root INFO: dt_boxes num : 13, elapse : 0.37021350860595703\n",
      "[2022/06/11 22:19:14] root INFO: rec_res num  : 13, elapse : 0.8077075481414795\n"
     ]
    },
    {
     "name": "stderr",
     "output_type": "stream",
     "text": [
      "INFO:skip_segmentation:block_new_slides: [{'jaccard_letter': 0.09090909090909091, 'jaccard': 0.9042553191489362, 'letter_dissim': 0.27230046948356806, 'word_dis': 0.35365853658536583, 'frame_token_ct': 465, 'index': 442, 'new_slide_prediction': True}]\n",
      "INFO:skip_segmentation:#####\n",
      "INFO:skip_segmentation:looking at new block\n",
      "INFO:skip_segmentation:#####\n"
     ]
    },
    {
     "name": "stdout",
     "output_type": "stream",
     "text": [
      "[2022/06/11 22:19:14] root INFO: dt_boxes num : 14, elapse : 0.33193349838256836\n",
      "[2022/06/11 22:19:15] root INFO: rec_res num  : 14, elapse : 0.8813858032226562\n",
      "[2022/06/11 22:19:16] root INFO: dt_boxes num : 15, elapse : 0.32967305183410645\n",
      "[2022/06/11 22:19:17] root INFO: rec_res num  : 15, elapse : 1.0183889865875244\n"
     ]
    },
    {
     "name": "stderr",
     "output_type": "stream",
     "text": [
      "INFO:skip_segmentation:444\n",
      "INFO:skip_segmentation:False\n",
      "INFO:skip_segmentation:444 is False breakpoint\n",
      "INFO:skip_segmentation:block index range: (444, 453)\n",
      "INFO:skip_segmentation:same slide block: True\n",
      "INFO:skip_segmentation:\n",
      "\n",
      "\n",
      "INFO:skip_segmentation:block_new_slides: []\n",
      "INFO:skip_segmentation:#####\n",
      "INFO:skip_segmentation:looking at new block\n",
      "INFO:skip_segmentation:#####\n"
     ]
    },
    {
     "name": "stdout",
     "output_type": "stream",
     "text": [
      "[2022/06/11 22:19:17] root INFO: dt_boxes num : 13, elapse : 0.33556604385375977\n",
      "[2022/06/11 22:19:18] root INFO: rec_res num  : 13, elapse : 0.7863254547119141\n",
      "[2022/06/11 22:19:18] root INFO: dt_boxes num : 16, elapse : 0.32582688331604004\n",
      "[2022/06/11 22:19:19] root INFO: rec_res num  : 16, elapse : 0.9476583003997803\n"
     ]
    },
    {
     "name": "stderr",
     "output_type": "stream",
     "text": [
      "INFO:skip_segmentation:454\n",
      "INFO:skip_segmentation:False\n",
      "INFO:skip_segmentation:454 is False breakpoint\n",
      "INFO:skip_segmentation:block index range: (454, 463)\n",
      "INFO:skip_segmentation:same slide block: True\n",
      "INFO:skip_segmentation:\n",
      "\n",
      "\n",
      "INFO:skip_segmentation:block_new_slides: []\n",
      "INFO:skip_segmentation:#####\n",
      "INFO:skip_segmentation:looking at new block\n",
      "INFO:skip_segmentation:#####\n"
     ]
    },
    {
     "name": "stdout",
     "output_type": "stream",
     "text": [
      "[2022/06/11 22:19:19] root INFO: dt_boxes num : 16, elapse : 0.3447134494781494\n",
      "[2022/06/11 22:19:20] root INFO: rec_res num  : 16, elapse : 0.9900367259979248\n",
      "[2022/06/11 22:19:21] root INFO: dt_boxes num : 14, elapse : 0.3617844581604004\n",
      "[2022/06/11 22:19:22] root INFO: rec_res num  : 14, elapse : 0.9032995700836182\n"
     ]
    },
    {
     "name": "stderr",
     "output_type": "stream",
     "text": [
      "INFO:skip_segmentation:464\n",
      "INFO:skip_segmentation:False\n",
      "INFO:skip_segmentation:464 is False breakpoint\n",
      "INFO:skip_segmentation:block index range: (464, 473)\n",
      "INFO:skip_segmentation:same slide block: True\n",
      "INFO:skip_segmentation:\n",
      "\n",
      "\n",
      "INFO:skip_segmentation:block_new_slides: []\n",
      "INFO:skip_segmentation:#####\n",
      "INFO:skip_segmentation:looking at new block\n",
      "INFO:skip_segmentation:#####\n"
     ]
    },
    {
     "name": "stdout",
     "output_type": "stream",
     "text": [
      "[2022/06/11 22:19:22] root INFO: dt_boxes num : 15, elapse : 0.33200955390930176\n",
      "[2022/06/11 22:19:23] root INFO: rec_res num  : 15, elapse : 1.0538403987884521\n",
      "[2022/06/11 22:19:24] root INFO: dt_boxes num : 14, elapse : 0.35741686820983887\n",
      "[2022/06/11 22:19:24] root INFO: rec_res num  : 14, elapse : 0.902756929397583\n"
     ]
    },
    {
     "name": "stderr",
     "output_type": "stream",
     "text": [
      "INFO:skip_segmentation:474\n",
      "INFO:skip_segmentation:False\n",
      "INFO:skip_segmentation:474 is False breakpoint\n",
      "INFO:skip_segmentation:block index range: (474, 483)\n",
      "INFO:skip_segmentation:same slide block: True\n",
      "INFO:skip_segmentation:\n",
      "\n",
      "\n",
      "INFO:skip_segmentation:block_new_slides: []\n",
      "INFO:skip_segmentation:#####\n",
      "INFO:skip_segmentation:looking at new block\n",
      "INFO:skip_segmentation:#####\n"
     ]
    },
    {
     "name": "stdout",
     "output_type": "stream",
     "text": [
      "[2022/06/11 22:19:25] root INFO: dt_boxes num : 14, elapse : 0.3548922538757324\n",
      "[2022/06/11 22:19:26] root INFO: rec_res num  : 14, elapse : 0.8948945999145508\n",
      "[2022/06/11 22:19:26] root INFO: dt_boxes num : 23, elapse : 0.32675671577453613\n",
      "[2022/06/11 22:19:27] root INFO: rec_res num  : 23, elapse : 1.2641804218292236\n"
     ]
    },
    {
     "name": "stderr",
     "output_type": "stream",
     "text": [
      "INFO:skip_segmentation:484\n",
      "INFO:skip_segmentation:False\n",
      "INFO:skip_segmentation:484 is False breakpoint\n",
      "INFO:skip_segmentation:block index range: (484, 493)\n",
      "INFO:skip_segmentation:same slide block: False\n",
      "INFO:skip_segmentation:\n",
      "\n",
      "\n"
     ]
    },
    {
     "name": "stdout",
     "output_type": "stream",
     "text": [
      "[2022/06/11 22:19:28] root INFO: dt_boxes num : 13, elapse : 0.3292546272277832\n",
      "[2022/06/11 22:19:28] root INFO: rec_res num  : 13, elapse : 0.7906961441040039\n",
      "[2022/06/11 22:19:29] root INFO: dt_boxes num : 13, elapse : 0.3414483070373535\n",
      "[2022/06/11 22:19:30] root INFO: rec_res num  : 13, elapse : 0.8182761669158936\n",
      "[2022/06/11 22:19:30] root INFO: dt_boxes num : 13, elapse : 0.32291412353515625\n",
      "[2022/06/11 22:19:31] root INFO: rec_res num  : 13, elapse : 0.7974514961242676\n",
      "[2022/06/11 22:19:31] root INFO: dt_boxes num : 13, elapse : 0.33255529403686523\n",
      "[2022/06/11 22:19:32] root INFO: rec_res num  : 13, elapse : 0.796623706817627\n",
      "[2022/06/11 22:19:32] root INFO: dt_boxes num : 13, elapse : 0.3251357078552246\n",
      "[2022/06/11 22:19:33] root INFO: rec_res num  : 13, elapse : 0.8470308780670166\n",
      "[2022/06/11 22:19:34] root INFO: dt_boxes num : 15, elapse : 0.3307681083679199\n",
      "[2022/06/11 22:19:35] root INFO: rec_res num  : 15, elapse : 1.046638011932373\n",
      "[2022/06/11 22:19:35] root INFO: dt_boxes num : 14, elapse : 0.3325343132019043\n",
      "[2022/06/11 22:19:36] root INFO: rec_res num  : 14, elapse : 0.9833521842956543\n",
      "[2022/06/11 22:19:36] root INFO: dt_boxes num : 13, elapse : 0.3443770408630371\n",
      "[2022/06/11 22:19:37] root INFO: rec_res num  : 13, elapse : 0.7994701862335205\n"
     ]
    },
    {
     "name": "stderr",
     "output_type": "stream",
     "text": [
      "INFO:skip_segmentation:block_new_slides: [{'jaccard_letter': 0.2, 'jaccard': 0.9285714285714286, 'letter_dissim': 0.30906389301634474, 'word_dis': 0.35365853658536583, 'frame_token_ct': 673, 'index': 493, 'new_slide_prediction': True}]\n",
      "INFO:skip_segmentation:#####\n",
      "INFO:skip_segmentation:looking at new block\n",
      "INFO:skip_segmentation:#####\n"
     ]
    },
    {
     "name": "stdout",
     "output_type": "stream",
     "text": [
      "[2022/06/11 22:19:38] root INFO: dt_boxes num : 24, elapse : 0.36706018447875977\n",
      "[2022/06/11 22:19:39] root INFO: rec_res num  : 24, elapse : 1.4374511241912842\n",
      "[2022/06/11 22:19:39] root INFO: dt_boxes num : 23, elapse : 0.32968807220458984\n",
      "[2022/06/11 22:19:41] root INFO: rec_res num  : 23, elapse : 1.4544298648834229\n"
     ]
    },
    {
     "name": "stderr",
     "output_type": "stream",
     "text": [
      "INFO:skip_segmentation:494\n",
      "INFO:skip_segmentation:False\n",
      "INFO:skip_segmentation:494 is False breakpoint\n",
      "INFO:skip_segmentation:block index range: (494, 503)\n",
      "INFO:skip_segmentation:same slide block: True\n",
      "INFO:skip_segmentation:\n",
      "\n",
      "\n",
      "INFO:skip_segmentation:block_new_slides: []\n",
      "INFO:skip_segmentation:#####\n",
      "INFO:skip_segmentation:looking at new block\n",
      "INFO:skip_segmentation:#####\n"
     ]
    },
    {
     "name": "stdout",
     "output_type": "stream",
     "text": [
      "[2022/06/11 22:19:41] root INFO: dt_boxes num : 24, elapse : 0.35234761238098145\n",
      "[2022/06/11 22:19:43] root INFO: rec_res num  : 24, elapse : 1.4001710414886475\n",
      "[2022/06/11 22:19:43] root INFO: dt_boxes num : 22, elapse : 0.38918161392211914\n",
      "[2022/06/11 22:19:44] root INFO: rec_res num  : 22, elapse : 1.1913390159606934\n"
     ]
    },
    {
     "name": "stderr",
     "output_type": "stream",
     "text": [
      "INFO:skip_segmentation:504\n",
      "INFO:skip_segmentation:False\n",
      "INFO:skip_segmentation:504 is False breakpoint\n",
      "INFO:skip_segmentation:block index range: (504, 513)\n",
      "INFO:skip_segmentation:same slide block: True\n",
      "INFO:skip_segmentation:\n",
      "\n",
      "\n",
      "INFO:skip_segmentation:block_new_slides: []\n",
      "INFO:skip_segmentation:#####\n",
      "INFO:skip_segmentation:looking at new block\n",
      "INFO:skip_segmentation:#####\n"
     ]
    },
    {
     "name": "stdout",
     "output_type": "stream",
     "text": [
      "[2022/06/11 22:19:45] root INFO: dt_boxes num : 23, elapse : 0.33856844902038574\n",
      "[2022/06/11 22:19:46] root INFO: rec_res num  : 23, elapse : 1.3385956287384033\n",
      "[2022/06/11 22:19:46] root INFO: dt_boxes num : 26, elapse : 0.3338618278503418\n",
      "[2022/06/11 22:19:48] root INFO: rec_res num  : 26, elapse : 1.3084344863891602\n"
     ]
    },
    {
     "name": "stderr",
     "output_type": "stream",
     "text": [
      "INFO:skip_segmentation:514\n",
      "INFO:skip_segmentation:False\n",
      "INFO:skip_segmentation:514 is False breakpoint\n",
      "INFO:skip_segmentation:block index range: (514, 523)\n",
      "INFO:skip_segmentation:same slide block: True\n",
      "INFO:skip_segmentation:\n",
      "\n",
      "\n",
      "INFO:skip_segmentation:block_new_slides: []\n",
      "INFO:skip_segmentation:#####\n",
      "INFO:skip_segmentation:looking at new block\n",
      "INFO:skip_segmentation:#####\n"
     ]
    },
    {
     "name": "stdout",
     "output_type": "stream",
     "text": [
      "[2022/06/11 22:19:48] root INFO: dt_boxes num : 25, elapse : 0.3311038017272949\n",
      "[2022/06/11 22:19:49] root INFO: rec_res num  : 25, elapse : 1.2170941829681396\n",
      "[2022/06/11 22:19:50] root INFO: dt_boxes num : 21, elapse : 0.34203004837036133\n",
      "[2022/06/11 22:19:51] root INFO: rec_res num  : 21, elapse : 1.3953039646148682\n"
     ]
    },
    {
     "name": "stderr",
     "output_type": "stream",
     "text": [
      "INFO:skip_segmentation:524\n",
      "INFO:skip_segmentation:False\n",
      "INFO:skip_segmentation:524 is False breakpoint\n",
      "INFO:skip_segmentation:block index range: (524, 533)\n",
      "INFO:skip_segmentation:same slide block: True\n",
      "INFO:skip_segmentation:\n",
      "\n",
      "\n",
      "INFO:skip_segmentation:block_new_slides: []\n",
      "INFO:skip_segmentation:#####\n",
      "INFO:skip_segmentation:looking at new block\n",
      "INFO:skip_segmentation:#####\n"
     ]
    },
    {
     "name": "stdout",
     "output_type": "stream",
     "text": [
      "[2022/06/11 22:19:51] root INFO: dt_boxes num : 21, elapse : 0.3331184387207031\n",
      "[2022/06/11 22:19:53] root INFO: rec_res num  : 21, elapse : 1.211261510848999\n",
      "[2022/06/11 22:19:53] root INFO: dt_boxes num : 24, elapse : 0.32821011543273926\n",
      "[2022/06/11 22:19:54] root INFO: rec_res num  : 24, elapse : 1.3690330982208252\n"
     ]
    },
    {
     "name": "stderr",
     "output_type": "stream",
     "text": [
      "INFO:skip_segmentation:534\n",
      "INFO:skip_segmentation:False\n",
      "INFO:skip_segmentation:534 is False breakpoint\n",
      "INFO:skip_segmentation:block index range: (534, 543)\n",
      "INFO:skip_segmentation:same slide block: True\n",
      "INFO:skip_segmentation:\n",
      "\n",
      "\n",
      "INFO:skip_segmentation:block_new_slides: []\n",
      "INFO:skip_segmentation:#####\n",
      "INFO:skip_segmentation:looking at new block\n",
      "INFO:skip_segmentation:#####\n"
     ]
    },
    {
     "name": "stdout",
     "output_type": "stream",
     "text": [
      "[2022/06/11 22:19:55] root INFO: dt_boxes num : 23, elapse : 0.32194995880126953\n",
      "[2022/06/11 22:19:56] root INFO: rec_res num  : 23, elapse : 1.436593770980835\n",
      "[2022/06/11 22:19:56] root INFO: dt_boxes num : 23, elapse : 0.34534287452697754\n",
      "[2022/06/11 22:19:58] root INFO: rec_res num  : 23, elapse : 1.2765355110168457\n"
     ]
    },
    {
     "name": "stderr",
     "output_type": "stream",
     "text": [
      "INFO:skip_segmentation:544\n",
      "INFO:skip_segmentation:False\n",
      "INFO:skip_segmentation:544 is False breakpoint\n",
      "INFO:skip_segmentation:block index range: (544, 553)\n",
      "INFO:skip_segmentation:same slide block: True\n",
      "INFO:skip_segmentation:\n",
      "\n",
      "\n",
      "INFO:skip_segmentation:block_new_slides: []\n",
      "INFO:skip_segmentation:#####\n",
      "INFO:skip_segmentation:looking at new block\n",
      "INFO:skip_segmentation:#####\n"
     ]
    },
    {
     "name": "stdout",
     "output_type": "stream",
     "text": [
      "[2022/06/11 22:19:58] root INFO: dt_boxes num : 22, elapse : 0.3600890636444092\n",
      "[2022/06/11 22:19:59] root INFO: rec_res num  : 22, elapse : 1.3353652954101562\n",
      "[2022/06/11 22:20:00] root INFO: dt_boxes num : 12, elapse : 0.384291410446167\n",
      "[2022/06/11 22:20:00] root INFO: rec_res num  : 12, elapse : 0.36159324645996094\n"
     ]
    },
    {
     "name": "stderr",
     "output_type": "stream",
     "text": [
      "INFO:skip_segmentation:554\n",
      "INFO:skip_segmentation:False\n",
      "INFO:skip_segmentation:554 is False breakpoint\n",
      "INFO:skip_segmentation:block index range: (554, 563)\n",
      "INFO:skip_segmentation:same slide block: False\n",
      "INFO:skip_segmentation:\n",
      "\n",
      "\n"
     ]
    },
    {
     "name": "stdout",
     "output_type": "stream",
     "text": [
      "[2022/06/11 22:20:01] root INFO: dt_boxes num : 21, elapse : 0.32515525817871094\n",
      "[2022/06/11 22:20:02] root INFO: rec_res num  : 21, elapse : 1.2442905902862549\n",
      "[2022/06/11 22:20:02] root INFO: dt_boxes num : 22, elapse : 0.3530540466308594\n",
      "[2022/06/11 22:20:04] root INFO: rec_res num  : 22, elapse : 1.3374454975128174\n",
      "[2022/06/11 22:20:04] root INFO: dt_boxes num : 23, elapse : 0.3710057735443115\n",
      "[2022/06/11 22:20:05] root INFO: rec_res num  : 23, elapse : 1.4301989078521729\n",
      "[2022/06/11 22:20:06] root INFO: dt_boxes num : 24, elapse : 0.3420846462249756\n",
      "[2022/06/11 22:20:07] root INFO: rec_res num  : 24, elapse : 1.3962647914886475\n",
      "[2022/06/11 22:20:08] root INFO: dt_boxes num : 13, elapse : 0.3341052532196045\n",
      "[2022/06/11 22:20:08] root INFO: rec_res num  : 13, elapse : 0.28024959564208984\n",
      "[2022/06/11 22:20:08] root INFO: dt_boxes num : 13, elapse : 0.3330841064453125\n",
      "[2022/06/11 22:20:08] root INFO: rec_res num  : 13, elapse : 0.2982025146484375\n",
      "[2022/06/11 22:20:09] root INFO: dt_boxes num : 12, elapse : 0.359039306640625\n",
      "[2022/06/11 22:20:09] root INFO: rec_res num  : 12, elapse : 0.37100648880004883\n",
      "[2022/06/11 22:20:10] root INFO: dt_boxes num : 12, elapse : 0.3500635623931885\n",
      "[2022/06/11 22:20:10] root INFO: rec_res num  : 12, elapse : 0.339092493057251\n"
     ]
    },
    {
     "name": "stderr",
     "output_type": "stream",
     "text": [
      "INFO:skip_segmentation:block_new_slides: [{'jaccard_letter': 0.4888888888888889, 'jaccard': 0.9452054794520548, 'letter_dissim': 0.778236914600551, 'word_dis': 0.7682926829268293, 'frame_token_ct': 161, 'index': 559, 'new_slide_prediction': True}]\n",
      "INFO:skip_segmentation:#####\n",
      "INFO:skip_segmentation:looking at new block\n",
      "INFO:skip_segmentation:#####\n"
     ]
    },
    {
     "name": "stdout",
     "output_type": "stream",
     "text": [
      "[2022/06/11 22:20:10] root INFO: dt_boxes num : 13, elapse : 0.45378661155700684\n",
      "[2022/06/11 22:20:11] root INFO: rec_res num  : 13, elapse : 0.36409783363342285\n",
      "[2022/06/11 22:20:11] root INFO: dt_boxes num : 12, elapse : 0.39594030380249023\n",
      "[2022/06/11 22:20:12] root INFO: rec_res num  : 12, elapse : 0.40491819381713867\n"
     ]
    },
    {
     "name": "stderr",
     "output_type": "stream",
     "text": [
      "INFO:skip_segmentation:564\n",
      "INFO:skip_segmentation:False\n",
      "INFO:skip_segmentation:564 is False breakpoint\n",
      "INFO:skip_segmentation:block index range: (564, 573)\n",
      "INFO:skip_segmentation:same slide block: True\n",
      "INFO:skip_segmentation:\n",
      "\n",
      "\n",
      "INFO:skip_segmentation:block_new_slides: []\n",
      "INFO:skip_segmentation:#####\n",
      "INFO:skip_segmentation:looking at new block\n",
      "INFO:skip_segmentation:#####\n"
     ]
    },
    {
     "name": "stdout",
     "output_type": "stream",
     "text": [
      "[2022/06/11 22:20:12] root INFO: dt_boxes num : 12, elapse : 0.39896488189697266\n",
      "[2022/06/11 22:20:12] root INFO: rec_res num  : 12, elapse : 0.3660855293273926\n",
      "[2022/06/11 22:20:13] root INFO: dt_boxes num : 12, elapse : 0.4158937931060791\n",
      "[2022/06/11 22:20:13] root INFO: rec_res num  : 12, elapse : 0.36968326568603516\n"
     ]
    },
    {
     "name": "stderr",
     "output_type": "stream",
     "text": [
      "INFO:skip_segmentation:574\n",
      "INFO:skip_segmentation:False\n",
      "INFO:skip_segmentation:574 is False breakpoint\n",
      "INFO:skip_segmentation:block index range: (574, 583)\n",
      "INFO:skip_segmentation:same slide block: True\n",
      "INFO:skip_segmentation:\n",
      "\n",
      "\n",
      "INFO:skip_segmentation:block_new_slides: []\n",
      "INFO:skip_segmentation:#####\n",
      "INFO:skip_segmentation:looking at new block\n",
      "INFO:skip_segmentation:#####\n"
     ]
    },
    {
     "name": "stdout",
     "output_type": "stream",
     "text": [
      "[2022/06/11 22:20:14] root INFO: dt_boxes num : 12, elapse : 0.3438413143157959\n",
      "[2022/06/11 22:20:14] root INFO: rec_res num  : 12, elapse : 0.3710973262786865\n",
      "[2022/06/11 22:20:14] root INFO: dt_boxes num : 12, elapse : 0.3725311756134033\n",
      "[2022/06/11 22:20:15] root INFO: rec_res num  : 12, elapse : 0.3663749694824219\n"
     ]
    },
    {
     "name": "stderr",
     "output_type": "stream",
     "text": [
      "INFO:skip_segmentation:584\n",
      "INFO:skip_segmentation:False\n",
      "INFO:skip_segmentation:584 is False breakpoint\n",
      "INFO:skip_segmentation:block index range: (584, 593)\n",
      "INFO:skip_segmentation:same slide block: True\n",
      "INFO:skip_segmentation:\n",
      "\n",
      "\n",
      "INFO:skip_segmentation:block_new_slides: []\n",
      "INFO:skip_segmentation:#####\n",
      "INFO:skip_segmentation:looking at new block\n",
      "INFO:skip_segmentation:#####\n"
     ]
    },
    {
     "name": "stdout",
     "output_type": "stream",
     "text": [
      "[2022/06/11 22:20:15] root INFO: dt_boxes num : 12, elapse : 0.34064531326293945\n",
      "[2022/06/11 22:20:16] root INFO: rec_res num  : 12, elapse : 0.37165045738220215\n",
      "[2022/06/11 22:20:16] root INFO: dt_boxes num : 13, elapse : 0.34814882278442383\n",
      "[2022/06/11 22:20:16] root INFO: rec_res num  : 13, elapse : 0.31179189682006836\n"
     ]
    },
    {
     "name": "stderr",
     "output_type": "stream",
     "text": [
      "INFO:skip_segmentation:594\n",
      "INFO:skip_segmentation:False\n",
      "INFO:skip_segmentation:594 is False breakpoint\n",
      "INFO:skip_segmentation:block index range: (594, 603)\n",
      "INFO:skip_segmentation:same slide block: True\n",
      "INFO:skip_segmentation:\n",
      "\n",
      "\n",
      "INFO:skip_segmentation:block_new_slides: []\n"
     ]
    }
   ],
   "source": [
    "segmentation_result = segmentator.get_slide_breakpoints()"
   ]
  },
  {
   "cell_type": "code",
   "execution_count": 12,
   "metadata": {
    "ExecuteTime": {
     "end_time": "2022-06-12T05:20:16.872196Z",
     "start_time": "2022-06-12T05:20:16.741969Z"
    }
   },
   "outputs": [
    {
     "data": {
      "text/html": [
       "<div>\n",
       "<style scoped>\n",
       "    .dataframe tbody tr th:only-of-type {\n",
       "        vertical-align: middle;\n",
       "    }\n",
       "\n",
       "    .dataframe tbody tr th {\n",
       "        vertical-align: top;\n",
       "    }\n",
       "\n",
       "    .dataframe thead th {\n",
       "        text-align: right;\n",
       "    }\n",
       "</style>\n",
       "<table border=\"1\" class=\"dataframe\">\n",
       "  <thead>\n",
       "    <tr style=\"text-align: right;\">\n",
       "      <th></th>\n",
       "      <th>jaccard_letter</th>\n",
       "      <th>jaccard</th>\n",
       "      <th>letter_dissim</th>\n",
       "      <th>word_dis</th>\n",
       "      <th>frame_token_ct</th>\n",
       "      <th>index</th>\n",
       "      <th>new_slide_prediction</th>\n",
       "    </tr>\n",
       "  </thead>\n",
       "  <tbody>\n",
       "    <tr>\n",
       "      <td>0</td>\n",
       "      <td>0.243902</td>\n",
       "      <td>0.932203</td>\n",
       "      <td>0.720313</td>\n",
       "      <td>0.666667</td>\n",
       "      <td>640</td>\n",
       "      <td>25</td>\n",
       "      <td>True</td>\n",
       "    </tr>\n",
       "    <tr>\n",
       "      <td>1</td>\n",
       "      <td>0.465116</td>\n",
       "      <td>0.962264</td>\n",
       "      <td>0.890719</td>\n",
       "      <td>0.850746</td>\n",
       "      <td>73</td>\n",
       "      <td>81</td>\n",
       "      <td>True</td>\n",
       "    </tr>\n",
       "    <tr>\n",
       "      <td>2</td>\n",
       "      <td>0.371429</td>\n",
       "      <td>0.911765</td>\n",
       "      <td>0.174129</td>\n",
       "      <td>0.200000</td>\n",
       "      <td>201</td>\n",
       "      <td>144</td>\n",
       "      <td>True</td>\n",
       "    </tr>\n",
       "    <tr>\n",
       "      <td>3</td>\n",
       "      <td>0.344828</td>\n",
       "      <td>0.884615</td>\n",
       "      <td>0.798030</td>\n",
       "      <td>0.758621</td>\n",
       "      <td>41</td>\n",
       "      <td>155</td>\n",
       "      <td>True</td>\n",
       "    </tr>\n",
       "    <tr>\n",
       "      <td>4</td>\n",
       "      <td>0.590909</td>\n",
       "      <td>1.000000</td>\n",
       "      <td>0.488889</td>\n",
       "      <td>0.285714</td>\n",
       "      <td>45</td>\n",
       "      <td>163</td>\n",
       "      <td>True</td>\n",
       "    </tr>\n",
       "    <tr>\n",
       "      <td>5</td>\n",
       "      <td>0.925000</td>\n",
       "      <td>1.000000</td>\n",
       "      <td>0.982906</td>\n",
       "      <td>0.952381</td>\n",
       "      <td>234</td>\n",
       "      <td>188</td>\n",
       "      <td>True</td>\n",
       "    </tr>\n",
       "    <tr>\n",
       "      <td>6</td>\n",
       "      <td>0.256410</td>\n",
       "      <td>0.967742</td>\n",
       "      <td>0.732836</td>\n",
       "      <td>0.791667</td>\n",
       "      <td>670</td>\n",
       "      <td>203</td>\n",
       "      <td>True</td>\n",
       "    </tr>\n",
       "    <tr>\n",
       "      <td>7</td>\n",
       "      <td>0.405405</td>\n",
       "      <td>0.927273</td>\n",
       "      <td>0.790698</td>\n",
       "      <td>0.723077</td>\n",
       "      <td>135</td>\n",
       "      <td>324</td>\n",
       "      <td>True</td>\n",
       "    </tr>\n",
       "    <tr>\n",
       "      <td>8</td>\n",
       "      <td>0.382353</td>\n",
       "      <td>0.900000</td>\n",
       "      <td>0.808847</td>\n",
       "      <td>0.804878</td>\n",
       "      <td>633</td>\n",
       "      <td>333</td>\n",
       "      <td>True</td>\n",
       "    </tr>\n",
       "    <tr>\n",
       "      <td>9</td>\n",
       "      <td>0.090909</td>\n",
       "      <td>0.904255</td>\n",
       "      <td>0.272300</td>\n",
       "      <td>0.353659</td>\n",
       "      <td>465</td>\n",
       "      <td>442</td>\n",
       "      <td>True</td>\n",
       "    </tr>\n",
       "    <tr>\n",
       "      <td>10</td>\n",
       "      <td>0.200000</td>\n",
       "      <td>0.928571</td>\n",
       "      <td>0.309064</td>\n",
       "      <td>0.353659</td>\n",
       "      <td>673</td>\n",
       "      <td>493</td>\n",
       "      <td>True</td>\n",
       "    </tr>\n",
       "    <tr>\n",
       "      <td>11</td>\n",
       "      <td>0.488889</td>\n",
       "      <td>0.945205</td>\n",
       "      <td>0.778237</td>\n",
       "      <td>0.768293</td>\n",
       "      <td>161</td>\n",
       "      <td>559</td>\n",
       "      <td>True</td>\n",
       "    </tr>\n",
       "  </tbody>\n",
       "</table>\n",
       "</div>"
      ],
      "text/plain": [
       "    jaccard_letter   jaccard  letter_dissim  word_dis  frame_token_ct  index  \\\n",
       "0         0.243902  0.932203       0.720313  0.666667             640     25   \n",
       "1         0.465116  0.962264       0.890719  0.850746              73     81   \n",
       "2         0.371429  0.911765       0.174129  0.200000             201    144   \n",
       "3         0.344828  0.884615       0.798030  0.758621              41    155   \n",
       "4         0.590909  1.000000       0.488889  0.285714              45    163   \n",
       "5         0.925000  1.000000       0.982906  0.952381             234    188   \n",
       "6         0.256410  0.967742       0.732836  0.791667             670    203   \n",
       "7         0.405405  0.927273       0.790698  0.723077             135    324   \n",
       "8         0.382353  0.900000       0.808847  0.804878             633    333   \n",
       "9         0.090909  0.904255       0.272300  0.353659             465    442   \n",
       "10        0.200000  0.928571       0.309064  0.353659             673    493   \n",
       "11        0.488889  0.945205       0.778237  0.768293             161    559   \n",
       "\n",
       "    new_slide_prediction  \n",
       "0                   True  \n",
       "1                   True  \n",
       "2                   True  \n",
       "3                   True  \n",
       "4                   True  \n",
       "5                   True  \n",
       "6                   True  \n",
       "7                   True  \n",
       "8                   True  \n",
       "9                   True  \n",
       "10                  True  \n",
       "11                  True  "
      ]
     },
     "execution_count": 12,
     "metadata": {},
     "output_type": "execute_result"
    }
   ],
   "source": [
    "segmentation_result "
   ]
  }
 ],
 "metadata": {
  "kernelspec": {
   "display_name": "Python 3",
   "language": "python",
   "name": "python3"
  },
  "language_info": {
   "codemirror_mode": {
    "name": "ipython",
    "version": 3
   },
   "file_extension": ".py",
   "mimetype": "text/x-python",
   "name": "python",
   "nbconvert_exporter": "python",
   "pygments_lexer": "ipython3",
   "version": "3.7.4"
  },
  "toc": {
   "base_numbering": 1,
   "nav_menu": {},
   "number_sections": true,
   "sideBar": true,
   "skip_h1_title": false,
   "title_cell": "Table of Contents",
   "title_sidebar": "Contents",
   "toc_cell": false,
   "toc_position": {},
   "toc_section_display": true,
   "toc_window_display": false
  }
 },
 "nbformat": 4,
 "nbformat_minor": 2
}
