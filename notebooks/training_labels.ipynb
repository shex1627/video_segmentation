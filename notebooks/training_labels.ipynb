{
 "cells": [
  {
   "cell_type": "code",
   "execution_count": 1,
   "metadata": {
    "ExecuteTime": {
     "end_time": "2022-05-30T23:14:14.591652Z",
     "start_time": "2022-05-30T23:14:14.559856Z"
    }
   },
   "outputs": [],
   "source": [
    "%load_ext autoreload\n",
    "%autoreload 2"
   ]
  },
  {
   "cell_type": "code",
   "execution_count": 2,
   "metadata": {
    "ExecuteTime": {
     "end_time": "2022-05-30T23:14:15.359674Z",
     "start_time": "2022-05-30T23:14:14.592650Z"
    }
   },
   "outputs": [],
   "source": [
    "import os\n",
    "from pathlib import Path\n",
    "import pandas as pd\n",
    "import numpy as np\n",
    "import matplotlib.pyplot as plt\n",
    "\n",
    "pd.set_option('display.max_rows', 500)"
   ]
  },
  {
   "cell_type": "code",
   "execution_count": 3,
   "metadata": {
    "ExecuteTime": {
     "end_time": "2022-05-30T23:14:15.410763Z",
     "start_time": "2022-05-30T23:14:15.360869Z"
    }
   },
   "outputs": [],
   "source": [
    "import cv2"
   ]
  },
  {
   "cell_type": "code",
   "execution_count": 4,
   "metadata": {
    "ExecuteTime": {
     "end_time": "2022-05-30T23:14:15.454410Z",
     "start_time": "2022-05-30T23:14:15.411761Z"
    }
   },
   "outputs": [],
   "source": [
    "video_ocr_paths = list(Path(\"../data/video_frame_obj\").glob(\"*.csv\"))"
   ]
  },
  {
   "cell_type": "code",
   "execution_count": 5,
   "metadata": {
    "ExecuteTime": {
     "end_time": "2022-05-30T23:14:15.499347Z",
     "start_time": "2022-05-30T23:14:15.455408Z"
    }
   },
   "outputs": [
    {
     "data": {
      "text/plain": [
       "[WindowsPath('../data/video_frame_obj/test_video_0.csv'),\n",
       " WindowsPath('../data/video_frame_obj/test_video_1.csv')]"
      ]
     },
     "execution_count": 5,
     "metadata": {},
     "output_type": "execute_result"
    }
   ],
   "source": [
    "video_ocr_paths[:2]"
   ]
  },
  {
   "cell_type": "code",
   "execution_count": 6,
   "metadata": {
    "ExecuteTime": {
     "end_time": "2022-05-30T23:14:15.654876Z",
     "start_time": "2022-05-30T23:14:15.500338Z"
    }
   },
   "outputs": [],
   "source": [
    "diff_df_dict = dict()\n",
    "for video_ocr_path in video_ocr_paths:\n",
    "    file_name = video_ocr_path.name.split(\".\")[0]\n",
    "    diff_df_dict[file_name] = pd.read_csv(video_ocr_path)"
   ]
  },
  {
   "cell_type": "code",
   "execution_count": 7,
   "metadata": {
    "ExecuteTime": {
     "end_time": "2022-05-30T23:14:15.708732Z",
     "start_time": "2022-05-30T23:14:15.655873Z"
    }
   },
   "outputs": [
    {
     "data": {
      "text/html": [
       "<div>\n",
       "<style scoped>\n",
       "    .dataframe tbody tr th:only-of-type {\n",
       "        vertical-align: middle;\n",
       "    }\n",
       "\n",
       "    .dataframe tbody tr th {\n",
       "        vertical-align: top;\n",
       "    }\n",
       "\n",
       "    .dataframe thead th {\n",
       "        text-align: right;\n",
       "    }\n",
       "</style>\n",
       "<table border=\"1\" class=\"dataframe\">\n",
       "  <thead>\n",
       "    <tr style=\"text-align: right;\">\n",
       "      <th></th>\n",
       "      <th>index</th>\n",
       "      <th>dissimilarity</th>\n",
       "      <th>jaccard</th>\n",
       "      <th>jaccard_letter</th>\n",
       "      <th>frame_token_ct</th>\n",
       "      <th>lev_dis</th>\n",
       "      <th>word_dis</th>\n",
       "      <th>letter_dissim</th>\n",
       "      <th>min</th>\n",
       "    </tr>\n",
       "  </thead>\n",
       "  <tbody>\n",
       "    <tr>\n",
       "      <td>0</td>\n",
       "      <td>1</td>\n",
       "      <td>0.073178</td>\n",
       "      <td>0.2</td>\n",
       "      <td>0.478261</td>\n",
       "      <td>4</td>\n",
       "      <td>0.368421</td>\n",
       "      <td>0.200000</td>\n",
       "      <td>0.157895</td>\n",
       "      <td>0.016667</td>\n",
       "    </tr>\n",
       "    <tr>\n",
       "      <td>1</td>\n",
       "      <td>2</td>\n",
       "      <td>0.036582</td>\n",
       "      <td>0.2</td>\n",
       "      <td>0.478261</td>\n",
       "      <td>5</td>\n",
       "      <td>0.187500</td>\n",
       "      <td>0.200000</td>\n",
       "      <td>0.157895</td>\n",
       "      <td>0.033333</td>\n",
       "    </tr>\n",
       "    <tr>\n",
       "      <td>2</td>\n",
       "      <td>3</td>\n",
       "      <td>0.073881</td>\n",
       "      <td>0.4</td>\n",
       "      <td>0.476190</td>\n",
       "      <td>4</td>\n",
       "      <td>0.062500</td>\n",
       "      <td>0.000000</td>\n",
       "      <td>0.000000</td>\n",
       "      <td>0.050000</td>\n",
       "    </tr>\n",
       "    <tr>\n",
       "      <td>3</td>\n",
       "      <td>4</td>\n",
       "      <td>0.194590</td>\n",
       "      <td>0.6</td>\n",
       "      <td>0.705882</td>\n",
       "      <td>4</td>\n",
       "      <td>1.666667</td>\n",
       "      <td>0.250000</td>\n",
       "      <td>0.625000</td>\n",
       "      <td>0.066667</td>\n",
       "    </tr>\n",
       "    <tr>\n",
       "      <td>4</td>\n",
       "      <td>5</td>\n",
       "      <td>1.000000</td>\n",
       "      <td>1.0</td>\n",
       "      <td>1.000000</td>\n",
       "      <td>3</td>\n",
       "      <td>6.000000</td>\n",
       "      <td>0.666667</td>\n",
       "      <td>1.000000</td>\n",
       "      <td>0.083333</td>\n",
       "    </tr>\n",
       "  </tbody>\n",
       "</table>\n",
       "</div>"
      ],
      "text/plain": [
       "   index  dissimilarity  jaccard  jaccard_letter  frame_token_ct   lev_dis  \\\n",
       "0      1       0.073178      0.2        0.478261               4  0.368421   \n",
       "1      2       0.036582      0.2        0.478261               5  0.187500   \n",
       "2      3       0.073881      0.4        0.476190               4  0.062500   \n",
       "3      4       0.194590      0.6        0.705882               4  1.666667   \n",
       "4      5       1.000000      1.0        1.000000               3  6.000000   \n",
       "\n",
       "   word_dis  letter_dissim       min  \n",
       "0  0.200000       0.157895  0.016667  \n",
       "1  0.200000       0.157895  0.033333  \n",
       "2  0.000000       0.000000  0.050000  \n",
       "3  0.250000       0.625000  0.066667  \n",
       "4  0.666667       1.000000  0.083333  "
      ]
     },
     "execution_count": 7,
     "metadata": {},
     "output_type": "execute_result"
    }
   ],
   "source": [
    "diff_df = diff_df_dict['test_video_13']\n",
    "diff_df.head()"
   ]
  },
  {
   "cell_type": "code",
   "execution_count": 8,
   "metadata": {
    "ExecuteTime": {
     "end_time": "2022-05-30T23:14:15.753866Z",
     "start_time": "2022-05-30T23:14:15.710627Z"
    }
   },
   "outputs": [
    {
     "data": {
      "text/plain": [
       "dict_keys(['test_video_0', 'test_video_1', 'test_video_10', 'test_video_11', 'test_video_12'])"
      ]
     },
     "execution_count": 8,
     "metadata": {},
     "output_type": "execute_result"
    }
   ],
   "source": [
    "import json\n",
    "with open('labels.json', 'r') as file:\n",
    "    labels = json.load(file)\n",
    "labels.keys()"
   ]
  },
  {
   "cell_type": "code",
   "execution_count": 9,
   "metadata": {
    "ExecuteTime": {
     "end_time": "2022-05-30T23:14:15.798633Z",
     "start_time": "2022-05-30T23:14:15.754864Z"
    }
   },
   "outputs": [],
   "source": [
    "def create_label_function(labels:list):\n",
    "    return lambda index_ : True if index_ in labels else False"
   ]
  },
  {
   "cell_type": "code",
   "execution_count": 10,
   "metadata": {
    "ExecuteTime": {
     "end_time": "2022-05-30T23:14:15.841613Z",
     "start_time": "2022-05-30T23:14:15.799583Z"
    }
   },
   "outputs": [
    {
     "data": {
      "text/plain": [
       "True"
      ]
     },
     "execution_count": 10,
     "metadata": {},
     "output_type": "execute_result"
    }
   ],
   "source": [
    "create_label_function(labels['test_video_0'])(3467)"
   ]
  },
  {
   "cell_type": "markdown",
   "metadata": {},
   "source": [
    "## load ocr results"
   ]
  },
  {
   "cell_type": "code",
   "execution_count": 11,
   "metadata": {
    "ExecuteTime": {
     "end_time": "2022-05-30T23:14:20.371115Z",
     "start_time": "2022-05-30T23:14:15.842611Z"
    }
   },
   "outputs": [
    {
     "name": "stdout",
     "output_type": "stream",
     "text": [
      "..\\data\\video_ocr_results\\test_video_0.json\n",
      "..\\data\\video_ocr_results\\test_video_1.json\n",
      "..\\data\\video_ocr_results\\test_video_10.json\n",
      "..\\data\\video_ocr_results\\test_video_11.json\n",
      "..\\data\\video_ocr_results\\test_video_12.json\n",
      "..\\data\\video_ocr_results\\test_video_13.json\n",
      "..\\data\\video_ocr_results\\test_video_14.json\n",
      "..\\data\\video_ocr_results\\test_video_15.json\n",
      "..\\data\\video_ocr_results\\test_video_16.json\n",
      "..\\data\\video_ocr_results\\test_video_17.json\n",
      "..\\data\\video_ocr_results\\test_video_18.json\n",
      "..\\data\\video_ocr_results\\test_video_19.json\n",
      "..\\data\\video_ocr_results\\test_video_2.json\n",
      "..\\data\\video_ocr_results\\test_video_20.json\n",
      "..\\data\\video_ocr_results\\test_video_3.json\n",
      "..\\data\\video_ocr_results\\test_video_4.json\n",
      "..\\data\\video_ocr_results\\test_video_5.json\n",
      "..\\data\\video_ocr_results\\test_video_6.json\n",
      "..\\data\\video_ocr_results\\test_video_7.json\n",
      "..\\data\\video_ocr_results\\test_video_8.json\n",
      "..\\data\\video_ocr_results\\test_video_9.json\n"
     ]
    }
   ],
   "source": [
    "video_ocr_result_paths = list(Path(\"../data/video_ocr_results\").glob(\"*.json\"))\n",
    "\n",
    "ocr_dict = dict()\n",
    "for video_ocr_path in video_ocr_result_paths:\n",
    "    file_name = video_ocr_path.name.split(\".\")[0]\n",
    "    \n",
    "    print(video_ocr_path)\n",
    "    with open(video_ocr_path.absolute(), 'r') as file:\n",
    "        test_ocr_results = json.load(file)\n",
    "        \n",
    "    ocr_dict[file_name] = test_ocr_results "
   ]
  },
  {
   "cell_type": "markdown",
   "metadata": {},
   "source": [
    "## training model"
   ]
  },
  {
   "cell_type": "code",
   "execution_count": 12,
   "metadata": {
    "ExecuteTime": {
     "end_time": "2022-05-30T23:14:20.431685Z",
     "start_time": "2022-05-30T23:14:20.372085Z"
    }
   },
   "outputs": [],
   "source": [
    "train_df = pd.DataFrame()\n",
    "train_df_lst = []\n",
    "for video_name, label_frames in labels.items():\n",
    "    diff_df = diff_df_dict[video_name].iloc[2:,].copy() #remove the first 2 frames\n",
    "    diff_df['video_index'] = diff_df['index']\n",
    "    \n",
    "    label_function = create_label_function(label_frames)\n",
    "    diff_df['new_slide'] = diff_df['index'].apply(label_function)\n",
    "    diff_df['video_name'] = video_name\n",
    "    train_df_lst.append(diff_df)\n",
    "    "
   ]
  },
  {
   "cell_type": "code",
   "execution_count": 51,
   "metadata": {
    "ExecuteTime": {
     "end_time": "2022-05-30T23:38:50.457351Z",
     "start_time": "2022-05-30T23:38:50.385656Z"
    }
   },
   "outputs": [
    {
     "data": {
      "text/plain": [
       "(166, 0.009885071160602632)"
      ]
     },
     "execution_count": 51,
     "metadata": {},
     "output_type": "execute_result"
    }
   ],
   "source": [
    "pd.concat(train_df_lst)['new_slide'].sum(), pd.concat(train_df_lst)['new_slide'].mean()"
   ]
  },
  {
   "cell_type": "code",
   "execution_count": 52,
   "metadata": {
    "ExecuteTime": {
     "end_time": "2022-05-30T23:38:50.532354Z",
     "start_time": "2022-05-30T23:38:50.458962Z"
    }
   },
   "outputs": [
    {
     "data": {
      "text/html": [
       "<div>\n",
       "<style scoped>\n",
       "    .dataframe tbody tr th:only-of-type {\n",
       "        vertical-align: middle;\n",
       "    }\n",
       "\n",
       "    .dataframe tbody tr th {\n",
       "        vertical-align: top;\n",
       "    }\n",
       "\n",
       "    .dataframe thead th {\n",
       "        text-align: right;\n",
       "    }\n",
       "</style>\n",
       "<table border=\"1\" class=\"dataframe\">\n",
       "  <thead>\n",
       "    <tr style=\"text-align: right;\">\n",
       "      <th></th>\n",
       "      <th>dissimilarity</th>\n",
       "      <th>jaccard</th>\n",
       "      <th>jaccard_letter</th>\n",
       "      <th>frame_token_ct</th>\n",
       "      <th>lev_dis</th>\n",
       "      <th>word_dis</th>\n",
       "      <th>letter_dissim</th>\n",
       "      <th>video_index</th>\n",
       "      <th>new_slide</th>\n",
       "      <th>video_name</th>\n",
       "    </tr>\n",
       "  </thead>\n",
       "  <tbody>\n",
       "    <tr>\n",
       "      <td>0</td>\n",
       "      <td>0.000000</td>\n",
       "      <td>0.000000</td>\n",
       "      <td>0.720000</td>\n",
       "      <td>4</td>\n",
       "      <td>0.000000</td>\n",
       "      <td>0.000000</td>\n",
       "      <td>0.000000</td>\n",
       "      <td>3</td>\n",
       "      <td>False</td>\n",
       "      <td>test_video_0</td>\n",
       "    </tr>\n",
       "    <tr>\n",
       "      <td>1</td>\n",
       "      <td>0.000000</td>\n",
       "      <td>0.000000</td>\n",
       "      <td>0.720000</td>\n",
       "      <td>4</td>\n",
       "      <td>0.000000</td>\n",
       "      <td>0.000000</td>\n",
       "      <td>0.000000</td>\n",
       "      <td>4</td>\n",
       "      <td>False</td>\n",
       "      <td>test_video_0</td>\n",
       "    </tr>\n",
       "    <tr>\n",
       "      <td>2</td>\n",
       "      <td>0.954545</td>\n",
       "      <td>0.954545</td>\n",
       "      <td>0.855670</td>\n",
       "      <td>4</td>\n",
       "      <td>0.797468</td>\n",
       "      <td>0.789474</td>\n",
       "      <td>0.594937</td>\n",
       "      <td>5</td>\n",
       "      <td>True</td>\n",
       "      <td>test_video_0</td>\n",
       "    </tr>\n",
       "    <tr>\n",
       "      <td>3</td>\n",
       "      <td>0.272727</td>\n",
       "      <td>0.272727</td>\n",
       "      <td>0.890459</td>\n",
       "      <td>19</td>\n",
       "      <td>0.102564</td>\n",
       "      <td>0.000000</td>\n",
       "      <td>0.012658</td>\n",
       "      <td>6</td>\n",
       "      <td>False</td>\n",
       "      <td>test_video_0</td>\n",
       "    </tr>\n",
       "    <tr>\n",
       "      <td>4</td>\n",
       "      <td>0.304348</td>\n",
       "      <td>0.304348</td>\n",
       "      <td>0.892361</td>\n",
       "      <td>19</td>\n",
       "      <td>0.110429</td>\n",
       "      <td>0.050000</td>\n",
       "      <td>0.042945</td>\n",
       "      <td>7</td>\n",
       "      <td>False</td>\n",
       "      <td>test_video_0</td>\n",
       "    </tr>\n",
       "  </tbody>\n",
       "</table>\n",
       "</div>"
      ],
      "text/plain": [
       "   dissimilarity   jaccard  jaccard_letter  frame_token_ct   lev_dis  \\\n",
       "0       0.000000  0.000000        0.720000               4  0.000000   \n",
       "1       0.000000  0.000000        0.720000               4  0.000000   \n",
       "2       0.954545  0.954545        0.855670               4  0.797468   \n",
       "3       0.272727  0.272727        0.890459              19  0.102564   \n",
       "4       0.304348  0.304348        0.892361              19  0.110429   \n",
       "\n",
       "   word_dis  letter_dissim  video_index  new_slide    video_name  \n",
       "0  0.000000       0.000000            3      False  test_video_0  \n",
       "1  0.000000       0.000000            4      False  test_video_0  \n",
       "2  0.789474       0.594937            5       True  test_video_0  \n",
       "3  0.000000       0.012658            6      False  test_video_0  \n",
       "4  0.050000       0.042945            7      False  test_video_0  "
      ]
     },
     "execution_count": 52,
     "metadata": {},
     "output_type": "execute_result"
    }
   ],
   "source": [
    "train_df = pd.concat(train_df_lst, ignore_index=True)\n",
    "# not use nlp's dissimilarity\n",
    "train_df['dissimilarity'] = train_df['jaccard']\n",
    "#train_df = train_df.drop(['lev_dis', 'index'], axis=1)\n",
    "\n",
    "train_df = train_df.drop([ 'index', 'min'], axis=1)\n",
    "train_df.head()"
   ]
  },
  {
   "cell_type": "code",
   "execution_count": 53,
   "metadata": {
    "ExecuteTime": {
     "end_time": "2022-05-30T23:38:50.595632Z",
     "start_time": "2022-05-30T23:38:50.533352Z"
    }
   },
   "outputs": [
    {
     "data": {
      "text/plain": [
       "Index(['dissimilarity', 'jaccard', 'jaccard_letter', 'frame_token_ct',\n",
       "       'lev_dis', 'word_dis', 'letter_dissim', 'video_index', 'new_slide',\n",
       "       'video_name'],\n",
       "      dtype='object')"
      ]
     },
     "execution_count": 53,
     "metadata": {},
     "output_type": "execute_result"
    }
   ],
   "source": [
    "train_df.columns"
   ]
  },
  {
   "cell_type": "code",
   "execution_count": 58,
   "metadata": {
    "ExecuteTime": {
     "end_time": "2022-05-30T23:39:07.394596Z",
     "start_time": "2022-05-30T23:39:07.328430Z"
    }
   },
   "outputs": [],
   "source": [
    "feature_names = ['dissimilarity', 'jaccard', 'jaccard_letter', 'frame_token_ct',\n",
    "       'word_dis', 'letter_dissim']"
   ]
  },
  {
   "cell_type": "code",
   "execution_count": 59,
   "metadata": {
    "ExecuteTime": {
     "end_time": "2022-05-30T23:39:07.467574Z",
     "start_time": "2022-05-30T23:39:07.396591Z"
    }
   },
   "outputs": [
    {
     "data": {
      "text/plain": [
       "0         test_video_0\n",
       "1         test_video_0\n",
       "2         test_video_0\n",
       "3         test_video_0\n",
       "4         test_video_0\n",
       "             ...      \n",
       "16788    test_video_12\n",
       "16789    test_video_12\n",
       "16790    test_video_12\n",
       "16791    test_video_12\n",
       "16792    test_video_12\n",
       "Name: video_name, Length: 16793, dtype: object"
      ]
     },
     "execution_count": 59,
     "metadata": {},
     "output_type": "execute_result"
    }
   ],
   "source": [
    "train_df['video_name']"
   ]
  },
  {
   "cell_type": "code",
   "execution_count": 60,
   "metadata": {
    "ExecuteTime": {
     "end_time": "2022-05-30T23:39:07.544995Z",
     "start_time": "2022-05-30T23:39:07.468571Z"
    }
   },
   "outputs": [],
   "source": [
    "X = train_df.query(\"video_name!='test_video_12'\")[feature_names].fillna(0)\n",
    "y = train_df.query(\"video_name!='test_video_12'\")['new_slide']"
   ]
  },
  {
   "cell_type": "code",
   "execution_count": 61,
   "metadata": {
    "ExecuteTime": {
     "end_time": "2022-05-30T23:39:07.624796Z",
     "start_time": "2022-05-30T23:39:07.545992Z"
    }
   },
   "outputs": [],
   "source": [
    "x_test = train_df.query(\"video_name=='test_video_12'\")[feature_names].fillna(0)\n",
    "y_test = train_df.query(\"video_name=='test_video_12'\")['new_slide']"
   ]
  },
  {
   "cell_type": "code",
   "execution_count": 62,
   "metadata": {
    "ExecuteTime": {
     "end_time": "2022-05-30T23:39:07.707061Z",
     "start_time": "2022-05-30T23:39:07.625792Z"
    }
   },
   "outputs": [],
   "source": [
    "from sklearn.datasets import load_iris\n",
    "from sklearn import tree\n",
    "seed =12345\n",
    "clf = tree.DecisionTreeClassifier(max_depth=3, random_state=seed)\n",
    "clf = clf.fit(X, y)\n",
    "\n",
    "dummy_clf = tree.DecisionTreeClassifier(max_depth=2, random_state=seed)\n",
    "dummy_clf  = dummy_clf.fit(X, y)\n"
   ]
  },
  {
   "cell_type": "code",
   "execution_count": 63,
   "metadata": {
    "ExecuteTime": {
     "end_time": "2022-05-30T23:39:07.774527Z",
     "start_time": "2022-05-30T23:39:07.708059Z"
    }
   },
   "outputs": [],
   "source": [
    "y_pred = clf.predict(X)\n",
    "dummy_y_pred = dummy_clf.predict(X)\n",
    "my_dummy_y_pred = X['dissimilarity']   >= 0.1\n",
    "y_true = y\n",
    "\n",
    "\n",
    "\n",
    "# keep probabilities for the positive outcome only\n",
    "from sklearn.metrics import precision_recall_curve\n",
    "lr_probs = clf.predict_proba(X)\n",
    "lr_probs = lr_probs[:, 1]\n",
    "# predict class values\n",
    "y_pred = clf.predict(X)\n",
    "# calculate precision and recall for each threshold\n",
    "lr_precision, lr_recall, _ = precision_recall_curve(y_true, lr_probs)"
   ]
  },
  {
   "cell_type": "markdown",
   "metadata": {},
   "source": [
    "## model export"
   ]
  },
  {
   "cell_type": "code",
   "execution_count": 116,
   "metadata": {
    "ExecuteTime": {
     "end_time": "2022-05-31T00:34:44.046013Z",
     "start_time": "2022-05-31T00:34:43.978383Z"
    }
   },
   "outputs": [
    {
     "data": {
      "text/plain": [
       "['../models/ocr_tree.joblib']"
      ]
     },
     "execution_count": 116,
     "metadata": {},
     "output_type": "execute_result"
    }
   ],
   "source": [
    "from joblib import dump, load\n",
    "dump(clf, '../models/ocr_tree.joblib') "
   ]
  },
  {
   "cell_type": "code",
   "execution_count": 117,
   "metadata": {
    "ExecuteTime": {
     "end_time": "2022-05-31T00:34:45.508686Z",
     "start_time": "2022-05-31T00:34:45.439790Z"
    }
   },
   "outputs": [],
   "source": [
    "MODEL_PATH = '../models/ocr_tree.joblib'\n",
    "clf = load(MODEL_PATH) "
   ]
  },
  {
   "cell_type": "markdown",
   "metadata": {},
   "source": [
    "## tree visualization"
   ]
  },
  {
   "cell_type": "code",
   "execution_count": 64,
   "metadata": {
    "ExecuteTime": {
     "end_time": "2022-05-30T23:39:07.897787Z",
     "start_time": "2022-05-30T23:39:07.775521Z"
    },
    "scrolled": false
   },
   "outputs": [
    {
     "data": {
      "text/plain": [
       "'tree.pdf'"
      ]
     },
     "execution_count": 64,
     "metadata": {},
     "output_type": "execute_result"
    }
   ],
   "source": [
    "import graphviz \n",
    "dot_data = tree.export_graphviz(clf, out_file=None) \n",
    "graph = graphviz.Source(dot_data) \n",
    "graph.render(\"tree\") "
   ]
  },
  {
   "cell_type": "code",
   "execution_count": 65,
   "metadata": {
    "ExecuteTime": {
     "end_time": "2022-05-30T23:39:08.004644Z",
     "start_time": "2022-05-30T23:39:07.900335Z"
    }
   },
   "outputs": [
    {
     "data": {
      "image/svg+xml": [
       "<?xml version=\"1.0\" encoding=\"UTF-8\" standalone=\"no\"?>\n",
       "<!DOCTYPE svg PUBLIC \"-//W3C//DTD SVG 1.1//EN\"\n",
       " \"http://www.w3.org/Graphics/SVG/1.1/DTD/svg11.dtd\">\n",
       "<!-- Generated by graphviz version 2.49.3 (20211023.0002)\n",
       " -->\n",
       "<!-- Title: Tree Pages: 1 -->\n",
       "<svg width=\"587pt\" height=\"314pt\"\n",
       " viewBox=\"0.00 0.00 586.50 314.00\" xmlns=\"http://www.w3.org/2000/svg\" xmlns:xlink=\"http://www.w3.org/1999/xlink\">\n",
       "<g id=\"graph0\" class=\"graph\" transform=\"scale(1 1) rotate(0) translate(4 310)\">\n",
       "<title>Tree</title>\n",
       "<polygon fill=\"white\" stroke=\"transparent\" points=\"-4,4 -4,-310 582.5,-310 582.5,4 -4,4\"/>\n",
       "<!-- 0 -->\n",
       "<g id=\"node1\" class=\"node\">\n",
       "<title>0</title>\n",
       "<path fill=\"#e5823b\" stroke=\"black\" d=\"M354,-306C354,-306 232,-306 232,-306 226,-306 220,-300 220,-294 220,-294 220,-235 220,-235 220,-229 226,-223 232,-223 232,-223 354,-223 354,-223 360,-223 366,-229 366,-235 366,-235 366,-294 366,-294 366,-300 360,-306 354,-306\"/>\n",
       "<text text-anchor=\"start\" x=\"244\" y=\"-290.8\" font-family=\"Helvetica,sans-Serif\" font-size=\"14.00\">jaccard ≤ 0.804</text>\n",
       "<text text-anchor=\"start\" x=\"255.5\" y=\"-275.8\" font-family=\"Helvetica,sans-Serif\" font-size=\"14.00\">gini = 0.021</text>\n",
       "<text text-anchor=\"start\" x=\"237\" y=\"-260.8\" font-family=\"Helvetica,sans-Serif\" font-size=\"14.00\">samples = 11845</text>\n",
       "<text text-anchor=\"start\" x=\"228\" y=\"-245.8\" font-family=\"Helvetica,sans-Serif\" font-size=\"14.00\">value = [11718, 127]</text>\n",
       "<text text-anchor=\"start\" x=\"236.5\" y=\"-230.8\" font-family=\"Helvetica,sans-Serif\" font-size=\"14.00\">class = new_slide</text>\n",
       "</g>\n",
       "<!-- 1 -->\n",
       "<g id=\"node2\" class=\"node\">\n",
       "<title>1</title>\n",
       "<path fill=\"#e5813a\" stroke=\"black\" d=\"M274.5,-187C274.5,-187 149.5,-187 149.5,-187 143.5,-187 137.5,-181 137.5,-175 137.5,-175 137.5,-116 137.5,-116 137.5,-110 143.5,-104 149.5,-104 149.5,-104 274.5,-104 274.5,-104 280.5,-104 286.5,-110 286.5,-116 286.5,-116 286.5,-175 286.5,-175 286.5,-181 280.5,-187 274.5,-187\"/>\n",
       "<text text-anchor=\"start\" x=\"145.5\" y=\"-171.8\" font-family=\"Helvetica,sans-Serif\" font-size=\"14.00\">letter_dissim ≤ 0.296</text>\n",
       "<text text-anchor=\"start\" x=\"174.5\" y=\"-156.8\" font-family=\"Helvetica,sans-Serif\" font-size=\"14.00\">gini = 0.007</text>\n",
       "<text text-anchor=\"start\" x=\"156\" y=\"-141.8\" font-family=\"Helvetica,sans-Serif\" font-size=\"14.00\">samples = 11731</text>\n",
       "<text text-anchor=\"start\" x=\"151\" y=\"-126.8\" font-family=\"Helvetica,sans-Serif\" font-size=\"14.00\">value = [11692, 39]</text>\n",
       "<text text-anchor=\"start\" x=\"155.5\" y=\"-111.8\" font-family=\"Helvetica,sans-Serif\" font-size=\"14.00\">class = new_slide</text>\n",
       "</g>\n",
       "<!-- 0&#45;&gt;1 -->\n",
       "<g id=\"edge1\" class=\"edge\">\n",
       "<title>0&#45;&gt;1</title>\n",
       "<path fill=\"none\" stroke=\"black\" d=\"M264.9,-222.91C258.74,-214.01 252.16,-204.51 245.81,-195.33\"/>\n",
       "<polygon fill=\"black\" stroke=\"black\" points=\"248.62,-193.25 240.05,-187.02 242.87,-197.24 248.62,-193.25\"/>\n",
       "<text text-anchor=\"middle\" x=\"235.58\" y=\"-207.92\" font-family=\"Helvetica,sans-Serif\" font-size=\"14.00\">True</text>\n",
       "</g>\n",
       "<!-- 4 -->\n",
       "<g id=\"node5\" class=\"node\">\n",
       "<title>4</title>\n",
       "<path fill=\"#74baed\" stroke=\"black\" d=\"M433.5,-187C433.5,-187 316.5,-187 316.5,-187 310.5,-187 304.5,-181 304.5,-175 304.5,-175 304.5,-116 304.5,-116 304.5,-110 310.5,-104 316.5,-104 316.5,-104 433.5,-104 433.5,-104 439.5,-104 445.5,-110 445.5,-116 445.5,-116 445.5,-175 445.5,-175 445.5,-181 439.5,-187 433.5,-187\"/>\n",
       "<text text-anchor=\"start\" x=\"312.5\" y=\"-171.8\" font-family=\"Helvetica,sans-Serif\" font-size=\"14.00\">dissimilarity ≤ 0.993</text>\n",
       "<text text-anchor=\"start\" x=\"337.5\" y=\"-156.8\" font-family=\"Helvetica,sans-Serif\" font-size=\"14.00\">gini = 0.352</text>\n",
       "<text text-anchor=\"start\" x=\"327.5\" y=\"-141.8\" font-family=\"Helvetica,sans-Serif\" font-size=\"14.00\">samples = 114</text>\n",
       "<text text-anchor=\"start\" x=\"326.5\" y=\"-126.8\" font-family=\"Helvetica,sans-Serif\" font-size=\"14.00\">value = [26, 88]</text>\n",
       "<text text-anchor=\"start\" x=\"321.5\" y=\"-111.8\" font-family=\"Helvetica,sans-Serif\" font-size=\"14.00\">class = old_slide</text>\n",
       "</g>\n",
       "<!-- 0&#45;&gt;4 -->\n",
       "<g id=\"edge4\" class=\"edge\">\n",
       "<title>0&#45;&gt;4</title>\n",
       "<path fill=\"none\" stroke=\"black\" d=\"M321.45,-222.91C327.68,-214.01 334.34,-204.51 340.78,-195.33\"/>\n",
       "<polygon fill=\"black\" stroke=\"black\" points=\"343.73,-197.22 346.6,-187.02 338,-193.2 343.73,-197.22\"/>\n",
       "<text text-anchor=\"middle\" x=\"350.93\" y=\"-207.94\" font-family=\"Helvetica,sans-Serif\" font-size=\"14.00\">False</text>\n",
       "</g>\n",
       "<!-- 2 -->\n",
       "<g id=\"node3\" class=\"node\">\n",
       "<title>2</title>\n",
       "<path fill=\"#e58139\" stroke=\"black\" d=\"M126,-68C126,-68 12,-68 12,-68 6,-68 0,-62 0,-56 0,-56 0,-12 0,-12 0,-6 6,0 12,0 12,0 126,0 126,0 132,0 138,-6 138,-12 138,-12 138,-56 138,-56 138,-62 132,-68 126,-68\"/>\n",
       "<text text-anchor=\"start\" x=\"31.5\" y=\"-52.8\" font-family=\"Helvetica,sans-Serif\" font-size=\"14.00\">gini = 0.004</text>\n",
       "<text text-anchor=\"start\" x=\"13\" y=\"-37.8\" font-family=\"Helvetica,sans-Serif\" font-size=\"14.00\">samples = 11705</text>\n",
       "<text text-anchor=\"start\" x=\"8\" y=\"-22.8\" font-family=\"Helvetica,sans-Serif\" font-size=\"14.00\">value = [11684, 21]</text>\n",
       "<text text-anchor=\"start\" x=\"12.5\" y=\"-7.8\" font-family=\"Helvetica,sans-Serif\" font-size=\"14.00\">class = new_slide</text>\n",
       "</g>\n",
       "<!-- 1&#45;&gt;2 -->\n",
       "<g id=\"edge2\" class=\"edge\">\n",
       "<title>1&#45;&gt;2</title>\n",
       "<path fill=\"none\" stroke=\"black\" d=\"M158.75,-103.73C146.25,-94.15 132.94,-83.96 120.51,-74.44\"/>\n",
       "<polygon fill=\"black\" stroke=\"black\" points=\"122.55,-71.6 112.49,-68.3 118.3,-77.16 122.55,-71.6\"/>\n",
       "</g>\n",
       "<!-- 3 -->\n",
       "<g id=\"node4\" class=\"node\">\n",
       "<title>3</title>\n",
       "<path fill=\"#91c9f1\" stroke=\"black\" d=\"M267.5,-68C267.5,-68 168.5,-68 168.5,-68 162.5,-68 156.5,-62 156.5,-56 156.5,-56 156.5,-12 156.5,-12 156.5,-6 162.5,0 168.5,0 168.5,0 267.5,0 267.5,0 273.5,0 279.5,-6 279.5,-12 279.5,-12 279.5,-56 279.5,-56 279.5,-62 273.5,-68 267.5,-68\"/>\n",
       "<text text-anchor=\"start\" x=\"180.5\" y=\"-52.8\" font-family=\"Helvetica,sans-Serif\" font-size=\"14.00\">gini = 0.426</text>\n",
       "<text text-anchor=\"start\" x=\"174.5\" y=\"-37.8\" font-family=\"Helvetica,sans-Serif\" font-size=\"14.00\">samples = 26</text>\n",
       "<text text-anchor=\"start\" x=\"173.5\" y=\"-22.8\" font-family=\"Helvetica,sans-Serif\" font-size=\"14.00\">value = [8, 18]</text>\n",
       "<text text-anchor=\"start\" x=\"164.5\" y=\"-7.8\" font-family=\"Helvetica,sans-Serif\" font-size=\"14.00\">class = old_slide</text>\n",
       "</g>\n",
       "<!-- 1&#45;&gt;3 -->\n",
       "<g id=\"edge3\" class=\"edge\">\n",
       "<title>1&#45;&gt;3</title>\n",
       "<path fill=\"none\" stroke=\"black\" d=\"M214.23,-103.73C214.68,-95.52 215.16,-86.86 215.61,-78.56\"/>\n",
       "<polygon fill=\"black\" stroke=\"black\" points=\"219.12,-78.48 216.18,-68.3 212.13,-78.09 219.12,-78.48\"/>\n",
       "</g>\n",
       "<!-- 5 -->\n",
       "<g id=\"node6\" class=\"node\">\n",
       "<title>5</title>\n",
       "<path fill=\"#4fa8e8\" stroke=\"black\" d=\"M419.5,-68C419.5,-68 320.5,-68 320.5,-68 314.5,-68 308.5,-62 308.5,-56 308.5,-56 308.5,-12 308.5,-12 308.5,-6 314.5,0 320.5,0 320.5,0 419.5,0 419.5,0 425.5,0 431.5,-6 431.5,-12 431.5,-12 431.5,-56 431.5,-56 431.5,-62 425.5,-68 419.5,-68\"/>\n",
       "<text text-anchor=\"start\" x=\"332.5\" y=\"-52.8\" font-family=\"Helvetica,sans-Serif\" font-size=\"14.00\">gini = 0.178</text>\n",
       "<text text-anchor=\"start\" x=\"326.5\" y=\"-37.8\" font-family=\"Helvetica,sans-Serif\" font-size=\"14.00\">samples = 91</text>\n",
       "<text text-anchor=\"start\" x=\"325.5\" y=\"-22.8\" font-family=\"Helvetica,sans-Serif\" font-size=\"14.00\">value = [9, 82]</text>\n",
       "<text text-anchor=\"start\" x=\"316.5\" y=\"-7.8\" font-family=\"Helvetica,sans-Serif\" font-size=\"14.00\">class = old_slide</text>\n",
       "</g>\n",
       "<!-- 4&#45;&gt;5 -->\n",
       "<g id=\"edge5\" class=\"edge\">\n",
       "<title>4&#45;&gt;5</title>\n",
       "<path fill=\"none\" stroke=\"black\" d=\"M373.14,-103.73C372.76,-95.52 372.37,-86.86 371.99,-78.56\"/>\n",
       "<polygon fill=\"black\" stroke=\"black\" points=\"375.47,-78.13 371.52,-68.3 368.48,-78.45 375.47,-78.13\"/>\n",
       "</g>\n",
       "<!-- 6 -->\n",
       "<g id=\"node7\" class=\"node\">\n",
       "<title>6</title>\n",
       "<path fill=\"#eead7f\" stroke=\"black\" d=\"M566.5,-68C566.5,-68 461.5,-68 461.5,-68 455.5,-68 449.5,-62 449.5,-56 449.5,-56 449.5,-12 449.5,-12 449.5,-6 455.5,0 461.5,0 461.5,0 566.5,0 566.5,0 572.5,0 578.5,-6 578.5,-12 578.5,-12 578.5,-56 578.5,-56 578.5,-62 572.5,-68 566.5,-68\"/>\n",
       "<text text-anchor=\"start\" x=\"476.5\" y=\"-52.8\" font-family=\"Helvetica,sans-Serif\" font-size=\"14.00\">gini = 0.386</text>\n",
       "<text text-anchor=\"start\" x=\"470.5\" y=\"-37.8\" font-family=\"Helvetica,sans-Serif\" font-size=\"14.00\">samples = 23</text>\n",
       "<text text-anchor=\"start\" x=\"469.5\" y=\"-22.8\" font-family=\"Helvetica,sans-Serif\" font-size=\"14.00\">value = [17, 6]</text>\n",
       "<text text-anchor=\"start\" x=\"457.5\" y=\"-7.8\" font-family=\"Helvetica,sans-Serif\" font-size=\"14.00\">class = new_slide</text>\n",
       "</g>\n",
       "<!-- 4&#45;&gt;6 -->\n",
       "<g id=\"edge6\" class=\"edge\">\n",
       "<title>4&#45;&gt;6</title>\n",
       "<path fill=\"none\" stroke=\"black\" d=\"M426.76,-103.73C438.8,-94.24 451.6,-84.16 463.58,-74.72\"/>\n",
       "<polygon fill=\"black\" stroke=\"black\" points=\"466.04,-77.24 471.73,-68.3 461.71,-71.74 466.04,-77.24\"/>\n",
       "</g>\n",
       "</g>\n",
       "</svg>\n"
      ],
      "text/plain": [
       "<graphviz.sources.Source at 0x2ad15986048>"
      ]
     },
     "execution_count": 65,
     "metadata": {},
     "output_type": "execute_result"
    }
   ],
   "source": [
    "dot_data = tree.export_graphviz(dummy_clf, out_file=None, \n",
    "                      feature_names=feature_names,  \n",
    "                      class_names=['new_slide', 'old_slide'],  \n",
    "                     filled=True, rounded=True,  \n",
    "                     special_characters=True)  \n",
    "graph = graphviz.Source(dot_data)  \n",
    "graph "
   ]
  },
  {
   "cell_type": "code",
   "execution_count": 66,
   "metadata": {
    "ExecuteTime": {
     "end_time": "2022-05-30T23:39:08.104552Z",
     "start_time": "2022-05-30T23:39:08.005643Z"
    }
   },
   "outputs": [
    {
     "data": {
      "image/svg+xml": [
       "<?xml version=\"1.0\" encoding=\"UTF-8\" standalone=\"no\"?>\n",
       "<!DOCTYPE svg PUBLIC \"-//W3C//DTD SVG 1.1//EN\"\n",
       " \"http://www.w3.org/Graphics/SVG/1.1/DTD/svg11.dtd\">\n",
       "<!-- Generated by graphviz version 2.49.3 (20211023.0002)\n",
       " -->\n",
       "<!-- Title: Tree Pages: 1 -->\n",
       "<svg width=\"1152pt\" height=\"433pt\"\n",
       " viewBox=\"0.00 0.00 1151.50 433.00\" xmlns=\"http://www.w3.org/2000/svg\" xmlns:xlink=\"http://www.w3.org/1999/xlink\">\n",
       "<g id=\"graph0\" class=\"graph\" transform=\"scale(1 1) rotate(0) translate(4 429)\">\n",
       "<title>Tree</title>\n",
       "<polygon fill=\"white\" stroke=\"transparent\" points=\"-4,4 -4,-429 1147.5,-429 1147.5,4 -4,4\"/>\n",
       "<!-- 0 -->\n",
       "<g id=\"node1\" class=\"node\">\n",
       "<title>0</title>\n",
       "<path fill=\"#e5823b\" stroke=\"black\" d=\"M613,-425C613,-425 491,-425 491,-425 485,-425 479,-419 479,-413 479,-413 479,-354 479,-354 479,-348 485,-342 491,-342 491,-342 613,-342 613,-342 619,-342 625,-348 625,-354 625,-354 625,-413 625,-413 625,-419 619,-425 613,-425\"/>\n",
       "<text text-anchor=\"start\" x=\"503\" y=\"-409.8\" font-family=\"Helvetica,sans-Serif\" font-size=\"14.00\">jaccard ≤ 0.804</text>\n",
       "<text text-anchor=\"start\" x=\"514.5\" y=\"-394.8\" font-family=\"Helvetica,sans-Serif\" font-size=\"14.00\">gini = 0.021</text>\n",
       "<text text-anchor=\"start\" x=\"496\" y=\"-379.8\" font-family=\"Helvetica,sans-Serif\" font-size=\"14.00\">samples = 11845</text>\n",
       "<text text-anchor=\"start\" x=\"487\" y=\"-364.8\" font-family=\"Helvetica,sans-Serif\" font-size=\"14.00\">value = [11718, 127]</text>\n",
       "<text text-anchor=\"start\" x=\"498.5\" y=\"-349.8\" font-family=\"Helvetica,sans-Serif\" font-size=\"14.00\">class = old_slide</text>\n",
       "</g>\n",
       "<!-- 1 -->\n",
       "<g id=\"node2\" class=\"node\">\n",
       "<title>1</title>\n",
       "<path fill=\"#e5813a\" stroke=\"black\" d=\"M528.5,-306C528.5,-306 403.5,-306 403.5,-306 397.5,-306 391.5,-300 391.5,-294 391.5,-294 391.5,-235 391.5,-235 391.5,-229 397.5,-223 403.5,-223 403.5,-223 528.5,-223 528.5,-223 534.5,-223 540.5,-229 540.5,-235 540.5,-235 540.5,-294 540.5,-294 540.5,-300 534.5,-306 528.5,-306\"/>\n",
       "<text text-anchor=\"start\" x=\"399.5\" y=\"-290.8\" font-family=\"Helvetica,sans-Serif\" font-size=\"14.00\">letter_dissim ≤ 0.296</text>\n",
       "<text text-anchor=\"start\" x=\"428.5\" y=\"-275.8\" font-family=\"Helvetica,sans-Serif\" font-size=\"14.00\">gini = 0.007</text>\n",
       "<text text-anchor=\"start\" x=\"410\" y=\"-260.8\" font-family=\"Helvetica,sans-Serif\" font-size=\"14.00\">samples = 11731</text>\n",
       "<text text-anchor=\"start\" x=\"405\" y=\"-245.8\" font-family=\"Helvetica,sans-Serif\" font-size=\"14.00\">value = [11692, 39]</text>\n",
       "<text text-anchor=\"start\" x=\"412.5\" y=\"-230.8\" font-family=\"Helvetica,sans-Serif\" font-size=\"14.00\">class = old_slide</text>\n",
       "</g>\n",
       "<!-- 0&#45;&gt;1 -->\n",
       "<g id=\"edge1\" class=\"edge\">\n",
       "<title>0&#45;&gt;1</title>\n",
       "<path fill=\"none\" stroke=\"black\" d=\"M522.16,-341.91C515.63,-333.01 508.64,-323.51 501.89,-314.33\"/>\n",
       "<polygon fill=\"black\" stroke=\"black\" points=\"504.53,-312.01 495.78,-306.02 498.89,-316.15 504.53,-312.01\"/>\n",
       "<text text-anchor=\"middle\" x=\"492.01\" y=\"-327.03\" font-family=\"Helvetica,sans-Serif\" font-size=\"14.00\">True</text>\n",
       "</g>\n",
       "<!-- 8 -->\n",
       "<g id=\"node9\" class=\"node\">\n",
       "<title>8</title>\n",
       "<path fill=\"#74baed\" stroke=\"black\" d=\"M742.5,-306C742.5,-306 625.5,-306 625.5,-306 619.5,-306 613.5,-300 613.5,-294 613.5,-294 613.5,-235 613.5,-235 613.5,-229 619.5,-223 625.5,-223 625.5,-223 742.5,-223 742.5,-223 748.5,-223 754.5,-229 754.5,-235 754.5,-235 754.5,-294 754.5,-294 754.5,-300 748.5,-306 742.5,-306\"/>\n",
       "<text text-anchor=\"start\" x=\"621.5\" y=\"-290.8\" font-family=\"Helvetica,sans-Serif\" font-size=\"14.00\">dissimilarity ≤ 0.993</text>\n",
       "<text text-anchor=\"start\" x=\"646.5\" y=\"-275.8\" font-family=\"Helvetica,sans-Serif\" font-size=\"14.00\">gini = 0.352</text>\n",
       "<text text-anchor=\"start\" x=\"636.5\" y=\"-260.8\" font-family=\"Helvetica,sans-Serif\" font-size=\"14.00\">samples = 114</text>\n",
       "<text text-anchor=\"start\" x=\"635.5\" y=\"-245.8\" font-family=\"Helvetica,sans-Serif\" font-size=\"14.00\">value = [26, 88]</text>\n",
       "<text text-anchor=\"start\" x=\"627.5\" y=\"-230.8\" font-family=\"Helvetica,sans-Serif\" font-size=\"14.00\">class = new_slide</text>\n",
       "</g>\n",
       "<!-- 0&#45;&gt;8 -->\n",
       "<g id=\"edge8\" class=\"edge\">\n",
       "<title>0&#45;&gt;8</title>\n",
       "<path fill=\"none\" stroke=\"black\" d=\"M597.8,-341.91C608.34,-332.56 619.65,-322.54 630.49,-312.93\"/>\n",
       "<polygon fill=\"black\" stroke=\"black\" points=\"633.12,-315.27 638.28,-306.02 628.48,-310.03 633.12,-315.27\"/>\n",
       "<text text-anchor=\"middle\" x=\"636.78\" y=\"-327.28\" font-family=\"Helvetica,sans-Serif\" font-size=\"14.00\">False</text>\n",
       "</g>\n",
       "<!-- 2 -->\n",
       "<g id=\"node3\" class=\"node\">\n",
       "<title>2</title>\n",
       "<path fill=\"#e58139\" stroke=\"black\" d=\"M275,-187C275,-187 161,-187 161,-187 155,-187 149,-181 149,-175 149,-175 149,-116 149,-116 149,-110 155,-104 161,-104 161,-104 275,-104 275,-104 281,-104 287,-110 287,-116 287,-116 287,-175 287,-175 287,-181 281,-187 275,-187\"/>\n",
       "<text text-anchor=\"start\" x=\"163\" y=\"-171.8\" font-family=\"Helvetica,sans-Serif\" font-size=\"14.00\">word_dis ≤ 0.388</text>\n",
       "<text text-anchor=\"start\" x=\"180.5\" y=\"-156.8\" font-family=\"Helvetica,sans-Serif\" font-size=\"14.00\">gini = 0.004</text>\n",
       "<text text-anchor=\"start\" x=\"162\" y=\"-141.8\" font-family=\"Helvetica,sans-Serif\" font-size=\"14.00\">samples = 11705</text>\n",
       "<text text-anchor=\"start\" x=\"157\" y=\"-126.8\" font-family=\"Helvetica,sans-Serif\" font-size=\"14.00\">value = [11684, 21]</text>\n",
       "<text text-anchor=\"start\" x=\"164.5\" y=\"-111.8\" font-family=\"Helvetica,sans-Serif\" font-size=\"14.00\">class = old_slide</text>\n",
       "</g>\n",
       "<!-- 1&#45;&gt;2 -->\n",
       "<g id=\"edge2\" class=\"edge\">\n",
       "<title>1&#45;&gt;2</title>\n",
       "<path fill=\"none\" stroke=\"black\" d=\"M391.26,-228.24C361.27,-214.09 326.69,-197.78 296.36,-183.47\"/>\n",
       "<polygon fill=\"black\" stroke=\"black\" points=\"297.62,-180.19 287.09,-179.09 294.64,-186.53 297.62,-180.19\"/>\n",
       "</g>\n",
       "<!-- 5 -->\n",
       "<g id=\"node6\" class=\"node\">\n",
       "<title>5</title>\n",
       "<path fill=\"#91c9f1\" stroke=\"black\" d=\"M531,-187C531,-187 401,-187 401,-187 395,-187 389,-181 389,-175 389,-175 389,-116 389,-116 389,-110 395,-104 401,-104 401,-104 531,-104 531,-104 537,-104 543,-110 543,-116 543,-116 543,-175 543,-175 543,-181 537,-187 531,-187\"/>\n",
       "<text text-anchor=\"start\" x=\"397\" y=\"-171.8\" font-family=\"Helvetica,sans-Serif\" font-size=\"14.00\">jaccard_letter ≤ 0.778</text>\n",
       "<text text-anchor=\"start\" x=\"428.5\" y=\"-156.8\" font-family=\"Helvetica,sans-Serif\" font-size=\"14.00\">gini = 0.426</text>\n",
       "<text text-anchor=\"start\" x=\"422.5\" y=\"-141.8\" font-family=\"Helvetica,sans-Serif\" font-size=\"14.00\">samples = 26</text>\n",
       "<text text-anchor=\"start\" x=\"421.5\" y=\"-126.8\" font-family=\"Helvetica,sans-Serif\" font-size=\"14.00\">value = [8, 18]</text>\n",
       "<text text-anchor=\"start\" x=\"409.5\" y=\"-111.8\" font-family=\"Helvetica,sans-Serif\" font-size=\"14.00\">class = new_slide</text>\n",
       "</g>\n",
       "<!-- 1&#45;&gt;5 -->\n",
       "<g id=\"edge5\" class=\"edge\">\n",
       "<title>1&#45;&gt;5</title>\n",
       "<path fill=\"none\" stroke=\"black\" d=\"M466,-222.91C466,-214.65 466,-205.86 466,-197.3\"/>\n",
       "<polygon fill=\"black\" stroke=\"black\" points=\"469.5,-197.02 466,-187.02 462.5,-197.02 469.5,-197.02\"/>\n",
       "</g>\n",
       "<!-- 3 -->\n",
       "<g id=\"node4\" class=\"node\">\n",
       "<title>3</title>\n",
       "<path fill=\"#e58139\" stroke=\"black\" d=\"M126,-68C126,-68 12,-68 12,-68 6,-68 0,-62 0,-56 0,-56 0,-12 0,-12 0,-6 6,0 12,0 12,0 126,0 126,0 132,0 138,-6 138,-12 138,-12 138,-56 138,-56 138,-62 132,-68 126,-68\"/>\n",
       "<text text-anchor=\"start\" x=\"31.5\" y=\"-52.8\" font-family=\"Helvetica,sans-Serif\" font-size=\"14.00\">gini = 0.003</text>\n",
       "<text text-anchor=\"start\" x=\"13\" y=\"-37.8\" font-family=\"Helvetica,sans-Serif\" font-size=\"14.00\">samples = 11696</text>\n",
       "<text text-anchor=\"start\" x=\"8\" y=\"-22.8\" font-family=\"Helvetica,sans-Serif\" font-size=\"14.00\">value = [11678, 18]</text>\n",
       "<text text-anchor=\"start\" x=\"15.5\" y=\"-7.8\" font-family=\"Helvetica,sans-Serif\" font-size=\"14.00\">class = old_slide</text>\n",
       "</g>\n",
       "<!-- 2&#45;&gt;3 -->\n",
       "<g id=\"edge3\" class=\"edge\">\n",
       "<title>2&#45;&gt;3</title>\n",
       "<path fill=\"none\" stroke=\"black\" d=\"M162.52,-103.73C149.49,-94.15 135.62,-83.96 122.67,-74.44\"/>\n",
       "<polygon fill=\"black\" stroke=\"black\" points=\"124.44,-71.4 114.31,-68.3 120.3,-77.04 124.44,-71.4\"/>\n",
       "</g>\n",
       "<!-- 4 -->\n",
       "<g id=\"node5\" class=\"node\">\n",
       "<title>4</title>\n",
       "<path fill=\"#f2c09c\" stroke=\"black\" d=\"M267.5,-68C267.5,-68 168.5,-68 168.5,-68 162.5,-68 156.5,-62 156.5,-56 156.5,-56 156.5,-12 156.5,-12 156.5,-6 162.5,0 168.5,0 168.5,0 267.5,0 267.5,0 273.5,0 279.5,-6 279.5,-12 279.5,-12 279.5,-56 279.5,-56 279.5,-62 273.5,-68 267.5,-68\"/>\n",
       "<text text-anchor=\"start\" x=\"180.5\" y=\"-52.8\" font-family=\"Helvetica,sans-Serif\" font-size=\"14.00\">gini = 0.444</text>\n",
       "<text text-anchor=\"start\" x=\"178.5\" y=\"-37.8\" font-family=\"Helvetica,sans-Serif\" font-size=\"14.00\">samples = 9</text>\n",
       "<text text-anchor=\"start\" x=\"177.5\" y=\"-22.8\" font-family=\"Helvetica,sans-Serif\" font-size=\"14.00\">value = [6, 3]</text>\n",
       "<text text-anchor=\"start\" x=\"164.5\" y=\"-7.8\" font-family=\"Helvetica,sans-Serif\" font-size=\"14.00\">class = old_slide</text>\n",
       "</g>\n",
       "<!-- 2&#45;&gt;4 -->\n",
       "<g id=\"edge4\" class=\"edge\">\n",
       "<title>2&#45;&gt;4</title>\n",
       "<path fill=\"none\" stroke=\"black\" d=\"M218,-103.73C218,-95.52 218,-86.86 218,-78.56\"/>\n",
       "<polygon fill=\"black\" stroke=\"black\" points=\"221.5,-78.3 218,-68.3 214.5,-78.3 221.5,-78.3\"/>\n",
       "</g>\n",
       "<!-- 6 -->\n",
       "<g id=\"node7\" class=\"node\">\n",
       "<title>6</title>\n",
       "<path fill=\"#e89152\" stroke=\"black\" d=\"M408.5,-68C408.5,-68 309.5,-68 309.5,-68 303.5,-68 297.5,-62 297.5,-56 297.5,-56 297.5,-12 297.5,-12 297.5,-6 303.5,0 309.5,0 309.5,0 408.5,0 408.5,0 414.5,0 420.5,-6 420.5,-12 420.5,-12 420.5,-56 420.5,-56 420.5,-62 414.5,-68 408.5,-68\"/>\n",
       "<text text-anchor=\"start\" x=\"321.5\" y=\"-52.8\" font-family=\"Helvetica,sans-Serif\" font-size=\"14.00\">gini = 0.198</text>\n",
       "<text text-anchor=\"start\" x=\"319.5\" y=\"-37.8\" font-family=\"Helvetica,sans-Serif\" font-size=\"14.00\">samples = 9</text>\n",
       "<text text-anchor=\"start\" x=\"318.5\" y=\"-22.8\" font-family=\"Helvetica,sans-Serif\" font-size=\"14.00\">value = [8, 1]</text>\n",
       "<text text-anchor=\"start\" x=\"305.5\" y=\"-7.8\" font-family=\"Helvetica,sans-Serif\" font-size=\"14.00\">class = old_slide</text>\n",
       "</g>\n",
       "<!-- 5&#45;&gt;6 -->\n",
       "<g id=\"edge6\" class=\"edge\">\n",
       "<title>5&#45;&gt;6</title>\n",
       "<path fill=\"none\" stroke=\"black\" d=\"M426.16,-103.73C417.16,-94.51 407.6,-84.74 398.61,-75.53\"/>\n",
       "<polygon fill=\"black\" stroke=\"black\" points=\"401.03,-73.01 391.54,-68.3 396.03,-77.9 401.03,-73.01\"/>\n",
       "</g>\n",
       "<!-- 7 -->\n",
       "<g id=\"node8\" class=\"node\">\n",
       "<title>7</title>\n",
       "<path fill=\"#399de5\" stroke=\"black\" d=\"M555.5,-68C555.5,-68 450.5,-68 450.5,-68 444.5,-68 438.5,-62 438.5,-56 438.5,-56 438.5,-12 438.5,-12 438.5,-6 444.5,0 450.5,0 450.5,0 555.5,0 555.5,0 561.5,0 567.5,-6 567.5,-12 567.5,-12 567.5,-56 567.5,-56 567.5,-62 561.5,-68 555.5,-68\"/>\n",
       "<text text-anchor=\"start\" x=\"474\" y=\"-52.8\" font-family=\"Helvetica,sans-Serif\" font-size=\"14.00\">gini = 0.0</text>\n",
       "<text text-anchor=\"start\" x=\"459.5\" y=\"-37.8\" font-family=\"Helvetica,sans-Serif\" font-size=\"14.00\">samples = 17</text>\n",
       "<text text-anchor=\"start\" x=\"458.5\" y=\"-22.8\" font-family=\"Helvetica,sans-Serif\" font-size=\"14.00\">value = [0, 17]</text>\n",
       "<text text-anchor=\"start\" x=\"446.5\" y=\"-7.8\" font-family=\"Helvetica,sans-Serif\" font-size=\"14.00\">class = new_slide</text>\n",
       "</g>\n",
       "<!-- 5&#45;&gt;7 -->\n",
       "<g id=\"edge7\" class=\"edge\">\n",
       "<title>5&#45;&gt;7</title>\n",
       "<path fill=\"none\" stroke=\"black\" d=\"M479.78,-103.73C482.61,-95.34 485.61,-86.47 488.47,-78.01\"/>\n",
       "<polygon fill=\"black\" stroke=\"black\" points=\"491.86,-78.89 491.75,-68.3 485.23,-76.65 491.86,-78.89\"/>\n",
       "</g>\n",
       "<!-- 9 -->\n",
       "<g id=\"node10\" class=\"node\">\n",
       "<title>9</title>\n",
       "<path fill=\"#4fa8e8\" stroke=\"black\" d=\"M749,-187C749,-187 619,-187 619,-187 613,-187 607,-181 607,-175 607,-175 607,-116 607,-116 607,-110 613,-104 619,-104 619,-104 749,-104 749,-104 755,-104 761,-110 761,-116 761,-116 761,-175 761,-175 761,-181 755,-187 749,-187\"/>\n",
       "<text text-anchor=\"start\" x=\"615\" y=\"-171.8\" font-family=\"Helvetica,sans-Serif\" font-size=\"14.00\">jaccard_letter ≤ 0.801</text>\n",
       "<text text-anchor=\"start\" x=\"646.5\" y=\"-156.8\" font-family=\"Helvetica,sans-Serif\" font-size=\"14.00\">gini = 0.178</text>\n",
       "<text text-anchor=\"start\" x=\"640.5\" y=\"-141.8\" font-family=\"Helvetica,sans-Serif\" font-size=\"14.00\">samples = 91</text>\n",
       "<text text-anchor=\"start\" x=\"639.5\" y=\"-126.8\" font-family=\"Helvetica,sans-Serif\" font-size=\"14.00\">value = [9, 82]</text>\n",
       "<text text-anchor=\"start\" x=\"627.5\" y=\"-111.8\" font-family=\"Helvetica,sans-Serif\" font-size=\"14.00\">class = new_slide</text>\n",
       "</g>\n",
       "<!-- 8&#45;&gt;9 -->\n",
       "<g id=\"edge9\" class=\"edge\">\n",
       "<title>8&#45;&gt;9</title>\n",
       "<path fill=\"none\" stroke=\"black\" d=\"M684,-222.91C684,-214.65 684,-205.86 684,-197.3\"/>\n",
       "<polygon fill=\"black\" stroke=\"black\" points=\"687.5,-197.02 684,-187.02 680.5,-197.02 687.5,-197.02\"/>\n",
       "</g>\n",
       "<!-- 12 -->\n",
       "<g id=\"node13\" class=\"node\">\n",
       "<title>12</title>\n",
       "<path fill=\"#eead7f\" stroke=\"black\" d=\"M998.5,-187C998.5,-187 871.5,-187 871.5,-187 865.5,-187 859.5,-181 859.5,-175 859.5,-175 859.5,-116 859.5,-116 859.5,-110 865.5,-104 871.5,-104 871.5,-104 998.5,-104 998.5,-104 1004.5,-104 1010.5,-110 1010.5,-116 1010.5,-116 1010.5,-175 1010.5,-175 1010.5,-181 1004.5,-187 998.5,-187\"/>\n",
       "<text text-anchor=\"start\" x=\"867.5\" y=\"-171.8\" font-family=\"Helvetica,sans-Serif\" font-size=\"14.00\">frame_token_ct ≤ 2.5</text>\n",
       "<text text-anchor=\"start\" x=\"897.5\" y=\"-156.8\" font-family=\"Helvetica,sans-Serif\" font-size=\"14.00\">gini = 0.386</text>\n",
       "<text text-anchor=\"start\" x=\"891.5\" y=\"-141.8\" font-family=\"Helvetica,sans-Serif\" font-size=\"14.00\">samples = 23</text>\n",
       "<text text-anchor=\"start\" x=\"890.5\" y=\"-126.8\" font-family=\"Helvetica,sans-Serif\" font-size=\"14.00\">value = [17, 6]</text>\n",
       "<text text-anchor=\"start\" x=\"881.5\" y=\"-111.8\" font-family=\"Helvetica,sans-Serif\" font-size=\"14.00\">class = old_slide</text>\n",
       "</g>\n",
       "<!-- 8&#45;&gt;12 -->\n",
       "<g id=\"edge12\" class=\"edge\">\n",
       "<title>8&#45;&gt;12</title>\n",
       "<path fill=\"none\" stroke=\"black\" d=\"M754.59,-230.6C784.28,-216.76 819.08,-200.53 850.16,-186.05\"/>\n",
       "<polygon fill=\"black\" stroke=\"black\" points=\"851.66,-189.21 859.24,-181.81 848.7,-182.87 851.66,-189.21\"/>\n",
       "</g>\n",
       "<!-- 10 -->\n",
       "<g id=\"node11\" class=\"node\">\n",
       "<title>10</title>\n",
       "<path fill=\"#f2c09c\" stroke=\"black\" d=\"M696.5,-68C696.5,-68 597.5,-68 597.5,-68 591.5,-68 585.5,-62 585.5,-56 585.5,-56 585.5,-12 585.5,-12 585.5,-6 591.5,0 597.5,0 597.5,0 696.5,0 696.5,0 702.5,0 708.5,-6 708.5,-12 708.5,-12 708.5,-56 708.5,-56 708.5,-62 702.5,-68 696.5,-68\"/>\n",
       "<text text-anchor=\"start\" x=\"609.5\" y=\"-52.8\" font-family=\"Helvetica,sans-Serif\" font-size=\"14.00\">gini = 0.444</text>\n",
       "<text text-anchor=\"start\" x=\"607.5\" y=\"-37.8\" font-family=\"Helvetica,sans-Serif\" font-size=\"14.00\">samples = 3</text>\n",
       "<text text-anchor=\"start\" x=\"606.5\" y=\"-22.8\" font-family=\"Helvetica,sans-Serif\" font-size=\"14.00\">value = [2, 1]</text>\n",
       "<text text-anchor=\"start\" x=\"593.5\" y=\"-7.8\" font-family=\"Helvetica,sans-Serif\" font-size=\"14.00\">class = old_slide</text>\n",
       "</g>\n",
       "<!-- 9&#45;&gt;10 -->\n",
       "<g id=\"edge10\" class=\"edge\">\n",
       "<title>9&#45;&gt;10</title>\n",
       "<path fill=\"none\" stroke=\"black\" d=\"M670.22,-103.73C667.39,-95.34 664.39,-86.47 661.53,-78.01\"/>\n",
       "<polygon fill=\"black\" stroke=\"black\" points=\"664.77,-76.65 658.25,-68.3 658.14,-78.89 664.77,-76.65\"/>\n",
       "</g>\n",
       "<!-- 11 -->\n",
       "<g id=\"node12\" class=\"node\">\n",
       "<title>11</title>\n",
       "<path fill=\"#4aa5e7\" stroke=\"black\" d=\"M843.5,-68C843.5,-68 738.5,-68 738.5,-68 732.5,-68 726.5,-62 726.5,-56 726.5,-56 726.5,-12 726.5,-12 726.5,-6 732.5,0 738.5,0 738.5,0 843.5,0 843.5,0 849.5,0 855.5,-6 855.5,-12 855.5,-12 855.5,-56 855.5,-56 855.5,-62 849.5,-68 843.5,-68\"/>\n",
       "<text text-anchor=\"start\" x=\"753.5\" y=\"-52.8\" font-family=\"Helvetica,sans-Serif\" font-size=\"14.00\">gini = 0.146</text>\n",
       "<text text-anchor=\"start\" x=\"747.5\" y=\"-37.8\" font-family=\"Helvetica,sans-Serif\" font-size=\"14.00\">samples = 88</text>\n",
       "<text text-anchor=\"start\" x=\"746.5\" y=\"-22.8\" font-family=\"Helvetica,sans-Serif\" font-size=\"14.00\">value = [7, 81]</text>\n",
       "<text text-anchor=\"start\" x=\"734.5\" y=\"-7.8\" font-family=\"Helvetica,sans-Serif\" font-size=\"14.00\">class = new_slide</text>\n",
       "</g>\n",
       "<!-- 9&#45;&gt;11 -->\n",
       "<g id=\"edge11\" class=\"edge\">\n",
       "<title>9&#45;&gt;11</title>\n",
       "<path fill=\"none\" stroke=\"black\" d=\"M723.84,-103.73C732.84,-94.51 742.4,-84.74 751.39,-75.53\"/>\n",
       "<polygon fill=\"black\" stroke=\"black\" points=\"753.97,-77.9 758.46,-68.3 748.97,-73.01 753.97,-77.9\"/>\n",
       "</g>\n",
       "<!-- 13 -->\n",
       "<g id=\"node14\" class=\"node\">\n",
       "<title>13</title>\n",
       "<path fill=\"#e78a47\" stroke=\"black\" d=\"M984.5,-68C984.5,-68 885.5,-68 885.5,-68 879.5,-68 873.5,-62 873.5,-56 873.5,-56 873.5,-12 873.5,-12 873.5,-6 879.5,0 885.5,0 885.5,0 984.5,0 984.5,0 990.5,0 996.5,-6 996.5,-12 996.5,-12 996.5,-56 996.5,-56 996.5,-62 990.5,-68 984.5,-68\"/>\n",
       "<text text-anchor=\"start\" x=\"897.5\" y=\"-52.8\" font-family=\"Helvetica,sans-Serif\" font-size=\"14.00\">gini = 0.124</text>\n",
       "<text text-anchor=\"start\" x=\"891.5\" y=\"-37.8\" font-family=\"Helvetica,sans-Serif\" font-size=\"14.00\">samples = 15</text>\n",
       "<text text-anchor=\"start\" x=\"890.5\" y=\"-22.8\" font-family=\"Helvetica,sans-Serif\" font-size=\"14.00\">value = [14, 1]</text>\n",
       "<text text-anchor=\"start\" x=\"881.5\" y=\"-7.8\" font-family=\"Helvetica,sans-Serif\" font-size=\"14.00\">class = old_slide</text>\n",
       "</g>\n",
       "<!-- 12&#45;&gt;13 -->\n",
       "<g id=\"edge13\" class=\"edge\">\n",
       "<title>12&#45;&gt;13</title>\n",
       "<path fill=\"none\" stroke=\"black\" d=\"M935,-103.73C935,-95.52 935,-86.86 935,-78.56\"/>\n",
       "<polygon fill=\"black\" stroke=\"black\" points=\"938.5,-78.3 935,-68.3 931.5,-78.3 938.5,-78.3\"/>\n",
       "</g>\n",
       "<!-- 14 -->\n",
       "<g id=\"node15\" class=\"node\">\n",
       "<title>14</title>\n",
       "<path fill=\"#b0d8f5\" stroke=\"black\" d=\"M1131.5,-68C1131.5,-68 1026.5,-68 1026.5,-68 1020.5,-68 1014.5,-62 1014.5,-56 1014.5,-56 1014.5,-12 1014.5,-12 1014.5,-6 1020.5,0 1026.5,0 1026.5,0 1131.5,0 1131.5,0 1137.5,0 1143.5,-6 1143.5,-12 1143.5,-12 1143.5,-56 1143.5,-56 1143.5,-62 1137.5,-68 1131.5,-68\"/>\n",
       "<text text-anchor=\"start\" x=\"1041.5\" y=\"-52.8\" font-family=\"Helvetica,sans-Serif\" font-size=\"14.00\">gini = 0.469</text>\n",
       "<text text-anchor=\"start\" x=\"1039.5\" y=\"-37.8\" font-family=\"Helvetica,sans-Serif\" font-size=\"14.00\">samples = 8</text>\n",
       "<text text-anchor=\"start\" x=\"1038.5\" y=\"-22.8\" font-family=\"Helvetica,sans-Serif\" font-size=\"14.00\">value = [3, 5]</text>\n",
       "<text text-anchor=\"start\" x=\"1022.5\" y=\"-7.8\" font-family=\"Helvetica,sans-Serif\" font-size=\"14.00\">class = new_slide</text>\n",
       "</g>\n",
       "<!-- 12&#45;&gt;14 -->\n",
       "<g id=\"edge14\" class=\"edge\">\n",
       "<title>12&#45;&gt;14</title>\n",
       "<path fill=\"none\" stroke=\"black\" d=\"M988.62,-103.73C1001.21,-94.15 1014.61,-83.96 1027.13,-74.44\"/>\n",
       "<polygon fill=\"black\" stroke=\"black\" points=\"1029.37,-77.14 1035.21,-68.3 1025.13,-71.57 1029.37,-77.14\"/>\n",
       "</g>\n",
       "</g>\n",
       "</svg>\n"
      ],
      "text/plain": [
       "<graphviz.sources.Source at 0x2ad15c05908>"
      ]
     },
     "execution_count": 66,
     "metadata": {},
     "output_type": "execute_result"
    }
   ],
   "source": [
    "dot_data = tree.export_graphviz(clf, out_file=None, \n",
    "                      feature_names=feature_names,  \n",
    "                      class_names=['old_slide', 'new_slide'],  \n",
    "                     filled=True, rounded=True,  \n",
    "                     special_characters=True)  \n",
    "graph = graphviz.Source(dot_data)  \n",
    "graph "
   ]
  },
  {
   "cell_type": "code",
   "execution_count": 67,
   "metadata": {
    "ExecuteTime": {
     "end_time": "2022-05-30T23:39:08.346267Z",
     "start_time": "2022-05-30T23:39:08.105550Z"
    }
   },
   "outputs": [],
   "source": [
    "import pydot\n",
    "\n",
    "(graph,) = pydot.graph_from_dot_data(dot_data)\n",
    "graph.write_png('somefile.png')"
   ]
  },
  {
   "cell_type": "code",
   "execution_count": 68,
   "metadata": {
    "ExecuteTime": {
     "end_time": "2022-05-30T23:39:08.417590Z",
     "start_time": "2022-05-30T23:39:08.347265Z"
    }
   },
   "outputs": [
    {
     "name": "stdout",
     "output_type": "stream",
     "text": [
      "              precision    recall  f1-score   support\n",
      "\n",
      "       False       1.00      1.00      1.00     11718\n",
      "        True       0.91      0.81      0.86       127\n",
      "\n",
      "    accuracy                           1.00     11845\n",
      "   macro avg       0.95      0.91      0.93     11845\n",
      "weighted avg       1.00      1.00      1.00     11845\n",
      "\n"
     ]
    }
   ],
   "source": [
    "from sklearn.metrics import classification_report\n",
    "from sklearn.metrics import confusion_matrix\n",
    "print(classification_report(y_true, y_pred))"
   ]
  },
  {
   "cell_type": "code",
   "execution_count": 69,
   "metadata": {
    "ExecuteTime": {
     "end_time": "2022-05-30T23:39:08.490708Z",
     "start_time": "2022-05-30T23:39:08.419176Z"
    }
   },
   "outputs": [
    {
     "data": {
      "text/plain": [
       "array([[11708,    10],\n",
       "       [   24,   103]], dtype=int64)"
      ]
     },
     "execution_count": 69,
     "metadata": {},
     "output_type": "execute_result"
    }
   ],
   "source": [
    "confusion_matrix(y_true, y_pred)"
   ]
  },
  {
   "cell_type": "code",
   "execution_count": 70,
   "metadata": {
    "ExecuteTime": {
     "end_time": "2022-05-30T23:39:08.559113Z",
     "start_time": "2022-05-30T23:39:08.491705Z"
    }
   },
   "outputs": [
    {
     "data": {
      "text/plain": [
       "array([[11701,    17],\n",
       "       [   27,   100]], dtype=int64)"
      ]
     },
     "execution_count": 70,
     "metadata": {},
     "output_type": "execute_result"
    }
   ],
   "source": [
    "##### \n",
    "confusion_matrix(y_true, dummy_y_pred) #missed 25, 43 "
   ]
  },
  {
   "cell_type": "code",
   "execution_count": 71,
   "metadata": {
    "ExecuteTime": {
     "end_time": "2022-05-30T23:39:08.630557Z",
     "start_time": "2022-05-30T23:39:08.560110Z"
    }
   },
   "outputs": [
    {
     "data": {
      "text/plain": [
       "array([[2226, 9492],\n",
       "       [   3,  124]], dtype=int64)"
      ]
     },
     "execution_count": 71,
     "metadata": {},
     "output_type": "execute_result"
    }
   ],
   "source": [
    "cm = confusion_matrix(y_true, my_dummy_y_pred)\n",
    "cm"
   ]
  },
  {
   "cell_type": "code",
   "execution_count": 72,
   "metadata": {
    "ExecuteTime": {
     "end_time": "2022-05-30T23:39:08.703889Z",
     "start_time": "2022-05-30T23:39:08.631554Z"
    }
   },
   "outputs": [
    {
     "data": {
      "text/plain": [
       "array([[4909,    0],\n",
       "       [   1,   38]], dtype=int64)"
      ]
     },
     "execution_count": 72,
     "metadata": {},
     "output_type": "execute_result"
    }
   ],
   "source": [
    "# testing on video12\n",
    "y_test_pred = clf.predict(x_test)\n",
    "cm = confusion_matrix(y_test, y_test_pred)\n",
    "cm"
   ]
  },
  {
   "cell_type": "markdown",
   "metadata": {},
   "source": [
    "## looking at training error instances"
   ]
  },
  {
   "cell_type": "code",
   "execution_count": 73,
   "metadata": {
    "ExecuteTime": {
     "end_time": "2022-05-30T23:39:08.775182Z",
     "start_time": "2022-05-30T23:39:08.704886Z"
    },
    "scrolled": false
   },
   "outputs": [
    {
     "data": {
      "text/plain": [
       "test_video_10    14\n",
       "test_video_0     10\n",
       "test_video_11     8\n",
       "test_video_1      2\n",
       "Name: video_name, dtype: int64"
      ]
     },
     "execution_count": 73,
     "metadata": {},
     "output_type": "execute_result"
    }
   ],
   "source": [
    "train_df.reset_index().merge(X[y_true != y_pred].reset_index()[['index']], how='right')['video_name'].value_counts()"
   ]
  },
  {
   "cell_type": "code",
   "execution_count": 74,
   "metadata": {
    "ExecuteTime": {
     "end_time": "2022-05-30T23:39:08.853971Z",
     "start_time": "2022-05-30T23:39:08.776178Z"
    }
   },
   "outputs": [
    {
     "data": {
      "text/html": [
       "<div>\n",
       "<style scoped>\n",
       "    .dataframe tbody tr th:only-of-type {\n",
       "        vertical-align: middle;\n",
       "    }\n",
       "\n",
       "    .dataframe tbody tr th {\n",
       "        vertical-align: top;\n",
       "    }\n",
       "\n",
       "    .dataframe thead th {\n",
       "        text-align: right;\n",
       "    }\n",
       "</style>\n",
       "<table border=\"1\" class=\"dataframe\">\n",
       "  <thead>\n",
       "    <tr style=\"text-align: right;\">\n",
       "      <th></th>\n",
       "      <th>dissimilarity</th>\n",
       "      <th>jaccard</th>\n",
       "      <th>jaccard_letter</th>\n",
       "      <th>frame_token_ct</th>\n",
       "      <th>word_dis</th>\n",
       "      <th>letter_dissim</th>\n",
       "      <th>y_true</th>\n",
       "      <th>y_pred</th>\n",
       "    </tr>\n",
       "  </thead>\n",
       "  <tbody>\n",
       "    <tr>\n",
       "      <td>0</td>\n",
       "      <td>0.000000</td>\n",
       "      <td>0.000000</td>\n",
       "      <td>0.720000</td>\n",
       "      <td>4</td>\n",
       "      <td>0.000000</td>\n",
       "      <td>0.000000</td>\n",
       "      <td>False</td>\n",
       "      <td>False</td>\n",
       "    </tr>\n",
       "    <tr>\n",
       "      <td>1</td>\n",
       "      <td>0.000000</td>\n",
       "      <td>0.000000</td>\n",
       "      <td>0.720000</td>\n",
       "      <td>4</td>\n",
       "      <td>0.000000</td>\n",
       "      <td>0.000000</td>\n",
       "      <td>False</td>\n",
       "      <td>False</td>\n",
       "    </tr>\n",
       "    <tr>\n",
       "      <td>2</td>\n",
       "      <td>0.954545</td>\n",
       "      <td>0.954545</td>\n",
       "      <td>0.855670</td>\n",
       "      <td>4</td>\n",
       "      <td>0.789474</td>\n",
       "      <td>0.594937</td>\n",
       "      <td>True</td>\n",
       "      <td>True</td>\n",
       "    </tr>\n",
       "    <tr>\n",
       "      <td>3</td>\n",
       "      <td>0.272727</td>\n",
       "      <td>0.272727</td>\n",
       "      <td>0.890459</td>\n",
       "      <td>19</td>\n",
       "      <td>0.000000</td>\n",
       "      <td>0.012658</td>\n",
       "      <td>False</td>\n",
       "      <td>False</td>\n",
       "    </tr>\n",
       "    <tr>\n",
       "      <td>4</td>\n",
       "      <td>0.304348</td>\n",
       "      <td>0.304348</td>\n",
       "      <td>0.892361</td>\n",
       "      <td>19</td>\n",
       "      <td>0.050000</td>\n",
       "      <td>0.042945</td>\n",
       "      <td>False</td>\n",
       "      <td>False</td>\n",
       "    </tr>\n",
       "    <tr>\n",
       "      <td>...</td>\n",
       "      <td>...</td>\n",
       "      <td>...</td>\n",
       "      <td>...</td>\n",
       "      <td>...</td>\n",
       "      <td>...</td>\n",
       "      <td>...</td>\n",
       "      <td>...</td>\n",
       "      <td>...</td>\n",
       "    </tr>\n",
       "    <tr>\n",
       "      <td>11840</td>\n",
       "      <td>0.200000</td>\n",
       "      <td>0.200000</td>\n",
       "      <td>0.702381</td>\n",
       "      <td>8</td>\n",
       "      <td>0.200000</td>\n",
       "      <td>0.152542</td>\n",
       "      <td>False</td>\n",
       "      <td>False</td>\n",
       "    </tr>\n",
       "    <tr>\n",
       "      <td>11841</td>\n",
       "      <td>0.090909</td>\n",
       "      <td>0.090909</td>\n",
       "      <td>0.731959</td>\n",
       "      <td>10</td>\n",
       "      <td>0.090909</td>\n",
       "      <td>0.078125</td>\n",
       "      <td>False</td>\n",
       "      <td>False</td>\n",
       "    </tr>\n",
       "    <tr>\n",
       "      <td>11842</td>\n",
       "      <td>0.307692</td>\n",
       "      <td>0.307692</td>\n",
       "      <td>0.734694</td>\n",
       "      <td>11</td>\n",
       "      <td>0.000000</td>\n",
       "      <td>0.062500</td>\n",
       "      <td>False</td>\n",
       "      <td>False</td>\n",
       "    </tr>\n",
       "    <tr>\n",
       "      <td>11843</td>\n",
       "      <td>0.083333</td>\n",
       "      <td>0.083333</td>\n",
       "      <td>0.737374</td>\n",
       "      <td>11</td>\n",
       "      <td>0.083333</td>\n",
       "      <td>0.076923</td>\n",
       "      <td>False</td>\n",
       "      <td>False</td>\n",
       "    </tr>\n",
       "    <tr>\n",
       "      <td>11844</td>\n",
       "      <td>0.500000</td>\n",
       "      <td>0.500000</td>\n",
       "      <td>0.750000</td>\n",
       "      <td>12</td>\n",
       "      <td>0.500000</td>\n",
       "      <td>0.461538</td>\n",
       "      <td>False</td>\n",
       "      <td>False</td>\n",
       "    </tr>\n",
       "  </tbody>\n",
       "</table>\n",
       "<p>11845 rows × 8 columns</p>\n",
       "</div>"
      ],
      "text/plain": [
       "       dissimilarity   jaccard  jaccard_letter  frame_token_ct  word_dis  \\\n",
       "0           0.000000  0.000000        0.720000               4  0.000000   \n",
       "1           0.000000  0.000000        0.720000               4  0.000000   \n",
       "2           0.954545  0.954545        0.855670               4  0.789474   \n",
       "3           0.272727  0.272727        0.890459              19  0.000000   \n",
       "4           0.304348  0.304348        0.892361              19  0.050000   \n",
       "...              ...       ...             ...             ...       ...   \n",
       "11840       0.200000  0.200000        0.702381               8  0.200000   \n",
       "11841       0.090909  0.090909        0.731959              10  0.090909   \n",
       "11842       0.307692  0.307692        0.734694              11  0.000000   \n",
       "11843       0.083333  0.083333        0.737374              11  0.083333   \n",
       "11844       0.500000  0.500000        0.750000              12  0.500000   \n",
       "\n",
       "       letter_dissim  y_true  y_pred  \n",
       "0           0.000000   False   False  \n",
       "1           0.000000   False   False  \n",
       "2           0.594937    True    True  \n",
       "3           0.012658   False   False  \n",
       "4           0.042945   False   False  \n",
       "...              ...     ...     ...  \n",
       "11840       0.152542   False   False  \n",
       "11841       0.078125   False   False  \n",
       "11842       0.062500   False   False  \n",
       "11843       0.076923   False   False  \n",
       "11844       0.461538   False   False  \n",
       "\n",
       "[11845 rows x 8 columns]"
      ]
     },
     "execution_count": 74,
     "metadata": {},
     "output_type": "execute_result"
    }
   ],
   "source": [
    "X_labels = pd.concat([X, pd.DataFrame({'y_true':y_true, 'y_pred':y_pred})],axis=1)\n",
    "X_labels"
   ]
  },
  {
   "cell_type": "code",
   "execution_count": 75,
   "metadata": {
    "ExecuteTime": {
     "end_time": "2022-05-30T23:39:08.922977Z",
     "start_time": "2022-05-30T23:39:08.854968Z"
    }
   },
   "outputs": [],
   "source": [
    "x_false_negatives = X_labels.query(\"y_true and (not y_pred)\")"
   ]
  },
  {
   "cell_type": "code",
   "execution_count": 76,
   "metadata": {
    "ExecuteTime": {
     "end_time": "2022-05-30T23:39:08.990865Z",
     "start_time": "2022-05-30T23:39:08.923974Z"
    }
   },
   "outputs": [
    {
     "data": {
      "text/plain": [
       "dissimilarity         0.555556\n",
       "jaccard               0.555556\n",
       "jaccard_letter        0.926087\n",
       "frame_token_ct              33\n",
       "lev_dis               0.272358\n",
       "word_dis              0.030303\n",
       "letter_dissim       0.00806452\n",
       "video_index               2251\n",
       "new_slide                 True\n",
       "video_name        test_video_0\n",
       "Name: 2248, dtype: object"
      ]
     },
     "execution_count": 76,
     "metadata": {},
     "output_type": "execute_result"
    }
   ],
   "source": [
    "train_df.iloc[2248,]"
   ]
  },
  {
   "cell_type": "code",
   "execution_count": 77,
   "metadata": {
    "ExecuteTime": {
     "end_time": "2022-05-30T23:39:09.054403Z",
     "start_time": "2022-05-30T23:39:08.991862Z"
    }
   },
   "outputs": [
    {
     "data": {
      "text/plain": [
       "index             2251.000000\n",
       "dissimilarity        0.091521\n",
       "jaccard              0.555556\n",
       "jaccard_letter       0.926087\n",
       "frame_token_ct      33.000000\n",
       "lev_dis              0.272358\n",
       "word_dis             0.030303\n",
       "letter_dissim        0.008065\n",
       "min                 37.516667\n",
       "Name: 2250, dtype: float64"
      ]
     },
     "execution_count": 77,
     "metadata": {},
     "output_type": "execute_result"
    }
   ],
   "source": [
    "diff_df_dict['test_video_0'].iloc[2250,]"
   ]
  },
  {
   "cell_type": "code",
   "execution_count": 78,
   "metadata": {
    "ExecuteTime": {
     "end_time": "2022-05-30T23:39:09.116546Z",
     "start_time": "2022-05-30T23:39:09.056397Z"
    }
   },
   "outputs": [],
   "source": [
    "# 2251, words are exactly the same "
   ]
  },
  {
   "cell_type": "code",
   "execution_count": 79,
   "metadata": {
    "ExecuteTime": {
     "end_time": "2022-05-30T23:39:09.185926Z",
     "start_time": "2022-05-30T23:39:09.117544Z"
    }
   },
   "outputs": [],
   "source": [
    "def get_paragraph(ocr_result: list, threshold: float=0.9):\n",
    "    return \" \".join(list(map(lambda lst: lst[-1][0],filter(lambda lst: lst[-1][-1] >threshold, ocr_result))))\n",
    "\n",
    "\n",
    "def get_paragraph_line(ocr_result: list, threshold: float=0.9):\n",
    "    return \"\\n\".\\\n",
    "        join(list(map(lambda lst: lst[-1][0],filter(lambda lst: lst[-1][-1] >threshold, ocr_result))))"
   ]
  },
  {
   "cell_type": "code",
   "execution_count": 80,
   "metadata": {
    "ExecuteTime": {
     "end_time": "2022-05-30T23:39:09.253093Z",
     "start_time": "2022-05-30T23:39:09.187921Z"
    }
   },
   "outputs": [
    {
     "name": "stdout",
     "output_type": "stream",
     "text": [
      "Bottom line\n",
      "days\n",
      "Understand the business problem\n",
      "Understand how models are evaluated\n",
      "Act accordingly\n",
      "Have fun!\n",
      "days\n",
      "Christian Dior\n",
      "LOUIS VUITTON SEPHORA\n",
      "LVMH\n",
      "kaggle\n",
      "KAGGLE DAYSPARIS.JAN25-26TH.2019\n"
     ]
    }
   ],
   "source": [
    "print(get_paragraph_line(ocr_dict['test_video_0']['3455']))"
   ]
  },
  {
   "cell_type": "code",
   "execution_count": 81,
   "metadata": {
    "ExecuteTime": {
     "end_time": "2022-05-30T23:39:09.316181Z",
     "start_time": "2022-05-30T23:39:09.254089Z"
    }
   },
   "outputs": [
    {
     "name": "stdout",
     "output_type": "stream",
     "text": [
      "ORGANIZERSANDSPONSORS\n",
      "LVMH\n",
      "Christian Dior\n",
      "LOUIS VUITTON\n",
      "SEPHORA\n",
      "COUTUR\n",
      "kaggle\n"
     ]
    }
   ],
   "source": [
    "print(get_paragraph_line(ocr_dict['test_video_0']['3456']))"
   ]
  },
  {
   "cell_type": "code",
   "execution_count": 82,
   "metadata": {
    "ExecuteTime": {
     "end_time": "2022-05-30T23:39:09.401679Z",
     "start_time": "2022-05-30T23:39:09.317176Z"
    }
   },
   "outputs": [
    {
     "data": {
      "text/html": [
       "<div>\n",
       "<style scoped>\n",
       "    .dataframe tbody tr th:only-of-type {\n",
       "        vertical-align: middle;\n",
       "    }\n",
       "\n",
       "    .dataframe tbody tr th {\n",
       "        vertical-align: top;\n",
       "    }\n",
       "\n",
       "    .dataframe thead th {\n",
       "        text-align: right;\n",
       "    }\n",
       "</style>\n",
       "<table border=\"1\" class=\"dataframe\">\n",
       "  <thead>\n",
       "    <tr style=\"text-align: right;\">\n",
       "      <th></th>\n",
       "      <th>index</th>\n",
       "      <th>dissimilarity</th>\n",
       "      <th>jaccard</th>\n",
       "      <th>jaccard_letter</th>\n",
       "      <th>frame_token_ct</th>\n",
       "      <th>lev_dis</th>\n",
       "      <th>word_dis</th>\n",
       "      <th>letter_dissim</th>\n",
       "      <th>video_index</th>\n",
       "      <th>new_slide</th>\n",
       "      <th>video_name</th>\n",
       "    </tr>\n",
       "  </thead>\n",
       "  <tbody>\n",
       "    <tr>\n",
       "      <td>0</td>\n",
       "      <td>2248</td>\n",
       "      <td>0.555556</td>\n",
       "      <td>0.555556</td>\n",
       "      <td>0.926087</td>\n",
       "      <td>33</td>\n",
       "      <td>0.272358</td>\n",
       "      <td>0.030303</td>\n",
       "      <td>0.008065</td>\n",
       "      <td>2251</td>\n",
       "      <td>True</td>\n",
       "      <td>test_video_0</td>\n",
       "    </tr>\n",
       "    <tr>\n",
       "      <td>1</td>\n",
       "      <td>2320</td>\n",
       "      <td>0.769231</td>\n",
       "      <td>0.769231</td>\n",
       "      <td>0.933747</td>\n",
       "      <td>29</td>\n",
       "      <td>0.529412</td>\n",
       "      <td>0.171429</td>\n",
       "      <td>0.106618</td>\n",
       "      <td>2323</td>\n",
       "      <td>True</td>\n",
       "      <td>test_video_0</td>\n",
       "    </tr>\n",
       "    <tr>\n",
       "      <td>2</td>\n",
       "      <td>2893</td>\n",
       "      <td>0.685714</td>\n",
       "      <td>0.685714</td>\n",
       "      <td>0.916883</td>\n",
       "      <td>17</td>\n",
       "      <td>0.465116</td>\n",
       "      <td>0.413793</td>\n",
       "      <td>0.060465</td>\n",
       "      <td>2896</td>\n",
       "      <td>True</td>\n",
       "      <td>test_video_0</td>\n",
       "    </tr>\n",
       "    <tr>\n",
       "      <td>3</td>\n",
       "      <td>3458</td>\n",
       "      <td>0.461538</td>\n",
       "      <td>0.461538</td>\n",
       "      <td>0.885542</td>\n",
       "      <td>9</td>\n",
       "      <td>0.518519</td>\n",
       "      <td>0.181818</td>\n",
       "      <td>0.287037</td>\n",
       "      <td>3461</td>\n",
       "      <td>True</td>\n",
       "      <td>test_video_0</td>\n",
       "    </tr>\n",
       "    <tr>\n",
       "      <td>4</td>\n",
       "      <td>3464</td>\n",
       "      <td>1.000000</td>\n",
       "      <td>1.000000</td>\n",
       "      <td>1.000000</td>\n",
       "      <td>2</td>\n",
       "      <td>28.000000</td>\n",
       "      <td>0.500000</td>\n",
       "      <td>1.000000</td>\n",
       "      <td>3467</td>\n",
       "      <td>True</td>\n",
       "      <td>test_video_0</td>\n",
       "    </tr>\n",
       "    <tr>\n",
       "      <td>5</td>\n",
       "      <td>3472</td>\n",
       "      <td>0.535714</td>\n",
       "      <td>0.535714</td>\n",
       "      <td>0.930599</td>\n",
       "      <td>19</td>\n",
       "      <td>0.071429</td>\n",
       "      <td>0.136364</td>\n",
       "      <td>0.017544</td>\n",
       "      <td>10</td>\n",
       "      <td>True</td>\n",
       "      <td>test_video_1</td>\n",
       "    </tr>\n",
       "    <tr>\n",
       "      <td>6</td>\n",
       "      <td>5225</td>\n",
       "      <td>0.666667</td>\n",
       "      <td>0.666667</td>\n",
       "      <td>0.652174</td>\n",
       "      <td>3</td>\n",
       "      <td>1.875000</td>\n",
       "      <td>0.666667</td>\n",
       "      <td>0.652174</td>\n",
       "      <td>1763</td>\n",
       "      <td>True</td>\n",
       "      <td>test_video_1</td>\n",
       "    </tr>\n",
       "    <tr>\n",
       "      <td>7</td>\n",
       "      <td>5242</td>\n",
       "      <td>0.833333</td>\n",
       "      <td>0.833333</td>\n",
       "      <td>0.720000</td>\n",
       "      <td>3</td>\n",
       "      <td>0.125000</td>\n",
       "      <td>0.250000</td>\n",
       "      <td>0.000000</td>\n",
       "      <td>19</td>\n",
       "      <td>True</td>\n",
       "      <td>test_video_10</td>\n",
       "    </tr>\n",
       "    <tr>\n",
       "      <td>8</td>\n",
       "      <td>5245</td>\n",
       "      <td>0.000000</td>\n",
       "      <td>0.000000</td>\n",
       "      <td>0.720000</td>\n",
       "      <td>4</td>\n",
       "      <td>0.000000</td>\n",
       "      <td>0.000000</td>\n",
       "      <td>0.000000</td>\n",
       "      <td>22</td>\n",
       "      <td>True</td>\n",
       "      <td>test_video_10</td>\n",
       "    </tr>\n",
       "    <tr>\n",
       "      <td>9</td>\n",
       "      <td>5250</td>\n",
       "      <td>0.571429</td>\n",
       "      <td>0.571429</td>\n",
       "      <td>0.766667</td>\n",
       "      <td>4</td>\n",
       "      <td>0.195122</td>\n",
       "      <td>0.333333</td>\n",
       "      <td>0.195122</td>\n",
       "      <td>27</td>\n",
       "      <td>True</td>\n",
       "      <td>test_video_10</td>\n",
       "    </tr>\n",
       "    <tr>\n",
       "      <td>10</td>\n",
       "      <td>5251</td>\n",
       "      <td>0.333333</td>\n",
       "      <td>0.333333</td>\n",
       "      <td>0.762712</td>\n",
       "      <td>6</td>\n",
       "      <td>0.281250</td>\n",
       "      <td>0.333333</td>\n",
       "      <td>0.219512</td>\n",
       "      <td>28</td>\n",
       "      <td>True</td>\n",
       "      <td>test_video_10</td>\n",
       "    </tr>\n",
       "    <tr>\n",
       "      <td>11</td>\n",
       "      <td>5510</td>\n",
       "      <td>0.714286</td>\n",
       "      <td>0.714286</td>\n",
       "      <td>0.866667</td>\n",
       "      <td>13</td>\n",
       "      <td>0.825581</td>\n",
       "      <td>0.071429</td>\n",
       "      <td>0.148515</td>\n",
       "      <td>287</td>\n",
       "      <td>True</td>\n",
       "      <td>test_video_10</td>\n",
       "    </tr>\n",
       "    <tr>\n",
       "      <td>12</td>\n",
       "      <td>5568</td>\n",
       "      <td>0.666667</td>\n",
       "      <td>0.666667</td>\n",
       "      <td>0.865672</td>\n",
       "      <td>13</td>\n",
       "      <td>0.850746</td>\n",
       "      <td>0.461538</td>\n",
       "      <td>0.211765</td>\n",
       "      <td>345</td>\n",
       "      <td>True</td>\n",
       "      <td>test_video_10</td>\n",
       "    </tr>\n",
       "    <tr>\n",
       "      <td>13</td>\n",
       "      <td>5844</td>\n",
       "      <td>0.727273</td>\n",
       "      <td>0.727273</td>\n",
       "      <td>0.822430</td>\n",
       "      <td>7</td>\n",
       "      <td>0.491228</td>\n",
       "      <td>0.000000</td>\n",
       "      <td>0.173913</td>\n",
       "      <td>621</td>\n",
       "      <td>True</td>\n",
       "      <td>test_video_10</td>\n",
       "    </tr>\n",
       "    <tr>\n",
       "      <td>14</td>\n",
       "      <td>5902</td>\n",
       "      <td>0.692308</td>\n",
       "      <td>0.692308</td>\n",
       "      <td>0.826087</td>\n",
       "      <td>7</td>\n",
       "      <td>0.784314</td>\n",
       "      <td>0.300000</td>\n",
       "      <td>0.105263</td>\n",
       "      <td>679</td>\n",
       "      <td>True</td>\n",
       "      <td>test_video_10</td>\n",
       "    </tr>\n",
       "    <tr>\n",
       "      <td>15</td>\n",
       "      <td>5949</td>\n",
       "      <td>0.666667</td>\n",
       "      <td>0.666667</td>\n",
       "      <td>0.836207</td>\n",
       "      <td>10</td>\n",
       "      <td>0.449275</td>\n",
       "      <td>0.400000</td>\n",
       "      <td>0.043478</td>\n",
       "      <td>726</td>\n",
       "      <td>True</td>\n",
       "      <td>test_video_10</td>\n",
       "    </tr>\n",
       "    <tr>\n",
       "      <td>16</td>\n",
       "      <td>6082</td>\n",
       "      <td>0.555556</td>\n",
       "      <td>0.555556</td>\n",
       "      <td>0.867769</td>\n",
       "      <td>7</td>\n",
       "      <td>0.819444</td>\n",
       "      <td>0.142857</td>\n",
       "      <td>0.097222</td>\n",
       "      <td>859</td>\n",
       "      <td>True</td>\n",
       "      <td>test_video_10</td>\n",
       "    </tr>\n",
       "    <tr>\n",
       "      <td>17</td>\n",
       "      <td>6108</td>\n",
       "      <td>0.285714</td>\n",
       "      <td>0.285714</td>\n",
       "      <td>0.786408</td>\n",
       "      <td>6</td>\n",
       "      <td>0.172414</td>\n",
       "      <td>0.000000</td>\n",
       "      <td>0.134328</td>\n",
       "      <td>885</td>\n",
       "      <td>True</td>\n",
       "      <td>test_video_10</td>\n",
       "    </tr>\n",
       "    <tr>\n",
       "      <td>18</td>\n",
       "      <td>7724</td>\n",
       "      <td>0.583333</td>\n",
       "      <td>0.583333</td>\n",
       "      <td>0.842105</td>\n",
       "      <td>8</td>\n",
       "      <td>0.328571</td>\n",
       "      <td>0.111111</td>\n",
       "      <td>0.114286</td>\n",
       "      <td>2501</td>\n",
       "      <td>True</td>\n",
       "      <td>test_video_10</td>\n",
       "    </tr>\n",
       "    <tr>\n",
       "      <td>19</td>\n",
       "      <td>7771</td>\n",
       "      <td>0.551724</td>\n",
       "      <td>0.551724</td>\n",
       "      <td>0.910299</td>\n",
       "      <td>20</td>\n",
       "      <td>0.338798</td>\n",
       "      <td>0.090909</td>\n",
       "      <td>0.207650</td>\n",
       "      <td>2548</td>\n",
       "      <td>True</td>\n",
       "      <td>test_video_10</td>\n",
       "    </tr>\n",
       "    <tr>\n",
       "      <td>20</td>\n",
       "      <td>8320</td>\n",
       "      <td>0.500000</td>\n",
       "      <td>0.500000</td>\n",
       "      <td>0.860656</td>\n",
       "      <td>8</td>\n",
       "      <td>0.506849</td>\n",
       "      <td>0.125000</td>\n",
       "      <td>0.095890</td>\n",
       "      <td>3097</td>\n",
       "      <td>True</td>\n",
       "      <td>test_video_10</td>\n",
       "    </tr>\n",
       "    <tr>\n",
       "      <td>21</td>\n",
       "      <td>10196</td>\n",
       "      <td>0.270833</td>\n",
       "      <td>0.270833</td>\n",
       "      <td>0.956781</td>\n",
       "      <td>42</td>\n",
       "      <td>0.011429</td>\n",
       "      <td>0.023810</td>\n",
       "      <td>0.000000</td>\n",
       "      <td>1826</td>\n",
       "      <td>True</td>\n",
       "      <td>test_video_11</td>\n",
       "    </tr>\n",
       "    <tr>\n",
       "      <td>22</td>\n",
       "      <td>11719</td>\n",
       "      <td>0.000000</td>\n",
       "      <td>0.000000</td>\n",
       "      <td>1.000000</td>\n",
       "      <td>1</td>\n",
       "      <td>0.000000</td>\n",
       "      <td>0.000000</td>\n",
       "      <td>NaN</td>\n",
       "      <td>3349</td>\n",
       "      <td>True</td>\n",
       "      <td>test_video_11</td>\n",
       "    </tr>\n",
       "    <tr>\n",
       "      <td>23</td>\n",
       "      <td>11729</td>\n",
       "      <td>0.000000</td>\n",
       "      <td>0.000000</td>\n",
       "      <td>1.000000</td>\n",
       "      <td>1</td>\n",
       "      <td>0.000000</td>\n",
       "      <td>0.000000</td>\n",
       "      <td>NaN</td>\n",
       "      <td>3359</td>\n",
       "      <td>True</td>\n",
       "      <td>test_video_11</td>\n",
       "    </tr>\n",
       "  </tbody>\n",
       "</table>\n",
       "</div>"
      ],
      "text/plain": [
       "    index  dissimilarity   jaccard  jaccard_letter  frame_token_ct    lev_dis  \\\n",
       "0    2248       0.555556  0.555556        0.926087              33   0.272358   \n",
       "1    2320       0.769231  0.769231        0.933747              29   0.529412   \n",
       "2    2893       0.685714  0.685714        0.916883              17   0.465116   \n",
       "3    3458       0.461538  0.461538        0.885542               9   0.518519   \n",
       "4    3464       1.000000  1.000000        1.000000               2  28.000000   \n",
       "5    3472       0.535714  0.535714        0.930599              19   0.071429   \n",
       "6    5225       0.666667  0.666667        0.652174               3   1.875000   \n",
       "7    5242       0.833333  0.833333        0.720000               3   0.125000   \n",
       "8    5245       0.000000  0.000000        0.720000               4   0.000000   \n",
       "9    5250       0.571429  0.571429        0.766667               4   0.195122   \n",
       "10   5251       0.333333  0.333333        0.762712               6   0.281250   \n",
       "11   5510       0.714286  0.714286        0.866667              13   0.825581   \n",
       "12   5568       0.666667  0.666667        0.865672              13   0.850746   \n",
       "13   5844       0.727273  0.727273        0.822430               7   0.491228   \n",
       "14   5902       0.692308  0.692308        0.826087               7   0.784314   \n",
       "15   5949       0.666667  0.666667        0.836207              10   0.449275   \n",
       "16   6082       0.555556  0.555556        0.867769               7   0.819444   \n",
       "17   6108       0.285714  0.285714        0.786408               6   0.172414   \n",
       "18   7724       0.583333  0.583333        0.842105               8   0.328571   \n",
       "19   7771       0.551724  0.551724        0.910299              20   0.338798   \n",
       "20   8320       0.500000  0.500000        0.860656               8   0.506849   \n",
       "21  10196       0.270833  0.270833        0.956781              42   0.011429   \n",
       "22  11719       0.000000  0.000000        1.000000               1   0.000000   \n",
       "23  11729       0.000000  0.000000        1.000000               1   0.000000   \n",
       "\n",
       "    word_dis  letter_dissim  video_index  new_slide     video_name  \n",
       "0   0.030303       0.008065         2251       True   test_video_0  \n",
       "1   0.171429       0.106618         2323       True   test_video_0  \n",
       "2   0.413793       0.060465         2896       True   test_video_0  \n",
       "3   0.181818       0.287037         3461       True   test_video_0  \n",
       "4   0.500000       1.000000         3467       True   test_video_0  \n",
       "5   0.136364       0.017544           10       True   test_video_1  \n",
       "6   0.666667       0.652174         1763       True   test_video_1  \n",
       "7   0.250000       0.000000           19       True  test_video_10  \n",
       "8   0.000000       0.000000           22       True  test_video_10  \n",
       "9   0.333333       0.195122           27       True  test_video_10  \n",
       "10  0.333333       0.219512           28       True  test_video_10  \n",
       "11  0.071429       0.148515          287       True  test_video_10  \n",
       "12  0.461538       0.211765          345       True  test_video_10  \n",
       "13  0.000000       0.173913          621       True  test_video_10  \n",
       "14  0.300000       0.105263          679       True  test_video_10  \n",
       "15  0.400000       0.043478          726       True  test_video_10  \n",
       "16  0.142857       0.097222          859       True  test_video_10  \n",
       "17  0.000000       0.134328          885       True  test_video_10  \n",
       "18  0.111111       0.114286         2501       True  test_video_10  \n",
       "19  0.090909       0.207650         2548       True  test_video_10  \n",
       "20  0.125000       0.095890         3097       True  test_video_10  \n",
       "21  0.023810       0.000000         1826       True  test_video_11  \n",
       "22  0.000000            NaN         3349       True  test_video_11  \n",
       "23  0.000000            NaN         3359       True  test_video_11  "
      ]
     },
     "execution_count": 82,
     "metadata": {},
     "output_type": "execute_result"
    }
   ],
   "source": [
    "train_df.reset_index().merge(x_false_negatives.reset_index()[['index']], how='right').\\\n",
    "    sort_values(['video_name', 'video_index'])"
   ]
  },
  {
   "cell_type": "markdown",
   "metadata": {},
   "source": [
    "## test new df"
   ]
  },
  {
   "cell_type": "code",
   "execution_count": 104,
   "metadata": {
    "ExecuteTime": {
     "end_time": "2022-05-31T00:08:40.143930Z",
     "start_time": "2022-05-31T00:08:40.081606Z"
    }
   },
   "outputs": [
    {
     "data": {
      "text/plain": [
       "['dissimilarity',\n",
       " 'jaccard',\n",
       " 'jaccard_letter',\n",
       " 'frame_token_ct',\n",
       " 'word_dis',\n",
       " 'letter_dissim']"
      ]
     },
     "execution_count": 104,
     "metadata": {},
     "output_type": "execute_result"
    }
   ],
   "source": [
    "feature_names"
   ]
  },
  {
   "cell_type": "code",
   "execution_count": 105,
   "metadata": {
    "ExecuteTime": {
     "end_time": "2022-05-31T00:08:40.209752Z",
     "start_time": "2022-05-31T00:08:40.145925Z"
    }
   },
   "outputs": [],
   "source": [
    "test_feature_df = pd.read_csv(\"../slide_segmentation/slide_segmentator/tmp/video_ocf_features/test_video_0.csv\")"
   ]
  },
  {
   "cell_type": "code",
   "execution_count": 106,
   "metadata": {
    "ExecuteTime": {
     "end_time": "2022-05-31T00:08:40.276843Z",
     "start_time": "2022-05-31T00:08:40.211732Z"
    }
   },
   "outputs": [],
   "source": [
    "test_feature_df = test_feature_df.rename(columns={'letter_dis':'letter_dissim'})\n",
    "test_feature_df['dissimilarity'] = 1"
   ]
  },
  {
   "cell_type": "code",
   "execution_count": 107,
   "metadata": {
    "ExecuteTime": {
     "end_time": "2022-05-31T00:08:40.344500Z",
     "start_time": "2022-05-31T00:08:40.277819Z"
    }
   },
   "outputs": [
    {
     "data": {
      "text/plain": [
       "Index(['index', 'jaccard_letter', 'jaccard', 'letter_dissim', 'word_dis',\n",
       "       'frame_token_ct', 'dissimilarity'],\n",
       "      dtype='object')"
      ]
     },
     "execution_count": 107,
     "metadata": {},
     "output_type": "execute_result"
    }
   ],
   "source": [
    "test_feature_df.columns"
   ]
  },
  {
   "cell_type": "code",
   "execution_count": 111,
   "metadata": {
    "ExecuteTime": {
     "end_time": "2022-05-31T00:08:56.261558Z",
     "start_time": "2022-05-31T00:08:56.195355Z"
    }
   },
   "outputs": [
    {
     "data": {
      "text/html": [
       "<div>\n",
       "<style scoped>\n",
       "    .dataframe tbody tr th:only-of-type {\n",
       "        vertical-align: middle;\n",
       "    }\n",
       "\n",
       "    .dataframe tbody tr th {\n",
       "        vertical-align: top;\n",
       "    }\n",
       "\n",
       "    .dataframe thead th {\n",
       "        text-align: right;\n",
       "    }\n",
       "</style>\n",
       "<table border=\"1\" class=\"dataframe\">\n",
       "  <thead>\n",
       "    <tr style=\"text-align: right;\">\n",
       "      <th></th>\n",
       "      <th>index</th>\n",
       "      <th>jaccard_letter</th>\n",
       "      <th>jaccard</th>\n",
       "      <th>letter_dissim</th>\n",
       "      <th>word_dis</th>\n",
       "      <th>frame_token_ct</th>\n",
       "      <th>dissimilarity</th>\n",
       "      <th>prediction</th>\n",
       "    </tr>\n",
       "  </thead>\n",
       "  <tbody>\n",
       "    <tr>\n",
       "      <td>0</td>\n",
       "      <td>1</td>\n",
       "      <td>1.00000</td>\n",
       "      <td>1.00</td>\n",
       "      <td>1.000000</td>\n",
       "      <td>0.857143</td>\n",
       "      <td>79</td>\n",
       "      <td>1</td>\n",
       "      <td>True</td>\n",
       "    </tr>\n",
       "    <tr>\n",
       "      <td>1</td>\n",
       "      <td>2</td>\n",
       "      <td>0.00000</td>\n",
       "      <td>0.75</td>\n",
       "      <td>0.131868</td>\n",
       "      <td>0.000000</td>\n",
       "      <td>91</td>\n",
       "      <td>1</td>\n",
       "      <td>False</td>\n",
       "    </tr>\n",
       "    <tr>\n",
       "      <td>2</td>\n",
       "      <td>3</td>\n",
       "      <td>0.00000</td>\n",
       "      <td>0.00</td>\n",
       "      <td>0.000000</td>\n",
       "      <td>0.000000</td>\n",
       "      <td>91</td>\n",
       "      <td>1</td>\n",
       "      <td>False</td>\n",
       "    </tr>\n",
       "    <tr>\n",
       "      <td>3</td>\n",
       "      <td>4</td>\n",
       "      <td>0.00000</td>\n",
       "      <td>0.00</td>\n",
       "      <td>0.000000</td>\n",
       "      <td>0.000000</td>\n",
       "      <td>91</td>\n",
       "      <td>1</td>\n",
       "      <td>False</td>\n",
       "    </tr>\n",
       "    <tr>\n",
       "      <td>4</td>\n",
       "      <td>5</td>\n",
       "      <td>0.09375</td>\n",
       "      <td>0.90</td>\n",
       "      <td>0.616034</td>\n",
       "      <td>0.750000</td>\n",
       "      <td>237</td>\n",
       "      <td>1</td>\n",
       "      <td>True</td>\n",
       "    </tr>\n",
       "  </tbody>\n",
       "</table>\n",
       "</div>"
      ],
      "text/plain": [
       "   index  jaccard_letter  jaccard  letter_dissim  word_dis  frame_token_ct  \\\n",
       "0      1         1.00000     1.00       1.000000  0.857143              79   \n",
       "1      2         0.00000     0.75       0.131868  0.000000              91   \n",
       "2      3         0.00000     0.00       0.000000  0.000000              91   \n",
       "3      4         0.00000     0.00       0.000000  0.000000              91   \n",
       "4      5         0.09375     0.90       0.616034  0.750000             237   \n",
       "\n",
       "   dissimilarity  prediction  \n",
       "0              1        True  \n",
       "1              1       False  \n",
       "2              1       False  \n",
       "3              1       False  \n",
       "4              1        True  "
      ]
     },
     "execution_count": 111,
     "metadata": {},
     "output_type": "execute_result"
    }
   ],
   "source": [
    "test_feature_df.head()"
   ]
  },
  {
   "cell_type": "code",
   "execution_count": 112,
   "metadata": {
    "ExecuteTime": {
     "end_time": "2022-05-31T00:08:58.078835Z",
     "start_time": "2022-05-31T00:08:58.017196Z"
    }
   },
   "outputs": [],
   "source": [
    "test_feature_df['prediction'] = clf.predict(test_feature_df[feature_names])"
   ]
  },
  {
   "cell_type": "code",
   "execution_count": 113,
   "metadata": {
    "ExecuteTime": {
     "end_time": "2022-05-31T00:08:58.790749Z",
     "start_time": "2022-05-31T00:08:58.720020Z"
    }
   },
   "outputs": [
    {
     "data": {
      "text/html": [
       "<div>\n",
       "<style scoped>\n",
       "    .dataframe tbody tr th:only-of-type {\n",
       "        vertical-align: middle;\n",
       "    }\n",
       "\n",
       "    .dataframe tbody tr th {\n",
       "        vertical-align: top;\n",
       "    }\n",
       "\n",
       "    .dataframe thead th {\n",
       "        text-align: right;\n",
       "    }\n",
       "</style>\n",
       "<table border=\"1\" class=\"dataframe\">\n",
       "  <thead>\n",
       "    <tr style=\"text-align: right;\">\n",
       "      <th></th>\n",
       "      <th>index</th>\n",
       "      <th>jaccard_letter</th>\n",
       "      <th>jaccard</th>\n",
       "      <th>letter_dissim</th>\n",
       "      <th>word_dis</th>\n",
       "      <th>frame_token_ct</th>\n",
       "      <th>dissimilarity</th>\n",
       "      <th>prediction</th>\n",
       "    </tr>\n",
       "  </thead>\n",
       "  <tbody>\n",
       "    <tr>\n",
       "      <td>0</td>\n",
       "      <td>1</td>\n",
       "      <td>1.00000</td>\n",
       "      <td>1.000000</td>\n",
       "      <td>1.000000</td>\n",
       "      <td>0.857143</td>\n",
       "      <td>79</td>\n",
       "      <td>1</td>\n",
       "      <td>True</td>\n",
       "    </tr>\n",
       "    <tr>\n",
       "      <td>1</td>\n",
       "      <td>2</td>\n",
       "      <td>0.00000</td>\n",
       "      <td>0.750000</td>\n",
       "      <td>0.131868</td>\n",
       "      <td>0.000000</td>\n",
       "      <td>91</td>\n",
       "      <td>1</td>\n",
       "      <td>False</td>\n",
       "    </tr>\n",
       "    <tr>\n",
       "      <td>2</td>\n",
       "      <td>3</td>\n",
       "      <td>0.00000</td>\n",
       "      <td>0.000000</td>\n",
       "      <td>0.000000</td>\n",
       "      <td>0.000000</td>\n",
       "      <td>91</td>\n",
       "      <td>1</td>\n",
       "      <td>False</td>\n",
       "    </tr>\n",
       "    <tr>\n",
       "      <td>3</td>\n",
       "      <td>4</td>\n",
       "      <td>0.00000</td>\n",
       "      <td>0.000000</td>\n",
       "      <td>0.000000</td>\n",
       "      <td>0.000000</td>\n",
       "      <td>91</td>\n",
       "      <td>1</td>\n",
       "      <td>False</td>\n",
       "    </tr>\n",
       "    <tr>\n",
       "      <td>4</td>\n",
       "      <td>5</td>\n",
       "      <td>0.09375</td>\n",
       "      <td>0.900000</td>\n",
       "      <td>0.616034</td>\n",
       "      <td>0.750000</td>\n",
       "      <td>237</td>\n",
       "      <td>1</td>\n",
       "      <td>True</td>\n",
       "    </tr>\n",
       "    <tr>\n",
       "      <td>5</td>\n",
       "      <td>6</td>\n",
       "      <td>0.00000</td>\n",
       "      <td>0.055556</td>\n",
       "      <td>0.008439</td>\n",
       "      <td>0.000000</td>\n",
       "      <td>235</td>\n",
       "      <td>1</td>\n",
       "      <td>False</td>\n",
       "    </tr>\n",
       "    <tr>\n",
       "      <td>6</td>\n",
       "      <td>7</td>\n",
       "      <td>0.00000</td>\n",
       "      <td>0.055556</td>\n",
       "      <td>0.008439</td>\n",
       "      <td>0.000000</td>\n",
       "      <td>237</td>\n",
       "      <td>1</td>\n",
       "      <td>False</td>\n",
       "    </tr>\n",
       "    <tr>\n",
       "      <td>7</td>\n",
       "      <td>8</td>\n",
       "      <td>0.00000</td>\n",
       "      <td>0.055556</td>\n",
       "      <td>0.008439</td>\n",
       "      <td>0.000000</td>\n",
       "      <td>235</td>\n",
       "      <td>1</td>\n",
       "      <td>False</td>\n",
       "    </tr>\n",
       "    <tr>\n",
       "      <td>8</td>\n",
       "      <td>9</td>\n",
       "      <td>0.00000</td>\n",
       "      <td>0.105263</td>\n",
       "      <td>0.016736</td>\n",
       "      <td>0.000000</td>\n",
       "      <td>239</td>\n",
       "      <td>1</td>\n",
       "      <td>False</td>\n",
       "    </tr>\n",
       "    <tr>\n",
       "      <td>9</td>\n",
       "      <td>10</td>\n",
       "      <td>0.00000</td>\n",
       "      <td>0.000000</td>\n",
       "      <td>0.000000</td>\n",
       "      <td>0.000000</td>\n",
       "      <td>239</td>\n",
       "      <td>1</td>\n",
       "      <td>False</td>\n",
       "    </tr>\n",
       "    <tr>\n",
       "      <td>10</td>\n",
       "      <td>11</td>\n",
       "      <td>0.00000</td>\n",
       "      <td>0.000000</td>\n",
       "      <td>0.000000</td>\n",
       "      <td>0.000000</td>\n",
       "      <td>239</td>\n",
       "      <td>1</td>\n",
       "      <td>False</td>\n",
       "    </tr>\n",
       "    <tr>\n",
       "      <td>11</td>\n",
       "      <td>12</td>\n",
       "      <td>0.00000</td>\n",
       "      <td>0.000000</td>\n",
       "      <td>0.000000</td>\n",
       "      <td>0.000000</td>\n",
       "      <td>239</td>\n",
       "      <td>1</td>\n",
       "      <td>False</td>\n",
       "    </tr>\n",
       "    <tr>\n",
       "      <td>12</td>\n",
       "      <td>13</td>\n",
       "      <td>0.00000</td>\n",
       "      <td>0.105263</td>\n",
       "      <td>0.000000</td>\n",
       "      <td>0.000000</td>\n",
       "      <td>239</td>\n",
       "      <td>1</td>\n",
       "      <td>False</td>\n",
       "    </tr>\n",
       "    <tr>\n",
       "      <td>13</td>\n",
       "      <td>14</td>\n",
       "      <td>0.00000</td>\n",
       "      <td>0.105263</td>\n",
       "      <td>0.000000</td>\n",
       "      <td>0.000000</td>\n",
       "      <td>239</td>\n",
       "      <td>1</td>\n",
       "      <td>False</td>\n",
       "    </tr>\n",
       "    <tr>\n",
       "      <td>14</td>\n",
       "      <td>15</td>\n",
       "      <td>0.00000</td>\n",
       "      <td>0.055556</td>\n",
       "      <td>0.008368</td>\n",
       "      <td>0.000000</td>\n",
       "      <td>237</td>\n",
       "      <td>1</td>\n",
       "      <td>False</td>\n",
       "    </tr>\n",
       "    <tr>\n",
       "      <td>15</td>\n",
       "      <td>16</td>\n",
       "      <td>0.00000</td>\n",
       "      <td>0.055556</td>\n",
       "      <td>0.008368</td>\n",
       "      <td>0.000000</td>\n",
       "      <td>239</td>\n",
       "      <td>1</td>\n",
       "      <td>False</td>\n",
       "    </tr>\n",
       "    <tr>\n",
       "      <td>16</td>\n",
       "      <td>17</td>\n",
       "      <td>0.00000</td>\n",
       "      <td>0.000000</td>\n",
       "      <td>0.000000</td>\n",
       "      <td>0.000000</td>\n",
       "      <td>239</td>\n",
       "      <td>1</td>\n",
       "      <td>False</td>\n",
       "    </tr>\n",
       "    <tr>\n",
       "      <td>17</td>\n",
       "      <td>18</td>\n",
       "      <td>0.00000</td>\n",
       "      <td>0.105263</td>\n",
       "      <td>0.000000</td>\n",
       "      <td>0.000000</td>\n",
       "      <td>239</td>\n",
       "      <td>1</td>\n",
       "      <td>False</td>\n",
       "    </tr>\n",
       "    <tr>\n",
       "      <td>18</td>\n",
       "      <td>19</td>\n",
       "      <td>0.00000</td>\n",
       "      <td>0.105263</td>\n",
       "      <td>0.000000</td>\n",
       "      <td>0.000000</td>\n",
       "      <td>239</td>\n",
       "      <td>1</td>\n",
       "      <td>False</td>\n",
       "    </tr>\n",
       "    <tr>\n",
       "      <td>19</td>\n",
       "      <td>20</td>\n",
       "      <td>0.00000</td>\n",
       "      <td>0.000000</td>\n",
       "      <td>0.000000</td>\n",
       "      <td>0.000000</td>\n",
       "      <td>239</td>\n",
       "      <td>1</td>\n",
       "      <td>False</td>\n",
       "    </tr>\n",
       "  </tbody>\n",
       "</table>\n",
       "</div>"
      ],
      "text/plain": [
       "    index  jaccard_letter   jaccard  letter_dissim  word_dis  frame_token_ct  \\\n",
       "0       1         1.00000  1.000000       1.000000  0.857143              79   \n",
       "1       2         0.00000  0.750000       0.131868  0.000000              91   \n",
       "2       3         0.00000  0.000000       0.000000  0.000000              91   \n",
       "3       4         0.00000  0.000000       0.000000  0.000000              91   \n",
       "4       5         0.09375  0.900000       0.616034  0.750000             237   \n",
       "5       6         0.00000  0.055556       0.008439  0.000000             235   \n",
       "6       7         0.00000  0.055556       0.008439  0.000000             237   \n",
       "7       8         0.00000  0.055556       0.008439  0.000000             235   \n",
       "8       9         0.00000  0.105263       0.016736  0.000000             239   \n",
       "9      10         0.00000  0.000000       0.000000  0.000000             239   \n",
       "10     11         0.00000  0.000000       0.000000  0.000000             239   \n",
       "11     12         0.00000  0.000000       0.000000  0.000000             239   \n",
       "12     13         0.00000  0.105263       0.000000  0.000000             239   \n",
       "13     14         0.00000  0.105263       0.000000  0.000000             239   \n",
       "14     15         0.00000  0.055556       0.008368  0.000000             237   \n",
       "15     16         0.00000  0.055556       0.008368  0.000000             239   \n",
       "16     17         0.00000  0.000000       0.000000  0.000000             239   \n",
       "17     18         0.00000  0.105263       0.000000  0.000000             239   \n",
       "18     19         0.00000  0.105263       0.000000  0.000000             239   \n",
       "19     20         0.00000  0.000000       0.000000  0.000000             239   \n",
       "\n",
       "    dissimilarity  prediction  \n",
       "0               1        True  \n",
       "1               1       False  \n",
       "2               1       False  \n",
       "3               1       False  \n",
       "4               1        True  \n",
       "5               1       False  \n",
       "6               1       False  \n",
       "7               1       False  \n",
       "8               1       False  \n",
       "9               1       False  \n",
       "10              1       False  \n",
       "11              1       False  \n",
       "12              1       False  \n",
       "13              1       False  \n",
       "14              1       False  \n",
       "15              1       False  \n",
       "16              1       False  \n",
       "17              1       False  \n",
       "18              1       False  \n",
       "19              1       False  "
      ]
     },
     "execution_count": 113,
     "metadata": {},
     "output_type": "execute_result"
    }
   ],
   "source": [
    "test_feature_df"
   ]
  }
 ],
 "metadata": {
  "kernelspec": {
   "display_name": "Python 3",
   "language": "python",
   "name": "python3"
  },
  "language_info": {
   "codemirror_mode": {
    "name": "ipython",
    "version": 3
   },
   "file_extension": ".py",
   "mimetype": "text/x-python",
   "name": "python",
   "nbconvert_exporter": "python",
   "pygments_lexer": "ipython3",
   "version": "3.7.4"
  },
  "toc": {
   "base_numbering": 1,
   "nav_menu": {},
   "number_sections": true,
   "sideBar": true,
   "skip_h1_title": false,
   "title_cell": "Table of Contents",
   "title_sidebar": "Contents",
   "toc_cell": false,
   "toc_position": {
    "height": "calc(100% - 180px)",
    "left": "10px",
    "top": "150px",
    "width": "304.475px"
   },
   "toc_section_display": true,
   "toc_window_display": true
  }
 },
 "nbformat": 4,
 "nbformat_minor": 2
}
