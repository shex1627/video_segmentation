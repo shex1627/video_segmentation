{
 "cells": [
  {
   "cell_type": "code",
   "execution_count": 33,
   "metadata": {
    "ExecuteTime": {
     "end_time": "2022-05-30T01:40:26.541348Z",
     "start_time": "2022-05-30T01:40:26.477859Z"
    }
   },
   "outputs": [
    {
     "name": "stdout",
     "output_type": "stream",
     "text": [
      "The autoreload extension is already loaded. To reload it, use:\n",
      "  %reload_ext autoreload\n"
     ]
    }
   ],
   "source": [
    "%load_ext autoreload\n",
    "%autoreload 2"
   ]
  },
  {
   "cell_type": "code",
   "execution_count": 34,
   "metadata": {
    "ExecuteTime": {
     "end_time": "2022-05-30T01:40:26.602727Z",
     "start_time": "2022-05-30T01:40:26.542347Z"
    }
   },
   "outputs": [],
   "source": [
    "import os\n",
    "from pathlib import Path\n",
    "import pandas as pd\n",
    "import numpy as np\n",
    "import matplotlib.pyplot as plt\n",
    "\n",
    "pd.set_option('display.max_rows', 500)"
   ]
  },
  {
   "cell_type": "code",
   "execution_count": 35,
   "metadata": {
    "ExecuteTime": {
     "end_time": "2022-05-30T01:40:26.668575Z",
     "start_time": "2022-05-30T01:40:26.604752Z"
    }
   },
   "outputs": [],
   "source": [
    "import cv2"
   ]
  },
  {
   "cell_type": "code",
   "execution_count": 36,
   "metadata": {
    "ExecuteTime": {
     "end_time": "2022-05-30T01:40:26.739538Z",
     "start_time": "2022-05-30T01:40:26.670569Z"
    }
   },
   "outputs": [],
   "source": [
    "video_ocr_paths = list(Path(\"../data/video_frame_obj\").glob(\"*.csv\"))"
   ]
  },
  {
   "cell_type": "code",
   "execution_count": 37,
   "metadata": {
    "ExecuteTime": {
     "end_time": "2022-05-30T01:40:26.807375Z",
     "start_time": "2022-05-30T01:40:26.740534Z"
    }
   },
   "outputs": [
    {
     "data": {
      "text/plain": [
       "[WindowsPath('../data/video_frame_obj/test_video_0.csv'),\n",
       " WindowsPath('../data/video_frame_obj/test_video_1.csv')]"
      ]
     },
     "execution_count": 37,
     "metadata": {},
     "output_type": "execute_result"
    }
   ],
   "source": [
    "video_ocr_paths[:2]"
   ]
  },
  {
   "cell_type": "code",
   "execution_count": 38,
   "metadata": {
    "ExecuteTime": {
     "end_time": "2022-05-30T01:40:26.995037Z",
     "start_time": "2022-05-30T01:40:26.808372Z"
    }
   },
   "outputs": [],
   "source": [
    "diff_df_dict = dict()\n",
    "for video_ocr_path in video_ocr_paths:\n",
    "    file_name = video_ocr_path.name.split(\".\")[0]\n",
    "    diff_df_dict[file_name] = pd.read_csv(video_ocr_path)"
   ]
  },
  {
   "cell_type": "code",
   "execution_count": 39,
   "metadata": {
    "ExecuteTime": {
     "end_time": "2022-05-30T01:40:27.072598Z",
     "start_time": "2022-05-30T01:40:26.996022Z"
    }
   },
   "outputs": [
    {
     "data": {
      "text/html": [
       "<div>\n",
       "<style scoped>\n",
       "    .dataframe tbody tr th:only-of-type {\n",
       "        vertical-align: middle;\n",
       "    }\n",
       "\n",
       "    .dataframe tbody tr th {\n",
       "        vertical-align: top;\n",
       "    }\n",
       "\n",
       "    .dataframe thead th {\n",
       "        text-align: right;\n",
       "    }\n",
       "</style>\n",
       "<table border=\"1\" class=\"dataframe\">\n",
       "  <thead>\n",
       "    <tr style=\"text-align: right;\">\n",
       "      <th></th>\n",
       "      <th>index</th>\n",
       "      <th>dissimilarity</th>\n",
       "      <th>jaccard</th>\n",
       "      <th>jaccard_letter</th>\n",
       "      <th>frame_token_ct</th>\n",
       "      <th>lev_dis</th>\n",
       "      <th>word_dis</th>\n",
       "      <th>letter_dissim</th>\n",
       "      <th>min</th>\n",
       "    </tr>\n",
       "  </thead>\n",
       "  <tbody>\n",
       "    <tr>\n",
       "      <td>0</td>\n",
       "      <td>1</td>\n",
       "      <td>0.073178</td>\n",
       "      <td>0.2</td>\n",
       "      <td>0.478261</td>\n",
       "      <td>4</td>\n",
       "      <td>0.368421</td>\n",
       "      <td>0.200000</td>\n",
       "      <td>0.157895</td>\n",
       "      <td>0.016667</td>\n",
       "    </tr>\n",
       "    <tr>\n",
       "      <td>1</td>\n",
       "      <td>2</td>\n",
       "      <td>0.036582</td>\n",
       "      <td>0.2</td>\n",
       "      <td>0.478261</td>\n",
       "      <td>5</td>\n",
       "      <td>0.187500</td>\n",
       "      <td>0.200000</td>\n",
       "      <td>0.157895</td>\n",
       "      <td>0.033333</td>\n",
       "    </tr>\n",
       "    <tr>\n",
       "      <td>2</td>\n",
       "      <td>3</td>\n",
       "      <td>0.073881</td>\n",
       "      <td>0.4</td>\n",
       "      <td>0.476190</td>\n",
       "      <td>4</td>\n",
       "      <td>0.062500</td>\n",
       "      <td>0.000000</td>\n",
       "      <td>0.000000</td>\n",
       "      <td>0.050000</td>\n",
       "    </tr>\n",
       "    <tr>\n",
       "      <td>3</td>\n",
       "      <td>4</td>\n",
       "      <td>0.194590</td>\n",
       "      <td>0.6</td>\n",
       "      <td>0.705882</td>\n",
       "      <td>4</td>\n",
       "      <td>1.666667</td>\n",
       "      <td>0.250000</td>\n",
       "      <td>0.625000</td>\n",
       "      <td>0.066667</td>\n",
       "    </tr>\n",
       "    <tr>\n",
       "      <td>4</td>\n",
       "      <td>5</td>\n",
       "      <td>1.000000</td>\n",
       "      <td>1.0</td>\n",
       "      <td>1.000000</td>\n",
       "      <td>3</td>\n",
       "      <td>6.000000</td>\n",
       "      <td>0.666667</td>\n",
       "      <td>1.000000</td>\n",
       "      <td>0.083333</td>\n",
       "    </tr>\n",
       "  </tbody>\n",
       "</table>\n",
       "</div>"
      ],
      "text/plain": [
       "   index  dissimilarity  jaccard  jaccard_letter  frame_token_ct   lev_dis  \\\n",
       "0      1       0.073178      0.2        0.478261               4  0.368421   \n",
       "1      2       0.036582      0.2        0.478261               5  0.187500   \n",
       "2      3       0.073881      0.4        0.476190               4  0.062500   \n",
       "3      4       0.194590      0.6        0.705882               4  1.666667   \n",
       "4      5       1.000000      1.0        1.000000               3  6.000000   \n",
       "\n",
       "   word_dis  letter_dissim       min  \n",
       "0  0.200000       0.157895  0.016667  \n",
       "1  0.200000       0.157895  0.033333  \n",
       "2  0.000000       0.000000  0.050000  \n",
       "3  0.250000       0.625000  0.066667  \n",
       "4  0.666667       1.000000  0.083333  "
      ]
     },
     "execution_count": 39,
     "metadata": {},
     "output_type": "execute_result"
    }
   ],
   "source": [
    "diff_df = diff_df_dict['test_video_13']\n",
    "diff_df.head()"
   ]
  },
  {
   "cell_type": "code",
   "execution_count": 40,
   "metadata": {
    "ExecuteTime": {
     "end_time": "2022-05-30T01:40:27.139677Z",
     "start_time": "2022-05-30T01:40:27.074591Z"
    }
   },
   "outputs": [
    {
     "data": {
      "text/plain": [
       "dict_keys(['test_video_0', 'test_video_1', 'test_video_10', 'test_video_11', 'test_video_12'])"
      ]
     },
     "execution_count": 40,
     "metadata": {},
     "output_type": "execute_result"
    }
   ],
   "source": [
    "import json\n",
    "with open('labels.json', 'r') as file:\n",
    "    labels = json.load(file)\n",
    "labels.keys()"
   ]
  },
  {
   "cell_type": "code",
   "execution_count": 41,
   "metadata": {
    "ExecuteTime": {
     "end_time": "2022-05-30T01:40:27.207491Z",
     "start_time": "2022-05-30T01:40:27.141672Z"
    }
   },
   "outputs": [],
   "source": [
    "def create_label_function(labels:list):\n",
    "    return lambda index_ : True if index_ in labels else False"
   ]
  },
  {
   "cell_type": "code",
   "execution_count": 42,
   "metadata": {
    "ExecuteTime": {
     "end_time": "2022-05-30T01:40:27.273727Z",
     "start_time": "2022-05-30T01:40:27.209489Z"
    }
   },
   "outputs": [
    {
     "data": {
      "text/plain": [
       "True"
      ]
     },
     "execution_count": 42,
     "metadata": {},
     "output_type": "execute_result"
    }
   ],
   "source": [
    "create_label_function(labels['test_video_0'])(3467)"
   ]
  },
  {
   "cell_type": "code",
   "execution_count": 43,
   "metadata": {
    "ExecuteTime": {
     "end_time": "2022-05-30T01:40:27.350895Z",
     "start_time": "2022-05-30T01:40:27.274725Z"
    }
   },
   "outputs": [],
   "source": [
    "train_df = pd.DataFrame()\n",
    "train_df_lst = []\n",
    "for video_name, label_frames in labels.items():\n",
    "    diff_df = diff_df_dict[video_name].iloc[2:,].copy() #remove the first 2 frames\n",
    "    diff_df['video_index'] = diff_df['index']\n",
    "    \n",
    "    label_function = create_label_function(label_frames)\n",
    "    diff_df['new_slide'] = diff_df['index'].apply(label_function)\n",
    "    diff_df['video_name'] = video_name\n",
    "    train_df_lst.append(diff_df)\n",
    "    "
   ]
  },
  {
   "cell_type": "code",
   "execution_count": 44,
   "metadata": {
    "ExecuteTime": {
     "end_time": "2022-05-30T01:40:27.425198Z",
     "start_time": "2022-05-30T01:40:27.351889Z"
    }
   },
   "outputs": [
    {
     "data": {
      "text/plain": [
       "(168, 0.010004168403501459)"
      ]
     },
     "execution_count": 44,
     "metadata": {},
     "output_type": "execute_result"
    }
   ],
   "source": [
    "pd.concat(train_df_lst)['new_slide'].sum(), pd.concat(train_df_lst)['new_slide'].mean()"
   ]
  },
  {
   "cell_type": "code",
   "execution_count": 45,
   "metadata": {
    "ExecuteTime": {
     "end_time": "2022-05-30T01:40:27.500358Z",
     "start_time": "2022-05-30T01:40:27.426112Z"
    }
   },
   "outputs": [
    {
     "data": {
      "text/html": [
       "<div>\n",
       "<style scoped>\n",
       "    .dataframe tbody tr th:only-of-type {\n",
       "        vertical-align: middle;\n",
       "    }\n",
       "\n",
       "    .dataframe tbody tr th {\n",
       "        vertical-align: top;\n",
       "    }\n",
       "\n",
       "    .dataframe thead th {\n",
       "        text-align: right;\n",
       "    }\n",
       "</style>\n",
       "<table border=\"1\" class=\"dataframe\">\n",
       "  <thead>\n",
       "    <tr style=\"text-align: right;\">\n",
       "      <th></th>\n",
       "      <th>dissimilarity</th>\n",
       "      <th>jaccard</th>\n",
       "      <th>jaccard_letter</th>\n",
       "      <th>frame_token_ct</th>\n",
       "      <th>word_dis</th>\n",
       "      <th>letter_dissim</th>\n",
       "      <th>min</th>\n",
       "      <th>video_index</th>\n",
       "      <th>new_slide</th>\n",
       "      <th>video_name</th>\n",
       "    </tr>\n",
       "  </thead>\n",
       "  <tbody>\n",
       "    <tr>\n",
       "      <td>0</td>\n",
       "      <td>0.000000</td>\n",
       "      <td>0.000000</td>\n",
       "      <td>0.720000</td>\n",
       "      <td>4</td>\n",
       "      <td>0.000000</td>\n",
       "      <td>0.000000</td>\n",
       "      <td>0.050000</td>\n",
       "      <td>3</td>\n",
       "      <td>False</td>\n",
       "      <td>test_video_0</td>\n",
       "    </tr>\n",
       "    <tr>\n",
       "      <td>1</td>\n",
       "      <td>0.000000</td>\n",
       "      <td>0.000000</td>\n",
       "      <td>0.720000</td>\n",
       "      <td>4</td>\n",
       "      <td>0.000000</td>\n",
       "      <td>0.000000</td>\n",
       "      <td>0.066667</td>\n",
       "      <td>4</td>\n",
       "      <td>False</td>\n",
       "      <td>test_video_0</td>\n",
       "    </tr>\n",
       "    <tr>\n",
       "      <td>2</td>\n",
       "      <td>0.214963</td>\n",
       "      <td>0.954545</td>\n",
       "      <td>0.855670</td>\n",
       "      <td>4</td>\n",
       "      <td>0.789474</td>\n",
       "      <td>0.594937</td>\n",
       "      <td>0.083333</td>\n",
       "      <td>5</td>\n",
       "      <td>True</td>\n",
       "      <td>test_video_0</td>\n",
       "    </tr>\n",
       "    <tr>\n",
       "      <td>3</td>\n",
       "      <td>0.004761</td>\n",
       "      <td>0.272727</td>\n",
       "      <td>0.890459</td>\n",
       "      <td>19</td>\n",
       "      <td>0.000000</td>\n",
       "      <td>0.012658</td>\n",
       "      <td>0.100000</td>\n",
       "      <td>6</td>\n",
       "      <td>False</td>\n",
       "      <td>test_video_0</td>\n",
       "    </tr>\n",
       "    <tr>\n",
       "      <td>4</td>\n",
       "      <td>0.008385</td>\n",
       "      <td>0.304348</td>\n",
       "      <td>0.892361</td>\n",
       "      <td>19</td>\n",
       "      <td>0.050000</td>\n",
       "      <td>0.042945</td>\n",
       "      <td>0.116667</td>\n",
       "      <td>7</td>\n",
       "      <td>False</td>\n",
       "      <td>test_video_0</td>\n",
       "    </tr>\n",
       "  </tbody>\n",
       "</table>\n",
       "</div>"
      ],
      "text/plain": [
       "   dissimilarity   jaccard  jaccard_letter  frame_token_ct  word_dis  \\\n",
       "0       0.000000  0.000000        0.720000               4  0.000000   \n",
       "1       0.000000  0.000000        0.720000               4  0.000000   \n",
       "2       0.214963  0.954545        0.855670               4  0.789474   \n",
       "3       0.004761  0.272727        0.890459              19  0.000000   \n",
       "4       0.008385  0.304348        0.892361              19  0.050000   \n",
       "\n",
       "   letter_dissim       min  video_index  new_slide    video_name  \n",
       "0       0.000000  0.050000            3      False  test_video_0  \n",
       "1       0.000000  0.066667            4      False  test_video_0  \n",
       "2       0.594937  0.083333            5       True  test_video_0  \n",
       "3       0.012658  0.100000            6      False  test_video_0  \n",
       "4       0.042945  0.116667            7      False  test_video_0  "
      ]
     },
     "execution_count": 45,
     "metadata": {},
     "output_type": "execute_result"
    }
   ],
   "source": [
    "train_df = pd.concat(train_df_lst, ignore_index=True)\n",
    "\n",
    "train_df = train_df.drop(['lev_dis', 'index'], axis=1)\n",
    "train_df.head()"
   ]
  },
  {
   "cell_type": "code",
   "execution_count": 46,
   "metadata": {
    "ExecuteTime": {
     "end_time": "2022-05-30T01:40:27.562710Z",
     "start_time": "2022-05-30T01:40:27.501356Z"
    }
   },
   "outputs": [
    {
     "data": {
      "text/plain": [
       "Index(['dissimilarity', 'jaccard', 'jaccard_letter', 'frame_token_ct',\n",
       "       'word_dis', 'letter_dissim', 'min', 'video_index', 'new_slide',\n",
       "       'video_name'],\n",
       "      dtype='object')"
      ]
     },
     "execution_count": 46,
     "metadata": {},
     "output_type": "execute_result"
    }
   ],
   "source": [
    "train_df.columns"
   ]
  },
  {
   "cell_type": "code",
   "execution_count": 47,
   "metadata": {
    "ExecuteTime": {
     "end_time": "2022-05-30T01:40:27.624714Z",
     "start_time": "2022-05-30T01:40:27.563706Z"
    }
   },
   "outputs": [],
   "source": [
    "feature_names = ['dissimilarity', 'jaccard', 'jaccard_letter', 'frame_token_ct',\n",
    "       'word_dis', 'letter_dissim', 'min']"
   ]
  },
  {
   "cell_type": "code",
   "execution_count": 48,
   "metadata": {
    "ExecuteTime": {
     "end_time": "2022-05-30T01:40:27.688698Z",
     "start_time": "2022-05-30T01:40:27.626708Z"
    }
   },
   "outputs": [
    {
     "data": {
      "text/plain": [
       "0         test_video_0\n",
       "1         test_video_0\n",
       "2         test_video_0\n",
       "3         test_video_0\n",
       "4         test_video_0\n",
       "             ...      \n",
       "16788    test_video_12\n",
       "16789    test_video_12\n",
       "16790    test_video_12\n",
       "16791    test_video_12\n",
       "16792    test_video_12\n",
       "Name: video_name, Length: 16793, dtype: object"
      ]
     },
     "execution_count": 48,
     "metadata": {},
     "output_type": "execute_result"
    }
   ],
   "source": [
    "train_df['video_name']"
   ]
  },
  {
   "cell_type": "code",
   "execution_count": 49,
   "metadata": {
    "ExecuteTime": {
     "end_time": "2022-05-30T01:40:27.760424Z",
     "start_time": "2022-05-30T01:40:27.689695Z"
    }
   },
   "outputs": [],
   "source": [
    "X = train_df.query(\"video_name!='test_video_12'\")[feature_names].fillna(0)\n",
    "y = train_df.query(\"video_name!='test_video_12'\")['new_slide']"
   ]
  },
  {
   "cell_type": "code",
   "execution_count": 50,
   "metadata": {
    "ExecuteTime": {
     "end_time": "2022-05-30T01:40:27.831530Z",
     "start_time": "2022-05-30T01:40:27.761422Z"
    }
   },
   "outputs": [],
   "source": [
    "x_test = train_df.query(\"video_name=='test_video_12'\")[feature_names].fillna(0)\n",
    "y_test = train_df.query(\"video_name=='test_video_12'\")['new_slide']"
   ]
  },
  {
   "cell_type": "code",
   "execution_count": 72,
   "metadata": {
    "ExecuteTime": {
     "end_time": "2022-05-30T01:45:13.857675Z",
     "start_time": "2022-05-30T01:45:13.774613Z"
    }
   },
   "outputs": [],
   "source": [
    "from sklearn.datasets import load_iris\n",
    "from sklearn import tree\n",
    "seed =12345\n",
    "clf = tree.DecisionTreeClassifier(max_depth=3, random_state=seed)\n",
    "clf = clf.fit(X, y)\n",
    "\n",
    "dummy_clf = tree.DecisionTreeClassifier(max_depth=1, random_state=seed)\n",
    "dummy_clf  = dummy_clf.fit(X, y)\n",
    "\n",
    "\n",
    "# keep probabilities for the positive outcome only\n",
    "from sklearn.metrics import precision_recall_curve\n",
    "lr_probs = clf.predict_proba(X)\n",
    "lr_probs = lr_probs[:, 1]\n",
    "# predict class values\n",
    "y_pred = clf.predict(X)\n",
    "# calculate precision and recall for each threshold\n",
    "lr_precision, lr_recall, _ = precision_recall_curve(y_true, lr_probs)"
   ]
  },
  {
   "cell_type": "code",
   "execution_count": 75,
   "metadata": {
    "ExecuteTime": {
     "end_time": "2022-05-30T01:45:58.154298Z",
     "start_time": "2022-05-30T01:45:58.075556Z"
    }
   },
   "outputs": [
    {
     "data": {
      "text/plain": [
       "(array([0.01089067, 0.75342466, 0.83206107, 0.8852459 , 0.90350877,\n",
       "        0.94845361, 0.95604396, 1.        , 1.        ]),\n",
       " array([1.        , 0.85271318, 0.84496124, 0.8372093 , 0.79844961,\n",
       "        0.71317829, 0.6744186 , 0.13178295, 0.        ]),\n",
       " array([0.00162407, 0.06666667, 0.11111111, 0.625     , 0.64705882,\n",
       "        0.83333333, 0.94594595, 1.        ]))"
      ]
     },
     "execution_count": 75,
     "metadata": {},
     "output_type": "execute_result"
    }
   ],
   "source": [
    "lr_precision, lr_recall, _"
   ]
  },
  {
   "cell_type": "code",
   "execution_count": 74,
   "metadata": {
    "ExecuteTime": {
     "end_time": "2022-05-30T01:45:48.805496Z",
     "start_time": "2022-05-30T01:45:48.734092Z"
    }
   },
   "outputs": [
    {
     "ename": "ValueError",
     "evalue": "arrays must all be same length",
     "output_type": "error",
     "traceback": [
      "\u001b[1;31m---------------------------------------------------------------------------\u001b[0m",
      "\u001b[1;31mValueError\u001b[0m                                Traceback (most recent call last)",
      "\u001b[1;32m<ipython-input-74-7f7c44348943>\u001b[0m in \u001b[0;36m<module>\u001b[1;34m\u001b[0m\n\u001b[1;32m----> 1\u001b[1;33m \u001b[0mmetrics_df\u001b[0m \u001b[1;33m=\u001b[0m \u001b[0mpd\u001b[0m\u001b[1;33m.\u001b[0m\u001b[0mDataFrame\u001b[0m\u001b[1;33m(\u001b[0m\u001b[1;33m{\u001b[0m\u001b[1;34m'precision'\u001b[0m\u001b[1;33m:\u001b[0m\u001b[0mlr_precision\u001b[0m\u001b[1;33m,\u001b[0m \u001b[1;34m'recall'\u001b[0m\u001b[1;33m:\u001b[0m\u001b[0mlr_recall\u001b[0m\u001b[1;33m,\u001b[0m \u001b[1;34m'proba'\u001b[0m\u001b[1;33m:\u001b[0m\u001b[0m_\u001b[0m \u001b[1;33m}\u001b[0m\u001b[1;33m)\u001b[0m\u001b[1;33m\u001b[0m\u001b[1;33m\u001b[0m\u001b[0m\n\u001b[0m",
      "\u001b[1;32m~\\Anaconda3\\lib\\site-packages\\pandas\\core\\frame.py\u001b[0m in \u001b[0;36m__init__\u001b[1;34m(self, data, index, columns, dtype, copy)\u001b[0m\n\u001b[0;32m    409\u001b[0m             )\n\u001b[0;32m    410\u001b[0m         \u001b[1;32melif\u001b[0m \u001b[0misinstance\u001b[0m\u001b[1;33m(\u001b[0m\u001b[0mdata\u001b[0m\u001b[1;33m,\u001b[0m \u001b[0mdict\u001b[0m\u001b[1;33m)\u001b[0m\u001b[1;33m:\u001b[0m\u001b[1;33m\u001b[0m\u001b[1;33m\u001b[0m\u001b[0m\n\u001b[1;32m--> 411\u001b[1;33m             \u001b[0mmgr\u001b[0m \u001b[1;33m=\u001b[0m \u001b[0minit_dict\u001b[0m\u001b[1;33m(\u001b[0m\u001b[0mdata\u001b[0m\u001b[1;33m,\u001b[0m \u001b[0mindex\u001b[0m\u001b[1;33m,\u001b[0m \u001b[0mcolumns\u001b[0m\u001b[1;33m,\u001b[0m \u001b[0mdtype\u001b[0m\u001b[1;33m=\u001b[0m\u001b[0mdtype\u001b[0m\u001b[1;33m)\u001b[0m\u001b[1;33m\u001b[0m\u001b[1;33m\u001b[0m\u001b[0m\n\u001b[0m\u001b[0;32m    412\u001b[0m         \u001b[1;32melif\u001b[0m \u001b[0misinstance\u001b[0m\u001b[1;33m(\u001b[0m\u001b[0mdata\u001b[0m\u001b[1;33m,\u001b[0m \u001b[0mma\u001b[0m\u001b[1;33m.\u001b[0m\u001b[0mMaskedArray\u001b[0m\u001b[1;33m)\u001b[0m\u001b[1;33m:\u001b[0m\u001b[1;33m\u001b[0m\u001b[1;33m\u001b[0m\u001b[0m\n\u001b[0;32m    413\u001b[0m             \u001b[1;32mimport\u001b[0m \u001b[0mnumpy\u001b[0m\u001b[1;33m.\u001b[0m\u001b[0mma\u001b[0m\u001b[1;33m.\u001b[0m\u001b[0mmrecords\u001b[0m \u001b[1;32mas\u001b[0m \u001b[0mmrecords\u001b[0m\u001b[1;33m\u001b[0m\u001b[1;33m\u001b[0m\u001b[0m\n",
      "\u001b[1;32m~\\Anaconda3\\lib\\site-packages\\pandas\\core\\internals\\construction.py\u001b[0m in \u001b[0;36minit_dict\u001b[1;34m(data, index, columns, dtype)\u001b[0m\n\u001b[0;32m    255\u001b[0m             \u001b[0marr\u001b[0m \u001b[1;32mif\u001b[0m \u001b[1;32mnot\u001b[0m \u001b[0mis_datetime64tz_dtype\u001b[0m\u001b[1;33m(\u001b[0m\u001b[0marr\u001b[0m\u001b[1;33m)\u001b[0m \u001b[1;32melse\u001b[0m \u001b[0marr\u001b[0m\u001b[1;33m.\u001b[0m\u001b[0mcopy\u001b[0m\u001b[1;33m(\u001b[0m\u001b[1;33m)\u001b[0m \u001b[1;32mfor\u001b[0m \u001b[0marr\u001b[0m \u001b[1;32min\u001b[0m \u001b[0marrays\u001b[0m\u001b[1;33m\u001b[0m\u001b[1;33m\u001b[0m\u001b[0m\n\u001b[0;32m    256\u001b[0m         ]\n\u001b[1;32m--> 257\u001b[1;33m     \u001b[1;32mreturn\u001b[0m \u001b[0marrays_to_mgr\u001b[0m\u001b[1;33m(\u001b[0m\u001b[0marrays\u001b[0m\u001b[1;33m,\u001b[0m \u001b[0mdata_names\u001b[0m\u001b[1;33m,\u001b[0m \u001b[0mindex\u001b[0m\u001b[1;33m,\u001b[0m \u001b[0mcolumns\u001b[0m\u001b[1;33m,\u001b[0m \u001b[0mdtype\u001b[0m\u001b[1;33m=\u001b[0m\u001b[0mdtype\u001b[0m\u001b[1;33m)\u001b[0m\u001b[1;33m\u001b[0m\u001b[1;33m\u001b[0m\u001b[0m\n\u001b[0m\u001b[0;32m    258\u001b[0m \u001b[1;33m\u001b[0m\u001b[0m\n\u001b[0;32m    259\u001b[0m \u001b[1;33m\u001b[0m\u001b[0m\n",
      "\u001b[1;32m~\\Anaconda3\\lib\\site-packages\\pandas\\core\\internals\\construction.py\u001b[0m in \u001b[0;36marrays_to_mgr\u001b[1;34m(arrays, arr_names, index, columns, dtype)\u001b[0m\n\u001b[0;32m     75\u001b[0m     \u001b[1;31m# figure out the index, if necessary\u001b[0m\u001b[1;33m\u001b[0m\u001b[1;33m\u001b[0m\u001b[1;33m\u001b[0m\u001b[0m\n\u001b[0;32m     76\u001b[0m     \u001b[1;32mif\u001b[0m \u001b[0mindex\u001b[0m \u001b[1;32mis\u001b[0m \u001b[1;32mNone\u001b[0m\u001b[1;33m:\u001b[0m\u001b[1;33m\u001b[0m\u001b[1;33m\u001b[0m\u001b[0m\n\u001b[1;32m---> 77\u001b[1;33m         \u001b[0mindex\u001b[0m \u001b[1;33m=\u001b[0m \u001b[0mextract_index\u001b[0m\u001b[1;33m(\u001b[0m\u001b[0marrays\u001b[0m\u001b[1;33m)\u001b[0m\u001b[1;33m\u001b[0m\u001b[1;33m\u001b[0m\u001b[0m\n\u001b[0m\u001b[0;32m     78\u001b[0m     \u001b[1;32melse\u001b[0m\u001b[1;33m:\u001b[0m\u001b[1;33m\u001b[0m\u001b[1;33m\u001b[0m\u001b[0m\n\u001b[0;32m     79\u001b[0m         \u001b[0mindex\u001b[0m \u001b[1;33m=\u001b[0m \u001b[0mensure_index\u001b[0m\u001b[1;33m(\u001b[0m\u001b[0mindex\u001b[0m\u001b[1;33m)\u001b[0m\u001b[1;33m\u001b[0m\u001b[1;33m\u001b[0m\u001b[0m\n",
      "\u001b[1;32m~\\Anaconda3\\lib\\site-packages\\pandas\\core\\internals\\construction.py\u001b[0m in \u001b[0;36mextract_index\u001b[1;34m(data)\u001b[0m\n\u001b[0;32m    366\u001b[0m             \u001b[0mlengths\u001b[0m \u001b[1;33m=\u001b[0m \u001b[0mlist\u001b[0m\u001b[1;33m(\u001b[0m\u001b[0mset\u001b[0m\u001b[1;33m(\u001b[0m\u001b[0mraw_lengths\u001b[0m\u001b[1;33m)\u001b[0m\u001b[1;33m)\u001b[0m\u001b[1;33m\u001b[0m\u001b[1;33m\u001b[0m\u001b[0m\n\u001b[0;32m    367\u001b[0m             \u001b[1;32mif\u001b[0m \u001b[0mlen\u001b[0m\u001b[1;33m(\u001b[0m\u001b[0mlengths\u001b[0m\u001b[1;33m)\u001b[0m \u001b[1;33m>\u001b[0m \u001b[1;36m1\u001b[0m\u001b[1;33m:\u001b[0m\u001b[1;33m\u001b[0m\u001b[1;33m\u001b[0m\u001b[0m\n\u001b[1;32m--> 368\u001b[1;33m                 \u001b[1;32mraise\u001b[0m \u001b[0mValueError\u001b[0m\u001b[1;33m(\u001b[0m\u001b[1;34m\"arrays must all be same length\"\u001b[0m\u001b[1;33m)\u001b[0m\u001b[1;33m\u001b[0m\u001b[1;33m\u001b[0m\u001b[0m\n\u001b[0m\u001b[0;32m    369\u001b[0m \u001b[1;33m\u001b[0m\u001b[0m\n\u001b[0;32m    370\u001b[0m             \u001b[1;32mif\u001b[0m \u001b[0mhave_dicts\u001b[0m\u001b[1;33m:\u001b[0m\u001b[1;33m\u001b[0m\u001b[1;33m\u001b[0m\u001b[0m\n",
      "\u001b[1;31mValueError\u001b[0m: arrays must all be same length"
     ]
    }
   ],
   "source": [
    "metrics_df = pd.DataFrame({'precision':lr_precision, 'recall':lr_recall, 'proba':_ })"
   ]
  },
  {
   "cell_type": "code",
   "execution_count": 52,
   "metadata": {
    "ExecuteTime": {
     "end_time": "2022-05-30T01:40:27.980281Z",
     "start_time": "2022-05-30T01:40:27.912808Z"
    }
   },
   "outputs": [],
   "source": [
    "y_pred = clf.predict(X)\n",
    "dummy_y_pred = dummy_clf.predict(X)\n",
    "my_dummy_y_pred = X['dissimilarity']   >= 0.1\n",
    "y_true = y"
   ]
  },
  {
   "cell_type": "code",
   "execution_count": 53,
   "metadata": {
    "ExecuteTime": {
     "end_time": "2022-05-30T01:40:28.096915Z",
     "start_time": "2022-05-30T01:40:27.981277Z"
    },
    "scrolled": false
   },
   "outputs": [
    {
     "data": {
      "text/plain": [
       "'tree.pdf'"
      ]
     },
     "execution_count": 53,
     "metadata": {},
     "output_type": "execute_result"
    }
   ],
   "source": [
    "import graphviz \n",
    "dot_data = tree.export_graphviz(clf, out_file=None) \n",
    "graph = graphviz.Source(dot_data) \n",
    "graph.render(\"tree\") "
   ]
  },
  {
   "cell_type": "code",
   "execution_count": 54,
   "metadata": {
    "ExecuteTime": {
     "end_time": "2022-05-30T01:40:28.200952Z",
     "start_time": "2022-05-30T01:40:28.097913Z"
    }
   },
   "outputs": [
    {
     "data": {
      "image/svg+xml": [
       "<?xml version=\"1.0\" encoding=\"UTF-8\" standalone=\"no\"?>\n",
       "<!DOCTYPE svg PUBLIC \"-//W3C//DTD SVG 1.1//EN\"\n",
       " \"http://www.w3.org/Graphics/SVG/1.1/DTD/svg11.dtd\">\n",
       "<!-- Generated by graphviz version 2.49.3 (20211023.0002)\n",
       " -->\n",
       "<!-- Title: Tree Pages: 1 -->\n",
       "<svg width=\"288pt\" height=\"195pt\"\n",
       " viewBox=\"0.00 0.00 287.50 195.00\" xmlns=\"http://www.w3.org/2000/svg\" xmlns:xlink=\"http://www.w3.org/1999/xlink\">\n",
       "<g id=\"graph0\" class=\"graph\" transform=\"scale(1 1) rotate(0) translate(4 191)\">\n",
       "<title>Tree</title>\n",
       "<polygon fill=\"white\" stroke=\"transparent\" points=\"-4,4 -4,-191 283.5,-191 283.5,4 -4,4\"/>\n",
       "<!-- 0 -->\n",
       "<g id=\"node1\" class=\"node\">\n",
       "<title>0</title>\n",
       "<path fill=\"#e5823b\" stroke=\"black\" d=\"M204,-187C204,-187 82,-187 82,-187 76,-187 70,-181 70,-175 70,-175 70,-116 70,-116 70,-110 76,-104 82,-104 82,-104 204,-104 204,-104 210,-104 216,-110 216,-116 216,-116 216,-175 216,-175 216,-181 210,-187 204,-187\"/>\n",
       "<text text-anchor=\"start\" x=\"94\" y=\"-171.8\" font-family=\"Helvetica,sans-Serif\" font-size=\"14.00\">jaccard ≤ 0.804</text>\n",
       "<text text-anchor=\"start\" x=\"105.5\" y=\"-156.8\" font-family=\"Helvetica,sans-Serif\" font-size=\"14.00\">gini = 0.022</text>\n",
       "<text text-anchor=\"start\" x=\"87\" y=\"-141.8\" font-family=\"Helvetica,sans-Serif\" font-size=\"14.00\">samples = 11845</text>\n",
       "<text text-anchor=\"start\" x=\"78\" y=\"-126.8\" font-family=\"Helvetica,sans-Serif\" font-size=\"14.00\">value = [11716, 129]</text>\n",
       "<text text-anchor=\"start\" x=\"86.5\" y=\"-111.8\" font-family=\"Helvetica,sans-Serif\" font-size=\"14.00\">class = new_slide</text>\n",
       "</g>\n",
       "<!-- 1 -->\n",
       "<g id=\"node2\" class=\"node\">\n",
       "<title>1</title>\n",
       "<path fill=\"#e5813a\" stroke=\"black\" d=\"M126,-68C126,-68 12,-68 12,-68 6,-68 0,-62 0,-56 0,-56 0,-12 0,-12 0,-6 6,0 12,0 12,0 126,0 126,0 132,0 138,-6 138,-12 138,-12 138,-56 138,-56 138,-62 132,-68 126,-68\"/>\n",
       "<text text-anchor=\"start\" x=\"31.5\" y=\"-52.8\" font-family=\"Helvetica,sans-Serif\" font-size=\"14.00\">gini = 0.007</text>\n",
       "<text text-anchor=\"start\" x=\"13\" y=\"-37.8\" font-family=\"Helvetica,sans-Serif\" font-size=\"14.00\">samples = 11731</text>\n",
       "<text text-anchor=\"start\" x=\"8\" y=\"-22.8\" font-family=\"Helvetica,sans-Serif\" font-size=\"14.00\">value = [11689, 42]</text>\n",
       "<text text-anchor=\"start\" x=\"12.5\" y=\"-7.8\" font-family=\"Helvetica,sans-Serif\" font-size=\"14.00\">class = new_slide</text>\n",
       "</g>\n",
       "<!-- 0&#45;&gt;1 -->\n",
       "<g id=\"edge1\" class=\"edge\">\n",
       "<title>0&#45;&gt;1</title>\n",
       "<path fill=\"none\" stroke=\"black\" d=\"M115.45,-103.73C109.47,-94.88 103.13,-85.51 97.13,-76.63\"/>\n",
       "<polygon fill=\"black\" stroke=\"black\" points=\"100,-74.63 91.5,-68.3 94.2,-78.54 100,-74.63\"/>\n",
       "<text text-anchor=\"middle\" x=\"86.76\" y=\"-89.14\" font-family=\"Helvetica,sans-Serif\" font-size=\"14.00\">True</text>\n",
       "</g>\n",
       "<!-- 2 -->\n",
       "<g id=\"node3\" class=\"node\">\n",
       "<title>2</title>\n",
       "<path fill=\"#76bbed\" stroke=\"black\" d=\"M267.5,-68C267.5,-68 168.5,-68 168.5,-68 162.5,-68 156.5,-62 156.5,-56 156.5,-56 156.5,-12 156.5,-12 156.5,-6 162.5,0 168.5,0 168.5,0 267.5,0 267.5,0 273.5,0 279.5,-6 279.5,-12 279.5,-12 279.5,-56 279.5,-56 279.5,-62 273.5,-68 267.5,-68\"/>\n",
       "<text text-anchor=\"start\" x=\"180.5\" y=\"-52.8\" font-family=\"Helvetica,sans-Serif\" font-size=\"14.00\">gini = 0.361</text>\n",
       "<text text-anchor=\"start\" x=\"170.5\" y=\"-37.8\" font-family=\"Helvetica,sans-Serif\" font-size=\"14.00\">samples = 114</text>\n",
       "<text text-anchor=\"start\" x=\"169.5\" y=\"-22.8\" font-family=\"Helvetica,sans-Serif\" font-size=\"14.00\">value = [27, 87]</text>\n",
       "<text text-anchor=\"start\" x=\"164.5\" y=\"-7.8\" font-family=\"Helvetica,sans-Serif\" font-size=\"14.00\">class = old_slide</text>\n",
       "</g>\n",
       "<!-- 0&#45;&gt;2 -->\n",
       "<g id=\"edge2\" class=\"edge\">\n",
       "<title>0&#45;&gt;2</title>\n",
       "<path fill=\"none\" stroke=\"black\" d=\"M170.93,-103.73C176.99,-94.88 183.4,-85.51 189.49,-76.63\"/>\n",
       "<polygon fill=\"black\" stroke=\"black\" points=\"192.43,-78.53 195.19,-68.3 186.65,-74.57 192.43,-78.53\"/>\n",
       "<text text-anchor=\"middle\" x=\"199.79\" y=\"-89.17\" font-family=\"Helvetica,sans-Serif\" font-size=\"14.00\">False</text>\n",
       "</g>\n",
       "</g>\n",
       "</svg>\n"
      ],
      "text/plain": [
       "<graphviz.sources.Source at 0x23fedf81ac8>"
      ]
     },
     "execution_count": 54,
     "metadata": {},
     "output_type": "execute_result"
    }
   ],
   "source": [
    "dot_data = tree.export_graphviz(dummy_clf, out_file=None, \n",
    "                      feature_names=feature_names,  \n",
    "                      class_names=['new_slide', 'old_slide'],  \n",
    "                     filled=True, rounded=True,  \n",
    "                     special_characters=True)  \n",
    "graph = graphviz.Source(dot_data)  \n",
    "graph "
   ]
  },
  {
   "cell_type": "code",
   "execution_count": 55,
   "metadata": {
    "ExecuteTime": {
     "end_time": "2022-05-30T01:40:28.308606Z",
     "start_time": "2022-05-30T01:40:28.203943Z"
    }
   },
   "outputs": [
    {
     "data": {
      "image/svg+xml": [
       "<?xml version=\"1.0\" encoding=\"UTF-8\" standalone=\"no\"?>\n",
       "<!DOCTYPE svg PUBLIC \"-//W3C//DTD SVG 1.1//EN\"\n",
       " \"http://www.w3.org/Graphics/SVG/1.1/DTD/svg11.dtd\">\n",
       "<!-- Generated by graphviz version 2.49.3 (20211023.0002)\n",
       " -->\n",
       "<!-- Title: Tree Pages: 1 -->\n",
       "<svg width=\"1164pt\" height=\"433pt\"\n",
       " viewBox=\"0.00 0.00 1163.50 433.00\" xmlns=\"http://www.w3.org/2000/svg\" xmlns:xlink=\"http://www.w3.org/1999/xlink\">\n",
       "<g id=\"graph0\" class=\"graph\" transform=\"scale(1 1) rotate(0) translate(4 429)\">\n",
       "<title>Tree</title>\n",
       "<polygon fill=\"white\" stroke=\"transparent\" points=\"-4,4 -4,-429 1159.5,-429 1159.5,4 -4,4\"/>\n",
       "<!-- 0 -->\n",
       "<g id=\"node1\" class=\"node\">\n",
       "<title>0</title>\n",
       "<path fill=\"#e5823b\" stroke=\"black\" d=\"M638,-425C638,-425 516,-425 516,-425 510,-425 504,-419 504,-413 504,-413 504,-354 504,-354 504,-348 510,-342 516,-342 516,-342 638,-342 638,-342 644,-342 650,-348 650,-354 650,-354 650,-413 650,-413 650,-419 644,-425 638,-425\"/>\n",
       "<text text-anchor=\"start\" x=\"528\" y=\"-409.8\" font-family=\"Helvetica,sans-Serif\" font-size=\"14.00\">jaccard ≤ 0.804</text>\n",
       "<text text-anchor=\"start\" x=\"539.5\" y=\"-394.8\" font-family=\"Helvetica,sans-Serif\" font-size=\"14.00\">gini = 0.022</text>\n",
       "<text text-anchor=\"start\" x=\"521\" y=\"-379.8\" font-family=\"Helvetica,sans-Serif\" font-size=\"14.00\">samples = 11845</text>\n",
       "<text text-anchor=\"start\" x=\"512\" y=\"-364.8\" font-family=\"Helvetica,sans-Serif\" font-size=\"14.00\">value = [11716, 129]</text>\n",
       "<text text-anchor=\"start\" x=\"523.5\" y=\"-349.8\" font-family=\"Helvetica,sans-Serif\" font-size=\"14.00\">class = old_slide</text>\n",
       "</g>\n",
       "<!-- 1 -->\n",
       "<g id=\"node2\" class=\"node\">\n",
       "<title>1</title>\n",
       "<path fill=\"#e5813a\" stroke=\"black\" d=\"M498.5,-306C498.5,-306 373.5,-306 373.5,-306 367.5,-306 361.5,-300 361.5,-294 361.5,-294 361.5,-235 361.5,-235 361.5,-229 367.5,-223 373.5,-223 373.5,-223 498.5,-223 498.5,-223 504.5,-223 510.5,-229 510.5,-235 510.5,-235 510.5,-294 510.5,-294 510.5,-300 504.5,-306 498.5,-306\"/>\n",
       "<text text-anchor=\"start\" x=\"369.5\" y=\"-290.8\" font-family=\"Helvetica,sans-Serif\" font-size=\"14.00\">letter_dissim ≤ 0.296</text>\n",
       "<text text-anchor=\"start\" x=\"398.5\" y=\"-275.8\" font-family=\"Helvetica,sans-Serif\" font-size=\"14.00\">gini = 0.007</text>\n",
       "<text text-anchor=\"start\" x=\"380\" y=\"-260.8\" font-family=\"Helvetica,sans-Serif\" font-size=\"14.00\">samples = 11731</text>\n",
       "<text text-anchor=\"start\" x=\"375\" y=\"-245.8\" font-family=\"Helvetica,sans-Serif\" font-size=\"14.00\">value = [11689, 42]</text>\n",
       "<text text-anchor=\"start\" x=\"382.5\" y=\"-230.8\" font-family=\"Helvetica,sans-Serif\" font-size=\"14.00\">class = old_slide</text>\n",
       "</g>\n",
       "<!-- 0&#45;&gt;1 -->\n",
       "<g id=\"edge1\" class=\"edge\">\n",
       "<title>0&#45;&gt;1</title>\n",
       "<path fill=\"none\" stroke=\"black\" d=\"M528.08,-341.91C516.71,-332.47 504.5,-322.34 492.82,-312.65\"/>\n",
       "<polygon fill=\"black\" stroke=\"black\" points=\"494.76,-309.71 484.83,-306.02 490.29,-315.1 494.76,-309.71\"/>\n",
       "<text text-anchor=\"middle\" x=\"487.15\" y=\"-327.21\" font-family=\"Helvetica,sans-Serif\" font-size=\"14.00\">True</text>\n",
       "</g>\n",
       "<!-- 8 -->\n",
       "<g id=\"node9\" class=\"node\">\n",
       "<title>8</title>\n",
       "<path fill=\"#76bbed\" stroke=\"black\" d=\"M769.5,-306C769.5,-306 664.5,-306 664.5,-306 658.5,-306 652.5,-300 652.5,-294 652.5,-294 652.5,-235 652.5,-235 652.5,-229 658.5,-223 664.5,-223 664.5,-223 769.5,-223 769.5,-223 775.5,-223 781.5,-229 781.5,-235 781.5,-235 781.5,-294 781.5,-294 781.5,-300 775.5,-306 769.5,-306\"/>\n",
       "<text text-anchor=\"start\" x=\"668\" y=\"-290.8\" font-family=\"Helvetica,sans-Serif\" font-size=\"14.00\">jaccard ≤ 0.993</text>\n",
       "<text text-anchor=\"start\" x=\"679.5\" y=\"-275.8\" font-family=\"Helvetica,sans-Serif\" font-size=\"14.00\">gini = 0.361</text>\n",
       "<text text-anchor=\"start\" x=\"669.5\" y=\"-260.8\" font-family=\"Helvetica,sans-Serif\" font-size=\"14.00\">samples = 114</text>\n",
       "<text text-anchor=\"start\" x=\"668.5\" y=\"-245.8\" font-family=\"Helvetica,sans-Serif\" font-size=\"14.00\">value = [27, 87]</text>\n",
       "<text text-anchor=\"start\" x=\"660.5\" y=\"-230.8\" font-family=\"Helvetica,sans-Serif\" font-size=\"14.00\">class = new_slide</text>\n",
       "</g>\n",
       "<!-- 0&#45;&gt;8 -->\n",
       "<g id=\"edge8\" class=\"edge\">\n",
       "<title>0&#45;&gt;8</title>\n",
       "<path fill=\"none\" stroke=\"black\" d=\"M625.57,-341.91C636.87,-332.47 648.98,-322.34 660.58,-312.65\"/>\n",
       "<polygon fill=\"black\" stroke=\"black\" points=\"663.08,-315.12 668.51,-306.02 658.6,-309.75 663.08,-315.12\"/>\n",
       "<text text-anchor=\"middle\" x=\"666.29\" y=\"-327.22\" font-family=\"Helvetica,sans-Serif\" font-size=\"14.00\">False</text>\n",
       "</g>\n",
       "<!-- 2 -->\n",
       "<g id=\"node3\" class=\"node\">\n",
       "<title>2</title>\n",
       "<path fill=\"#e58139\" stroke=\"black\" d=\"M279.5,-187C279.5,-187 162.5,-187 162.5,-187 156.5,-187 150.5,-181 150.5,-175 150.5,-175 150.5,-116 150.5,-116 150.5,-110 156.5,-104 162.5,-104 162.5,-104 279.5,-104 279.5,-104 285.5,-104 291.5,-110 291.5,-116 291.5,-116 291.5,-175 291.5,-175 291.5,-181 285.5,-187 279.5,-187\"/>\n",
       "<text text-anchor=\"start\" x=\"158.5\" y=\"-171.8\" font-family=\"Helvetica,sans-Serif\" font-size=\"14.00\">dissimilarity ≤ 0.349</text>\n",
       "<text text-anchor=\"start\" x=\"183.5\" y=\"-156.8\" font-family=\"Helvetica,sans-Serif\" font-size=\"14.00\">gini = 0.004</text>\n",
       "<text text-anchor=\"start\" x=\"165\" y=\"-141.8\" font-family=\"Helvetica,sans-Serif\" font-size=\"14.00\">samples = 11705</text>\n",
       "<text text-anchor=\"start\" x=\"160\" y=\"-126.8\" font-family=\"Helvetica,sans-Serif\" font-size=\"14.00\">value = [11681, 24]</text>\n",
       "<text text-anchor=\"start\" x=\"167.5\" y=\"-111.8\" font-family=\"Helvetica,sans-Serif\" font-size=\"14.00\">class = old_slide</text>\n",
       "</g>\n",
       "<!-- 1&#45;&gt;2 -->\n",
       "<g id=\"edge2\" class=\"edge\">\n",
       "<title>1&#45;&gt;2</title>\n",
       "<path fill=\"none\" stroke=\"black\" d=\"M361.41,-222.91C341.84,-212.26 320.67,-200.74 300.85,-189.95\"/>\n",
       "<polygon fill=\"black\" stroke=\"black\" points=\"302.3,-186.76 291.84,-185.05 298.95,-192.91 302.3,-186.76\"/>\n",
       "</g>\n",
       "<!-- 5 -->\n",
       "<g id=\"node6\" class=\"node\">\n",
       "<title>5</title>\n",
       "<path fill=\"#91c9f1\" stroke=\"black\" d=\"M488.5,-187C488.5,-187 383.5,-187 383.5,-187 377.5,-187 371.5,-181 371.5,-175 371.5,-175 371.5,-116 371.5,-116 371.5,-110 377.5,-104 383.5,-104 383.5,-104 488.5,-104 488.5,-104 494.5,-104 500.5,-110 500.5,-116 500.5,-116 500.5,-175 500.5,-175 500.5,-181 494.5,-187 488.5,-187\"/>\n",
       "<text text-anchor=\"start\" x=\"402.5\" y=\"-171.8\" font-family=\"Helvetica,sans-Serif\" font-size=\"14.00\">min ≤ 47.1</text>\n",
       "<text text-anchor=\"start\" x=\"398.5\" y=\"-156.8\" font-family=\"Helvetica,sans-Serif\" font-size=\"14.00\">gini = 0.426</text>\n",
       "<text text-anchor=\"start\" x=\"392.5\" y=\"-141.8\" font-family=\"Helvetica,sans-Serif\" font-size=\"14.00\">samples = 26</text>\n",
       "<text text-anchor=\"start\" x=\"391.5\" y=\"-126.8\" font-family=\"Helvetica,sans-Serif\" font-size=\"14.00\">value = [8, 18]</text>\n",
       "<text text-anchor=\"start\" x=\"379.5\" y=\"-111.8\" font-family=\"Helvetica,sans-Serif\" font-size=\"14.00\">class = new_slide</text>\n",
       "</g>\n",
       "<!-- 1&#45;&gt;5 -->\n",
       "<g id=\"edge5\" class=\"edge\">\n",
       "<title>1&#45;&gt;5</title>\n",
       "<path fill=\"none\" stroke=\"black\" d=\"M436,-222.91C436,-214.65 436,-205.86 436,-197.3\"/>\n",
       "<polygon fill=\"black\" stroke=\"black\" points=\"439.5,-197.02 436,-187.02 432.5,-197.02 439.5,-197.02\"/>\n",
       "</g>\n",
       "<!-- 3 -->\n",
       "<g id=\"node4\" class=\"node\">\n",
       "<title>3</title>\n",
       "<path fill=\"#e58139\" stroke=\"black\" d=\"M126,-68C126,-68 12,-68 12,-68 6,-68 0,-62 0,-56 0,-56 0,-12 0,-12 0,-6 6,0 12,0 12,0 126,0 126,0 132,0 138,-6 138,-12 138,-12 138,-56 138,-56 138,-62 132,-68 126,-68\"/>\n",
       "<text text-anchor=\"start\" x=\"31.5\" y=\"-52.8\" font-family=\"Helvetica,sans-Serif\" font-size=\"14.00\">gini = 0.003</text>\n",
       "<text text-anchor=\"start\" x=\"13\" y=\"-37.8\" font-family=\"Helvetica,sans-Serif\" font-size=\"14.00\">samples = 11699</text>\n",
       "<text text-anchor=\"start\" x=\"8\" y=\"-22.8\" font-family=\"Helvetica,sans-Serif\" font-size=\"14.00\">value = [11680, 19]</text>\n",
       "<text text-anchor=\"start\" x=\"15.5\" y=\"-7.8\" font-family=\"Helvetica,sans-Serif\" font-size=\"14.00\">class = old_slide</text>\n",
       "</g>\n",
       "<!-- 2&#45;&gt;3 -->\n",
       "<g id=\"edge3\" class=\"edge\">\n",
       "<title>2&#45;&gt;3</title>\n",
       "<path fill=\"none\" stroke=\"black\" d=\"M164.4,-103.73C150.98,-94.06 136.69,-83.77 123.38,-74.17\"/>\n",
       "<polygon fill=\"black\" stroke=\"black\" points=\"125.38,-71.3 115.22,-68.3 121.29,-76.98 125.38,-71.3\"/>\n",
       "</g>\n",
       "<!-- 4 -->\n",
       "<g id=\"node5\" class=\"node\">\n",
       "<title>4</title>\n",
       "<path fill=\"#61b1ea\" stroke=\"black\" d=\"M273.5,-68C273.5,-68 168.5,-68 168.5,-68 162.5,-68 156.5,-62 156.5,-56 156.5,-56 156.5,-12 156.5,-12 156.5,-6 162.5,0 168.5,0 168.5,0 273.5,0 273.5,0 279.5,0 285.5,-6 285.5,-12 285.5,-12 285.5,-56 285.5,-56 285.5,-62 279.5,-68 273.5,-68\"/>\n",
       "<text text-anchor=\"start\" x=\"183.5\" y=\"-52.8\" font-family=\"Helvetica,sans-Serif\" font-size=\"14.00\">gini = 0.278</text>\n",
       "<text text-anchor=\"start\" x=\"181.5\" y=\"-37.8\" font-family=\"Helvetica,sans-Serif\" font-size=\"14.00\">samples = 6</text>\n",
       "<text text-anchor=\"start\" x=\"180.5\" y=\"-22.8\" font-family=\"Helvetica,sans-Serif\" font-size=\"14.00\">value = [1, 5]</text>\n",
       "<text text-anchor=\"start\" x=\"164.5\" y=\"-7.8\" font-family=\"Helvetica,sans-Serif\" font-size=\"14.00\">class = new_slide</text>\n",
       "</g>\n",
       "<!-- 2&#45;&gt;4 -->\n",
       "<g id=\"edge4\" class=\"edge\">\n",
       "<title>2&#45;&gt;4</title>\n",
       "<path fill=\"none\" stroke=\"black\" d=\"M221,-103.73C221,-95.52 221,-86.86 221,-78.56\"/>\n",
       "<polygon fill=\"black\" stroke=\"black\" points=\"224.5,-78.3 221,-68.3 217.5,-78.3 224.5,-78.3\"/>\n",
       "</g>\n",
       "<!-- 6 -->\n",
       "<g id=\"node7\" class=\"node\">\n",
       "<title>6</title>\n",
       "<path fill=\"#399de5\" stroke=\"black\" d=\"M420.5,-68C420.5,-68 315.5,-68 315.5,-68 309.5,-68 303.5,-62 303.5,-56 303.5,-56 303.5,-12 303.5,-12 303.5,-6 309.5,0 315.5,0 315.5,0 420.5,0 420.5,0 426.5,0 432.5,-6 432.5,-12 432.5,-12 432.5,-56 432.5,-56 432.5,-62 426.5,-68 420.5,-68\"/>\n",
       "<text text-anchor=\"start\" x=\"339\" y=\"-52.8\" font-family=\"Helvetica,sans-Serif\" font-size=\"14.00\">gini = 0.0</text>\n",
       "<text text-anchor=\"start\" x=\"324.5\" y=\"-37.8\" font-family=\"Helvetica,sans-Serif\" font-size=\"14.00\">samples = 17</text>\n",
       "<text text-anchor=\"start\" x=\"323.5\" y=\"-22.8\" font-family=\"Helvetica,sans-Serif\" font-size=\"14.00\">value = [0, 17]</text>\n",
       "<text text-anchor=\"start\" x=\"311.5\" y=\"-7.8\" font-family=\"Helvetica,sans-Serif\" font-size=\"14.00\">class = new_slide</text>\n",
       "</g>\n",
       "<!-- 5&#45;&gt;6 -->\n",
       "<g id=\"edge6\" class=\"edge\">\n",
       "<title>5&#45;&gt;6</title>\n",
       "<path fill=\"none\" stroke=\"black\" d=\"M410.68,-103.73C405.24,-94.97 399.49,-85.7 394.02,-76.91\"/>\n",
       "<polygon fill=\"black\" stroke=\"black\" points=\"396.93,-74.95 388.68,-68.3 390.98,-78.64 396.93,-74.95\"/>\n",
       "</g>\n",
       "<!-- 7 -->\n",
       "<g id=\"node8\" class=\"node\">\n",
       "<title>7</title>\n",
       "<path fill=\"#e89152\" stroke=\"black\" d=\"M561.5,-68C561.5,-68 462.5,-68 462.5,-68 456.5,-68 450.5,-62 450.5,-56 450.5,-56 450.5,-12 450.5,-12 450.5,-6 456.5,0 462.5,0 462.5,0 561.5,0 561.5,0 567.5,0 573.5,-6 573.5,-12 573.5,-12 573.5,-56 573.5,-56 573.5,-62 567.5,-68 561.5,-68\"/>\n",
       "<text text-anchor=\"start\" x=\"474.5\" y=\"-52.8\" font-family=\"Helvetica,sans-Serif\" font-size=\"14.00\">gini = 0.198</text>\n",
       "<text text-anchor=\"start\" x=\"472.5\" y=\"-37.8\" font-family=\"Helvetica,sans-Serif\" font-size=\"14.00\">samples = 9</text>\n",
       "<text text-anchor=\"start\" x=\"471.5\" y=\"-22.8\" font-family=\"Helvetica,sans-Serif\" font-size=\"14.00\">value = [8, 1]</text>\n",
       "<text text-anchor=\"start\" x=\"458.5\" y=\"-7.8\" font-family=\"Helvetica,sans-Serif\" font-size=\"14.00\">class = old_slide</text>\n",
       "</g>\n",
       "<!-- 5&#45;&gt;7 -->\n",
       "<g id=\"edge7\" class=\"edge\">\n",
       "<title>5&#45;&gt;7</title>\n",
       "<path fill=\"none\" stroke=\"black\" d=\"M464.3,-103.73C470.44,-94.88 476.94,-85.51 483.11,-76.63\"/>\n",
       "<polygon fill=\"black\" stroke=\"black\" points=\"486.06,-78.51 488.89,-68.3 480.31,-74.52 486.06,-78.51\"/>\n",
       "</g>\n",
       "<!-- 9 -->\n",
       "<g id=\"node10\" class=\"node\">\n",
       "<title>9</title>\n",
       "<path fill=\"#51a9e8\" stroke=\"black\" d=\"M779.5,-187C779.5,-187 654.5,-187 654.5,-187 648.5,-187 642.5,-181 642.5,-175 642.5,-175 642.5,-116 642.5,-116 642.5,-110 648.5,-104 654.5,-104 654.5,-104 779.5,-104 779.5,-104 785.5,-104 791.5,-110 791.5,-116 791.5,-116 791.5,-175 791.5,-175 791.5,-181 785.5,-187 779.5,-187\"/>\n",
       "<text text-anchor=\"start\" x=\"650.5\" y=\"-171.8\" font-family=\"Helvetica,sans-Serif\" font-size=\"14.00\">letter_dissim ≤ 0.191</text>\n",
       "<text text-anchor=\"start\" x=\"679.5\" y=\"-156.8\" font-family=\"Helvetica,sans-Serif\" font-size=\"14.00\">gini = 0.196</text>\n",
       "<text text-anchor=\"start\" x=\"673.5\" y=\"-141.8\" font-family=\"Helvetica,sans-Serif\" font-size=\"14.00\">samples = 91</text>\n",
       "<text text-anchor=\"start\" x=\"668.5\" y=\"-126.8\" font-family=\"Helvetica,sans-Serif\" font-size=\"14.00\">value = [10, 81]</text>\n",
       "<text text-anchor=\"start\" x=\"660.5\" y=\"-111.8\" font-family=\"Helvetica,sans-Serif\" font-size=\"14.00\">class = new_slide</text>\n",
       "</g>\n",
       "<!-- 8&#45;&gt;9 -->\n",
       "<g id=\"edge9\" class=\"edge\">\n",
       "<title>8&#45;&gt;9</title>\n",
       "<path fill=\"none\" stroke=\"black\" d=\"M717,-222.91C717,-214.65 717,-205.86 717,-197.3\"/>\n",
       "<polygon fill=\"black\" stroke=\"black\" points=\"720.5,-197.02 717,-187.02 713.5,-197.02 720.5,-197.02\"/>\n",
       "</g>\n",
       "<!-- 12 -->\n",
       "<g id=\"node13\" class=\"node\">\n",
       "<title>12</title>\n",
       "<path fill=\"#eead7f\" stroke=\"black\" d=\"M1010.5,-187C1010.5,-187 883.5,-187 883.5,-187 877.5,-187 871.5,-181 871.5,-175 871.5,-175 871.5,-116 871.5,-116 871.5,-110 877.5,-104 883.5,-104 883.5,-104 1010.5,-104 1010.5,-104 1016.5,-104 1022.5,-110 1022.5,-116 1022.5,-116 1022.5,-175 1022.5,-175 1022.5,-181 1016.5,-187 1010.5,-187\"/>\n",
       "<text text-anchor=\"start\" x=\"879.5\" y=\"-171.8\" font-family=\"Helvetica,sans-Serif\" font-size=\"14.00\">frame_token_ct ≤ 2.5</text>\n",
       "<text text-anchor=\"start\" x=\"909.5\" y=\"-156.8\" font-family=\"Helvetica,sans-Serif\" font-size=\"14.00\">gini = 0.386</text>\n",
       "<text text-anchor=\"start\" x=\"903.5\" y=\"-141.8\" font-family=\"Helvetica,sans-Serif\" font-size=\"14.00\">samples = 23</text>\n",
       "<text text-anchor=\"start\" x=\"902.5\" y=\"-126.8\" font-family=\"Helvetica,sans-Serif\" font-size=\"14.00\">value = [17, 6]</text>\n",
       "<text text-anchor=\"start\" x=\"893.5\" y=\"-111.8\" font-family=\"Helvetica,sans-Serif\" font-size=\"14.00\">class = old_slide</text>\n",
       "</g>\n",
       "<!-- 8&#45;&gt;12 -->\n",
       "<g id=\"edge12\" class=\"edge\">\n",
       "<title>8&#45;&gt;12</title>\n",
       "<path fill=\"none\" stroke=\"black\" d=\"M781.68,-230.6C806.75,-217.85 835.79,-203.07 862.47,-189.5\"/>\n",
       "<polygon fill=\"black\" stroke=\"black\" points=\"864.1,-192.6 871.42,-184.95 860.92,-186.36 864.1,-192.6\"/>\n",
       "</g>\n",
       "<!-- 10 -->\n",
       "<g id=\"node11\" class=\"node\">\n",
       "<title>10</title>\n",
       "<path fill=\"#a5d2f3\" stroke=\"black\" d=\"M708.5,-68C708.5,-68 603.5,-68 603.5,-68 597.5,-68 591.5,-62 591.5,-56 591.5,-56 591.5,-12 591.5,-12 591.5,-6 597.5,0 603.5,0 603.5,0 708.5,0 708.5,0 714.5,0 720.5,-6 720.5,-12 720.5,-12 720.5,-56 720.5,-56 720.5,-62 714.5,-68 708.5,-68\"/>\n",
       "<text text-anchor=\"start\" x=\"618.5\" y=\"-52.8\" font-family=\"Helvetica,sans-Serif\" font-size=\"14.00\">gini = 0.457</text>\n",
       "<text text-anchor=\"start\" x=\"612.5\" y=\"-37.8\" font-family=\"Helvetica,sans-Serif\" font-size=\"14.00\">samples = 17</text>\n",
       "<text text-anchor=\"start\" x=\"611.5\" y=\"-22.8\" font-family=\"Helvetica,sans-Serif\" font-size=\"14.00\">value = [6, 11]</text>\n",
       "<text text-anchor=\"start\" x=\"599.5\" y=\"-7.8\" font-family=\"Helvetica,sans-Serif\" font-size=\"14.00\">class = new_slide</text>\n",
       "</g>\n",
       "<!-- 9&#45;&gt;10 -->\n",
       "<g id=\"edge10\" class=\"edge\">\n",
       "<title>9&#45;&gt;10</title>\n",
       "<path fill=\"none\" stroke=\"black\" d=\"M694.29,-103.73C689.46,-95.06 684.35,-85.9 679.5,-77.18\"/>\n",
       "<polygon fill=\"black\" stroke=\"black\" points=\"682.47,-75.33 674.55,-68.3 676.36,-78.74 682.47,-75.33\"/>\n",
       "</g>\n",
       "<!-- 11 -->\n",
       "<g id=\"node12\" class=\"node\">\n",
       "<title>11</title>\n",
       "<path fill=\"#44a3e6\" stroke=\"black\" d=\"M855.5,-68C855.5,-68 750.5,-68 750.5,-68 744.5,-68 738.5,-62 738.5,-56 738.5,-56 738.5,-12 738.5,-12 738.5,-6 744.5,0 750.5,0 750.5,0 855.5,0 855.5,0 861.5,0 867.5,-6 867.5,-12 867.5,-12 867.5,-56 867.5,-56 867.5,-62 861.5,-68 855.5,-68\"/>\n",
       "<text text-anchor=\"start\" x=\"765.5\" y=\"-52.8\" font-family=\"Helvetica,sans-Serif\" font-size=\"14.00\">gini = 0.102</text>\n",
       "<text text-anchor=\"start\" x=\"759.5\" y=\"-37.8\" font-family=\"Helvetica,sans-Serif\" font-size=\"14.00\">samples = 74</text>\n",
       "<text text-anchor=\"start\" x=\"758.5\" y=\"-22.8\" font-family=\"Helvetica,sans-Serif\" font-size=\"14.00\">value = [4, 70]</text>\n",
       "<text text-anchor=\"start\" x=\"746.5\" y=\"-7.8\" font-family=\"Helvetica,sans-Serif\" font-size=\"14.00\">class = new_slide</text>\n",
       "</g>\n",
       "<!-- 9&#45;&gt;11 -->\n",
       "<g id=\"edge11\" class=\"edge\">\n",
       "<title>9&#45;&gt;11</title>\n",
       "<path fill=\"none\" stroke=\"black\" d=\"M749.02,-103.73C756.04,-94.79 763.48,-85.32 770.52,-76.36\"/>\n",
       "<polygon fill=\"black\" stroke=\"black\" points=\"773.42,-78.33 776.85,-68.3 767.92,-74 773.42,-78.33\"/>\n",
       "</g>\n",
       "<!-- 13 -->\n",
       "<g id=\"node14\" class=\"node\">\n",
       "<title>13</title>\n",
       "<path fill=\"#e78a47\" stroke=\"black\" d=\"M996.5,-68C996.5,-68 897.5,-68 897.5,-68 891.5,-68 885.5,-62 885.5,-56 885.5,-56 885.5,-12 885.5,-12 885.5,-6 891.5,0 897.5,0 897.5,0 996.5,0 996.5,0 1002.5,0 1008.5,-6 1008.5,-12 1008.5,-12 1008.5,-56 1008.5,-56 1008.5,-62 1002.5,-68 996.5,-68\"/>\n",
       "<text text-anchor=\"start\" x=\"909.5\" y=\"-52.8\" font-family=\"Helvetica,sans-Serif\" font-size=\"14.00\">gini = 0.124</text>\n",
       "<text text-anchor=\"start\" x=\"903.5\" y=\"-37.8\" font-family=\"Helvetica,sans-Serif\" font-size=\"14.00\">samples = 15</text>\n",
       "<text text-anchor=\"start\" x=\"902.5\" y=\"-22.8\" font-family=\"Helvetica,sans-Serif\" font-size=\"14.00\">value = [14, 1]</text>\n",
       "<text text-anchor=\"start\" x=\"893.5\" y=\"-7.8\" font-family=\"Helvetica,sans-Serif\" font-size=\"14.00\">class = old_slide</text>\n",
       "</g>\n",
       "<!-- 12&#45;&gt;13 -->\n",
       "<g id=\"edge13\" class=\"edge\">\n",
       "<title>12&#45;&gt;13</title>\n",
       "<path fill=\"none\" stroke=\"black\" d=\"M947,-103.73C947,-95.52 947,-86.86 947,-78.56\"/>\n",
       "<polygon fill=\"black\" stroke=\"black\" points=\"950.5,-78.3 947,-68.3 943.5,-78.3 950.5,-78.3\"/>\n",
       "</g>\n",
       "<!-- 14 -->\n",
       "<g id=\"node15\" class=\"node\">\n",
       "<title>14</title>\n",
       "<path fill=\"#b0d8f5\" stroke=\"black\" d=\"M1143.5,-68C1143.5,-68 1038.5,-68 1038.5,-68 1032.5,-68 1026.5,-62 1026.5,-56 1026.5,-56 1026.5,-12 1026.5,-12 1026.5,-6 1032.5,0 1038.5,0 1038.5,0 1143.5,0 1143.5,0 1149.5,0 1155.5,-6 1155.5,-12 1155.5,-12 1155.5,-56 1155.5,-56 1155.5,-62 1149.5,-68 1143.5,-68\"/>\n",
       "<text text-anchor=\"start\" x=\"1053.5\" y=\"-52.8\" font-family=\"Helvetica,sans-Serif\" font-size=\"14.00\">gini = 0.469</text>\n",
       "<text text-anchor=\"start\" x=\"1051.5\" y=\"-37.8\" font-family=\"Helvetica,sans-Serif\" font-size=\"14.00\">samples = 8</text>\n",
       "<text text-anchor=\"start\" x=\"1050.5\" y=\"-22.8\" font-family=\"Helvetica,sans-Serif\" font-size=\"14.00\">value = [3, 5]</text>\n",
       "<text text-anchor=\"start\" x=\"1034.5\" y=\"-7.8\" font-family=\"Helvetica,sans-Serif\" font-size=\"14.00\">class = new_slide</text>\n",
       "</g>\n",
       "<!-- 12&#45;&gt;14 -->\n",
       "<g id=\"edge14\" class=\"edge\">\n",
       "<title>12&#45;&gt;14</title>\n",
       "<path fill=\"none\" stroke=\"black\" d=\"M1000.62,-103.73C1013.21,-94.15 1026.61,-83.96 1039.13,-74.44\"/>\n",
       "<polygon fill=\"black\" stroke=\"black\" points=\"1041.37,-77.14 1047.21,-68.3 1037.13,-71.57 1041.37,-77.14\"/>\n",
       "</g>\n",
       "</g>\n",
       "</svg>\n"
      ],
      "text/plain": [
       "<graphviz.sources.Source at 0x23feb589d88>"
      ]
     },
     "execution_count": 55,
     "metadata": {},
     "output_type": "execute_result"
    }
   ],
   "source": [
    "dot_data = tree.export_graphviz(clf, out_file=None, \n",
    "                      feature_names=feature_names,  \n",
    "                      class_names=['old_slide', 'new_slide'],  \n",
    "                     filled=True, rounded=True,  \n",
    "                     special_characters=True)  \n",
    "graph = graphviz.Source(dot_data)  \n",
    "graph "
   ]
  },
  {
   "cell_type": "code",
   "execution_count": 56,
   "metadata": {
    "ExecuteTime": {
     "end_time": "2022-05-30T01:40:28.381799Z",
     "start_time": "2022-05-30T01:40:28.309605Z"
    }
   },
   "outputs": [
    {
     "name": "stdout",
     "output_type": "stream",
     "text": [
      "              precision    recall  f1-score   support\n",
      "\n",
      "       False       1.00      1.00      1.00     11716\n",
      "        True       0.89      0.84      0.86       129\n",
      "\n",
      "    accuracy                           1.00     11845\n",
      "   macro avg       0.94      0.92      0.93     11845\n",
      "weighted avg       1.00      1.00      1.00     11845\n",
      "\n"
     ]
    }
   ],
   "source": [
    "from sklearn.metrics import classification_report\n",
    "from sklearn.metrics import confusion_matrix\n",
    "print(classification_report(y_true, y_pred))"
   ]
  },
  {
   "cell_type": "code",
   "execution_count": 57,
   "metadata": {
    "ExecuteTime": {
     "end_time": "2022-05-30T01:40:28.455367Z",
     "start_time": "2022-05-30T01:40:28.383795Z"
    }
   },
   "outputs": [
    {
     "data": {
      "text/plain": [
       "array([[11702,    14],\n",
       "       [   21,   108]], dtype=int64)"
      ]
     },
     "execution_count": 57,
     "metadata": {},
     "output_type": "execute_result"
    }
   ],
   "source": [
    "confusion_matrix(y_true, y_pred)"
   ]
  },
  {
   "cell_type": "code",
   "execution_count": 58,
   "metadata": {
    "ExecuteTime": {
     "end_time": "2022-05-30T01:40:28.524495Z",
     "start_time": "2022-05-30T01:40:28.456357Z"
    }
   },
   "outputs": [
    {
     "data": {
      "text/plain": [
       "array([[11689,    27],\n",
       "       [   42,    87]], dtype=int64)"
      ]
     },
     "execution_count": 58,
     "metadata": {},
     "output_type": "execute_result"
    }
   ],
   "source": [
    "##### \n",
    "confusion_matrix(y_true, dummy_y_pred) #missed 25, 43 "
   ]
  },
  {
   "cell_type": "code",
   "execution_count": 59,
   "metadata": {
    "ExecuteTime": {
     "end_time": "2022-05-30T01:40:28.595005Z",
     "start_time": "2022-05-30T01:40:28.525141Z"
    }
   },
   "outputs": [
    {
     "data": {
      "text/plain": [
       "array([[11502,   214],\n",
       "       [   15,   114]], dtype=int64)"
      ]
     },
     "execution_count": 59,
     "metadata": {},
     "output_type": "execute_result"
    }
   ],
   "source": [
    "cm = confusion_matrix(y_true, my_dummy_y_pred)\n",
    "cm"
   ]
  },
  {
   "cell_type": "code",
   "execution_count": 60,
   "metadata": {
    "ExecuteTime": {
     "end_time": "2022-05-30T01:40:28.665549Z",
     "start_time": "2022-05-30T01:40:28.595841Z"
    }
   },
   "outputs": [
    {
     "data": {
      "text/plain": [
       "array([[4908,    1],\n",
       "       [   1,   38]], dtype=int64)"
      ]
     },
     "execution_count": 60,
     "metadata": {},
     "output_type": "execute_result"
    }
   ],
   "source": [
    "y_test_pred = clf.predict(x_test)\n",
    "cm = confusion_matrix(y_test, y_test_pred)\n",
    "cm"
   ]
  },
  {
   "cell_type": "code",
   "execution_count": 61,
   "metadata": {
    "ExecuteTime": {
     "end_time": "2022-05-30T01:40:28.738050Z",
     "start_time": "2022-05-30T01:40:28.667529Z"
    }
   },
   "outputs": [
    {
     "data": {
      "text/html": [
       "<div>\n",
       "<style scoped>\n",
       "    .dataframe tbody tr th:only-of-type {\n",
       "        vertical-align: middle;\n",
       "    }\n",
       "\n",
       "    .dataframe tbody tr th {\n",
       "        vertical-align: top;\n",
       "    }\n",
       "\n",
       "    .dataframe thead th {\n",
       "        text-align: right;\n",
       "    }\n",
       "</style>\n",
       "<table border=\"1\" class=\"dataframe\">\n",
       "  <thead>\n",
       "    <tr style=\"text-align: right;\">\n",
       "      <th></th>\n",
       "      <th>index</th>\n",
       "    </tr>\n",
       "  </thead>\n",
       "  <tbody>\n",
       "    <tr>\n",
       "      <td>0</td>\n",
       "      <td>940</td>\n",
       "    </tr>\n",
       "    <tr>\n",
       "      <td>1</td>\n",
       "      <td>941</td>\n",
       "    </tr>\n",
       "    <tr>\n",
       "      <td>2</td>\n",
       "      <td>1269</td>\n",
       "    </tr>\n",
       "    <tr>\n",
       "      <td>3</td>\n",
       "      <td>1432</td>\n",
       "    </tr>\n",
       "    <tr>\n",
       "      <td>4</td>\n",
       "      <td>1434</td>\n",
       "    </tr>\n",
       "  </tbody>\n",
       "</table>\n",
       "</div>"
      ],
      "text/plain": [
       "   index\n",
       "0    940\n",
       "1    941\n",
       "2   1269\n",
       "3   1432\n",
       "4   1434"
      ]
     },
     "execution_count": 61,
     "metadata": {},
     "output_type": "execute_result"
    }
   ],
   "source": [
    "X[y_true != y_pred].reset_index()[['index']].head()"
   ]
  },
  {
   "cell_type": "code",
   "execution_count": 62,
   "metadata": {
    "ExecuteTime": {
     "end_time": "2022-05-30T01:40:28.814895Z",
     "start_time": "2022-05-30T01:40:28.739046Z"
    },
    "scrolled": false
   },
   "outputs": [
    {
     "data": {
      "text/plain": [
       "test_video_0     15\n",
       "test_video_11    10\n",
       "test_video_10     9\n",
       "test_video_1      1\n",
       "Name: video_name, dtype: int64"
      ]
     },
     "execution_count": 62,
     "metadata": {},
     "output_type": "execute_result"
    }
   ],
   "source": [
    "train_df.reset_index().merge(X[y_true != y_pred].reset_index()[['index']], how='right')['video_name'].value_counts()"
   ]
  },
  {
   "cell_type": "code",
   "execution_count": 63,
   "metadata": {
    "ExecuteTime": {
     "end_time": "2022-05-30T01:40:28.888261Z",
     "start_time": "2022-05-30T01:40:28.815892Z"
    }
   },
   "outputs": [
    {
     "data": {
      "text/html": [
       "<div>\n",
       "<style scoped>\n",
       "    .dataframe tbody tr th:only-of-type {\n",
       "        vertical-align: middle;\n",
       "    }\n",
       "\n",
       "    .dataframe tbody tr th {\n",
       "        vertical-align: top;\n",
       "    }\n",
       "\n",
       "    .dataframe thead th {\n",
       "        text-align: right;\n",
       "    }\n",
       "</style>\n",
       "<table border=\"1\" class=\"dataframe\">\n",
       "  <thead>\n",
       "    <tr style=\"text-align: right;\">\n",
       "      <th></th>\n",
       "      <th>dissimilarity</th>\n",
       "      <th>jaccard</th>\n",
       "      <th>jaccard_letter</th>\n",
       "      <th>frame_token_ct</th>\n",
       "      <th>word_dis</th>\n",
       "      <th>letter_dissim</th>\n",
       "      <th>min</th>\n",
       "      <th>y_true</th>\n",
       "      <th>y_pred</th>\n",
       "    </tr>\n",
       "  </thead>\n",
       "  <tbody>\n",
       "    <tr>\n",
       "      <td>0</td>\n",
       "      <td>0.000000</td>\n",
       "      <td>0.000000</td>\n",
       "      <td>0.720000</td>\n",
       "      <td>4</td>\n",
       "      <td>0.000000</td>\n",
       "      <td>0.000000</td>\n",
       "      <td>0.050000</td>\n",
       "      <td>False</td>\n",
       "      <td>False</td>\n",
       "    </tr>\n",
       "    <tr>\n",
       "      <td>1</td>\n",
       "      <td>0.000000</td>\n",
       "      <td>0.000000</td>\n",
       "      <td>0.720000</td>\n",
       "      <td>4</td>\n",
       "      <td>0.000000</td>\n",
       "      <td>0.000000</td>\n",
       "      <td>0.066667</td>\n",
       "      <td>False</td>\n",
       "      <td>False</td>\n",
       "    </tr>\n",
       "    <tr>\n",
       "      <td>2</td>\n",
       "      <td>0.214963</td>\n",
       "      <td>0.954545</td>\n",
       "      <td>0.855670</td>\n",
       "      <td>4</td>\n",
       "      <td>0.789474</td>\n",
       "      <td>0.594937</td>\n",
       "      <td>0.083333</td>\n",
       "      <td>True</td>\n",
       "      <td>True</td>\n",
       "    </tr>\n",
       "    <tr>\n",
       "      <td>3</td>\n",
       "      <td>0.004761</td>\n",
       "      <td>0.272727</td>\n",
       "      <td>0.890459</td>\n",
       "      <td>19</td>\n",
       "      <td>0.000000</td>\n",
       "      <td>0.012658</td>\n",
       "      <td>0.100000</td>\n",
       "      <td>False</td>\n",
       "      <td>False</td>\n",
       "    </tr>\n",
       "    <tr>\n",
       "      <td>4</td>\n",
       "      <td>0.008385</td>\n",
       "      <td>0.304348</td>\n",
       "      <td>0.892361</td>\n",
       "      <td>19</td>\n",
       "      <td>0.050000</td>\n",
       "      <td>0.042945</td>\n",
       "      <td>0.116667</td>\n",
       "      <td>False</td>\n",
       "      <td>False</td>\n",
       "    </tr>\n",
       "    <tr>\n",
       "      <td>...</td>\n",
       "      <td>...</td>\n",
       "      <td>...</td>\n",
       "      <td>...</td>\n",
       "      <td>...</td>\n",
       "      <td>...</td>\n",
       "      <td>...</td>\n",
       "      <td>...</td>\n",
       "      <td>...</td>\n",
       "      <td>...</td>\n",
       "    </tr>\n",
       "    <tr>\n",
       "      <td>11840</td>\n",
       "      <td>0.084179</td>\n",
       "      <td>0.200000</td>\n",
       "      <td>0.702381</td>\n",
       "      <td>8</td>\n",
       "      <td>0.200000</td>\n",
       "      <td>0.152542</td>\n",
       "      <td>57.833333</td>\n",
       "      <td>False</td>\n",
       "      <td>False</td>\n",
       "    </tr>\n",
       "    <tr>\n",
       "      <td>11841</td>\n",
       "      <td>0.022882</td>\n",
       "      <td>0.090909</td>\n",
       "      <td>0.731959</td>\n",
       "      <td>10</td>\n",
       "      <td>0.090909</td>\n",
       "      <td>0.078125</td>\n",
       "      <td>57.850000</td>\n",
       "      <td>False</td>\n",
       "      <td>False</td>\n",
       "    </tr>\n",
       "    <tr>\n",
       "      <td>11842</td>\n",
       "      <td>0.031561</td>\n",
       "      <td>0.307692</td>\n",
       "      <td>0.734694</td>\n",
       "      <td>11</td>\n",
       "      <td>0.000000</td>\n",
       "      <td>0.062500</td>\n",
       "      <td>57.866667</td>\n",
       "      <td>False</td>\n",
       "      <td>False</td>\n",
       "    </tr>\n",
       "    <tr>\n",
       "      <td>11843</td>\n",
       "      <td>0.019540</td>\n",
       "      <td>0.083333</td>\n",
       "      <td>0.737374</td>\n",
       "      <td>11</td>\n",
       "      <td>0.083333</td>\n",
       "      <td>0.076923</td>\n",
       "      <td>57.883333</td>\n",
       "      <td>False</td>\n",
       "      <td>False</td>\n",
       "    </tr>\n",
       "    <tr>\n",
       "      <td>11844</td>\n",
       "      <td>0.221504</td>\n",
       "      <td>0.500000</td>\n",
       "      <td>0.750000</td>\n",
       "      <td>12</td>\n",
       "      <td>0.500000</td>\n",
       "      <td>0.461538</td>\n",
       "      <td>57.900000</td>\n",
       "      <td>False</td>\n",
       "      <td>False</td>\n",
       "    </tr>\n",
       "  </tbody>\n",
       "</table>\n",
       "<p>11845 rows × 9 columns</p>\n",
       "</div>"
      ],
      "text/plain": [
       "       dissimilarity   jaccard  jaccard_letter  frame_token_ct  word_dis  \\\n",
       "0           0.000000  0.000000        0.720000               4  0.000000   \n",
       "1           0.000000  0.000000        0.720000               4  0.000000   \n",
       "2           0.214963  0.954545        0.855670               4  0.789474   \n",
       "3           0.004761  0.272727        0.890459              19  0.000000   \n",
       "4           0.008385  0.304348        0.892361              19  0.050000   \n",
       "...              ...       ...             ...             ...       ...   \n",
       "11840       0.084179  0.200000        0.702381               8  0.200000   \n",
       "11841       0.022882  0.090909        0.731959              10  0.090909   \n",
       "11842       0.031561  0.307692        0.734694              11  0.000000   \n",
       "11843       0.019540  0.083333        0.737374              11  0.083333   \n",
       "11844       0.221504  0.500000        0.750000              12  0.500000   \n",
       "\n",
       "       letter_dissim        min  y_true  y_pred  \n",
       "0           0.000000   0.050000   False   False  \n",
       "1           0.000000   0.066667   False   False  \n",
       "2           0.594937   0.083333    True    True  \n",
       "3           0.012658   0.100000   False   False  \n",
       "4           0.042945   0.116667   False   False  \n",
       "...              ...        ...     ...     ...  \n",
       "11840       0.152542  57.833333   False   False  \n",
       "11841       0.078125  57.850000   False   False  \n",
       "11842       0.062500  57.866667   False   False  \n",
       "11843       0.076923  57.883333   False   False  \n",
       "11844       0.461538  57.900000   False   False  \n",
       "\n",
       "[11845 rows x 9 columns]"
      ]
     },
     "execution_count": 63,
     "metadata": {},
     "output_type": "execute_result"
    }
   ],
   "source": [
    "X_labels = pd.concat([X, pd.DataFrame({'y_true':y_true, 'y_pred':y_pred})],axis=1)\n",
    "X_labels"
   ]
  },
  {
   "cell_type": "code",
   "execution_count": 64,
   "metadata": {
    "ExecuteTime": {
     "end_time": "2022-05-30T01:40:28.973690Z",
     "start_time": "2022-05-30T01:40:28.889258Z"
    }
   },
   "outputs": [
    {
     "data": {
      "text/html": [
       "<div>\n",
       "<style scoped>\n",
       "    .dataframe tbody tr th:only-of-type {\n",
       "        vertical-align: middle;\n",
       "    }\n",
       "\n",
       "    .dataframe tbody tr th {\n",
       "        vertical-align: top;\n",
       "    }\n",
       "\n",
       "    .dataframe thead th {\n",
       "        text-align: right;\n",
       "    }\n",
       "</style>\n",
       "<table border=\"1\" class=\"dataframe\">\n",
       "  <thead>\n",
       "    <tr style=\"text-align: right;\">\n",
       "      <th></th>\n",
       "      <th>dissimilarity</th>\n",
       "      <th>jaccard</th>\n",
       "      <th>jaccard_letter</th>\n",
       "      <th>frame_token_ct</th>\n",
       "      <th>word_dis</th>\n",
       "      <th>letter_dissim</th>\n",
       "      <th>min</th>\n",
       "      <th>y_true</th>\n",
       "      <th>y_pred</th>\n",
       "    </tr>\n",
       "  </thead>\n",
       "  <tbody>\n",
       "    <tr>\n",
       "      <td>2248</td>\n",
       "      <td>0.091521</td>\n",
       "      <td>0.555556</td>\n",
       "      <td>0.926087</td>\n",
       "      <td>33</td>\n",
       "      <td>0.030303</td>\n",
       "      <td>0.008065</td>\n",
       "      <td>37.516667</td>\n",
       "      <td>True</td>\n",
       "      <td>False</td>\n",
       "    </tr>\n",
       "    <tr>\n",
       "      <td>2320</td>\n",
       "      <td>0.156734</td>\n",
       "      <td>0.769231</td>\n",
       "      <td>0.933747</td>\n",
       "      <td>29</td>\n",
       "      <td>0.171429</td>\n",
       "      <td>0.106618</td>\n",
       "      <td>38.716667</td>\n",
       "      <td>True</td>\n",
       "      <td>False</td>\n",
       "    </tr>\n",
       "    <tr>\n",
       "      <td>2669</td>\n",
       "      <td>0.002329</td>\n",
       "      <td>0.327586</td>\n",
       "      <td>0.951153</td>\n",
       "      <td>48</td>\n",
       "      <td>0.020408</td>\n",
       "      <td>0.012853</td>\n",
       "      <td>44.533333</td>\n",
       "      <td>True</td>\n",
       "      <td>False</td>\n",
       "    </tr>\n",
       "    <tr>\n",
       "      <td>2867</td>\n",
       "      <td>0.050476</td>\n",
       "      <td>0.409091</td>\n",
       "      <td>0.915167</td>\n",
       "      <td>16</td>\n",
       "      <td>0.157895</td>\n",
       "      <td>0.090498</td>\n",
       "      <td>47.833333</td>\n",
       "      <td>True</td>\n",
       "      <td>False</td>\n",
       "    </tr>\n",
       "    <tr>\n",
       "      <td>2882</td>\n",
       "      <td>0.049306</td>\n",
       "      <td>0.600000</td>\n",
       "      <td>0.915167</td>\n",
       "      <td>17</td>\n",
       "      <td>0.055556</td>\n",
       "      <td>0.064220</td>\n",
       "      <td>48.083333</td>\n",
       "      <td>True</td>\n",
       "      <td>False</td>\n",
       "    </tr>\n",
       "    <tr>\n",
       "      <td>2893</td>\n",
       "      <td>0.106734</td>\n",
       "      <td>0.685714</td>\n",
       "      <td>0.916883</td>\n",
       "      <td>17</td>\n",
       "      <td>0.413793</td>\n",
       "      <td>0.060465</td>\n",
       "      <td>48.266667</td>\n",
       "      <td>True</td>\n",
       "      <td>False</td>\n",
       "    </tr>\n",
       "    <tr>\n",
       "      <td>3453</td>\n",
       "      <td>0.193121</td>\n",
       "      <td>0.750000</td>\n",
       "      <td>0.925490</td>\n",
       "      <td>26</td>\n",
       "      <td>0.653846</td>\n",
       "      <td>0.609137</td>\n",
       "      <td>57.600000</td>\n",
       "      <td>True</td>\n",
       "      <td>False</td>\n",
       "    </tr>\n",
       "    <tr>\n",
       "      <td>3458</td>\n",
       "      <td>0.092542</td>\n",
       "      <td>0.461538</td>\n",
       "      <td>0.885542</td>\n",
       "      <td>9</td>\n",
       "      <td>0.181818</td>\n",
       "      <td>0.287037</td>\n",
       "      <td>57.683333</td>\n",
       "      <td>True</td>\n",
       "      <td>False</td>\n",
       "    </tr>\n",
       "    <tr>\n",
       "      <td>3464</td>\n",
       "      <td>1.000000</td>\n",
       "      <td>1.000000</td>\n",
       "      <td>1.000000</td>\n",
       "      <td>2</td>\n",
       "      <td>0.500000</td>\n",
       "      <td>1.000000</td>\n",
       "      <td>57.783333</td>\n",
       "      <td>True</td>\n",
       "      <td>False</td>\n",
       "    </tr>\n",
       "    <tr>\n",
       "      <td>3472</td>\n",
       "      <td>0.039534</td>\n",
       "      <td>0.535714</td>\n",
       "      <td>0.930599</td>\n",
       "      <td>19</td>\n",
       "      <td>0.136364</td>\n",
       "      <td>0.017544</td>\n",
       "      <td>0.166667</td>\n",
       "      <td>True</td>\n",
       "      <td>False</td>\n",
       "    </tr>\n",
       "    <tr>\n",
       "      <td>5245</td>\n",
       "      <td>0.000000</td>\n",
       "      <td>0.000000</td>\n",
       "      <td>0.720000</td>\n",
       "      <td>4</td>\n",
       "      <td>0.000000</td>\n",
       "      <td>0.000000</td>\n",
       "      <td>0.366667</td>\n",
       "      <td>True</td>\n",
       "      <td>False</td>\n",
       "    </tr>\n",
       "    <tr>\n",
       "      <td>5250</td>\n",
       "      <td>0.125175</td>\n",
       "      <td>0.571429</td>\n",
       "      <td>0.766667</td>\n",
       "      <td>4</td>\n",
       "      <td>0.333333</td>\n",
       "      <td>0.195122</td>\n",
       "      <td>0.450000</td>\n",
       "      <td>True</td>\n",
       "      <td>False</td>\n",
       "    </tr>\n",
       "    <tr>\n",
       "      <td>5251</td>\n",
       "      <td>0.152098</td>\n",
       "      <td>0.333333</td>\n",
       "      <td>0.762712</td>\n",
       "      <td>6</td>\n",
       "      <td>0.333333</td>\n",
       "      <td>0.219512</td>\n",
       "      <td>0.466667</td>\n",
       "      <td>True</td>\n",
       "      <td>False</td>\n",
       "    </tr>\n",
       "    <tr>\n",
       "      <td>5844</td>\n",
       "      <td>0.215548</td>\n",
       "      <td>0.727273</td>\n",
       "      <td>0.822430</td>\n",
       "      <td>7</td>\n",
       "      <td>0.000000</td>\n",
       "      <td>0.173913</td>\n",
       "      <td>10.350000</td>\n",
       "      <td>True</td>\n",
       "      <td>False</td>\n",
       "    </tr>\n",
       "    <tr>\n",
       "      <td>6108</td>\n",
       "      <td>0.079020</td>\n",
       "      <td>0.285714</td>\n",
       "      <td>0.786408</td>\n",
       "      <td>6</td>\n",
       "      <td>0.000000</td>\n",
       "      <td>0.134328</td>\n",
       "      <td>14.750000</td>\n",
       "      <td>True</td>\n",
       "      <td>False</td>\n",
       "    </tr>\n",
       "    <tr>\n",
       "      <td>7724</td>\n",
       "      <td>0.128982</td>\n",
       "      <td>0.583333</td>\n",
       "      <td>0.842105</td>\n",
       "      <td>8</td>\n",
       "      <td>0.111111</td>\n",
       "      <td>0.114286</td>\n",
       "      <td>41.683333</td>\n",
       "      <td>True</td>\n",
       "      <td>False</td>\n",
       "    </tr>\n",
       "    <tr>\n",
       "      <td>7771</td>\n",
       "      <td>0.149276</td>\n",
       "      <td>0.551724</td>\n",
       "      <td>0.910299</td>\n",
       "      <td>20</td>\n",
       "      <td>0.090909</td>\n",
       "      <td>0.207650</td>\n",
       "      <td>42.466667</td>\n",
       "      <td>True</td>\n",
       "      <td>False</td>\n",
       "    </tr>\n",
       "    <tr>\n",
       "      <td>8320</td>\n",
       "      <td>0.136604</td>\n",
       "      <td>0.500000</td>\n",
       "      <td>0.860656</td>\n",
       "      <td>8</td>\n",
       "      <td>0.125000</td>\n",
       "      <td>0.095890</td>\n",
       "      <td>51.616667</td>\n",
       "      <td>True</td>\n",
       "      <td>False</td>\n",
       "    </tr>\n",
       "    <tr>\n",
       "      <td>10196</td>\n",
       "      <td>0.011368</td>\n",
       "      <td>0.270833</td>\n",
       "      <td>0.956781</td>\n",
       "      <td>42</td>\n",
       "      <td>0.023810</td>\n",
       "      <td>0.000000</td>\n",
       "      <td>30.433333</td>\n",
       "      <td>True</td>\n",
       "      <td>False</td>\n",
       "    </tr>\n",
       "    <tr>\n",
       "      <td>11719</td>\n",
       "      <td>0.000000</td>\n",
       "      <td>0.000000</td>\n",
       "      <td>1.000000</td>\n",
       "      <td>1</td>\n",
       "      <td>0.000000</td>\n",
       "      <td>0.000000</td>\n",
       "      <td>55.816667</td>\n",
       "      <td>True</td>\n",
       "      <td>False</td>\n",
       "    </tr>\n",
       "    <tr>\n",
       "      <td>11729</td>\n",
       "      <td>0.000000</td>\n",
       "      <td>0.000000</td>\n",
       "      <td>1.000000</td>\n",
       "      <td>1</td>\n",
       "      <td>0.000000</td>\n",
       "      <td>0.000000</td>\n",
       "      <td>55.983333</td>\n",
       "      <td>True</td>\n",
       "      <td>False</td>\n",
       "    </tr>\n",
       "  </tbody>\n",
       "</table>\n",
       "</div>"
      ],
      "text/plain": [
       "       dissimilarity   jaccard  jaccard_letter  frame_token_ct  word_dis  \\\n",
       "2248        0.091521  0.555556        0.926087              33  0.030303   \n",
       "2320        0.156734  0.769231        0.933747              29  0.171429   \n",
       "2669        0.002329  0.327586        0.951153              48  0.020408   \n",
       "2867        0.050476  0.409091        0.915167              16  0.157895   \n",
       "2882        0.049306  0.600000        0.915167              17  0.055556   \n",
       "2893        0.106734  0.685714        0.916883              17  0.413793   \n",
       "3453        0.193121  0.750000        0.925490              26  0.653846   \n",
       "3458        0.092542  0.461538        0.885542               9  0.181818   \n",
       "3464        1.000000  1.000000        1.000000               2  0.500000   \n",
       "3472        0.039534  0.535714        0.930599              19  0.136364   \n",
       "5245        0.000000  0.000000        0.720000               4  0.000000   \n",
       "5250        0.125175  0.571429        0.766667               4  0.333333   \n",
       "5251        0.152098  0.333333        0.762712               6  0.333333   \n",
       "5844        0.215548  0.727273        0.822430               7  0.000000   \n",
       "6108        0.079020  0.285714        0.786408               6  0.000000   \n",
       "7724        0.128982  0.583333        0.842105               8  0.111111   \n",
       "7771        0.149276  0.551724        0.910299              20  0.090909   \n",
       "8320        0.136604  0.500000        0.860656               8  0.125000   \n",
       "10196       0.011368  0.270833        0.956781              42  0.023810   \n",
       "11719       0.000000  0.000000        1.000000               1  0.000000   \n",
       "11729       0.000000  0.000000        1.000000               1  0.000000   \n",
       "\n",
       "       letter_dissim        min  y_true  y_pred  \n",
       "2248        0.008065  37.516667    True   False  \n",
       "2320        0.106618  38.716667    True   False  \n",
       "2669        0.012853  44.533333    True   False  \n",
       "2867        0.090498  47.833333    True   False  \n",
       "2882        0.064220  48.083333    True   False  \n",
       "2893        0.060465  48.266667    True   False  \n",
       "3453        0.609137  57.600000    True   False  \n",
       "3458        0.287037  57.683333    True   False  \n",
       "3464        1.000000  57.783333    True   False  \n",
       "3472        0.017544   0.166667    True   False  \n",
       "5245        0.000000   0.366667    True   False  \n",
       "5250        0.195122   0.450000    True   False  \n",
       "5251        0.219512   0.466667    True   False  \n",
       "5844        0.173913  10.350000    True   False  \n",
       "6108        0.134328  14.750000    True   False  \n",
       "7724        0.114286  41.683333    True   False  \n",
       "7771        0.207650  42.466667    True   False  \n",
       "8320        0.095890  51.616667    True   False  \n",
       "10196       0.000000  30.433333    True   False  \n",
       "11719       0.000000  55.816667    True   False  \n",
       "11729       0.000000  55.983333    True   False  "
      ]
     },
     "execution_count": 64,
     "metadata": {},
     "output_type": "execute_result"
    }
   ],
   "source": [
    "X_labels.query(\"y_true and (not y_pred)\")"
   ]
  }
 ],
 "metadata": {
  "kernelspec": {
   "display_name": "Python 3",
   "language": "python",
   "name": "python3"
  },
  "language_info": {
   "codemirror_mode": {
    "name": "ipython",
    "version": 3
   },
   "file_extension": ".py",
   "mimetype": "text/x-python",
   "name": "python",
   "nbconvert_exporter": "python",
   "pygments_lexer": "ipython3",
   "version": "3.7.4"
  },
  "toc": {
   "base_numbering": 1,
   "nav_menu": {},
   "number_sections": true,
   "sideBar": true,
   "skip_h1_title": false,
   "title_cell": "Table of Contents",
   "title_sidebar": "Contents",
   "toc_cell": false,
   "toc_position": {},
   "toc_section_display": true,
   "toc_window_display": false
  }
 },
 "nbformat": 4,
 "nbformat_minor": 2
}
